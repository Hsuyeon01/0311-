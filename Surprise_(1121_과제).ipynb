{
  "cells": [
    {
      "cell_type": "markdown",
      "metadata": {
        "id": "view-in-github",
        "colab_type": "text"
      },
      "source": [
        "<a href=\"https://colab.research.google.com/github/Hsuyeon01/ESAA/blob/main/Surprise_(1121_%EA%B3%BC%EC%A0%9C).ipynb\" target=\"_parent\"><img src=\"https://colab.research.google.com/assets/colab-badge.svg\" alt=\"Open In Colab\"/></a>"
      ]
    },
    {
      "cell_type": "markdown",
      "metadata": {
        "id": "Jc6UEN7WX6Zq"
      },
      "source": [
        "# 08. 파이썬 추천 시스템 패키지 - Surprise"
      ]
    },
    {
      "cell_type": "markdown",
      "metadata": {
        "id": "ua5Hl7rMYe6x"
      },
      "source": [
        "## 1) Surprise 패키지 소개 "
      ]
    },
    {
      "cell_type": "markdown",
      "metadata": {
        "id": "x5_WZMTiYkW6"
      },
      "source": [
        "Surprise\n",
        "- 파이썬 기반에서 사이킷런과 유사한 API와 프레임워크를 제공"
      ]
    },
    {
      "cell_type": "code",
      "execution_count": null,
      "metadata": {
        "colab": {
          "base_uri": "https://localhost:8080/"
        },
        "id": "twfD0l2SXXVm",
        "outputId": "5dfbdf47-b60e-4dcf-fed9-047e7710a082"
      },
      "outputs": [
        {
          "name": "stdout",
          "output_type": "stream",
          "text": [
            "Requirement already satisfied: scikit-surprise in /opt/homebrew/Cellar/jupyterlab/3.4.8/libexec/lib/python3.10/site-packages (1.1.3)\n",
            "Requirement already satisfied: numpy>=1.17.3 in /opt/homebrew/Cellar/jupyterlab/3.4.8/libexec/lib/python3.10/site-packages (from scikit-surprise) (1.23.5)\n",
            "Requirement already satisfied: scipy>=1.3.2 in /opt/homebrew/Cellar/jupyterlab/3.4.8/libexec/lib/python3.10/site-packages (from scikit-surprise) (1.9.3)\n",
            "Requirement already satisfied: joblib>=1.0.0 in /opt/homebrew/Cellar/jupyterlab/3.4.8/libexec/lib/python3.10/site-packages (from scikit-surprise) (1.2.0)\n",
            "\n",
            "\u001b[1m[\u001b[0m\u001b[34;49mnotice\u001b[0m\u001b[1;39;49m]\u001b[0m\u001b[39;49m A new release of pip available: \u001b[0m\u001b[31;49m22.2.2\u001b[0m\u001b[39;49m -> \u001b[0m\u001b[32;49m22.3.1\u001b[0m\n",
            "\u001b[1m[\u001b[0m\u001b[34;49mnotice\u001b[0m\u001b[1;39;49m]\u001b[0m\u001b[39;49m To update, run: \u001b[0m\u001b[32;49mpython3.10 -m pip install --upgrade pip\u001b[0m\n",
            "Note: you may need to restart the kernel to use updated packages.\n"
          ]
        }
      ],
      "source": [
        "pip install scikit-surprise"
      ]
    },
    {
      "cell_type": "code",
      "execution_count": null,
      "metadata": {
        "id": "9bS0PbPcboOq",
        "outputId": "18da2467-7b90-4224-f44c-cca1e0d5126c"
      },
      "outputs": [
        {
          "name": "stdout",
          "output_type": "stream",
          "text": [
            "Requirement already satisfied: pip in /opt/homebrew/Cellar/jupyterlab/3.4.8/libexec/lib/python3.10/site-packages (22.2.2)\n",
            "Collecting pip\n",
            "  Using cached pip-22.3.1-py3-none-any.whl (2.1 MB)\n",
            "Installing collected packages: pip\n",
            "  Attempting uninstall: pip\n",
            "    Found existing installation: pip 22.2.2\n",
            "    Uninstalling pip-22.2.2:\n",
            "      Successfully uninstalled pip-22.2.2\n",
            "Successfully installed pip-22.3.1\n",
            "Note: you may need to restart the kernel to use updated packages.\n"
          ]
        }
      ],
      "source": [
        "pip install --upgrade pip"
      ]
    },
    {
      "cell_type": "markdown",
      "metadata": {
        "id": "bC3L26PQaRt8"
      },
      "source": [
        "주요 장점\n",
        "\n",
        "- 다양한 추천 알고리즘, 예를 들어 사용자 또는 아이템 기반 최근접 이웃 협업 필터링, SVD, SVD++, NMF 기반의 잠재 요인 협업 필터링을 쉽게 적용해 추천시스템을 구축할 수 있음\n",
        "- Surprise의 핵심 API는 사이킷런의 핵심 API와 유사한 API명으로 작성됨\n"
      ]
    },
    {
      "cell_type": "markdown",
      "metadata": {
        "id": "wY19jwFpamaq"
      },
      "source": [
        "## 2) Surprise를 이용한 추천 시스템 구축"
      ]
    },
    {
      "cell_type": "code",
      "execution_count": null,
      "metadata": {
        "id": "61SehO0carmI"
      },
      "outputs": [],
      "source": [
        "from surprise import SVD\n",
        "from surprise import Dataset\n",
        "from surprise import accuracy\n",
        "from surprise.model_selection import train_test_split"
      ]
    },
    {
      "cell_type": "code",
      "execution_count": null,
      "metadata": {
        "id": "yrEMCqJ6boOt"
      },
      "outputs": [],
      "source": [
        "from surprise import Reader\n",
        "import pandas as pd\n",
        "\n",
        "df = pd.read_csv('ml-100k.csv')\n",
        "reader = Reader(rating_scale=(1, 5))\n",
        "col = ['user_id', 'item_id', 'rating']\n",
        "df = df[col]\n",
        "data = Dataset.load_from_df(df, reader)"
      ]
    },
    {
      "cell_type": "code",
      "execution_count": null,
      "metadata": {
        "id": "ohl71PuXboOu"
      },
      "outputs": [],
      "source": [
        "data = Dataset.load_builtin('ml-100k')"
      ]
    },
    {
      "cell_type": "code",
      "execution_count": null,
      "metadata": {
        "id": "ogtC8RVQboOu"
      },
      "outputs": [],
      "source": [
        "# 수행 시마다 동일하게 데이터를 분할하기 위해 random_state 값 부여\n",
        "trainset, testset = train_test_split(data, test_size = .25, random_state = 0)\n"
      ]
    },
    {
      "cell_type": "markdown",
      "metadata": {
        "id": "iO-_dKheboOv"
      },
      "source": [
        "- 무비렌즈 사이트에서 내려받은 데이터 파일과 동일하게 로우 레벨의 사용자-아이템 평점 데이터를 그대로 적용해야 함\n",
        "    - Surprise 자체적으로 로우 레벨의 데이터를 칼럼 레벨의 데이터로 변경"
      ]
    },
    {
      "cell_type": "code",
      "execution_count": null,
      "metadata": {
        "id": "_Z9bI5pvboOv",
        "outputId": "96abd7aa-b043-4b97-abd6-835dc70e0a44"
      },
      "outputs": [
        {
          "data": {
            "text/plain": [
              "<surprise.prediction_algorithms.matrix_factorization.SVD at 0x46cf21bd0>"
            ]
          },
          "execution_count": 44,
          "metadata": {},
          "output_type": "execute_result"
        }
      ],
      "source": [
        "algo = SVD()\n",
        "algo.fit(trainset)"
      ]
    },
    {
      "cell_type": "markdown",
      "metadata": {
        "id": "rAd1sP7HboOv"
      },
      "source": [
        "Surprise에서 추천을 예측하는 메서드는 test()와 predict()\n",
        "- test()는 사용자-아이템 평점 데이터 세트 전체에 대해서 추천을 예측하는 메서드\n",
        "- predict()는 개별 사용자와 영화에 대한 추천 평점을 반환\n",
        "- test() 메서드는 입력 데이터 세트의 모든 사용자와 아이템 아이디에 대해서 predict()를 반복적으로 수행할 결과"
      ]
    },
    {
      "cell_type": "markdown",
      "metadata": {
        "id": "tvRsCNTwboOw"
      },
      "source": [
        "test()\n",
        "- 개별 사용자 아이디(uid), 영화 아이디(iid), 실제 평점(r_ui) 정보에 기반해 Surprise의 추천 평점 데이터를 튜플 형태로 가지고 있음\n",
        "- prediction 객체의 details 속성은 내부 처리 시 추천 예측을 알 수 없는 경우에 로그용 데이터를 남기는 데 사용\n",
        "    - 'was_impossible=True'이면 예측값을 생성할 수 없는 데이터라는 의미"
      ]
    },
    {
      "cell_type": "code",
      "execution_count": null,
      "metadata": {
        "id": "4cyoKs3sboOw",
        "outputId": "12e51ffc-c8e9-4377-d375-d9ff85e41f16"
      },
      "outputs": [
        {
          "name": "stdout",
          "output_type": "stream",
          "text": [
            "prediction type: <class 'list'> size: 25000\n",
            "prediction 결과의 최초 5개 추출\n"
          ]
        },
        {
          "data": {
            "text/plain": [
              "[Prediction(uid=120, iid=282, r_ui=4.0, est=3.609312954284683, details={'was_impossible': False}),\n",
              " Prediction(uid=882, iid=291, r_ui=4.0, est=3.736489485395179, details={'was_impossible': False}),\n",
              " Prediction(uid=535, iid=507, r_ui=5.0, est=4.112606314096378, details={'was_impossible': False}),\n",
              " Prediction(uid=697, iid=244, r_ui=5.0, est=3.690272588209323, details={'was_impossible': False}),\n",
              " Prediction(uid=751, iid=385, r_ui=4.0, est=3.0962830507562984, details={'was_impossible': False})]"
            ]
          },
          "execution_count": 45,
          "metadata": {},
          "output_type": "execute_result"
        }
      ],
      "source": [
        "predictions = algo.test(testset)\n",
        "print('prediction type:', type(predictions), 'size:', len(predictions))\n",
        "print('prediction 결과의 최초 5개 추출')\n",
        "predictions[:5]"
      ]
    },
    {
      "cell_type": "code",
      "execution_count": null,
      "metadata": {
        "id": "LJxgUGEhboOw",
        "outputId": "f5e1ead6-5db1-4db2-bbac-063eec407475"
      },
      "outputs": [
        {
          "data": {
            "text/plain": [
              "[(120, 282, 3.609312954284683),\n",
              " (882, 291, 3.736489485395179),\n",
              " (535, 507, 4.112606314096378)]"
            ]
          },
          "execution_count": 46,
          "metadata": {},
          "output_type": "execute_result"
        }
      ],
      "source": [
        "# 리스트 객체 내에 내포된 Prediction 객체의 uid, iid, r_ui, est 등의 속성에 접근\n",
        "[(pred.uid, pred.iid, pred.est) for pred in predictions[:3]]"
      ]
    },
    {
      "cell_type": "markdown",
      "metadata": {
        "id": "pqnCSpLLboOx"
      },
      "source": [
        "predict()\n",
        "- 개별 사용자와 아이템 정보를 입력하면 추천 예측 평점을 est 형채로 반환"
      ]
    },
    {
      "cell_type": "code",
      "execution_count": null,
      "metadata": {
        "id": "Vyo9XmUFboOx",
        "outputId": "1a78abe1-601b-4b15-90a8-0f1415e1bf91"
      },
      "outputs": [
        {
          "name": "stdout",
          "output_type": "stream",
          "text": [
            "user: 196        item: 302        r_ui = None   est = 3.53   {'was_impossible': False}\n"
          ]
        }
      ],
      "source": [
        "# 사용자 아이디, 아이템 아이디는 문자열로 입력해야 함\n",
        "uid = str(196)\n",
        "iid = str(302)\n",
        "pred = algo.predict(uid, iid)\n",
        "print(pred)"
      ]
    },
    {
      "cell_type": "code",
      "execution_count": null,
      "metadata": {
        "id": "PaWyc3hJboOx",
        "outputId": "8497fda8-9735-403b-894c-6fca234b77d7"
      },
      "outputs": [
        {
          "name": "stdout",
          "output_type": "stream",
          "text": [
            "RMSE: 0.9475\n"
          ]
        },
        {
          "data": {
            "text/plain": [
              "0.9474941921784467"
            ]
          },
          "execution_count": 48,
          "metadata": {},
          "output_type": "execute_result"
        }
      ],
      "source": [
        "# 추천 예측 평점과 실제 평점과의 차이 평가\n",
        "accuracy.rmse(predictions)"
      ]
    },
    {
      "cell_type": "markdown",
      "metadata": {
        "id": "iTfcszgdboOx"
      },
      "source": [
        "## 3) Surprise 주요 모듈 소개"
      ]
    },
    {
      "cell_type": "markdown",
      "metadata": {
        "id": "AV3Niqe2boOx"
      },
      "source": [
        "### Dataset\n",
        "\n",
        "- Dataset.load_builtin(name='m1-100k') : \n",
        "    - 무비렌즈 아카이브 FTP 서버에서 무비렌즈 데이터를 내려받음\n",
        "    - m1-100k, ml-1M을 내려받을 수 있음 (디폴트는 m1-100k) \n",
        "    - 내려받은 데이터는 .surprise_data 디렉터리 밑에 저장되고, 해당 디렉터리에 데이터가 있으면 FTP에서 내려받지 않고 해당 데이터를 이용\n",
        "- Dataset.load_from_file(file_path, reader) :\n",
        "    - OS 파일에서 데이터를 로딩할 때 사용\n",
        "    - 콤마, 탭 등에서 칼럼이 분리된 포맷의 OS 파일에서 데이터를 로딩\n",
        "    - 입력 데이터로 OS 파일명, Reader로 파일의 포맷을 지정\n",
        "- Dataset.load_from_df(df, reader) :\n",
        "    - 판다스의 DataFrame에서 데이터를 로딩\n",
        "    - 파라미터로 DataFrame을 입력받으며 DataFrame 역시 반드시 3개의 칼럼인 사용자 아이디, 아이템 아이디, 평점 순으로 칼럼 순서가 정해져 있어야 함\n",
        " "
      ]
    },
    {
      "cell_type": "markdown",
      "metadata": {
        "id": "sgZ_gkgFboOy"
      },
      "source": [
        "### OS 파일 데이터를 Surprise 데이터 세트로 로딩\n",
        "\n",
        "- 데이터 파일에 칼럼명을 가지는 헤더 문자열이 있어서는 안 된다는 것"
      ]
    },
    {
      "cell_type": "code",
      "execution_count": null,
      "metadata": {
        "id": "wEXd7PogboOy"
      },
      "outputs": [],
      "source": [
        "import pandas as pd\n",
        "ratings = pd.read_csv('rating.csv')"
      ]
    },
    {
      "cell_type": "code",
      "execution_count": null,
      "metadata": {
        "id": "nBIoK1Y1boOy"
      },
      "outputs": [],
      "source": [
        "# ratings_noh.csv 파일로 언로드 시 인덱스와 헤드를 모두 제거한 새로운 파일 생성\n",
        "ratings.to_csv('ratings_noh.csv', index = False, header = False)"
      ]
    },
    {
      "cell_type": "code",
      "execution_count": null,
      "metadata": {
        "id": "-r5m6OuiboOy"
      },
      "outputs": [],
      "source": [
        "from surprise import Reader\n",
        "\n",
        "reader = Reader(line_format = 'user item rating timestamp', sep = ',', rating_scale = (0.5, 5))\n",
        "data = Dataset.load_from_file('ratings_noh.csv', reader = reader)"
      ]
    },
    {
      "cell_type": "markdown",
      "metadata": {
        "id": "1_gYPvzJboOy"
      },
      "source": [
        "Reader 클래스의 주요 생성 파라미터 \n",
        "- line_formal(string) : 칼럼을 순서대로 나열, 입력된 문자열을 공백으로 분리해 칼럼으로 인식\n",
        "- sep(char) : 칼럼을 분리하는 분리자이며, 디폴트는 \\t, 판다스는 DataFrame에서 입력받을 경우에는 기재\n",
        "- rating_scale(tuple, optional) : 평점 값이 최소~최대 평점으로 설정, 디폴트는 (1,5)이지만 rating.csv 파일의 경우는 최소 평점이 0.5, 최대 평점이 5이므로 (0.5,5)로 설정"
      ]
    },
    {
      "cell_type": "code",
      "execution_count": null,
      "metadata": {
        "id": "bZfogfqQboOy",
        "outputId": "a5bb5385-460d-48ea-aa86-01bc38648ff7"
      },
      "outputs": [
        {
          "name": "stdout",
          "output_type": "stream",
          "text": [
            "RMSE: 0.7895\n"
          ]
        },
        {
          "data": {
            "text/plain": [
              "0.7895061187724683"
            ]
          },
          "execution_count": 55,
          "metadata": {},
          "output_type": "execute_result"
        }
      ],
      "source": [
        "trainset, testset = train_test_split(data, test_size=0.25, \n",
        "                                    random_state=0)\n",
        "# 수행 시마다 동일한 결과를 도출하기 위해 random_state 설정\n",
        "algo = SVD(n_factors=50, random_state=0)\n",
        "# 학습 데이터 세트로 학습하고 나서 테스트 데이터 세트로 평점 예측 후 RMSE 평가\n",
        "algo.fit(trainset)\n",
        "predictions = algo.test(testset)\n",
        "accuracy.rmse(predictions)"
      ]
    },
    {
      "cell_type": "markdown",
      "metadata": {
        "id": "v-v3N9cwboOz"
      },
      "source": [
        "### 판다스 DataFrame에서 Surprise 데이터 세트로 로딩"
      ]
    },
    {
      "cell_type": "code",
      "execution_count": null,
      "metadata": {
        "id": "9_4B3L1vboOz",
        "outputId": "67525202-4873-408e-f191-c9d2039f5459"
      },
      "outputs": [
        {
          "name": "stdout",
          "output_type": "stream",
          "text": [
            "RMSE: 0.7895\n"
          ]
        },
        {
          "data": {
            "text/plain": [
              "0.7895061187724683"
            ]
          },
          "execution_count": 56,
          "metadata": {},
          "output_type": "execute_result"
        }
      ],
      "source": [
        "import pandas as pd\n",
        "from surprise import Reader, Dataset\n",
        "\n",
        "ratings = pd.read_csv('rating.csv')\n",
        "reader = Reader(rating_scale=(0.5, 5.0))\n",
        "\n",
        "# ratings DataFrame에서 칼럼은 사용자 아이디, 아이템 아이디, 평점 순서를 지켜야 함\n",
        "data = Dataset.load_from_df(ratings[['userId', 'movieId', 'rating']], reader)\n",
        "trainset, testset = train_test_split(data, test_size=.25, random_state=0)\n",
        "\n",
        "algo = SVD(n_factors=50, random_state=0)\n",
        "algo.fit(trainset)\n",
        "predictions = algo.test(testset)\n",
        "accuracy.rmse(predictions)"
      ]
    },
    {
      "cell_type": "markdown",
      "metadata": {
        "id": "MfWAUjVeboOz"
      },
      "source": [
        "## 4) Surprise 추천 알고리즘"
      ]
    },
    {
      "cell_type": "markdown",
      "metadata": {
        "id": "SYZAEwz-boOz"
      },
      "source": [
        "- SVD : 행렬 분해를 통한 잠재요인 협업 필터링을 위한 SVD 알고리즘\n",
        "- KNNBasic : 최근접 이웃 협업 필터링을 위한 KNN 알고리즘\n",
        "- Baseline Only : 사용자 Bias와 아이템 Bias를 감안한 SGD 베이스라인 알고리즘\n",
        "\n",
        "Surprise SVD : 비용함수는 사용자 베이스라인의 편향성을 감안한 평점 예측에 Regularization을 적용한 것"
      ]
    },
    {
      "cell_type": "markdown",
      "metadata": {
        "id": "rK8dedLhboOz"
      },
      "source": [
        "SVD 클래스 입력 파라미터\n",
        "- n_factors : 잠재 요인 K의 개수, 디폴트는 100, 커질수록 정확도가 높아질 수 있으나 과적합 문제가 발생할 수 있음\n",
        "- n_epochs : SGD 수행 시 반복횟수, 디폴트는 20\n",
        "- biased : 베이슬인 사용자 편향 적용 여부, 디폴트는 True\n"
      ]
    },
    {
      "cell_type": "markdown",
      "metadata": {
        "id": "dbnuzpI2boOz"
      },
      "source": [
        "## 5) 베이스라인 평점"
      ]
    },
    {
      "cell_type": "markdown",
      "metadata": {
        "id": "WAZDOpmoboO0"
      },
      "source": [
        "베이스라인 평점 : 개인의 성향을 반영해 아이템 평가에 편향성 요소를 반영하여 평점을 부여하는 것\n",
        "\n",
        "- 전체 평균 평점 : 모든 사용자의 아이템에 대한 평점을 평균한 값\n",
        "- 사용자 편향 점수 : 사용자별 아이템 평점 평균 값 - 전체 평균 평점\n",
        "- 아이템 편향 점수 : 아이템별 평점 평균 값 - 전체 평균 평점"
      ]
    },
    {
      "cell_type": "markdown",
      "metadata": {
        "id": "W4a_p6-vboO0"
      },
      "source": [
        "## 6) 교차 검증과 하이퍼 파라미터 튜닝"
      ]
    },
    {
      "cell_type": "code",
      "execution_count": null,
      "metadata": {
        "id": "YLCcjeeVboO0"
      },
      "outputs": [],
      "source": [
        "from surprise.model_selection import cross_validate \n",
        "\n",
        "# Pandas DataFrame에서 Surprise Dataset으로 데이터 로딩 \n",
        "ratings = pd.read_csv('rating.csv') # reading data in pandas df\n",
        "reader = Reader(rating_scale=(0.5, 5.0))\n",
        "data = Dataset.load_from_df(ratings[['userId', 'movieId', 'rating']], reader)\n",
        "\n",
        "algo = SVD(random_state=0) \n",
        "cross_validate(algo, data, measures=['RMSE', 'MAE'], cv=5, verbose=True)"
      ]
    },
    {
      "cell_type": "code",
      "execution_count": null,
      "metadata": {
        "id": "FsZcebdtboO0"
      },
      "outputs": [],
      "source": [
        "from surprise.model_selection import GridSearchCV\n",
        "\n",
        "# 최적화할 파라미터를 딕셔너리 형태로 지정\n",
        "param_grid = {'n_epochs': [20, 40, 60], 'n_factors': [50, 100, 200] }\n",
        "# CV를 3개 폴드 세트로 지정, 성능 평가는 rmse, mse로 수행하도록 GridSearchCV 구성\n",
        "gs = GridSearchCV(SVD, param_grid, measures=['rmse', 'mae'], cv=3)\n",
        "gs.fit(data)\n",
        "\n",
        "print(gs.best_score['rmse'])\n",
        "print(gs.best_params['rmse'])"
      ]
    },
    {
      "cell_type": "markdown",
      "metadata": {
        "id": "QndBRervboO0"
      },
      "source": [
        "## 7) Surprise를 이용한 개인화 영화 추천 시스템 구축"
      ]
    },
    {
      "cell_type": "markdown",
      "metadata": {
        "id": "uvvpu9jwboO0"
      },
      "source": [
        "- Surprise는 데이터 세트를 train_test_split()을 이용해 내부에서 사용하는 TrainSet 클래스 객체를 변환하지 않으면 fit()을 통해 학습할 수 없음\n",
        "-> 데이터 세트 전체를 학습 데이터로 사용하려면 DatasetAutoFolds 클래스를 이용"
      ]
    },
    {
      "cell_type": "code",
      "execution_count": null,
      "metadata": {
        "id": "sD-nHU_JboO0"
      },
      "outputs": [],
      "source": [
        "from surprise.dataset import DatasetAutoFolds\n",
        "\n",
        "reader = Reader(line_format='user item rating timestamp', sep=',', rating_scale=(0.5, 5))\n",
        "# DatasetAutoFolds 클래스를 ratings_noh.csv 파일 기반으로 생성\n",
        "data_folds = DatasetAutoFolds(ratings_file='ratings_noh.csv', reader=reader)\n",
        "\n",
        "#전체 데이터를 학습데이터로 생성함\n",
        "trainset = data_folds.build_full_trainset()"
      ]
    },
    {
      "cell_type": "code",
      "execution_count": null,
      "metadata": {
        "id": "tuuVB7StboO0"
      },
      "outputs": [],
      "source": [
        "algo = SVD(n_epochs=20, n_factors=50, random_state=0)\n",
        "algo.fit(trainset)"
      ]
    },
    {
      "cell_type": "code",
      "execution_count": null,
      "metadata": {
        "id": "sNehMZFkboO0"
      },
      "outputs": [],
      "source": [
        "movies = pd.read_csv('movies.csv')\n",
        "\n",
        "# userId=9의 movieId 데이터를 추출해 movieId=42 데이터가 있는지 확인 \n",
        "movieIds = ratings[ratings['userId']==9]['movieId']\n",
        "if movieIds[movieIds==42].count() == 0:\n",
        "    print('사용자 아이디 9는 영화 아이디 42의 평점 없음')\n",
        "\n",
        "print(movies[movies['movieId']==42])"
      ]
    },
    {
      "cell_type": "code",
      "execution_count": null,
      "metadata": {
        "id": "MP3SEghpboO1"
      },
      "outputs": [],
      "source": [
        "uid = str(9)\n",
        "iid = str(42)\n",
        "\n",
        "pred = algo.predict(uid, iid, verbose=True)"
      ]
    },
    {
      "cell_type": "markdown",
      "metadata": {
        "id": "o9iJ4QnnboO1"
      },
      "source": [
        "사용자가 평점을 매기지 않은 전체 영화를 추출한 뒤에 예측 평점순으로 영화를 추천"
      ]
    },
    {
      "cell_type": "code",
      "execution_count": null,
      "metadata": {
        "id": "4d8JK80NboO1"
      },
      "outputs": [],
      "source": [
        "def get_unseen_surprise(ratings, movies, userId):\n",
        "    # 입력값응로 들어온 userId에 해당하는 사용자가 평점을 매긴 모든 영화를 리스트로 생성\n",
        "    seen_movies = ratings[ratings['userId']== userId]['movieId'].tolist()\n",
        "    # 모든 영화의 movieId를 리스트로 생성\n",
        "    total_movies = movies['movieId'].tolist()\n",
        "    # 모든 영화의 movieId 중 이미 평점을 매긴 영화의 movieId를 제외한 후 리스트로 생성\n",
        "    unseen_movies= [movie for movie in total_movies if movie not in seen_movies]\n",
        "    print('평점 매긴 영화수:',len(seen_movies), '추천 대상 영화수:',len(unseen_movies), \\\n",
        "          '전체 영화수:',len(total_movies))\n",
        "    \n",
        "    return unseen_movies\n",
        "\n",
        "unseen_movies = get_unseen_surprise(ratings, movies, 9)"
      ]
    },
    {
      "cell_type": "code",
      "execution_count": null,
      "metadata": {
        "id": "HVaccH47boO1"
      },
      "outputs": [],
      "source": [
        "ef recomm_movie_by_surprise(algo, userId, unseen_movies, top_n=10):\n",
        "    # 알고리즘 객체의 predict() 메서드를 평점이 없는 영화에 반복 수행한 후 결과를 list 객체로 저장\n",
        "    predictions = [algo.predict(str(userId), str(movieId)) for movieId in unseen_movies]\n",
        "    \n",
        "    # predictions list 객체는 surprise의 Predictions 객체를 원소로 가지고 있음.\n",
        "    # [Prediction(uid='9', iid='1', est=3.69), Prediction(uid='9', iid='2', est=2.98),,,,]\n",
        "   \n",
        "    # 이를 est 값으로 정렬하기 위해서 아래의 sortkey_est 함수를 정의함.\n",
        "    # sortkey_est 함수는 list 객체의 sort() 함수의 키 값으로 사용되어 정렬 수행.\n",
        "    def sortkey_est(pred):\n",
        "        return pred.est\n",
        "    \n",
        "    # sortkey_est( ) 반환값의 내림 차순으로 정렬 수행하고 top_n개의 최상위 값 추출.\n",
        "    predictions.sort(key=sortkey_est, reverse=True)\n",
        "    top_predictions= predictions[:top_n]\n",
        "    \n",
        "    # top_n으로 추출된 영화의 정보 추출. 영화 아이디, 추천 예상 평점, 제목 추출\n",
        "    top_movie_ids = [ int(pred.iid) for pred in top_predictions]\n",
        "    top_movie_rating = [ pred.est for pred in top_predictions]\n",
        "    top_movie_titles = movies[movies.movieId.isin(top_movie_ids)]['title']\n",
        "    \n",
        "    top_movie_preds = [ (id, title, rating) for id, title, rating in zip(top_movie_ids, top_movie_titles, top_movie_rating)]\n",
        "    \n",
        "    return top_movie_preds\n",
        "\n",
        "unseen_movies = get_unseen_surprise(ratings, movies, 9)\n",
        "top_movie_preds = recomm_movie_by_surprise(algo, 9, unseen_movies, top_n=10)\n",
        "print('##### Top-10 추천 영화 리스트 #####')\n",
        "\n",
        "for top_movie in top_movie_preds:\n",
        "    print(top_movie[1], \":\", top_movie[2])"
      ]
    }
  ],
  "metadata": {
    "colab": {
      "provenance": [],
      "include_colab_link": true
    },
    "kernelspec": {
      "display_name": "Python 3 (ipykernel)",
      "language": "python",
      "name": "python3"
    },
    "language_info": {
      "codemirror_mode": {
        "name": "ipython",
        "version": 3
      },
      "file_extension": ".py",
      "mimetype": "text/x-python",
      "name": "python",
      "nbconvert_exporter": "python",
      "pygments_lexer": "ipython3",
      "version": "3.10.8"
    }
  },
  "nbformat": 4,
  "nbformat_minor": 0
}