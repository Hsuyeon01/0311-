{
  "nbformat": 4,
  "nbformat_minor": 5,
  "metadata": {
    "colab": {
      "name": "3/14 연습문제 풀이",
      "provenance": [],
      "collapsed_sections": [
        "782d4c77",
        "48d48f01",
        "4fa39382",
        "da64551a",
        "f89d9c9e",
        "7e44c6fa",
        "13c5928c",
        "3fa2e461",
        "73f7a549",
        "6d0c506f",
        "d6ad1a9f",
        "e3a7ba7f",
        "6d17ab5d",
        "8837119b",
        "ec788c9f",
        "391791e0",
        "51898680",
        "89e78048",
        "ebd10810",
        "c0e940f8",
        "22713c3f",
        "f1ae2c2d",
        "34a7bdee",
        "37bc0973",
        "129c342d",
        "42f8b2f9",
        "252c43e2",
        "486df8ea",
        "649e89f9",
        "3421e17f",
        "483dd554",
        "2d07be1c",
        "6415f02e",
        "fe043549",
        "cc08f71c",
        "2002cb03",
        "b7109c9f",
        "7d3131b9",
        "7c8c1fc5",
        "5795b4bd",
        "fb24674c",
        "e6e1ae2f",
        "c01f0ecf",
        "3b64a18b",
        "48413134",
        "0a532633",
        "f98713a6",
        "1abc7cc8",
        "0cf413ee",
        "215b6acc",
        "c0cf37e0",
        "c17fb213",
        "8aaab886",
        "66a04e2e",
        "f4427f7f",
        "58be9dd4",
        "7348abd0",
        "538e651c",
        "33c986d9",
        "00eb27c4",
        "928a1a15",
        "5143f7f3",
        "f62551d8",
        "6896e326",
        "aeaf4a7b",
        "3d11451b",
        "a0a45995",
        "7808578f",
        "8e83df46",
        "e67ff31c",
        "ad8821b1",
        "a0c8cbf5",
        "781fa236",
        "9c9bb0f3",
        "7d8dc135",
        "aa340126",
        "6b6d2c84",
        "7be0fe36",
        "a840a88f",
        "c2bd7385",
        "4c70397b",
        "15ba193c",
        "ec828405",
        "d94352b6",
        "7c3a9e32",
        "da9d5eeb",
        "f7b65fd5",
        "2784c996",
        "71a7574c",
        "30f06441",
        "e5737276",
        "5882e36d"
      ],
      "include_colab_link": true
    },
    "language_info": {
      "name": "python"
    },
    "kernelspec": {
      "name": "python3",
      "display_name": "Python 3"
    }
  },
  "cells": [
    {
      "cell_type": "markdown",
      "metadata": {
        "id": "view-in-github",
        "colab_type": "text"
      },
      "source": [
        "<a href=\"https://colab.research.google.com/github/Hsuyeon01/ESAA/blob/main/3/18%20%EA%B3%BC%EC%A0%9C.ipynb\" target=\"_parent\"><img src=\"https://colab.research.google.com/assets/colab-badge.svg\" alt=\"Open In Colab\"/></a>"
      ]
    },
    {
      "cell_type": "markdown",
      "metadata": {
        "id": "bf79c78b"
      },
      "source": [
        "# 100 numpy exercises\n",
        "\n",
        "This is a collection of exercises that have been collected in the numpy mailing list, on stack overflow\n",
        "and in the numpy documentation. The goal of this collection is to offer a quick reference for both old\n",
        "and new users but also to provide a set of exercises for those who teach.\n",
        "\n",
        "\n",
        "If you find an error or think you've a better way to solve some of them, feel\n",
        "free to open an issue at <https://github.com/rougier/numpy-100>."
      ],
      "id": "bf79c78b"
    },
    {
      "cell_type": "markdown",
      "metadata": {
        "id": "8536e059"
      },
      "source": [
        "File automatically generated. See the documentation to update questions/answers/hints programmatically."
      ],
      "id": "8536e059"
    },
    {
      "cell_type": "markdown",
      "metadata": {
        "id": "e16ac60b"
      },
      "source": [
        "Run the `initialize.py` module, then for each question you can query the\n",
        "answer or an hint with `hint(n)` or `answer(n)` for `n` question number."
      ],
      "id": "e16ac60b"
    },
    {
      "cell_type": "code",
      "metadata": {
        "id": "a8453483"
      },
      "source": [
        "%run initialise.py"
      ],
      "id": "a8453483",
      "execution_count": null,
      "outputs": []
    },
    {
      "cell_type": "markdown",
      "metadata": {
        "id": "017db353"
      },
      "source": [
        "#### 1. Import the numpy package under the name `np` (★☆☆)"
      ],
      "id": "017db353"
    },
    {
      "cell_type": "code",
      "metadata": {
        "id": "68182a76"
      },
      "source": [
        "import numpy as np"
      ],
      "id": "68182a76",
      "execution_count": 1,
      "outputs": []
    },
    {
      "cell_type": "markdown",
      "metadata": {
        "id": "46950f4f"
      },
      "source": [
        "#### 2. Print the numpy version and the configuration (★☆☆)"
      ],
      "id": "46950f4f"
    },
    {
      "cell_type": "code",
      "metadata": {
        "id": "2a9f5838",
        "colab": {
          "base_uri": "https://localhost:8080/"
        },
        "outputId": "3030d575-7be0-438d-812e-9223921bb695"
      },
      "source": [
        "print(np.__version__)\n",
        "print(np.version.version)\n",
        "np.show_config()"
      ],
      "id": "2a9f5838",
      "execution_count": null,
      "outputs": [
        {
          "output_type": "stream",
          "name": "stdout",
          "text": [
            "1.21.5\n",
            "1.21.5\n",
            "blas_mkl_info:\n",
            "  NOT AVAILABLE\n",
            "blis_info:\n",
            "  NOT AVAILABLE\n",
            "openblas_info:\n",
            "    libraries = ['openblas', 'openblas']\n",
            "    library_dirs = ['/usr/local/lib']\n",
            "    language = c\n",
            "    define_macros = [('HAVE_CBLAS', None)]\n",
            "    runtime_library_dirs = ['/usr/local/lib']\n",
            "blas_opt_info:\n",
            "    libraries = ['openblas', 'openblas']\n",
            "    library_dirs = ['/usr/local/lib']\n",
            "    language = c\n",
            "    define_macros = [('HAVE_CBLAS', None)]\n",
            "    runtime_library_dirs = ['/usr/local/lib']\n",
            "lapack_mkl_info:\n",
            "  NOT AVAILABLE\n",
            "openblas_lapack_info:\n",
            "    libraries = ['openblas', 'openblas']\n",
            "    library_dirs = ['/usr/local/lib']\n",
            "    language = c\n",
            "    define_macros = [('HAVE_CBLAS', None)]\n",
            "    runtime_library_dirs = ['/usr/local/lib']\n",
            "lapack_opt_info:\n",
            "    libraries = ['openblas', 'openblas']\n",
            "    library_dirs = ['/usr/local/lib']\n",
            "    language = c\n",
            "    define_macros = [('HAVE_CBLAS', None)]\n",
            "    runtime_library_dirs = ['/usr/local/lib']\n",
            "Supported SIMD extensions in this NumPy install:\n",
            "    baseline = SSE,SSE2,SSE3\n",
            "    found = SSSE3,SSE41,POPCNT,SSE42,AVX,F16C,FMA3,AVX2\n",
            "    not found = AVX512F,AVX512CD,AVX512_KNL,AVX512_KNM,AVX512_SKX,AVX512_CLX,AVX512_CNL,AVX512_ICL\n"
          ]
        }
      ]
    },
    {
      "cell_type": "markdown",
      "metadata": {
        "id": "e3c20b3d"
      },
      "source": [
        "#### 3. Create a null vector of size 10 (★☆☆)"
      ],
      "id": "e3c20b3d"
    },
    {
      "cell_type": "code",
      "metadata": {
        "id": "8a758bcf",
        "colab": {
          "base_uri": "https://localhost:8080/"
        },
        "outputId": "359a54f0-772b-47f2-c867-06c3ea837405"
      },
      "source": [
        "array1 = np.zeros(10)\n",
        "print(array1)"
      ],
      "id": "8a758bcf",
      "execution_count": null,
      "outputs": [
        {
          "output_type": "stream",
          "name": "stdout",
          "text": [
            "[0. 0. 0. 0. 0. 0. 0. 0. 0. 0.]\n"
          ]
        }
      ]
    },
    {
      "cell_type": "markdown",
      "metadata": {
        "id": "b15a879f"
      },
      "source": [
        "#### 4. How to find the memory size of any array (★☆☆)"
      ],
      "id": "b15a879f"
    },
    {
      "cell_type": "code",
      "metadata": {
        "id": "1cc3cbc5",
        "colab": {
          "base_uri": "https://localhost:8080/"
        },
        "outputId": "321ee0d9-6194-4814-8374-31a25f91d5f1"
      },
      "source": [
        "Z = np.zeros((10,10))\n",
        "print(Z.size, Z.itemsize)\n",
        "print(\"%d bytes\" % (Z.size * Z.itemsize))"
      ],
      "id": "1cc3cbc5",
      "execution_count": null,
      "outputs": [
        {
          "output_type": "stream",
          "name": "stdout",
          "text": [
            "100 8\n",
            "800 bytes\n"
          ]
        }
      ]
    },
    {
      "cell_type": "markdown",
      "metadata": {
        "id": "0a708990"
      },
      "source": [
        "#### 5. How to get the documentation of the numpy add function from the command line? (★☆☆)"
      ],
      "id": "0a708990"
    },
    {
      "cell_type": "code",
      "metadata": {
        "id": "477e01f4",
        "colab": {
          "base_uri": "https://localhost:8080/"
        },
        "outputId": "b723886f-8fca-490c-caf6-337d7a53b612"
      },
      "source": [
        "print(np.info(np.add))"
      ],
      "id": "477e01f4",
      "execution_count": null,
      "outputs": [
        {
          "output_type": "stream",
          "name": "stdout",
          "text": [
            "add(x1, x2, /, out=None, *, where=True, casting='same_kind', order='K', dtype=None, subok=True[, signature, extobj])\n",
            "\n",
            "Add arguments element-wise.\n",
            "\n",
            "Parameters\n",
            "----------\n",
            "x1, x2 : array_like\n",
            "    The arrays to be added.\n",
            "    If ``x1.shape != x2.shape``, they must be broadcastable to a common\n",
            "    shape (which becomes the shape of the output).\n",
            "out : ndarray, None, or tuple of ndarray and None, optional\n",
            "    A location into which the result is stored. If provided, it must have\n",
            "    a shape that the inputs broadcast to. If not provided or None,\n",
            "    a freshly-allocated array is returned. A tuple (possible only as a\n",
            "    keyword argument) must have length equal to the number of outputs.\n",
            "where : array_like, optional\n",
            "    This condition is broadcast over the input. At locations where the\n",
            "    condition is True, the `out` array will be set to the ufunc result.\n",
            "    Elsewhere, the `out` array will retain its original value.\n",
            "    Note that if an uninitialized `out` array is created via the default\n",
            "    ``out=None``, locations within it where the condition is False will\n",
            "    remain uninitialized.\n",
            "**kwargs\n",
            "    For other keyword-only arguments, see the\n",
            "    :ref:`ufunc docs <ufuncs.kwargs>`.\n",
            "\n",
            "Returns\n",
            "-------\n",
            "add : ndarray or scalar\n",
            "    The sum of `x1` and `x2`, element-wise.\n",
            "    This is a scalar if both `x1` and `x2` are scalars.\n",
            "\n",
            "Notes\n",
            "-----\n",
            "Equivalent to `x1` + `x2` in terms of array broadcasting.\n",
            "\n",
            "Examples\n",
            "--------\n",
            ">>> np.add(1.0, 4.0)\n",
            "5.0\n",
            ">>> x1 = np.arange(9.0).reshape((3, 3))\n",
            ">>> x2 = np.arange(3.0)\n",
            ">>> np.add(x1, x2)\n",
            "array([[  0.,   2.,   4.],\n",
            "       [  3.,   5.,   7.],\n",
            "       [  6.,   8.,  10.]])\n",
            "\n",
            "The ``+`` operator can be used as a shorthand for ``np.add`` on ndarrays.\n",
            "\n",
            ">>> x1 = np.arange(9.0).reshape((3, 3))\n",
            ">>> x2 = np.arange(3.0)\n",
            ">>> x1 + x2\n",
            "array([[ 0.,  2.,  4.],\n",
            "       [ 3.,  5.,  7.],\n",
            "       [ 6.,  8., 10.]])\n",
            "None\n"
          ]
        }
      ]
    },
    {
      "cell_type": "markdown",
      "metadata": {
        "id": "0b16cd77"
      },
      "source": [
        "#### 6. Create a null vector of size 10 but the fifth value which is 1 (★☆☆)"
      ],
      "id": "0b16cd77"
    },
    {
      "cell_type": "code",
      "metadata": {
        "id": "4d9b5975",
        "colab": {
          "base_uri": "https://localhost:8080/"
        },
        "outputId": "7efe08d7-bf9b-4fae-dbff-68f3f9bb3277"
      },
      "source": [
        "array1 = np.zeros(10)\n",
        "array1[4] = 1\n",
        "print(array1)"
      ],
      "id": "4d9b5975",
      "execution_count": null,
      "outputs": [
        {
          "output_type": "stream",
          "name": "stdout",
          "text": [
            "[0. 0. 0. 0. 1. 0. 0. 0. 0. 0.]\n"
          ]
        }
      ]
    },
    {
      "cell_type": "markdown",
      "metadata": {
        "id": "782d4c77"
      },
      "source": [
        "#### 7. Create a vector with values ranging from 10 to 49 (★☆☆)"
      ],
      "id": "782d4c77"
    },
    {
      "cell_type": "code",
      "metadata": {
        "id": "5dbe1a08",
        "colab": {
          "base_uri": "https://localhost:8080/"
        },
        "outputId": "32d23a65-947f-4389-fccd-87a5c537c7c4"
      },
      "source": [
        "array2 = np.arange(10,50)\n",
        "print(array2)"
      ],
      "id": "5dbe1a08",
      "execution_count": null,
      "outputs": [
        {
          "output_type": "stream",
          "name": "stdout",
          "text": [
            "[10 11 12 13 14 15 16 17 18 19 20 21 22 23 24 25 26 27 28 29 30 31 32 33\n",
            " 34 35 36 37 38 39 40 41 42 43 44 45 46 47 48 49]\n"
          ]
        }
      ]
    },
    {
      "cell_type": "markdown",
      "metadata": {
        "id": "48d48f01"
      },
      "source": [
        "#### 8. Reverse a vector (first element becomes last) (★☆☆)"
      ],
      "id": "48d48f01"
    },
    {
      "cell_type": "code",
      "metadata": {
        "id": "3ed233e7",
        "colab": {
          "base_uri": "https://localhost:8080/"
        },
        "outputId": "6f96883c-a6a3-4b1c-d3be-e3530f683fbc"
      },
      "source": [
        "array3 = array2[::-1]\n",
        "print(array3)"
      ],
      "id": "3ed233e7",
      "execution_count": null,
      "outputs": [
        {
          "output_type": "stream",
          "name": "stdout",
          "text": [
            "[49 48 47 46 45 44 43 42 41 40 39 38 37 36 35 34 33 32 31 30 29 28 27 26\n",
            " 25 24 23 22 21 20 19 18 17 16 15 14 13 12 11 10]\n"
          ]
        }
      ]
    },
    {
      "cell_type": "markdown",
      "metadata": {
        "id": "4fa39382"
      },
      "source": [
        "#### 9. Create a 3x3 matrix with values ranging from 0 to 8 (★☆☆)"
      ],
      "id": "4fa39382"
    },
    {
      "cell_type": "code",
      "metadata": {
        "id": "c97757ec",
        "colab": {
          "base_uri": "https://localhost:8080/"
        },
        "outputId": "d7a6c999-141a-414d-bf19-ca157d26f0c1"
      },
      "source": [
        "array4 = np.arange(0,9)\n",
        "array5 = array4.reshape(3,3)\n",
        "print(array5)"
      ],
      "id": "c97757ec",
      "execution_count": null,
      "outputs": [
        {
          "output_type": "stream",
          "name": "stdout",
          "text": [
            "[[0 1 2]\n",
            " [3 4 5]\n",
            " [6 7 8]]\n"
          ]
        }
      ]
    },
    {
      "cell_type": "markdown",
      "metadata": {
        "id": "da64551a"
      },
      "source": [
        "#### 10. Find indices of non-zero elements from [1,2,0,0,4,0] (★☆☆)"
      ],
      "id": "da64551a"
    },
    {
      "cell_type": "code",
      "metadata": {
        "id": "327f7adb",
        "colab": {
          "base_uri": "https://localhost:8080/"
        },
        "outputId": "084c4139-3e8a-4907-8f9d-99b3b0fcdc08"
      },
      "source": [
        "array1 = np.array([1,2,0,0,4,0])\n",
        "array2 = array1[array1 != 0]\n",
        "print(array2)"
      ],
      "id": "327f7adb",
      "execution_count": null,
      "outputs": [
        {
          "output_type": "stream",
          "name": "stdout",
          "text": [
            "[1 2 4]\n"
          ]
        }
      ]
    },
    {
      "cell_type": "code",
      "source": [
        "nz = np.nonzero([1,2,0,0,4,0])\n",
        "print(nz)\n",
        "a=np.array([1,2,0,0,4,0])\n",
        "np.where(a!=0)"
      ],
      "metadata": {
        "colab": {
          "base_uri": "https://localhost:8080/"
        },
        "id": "ZyU_qyU66Pm1",
        "outputId": "e5071ac4-2128-464a-c972-39777f0b7863"
      },
      "id": "ZyU_qyU66Pm1",
      "execution_count": null,
      "outputs": [
        {
          "output_type": "stream",
          "name": "stdout",
          "text": [
            "(array([0, 1, 4]),)\n"
          ]
        },
        {
          "output_type": "execute_result",
          "data": {
            "text/plain": [
              "(array([0, 1, 4]),)"
            ]
          },
          "metadata": {},
          "execution_count": 62
        }
      ]
    },
    {
      "cell_type": "markdown",
      "metadata": {
        "id": "f89d9c9e"
      },
      "source": [
        "#### 11. Create a 3x3 identity matrix (★☆☆)"
      ],
      "id": "f89d9c9e"
    },
    {
      "cell_type": "code",
      "metadata": {
        "id": "ba625832",
        "colab": {
          "base_uri": "https://localhost:8080/"
        },
        "outputId": "3a53ce7c-370b-432b-ca85-ce61629a5447"
      },
      "source": [
        "np.identity(3)"
      ],
      "id": "ba625832",
      "execution_count": null,
      "outputs": [
        {
          "output_type": "execute_result",
          "data": {
            "text/plain": [
              "array([[1., 0., 0.],\n",
              "       [0., 1., 0.],\n",
              "       [0., 0., 1.]])"
            ]
          },
          "metadata": {},
          "execution_count": 66
        }
      ]
    },
    {
      "cell_type": "markdown",
      "metadata": {
        "id": "7e44c6fa"
      },
      "source": [
        "#### 12. Create a 3x3x3 array with random values (★☆☆)"
      ],
      "id": "7e44c6fa"
    },
    {
      "cell_type": "code",
      "metadata": {
        "id": "1cb3dddf",
        "colab": {
          "base_uri": "https://localhost:8080/"
        },
        "outputId": "1805262f-ce30-47b0-9e7a-40410c7374b4"
      },
      "source": [
        "array4 = np.random.random((3,3,3))\n",
        "print(array4)"
      ],
      "id": "1cb3dddf",
      "execution_count": null,
      "outputs": [
        {
          "output_type": "stream",
          "name": "stdout",
          "text": [
            "[[[0.70388544 0.78907299 0.00538633]\n",
            "  [0.01037282 0.02443504 0.83648144]\n",
            "  [0.95846446 0.88941039 0.5538374 ]]\n",
            "\n",
            " [[0.27323268 0.32050555 0.80682376]\n",
            "  [0.63332977 0.65152449 0.43498679]\n",
            "  [0.00721519 0.56325179 0.72966901]]\n",
            "\n",
            " [[0.99252133 0.53976707 0.97842115]\n",
            "  [0.69901856 0.09348273 0.05362529]\n",
            "  [0.94918531 0.16681201 0.74342851]]]\n"
          ]
        }
      ]
    },
    {
      "cell_type": "markdown",
      "metadata": {
        "id": "13c5928c"
      },
      "source": [
        "#### 13. Create a 10x10 array with random values and find the minimum and maximum values (★☆☆)"
      ],
      "id": "13c5928c"
    },
    {
      "cell_type": "code",
      "metadata": {
        "id": "911c9b93",
        "colab": {
          "base_uri": "https://localhost:8080/"
        },
        "outputId": "2e113a63-e38e-4083-a869-ad7711f78525"
      },
      "source": [
        "array5 = np.random.random((10,10))\n",
        "\n",
        "arrayMin = array5.min()\n",
        "arrayMax = array5.max()\n",
        "\n",
        "print(arrayMin)\n",
        "print(arrayMax)"
      ],
      "id": "911c9b93",
      "execution_count": null,
      "outputs": [
        {
          "output_type": "stream",
          "name": "stdout",
          "text": [
            "0.0021803578989741945\n",
            "0.9992503958011846\n"
          ]
        }
      ]
    },
    {
      "cell_type": "markdown",
      "metadata": {
        "id": "3fa2e461"
      },
      "source": [
        "#### 14. Create a random vector of size 30 and find the mean value (★☆☆)"
      ],
      "id": "3fa2e461"
    },
    {
      "cell_type": "code",
      "metadata": {
        "id": "323eb38a",
        "colab": {
          "base_uri": "https://localhost:8080/"
        },
        "outputId": "8d87b493-3d12-449d-b1eb-6339558fea05"
      },
      "source": [
        "array6 = np.random.random(30)\n",
        "print(array6.mean())"
      ],
      "id": "323eb38a",
      "execution_count": null,
      "outputs": [
        {
          "output_type": "stream",
          "name": "stdout",
          "text": [
            "0.5572544065959135\n"
          ]
        }
      ]
    },
    {
      "cell_type": "markdown",
      "metadata": {
        "id": "73f7a549"
      },
      "source": [
        "#### 15. Create a 2d array with 1 on the border and 0 inside (★☆☆)"
      ],
      "id": "73f7a549"
    },
    {
      "cell_type": "code",
      "metadata": {
        "id": "e3a6807d",
        "colab": {
          "base_uri": "https://localhost:8080/"
        },
        "outputId": "7504bfae-f55d-4e73-81cf-0ebfd5ff415f"
      },
      "source": [
        "array1 = np.ones((5,5))\n",
        "array1[1:-1,1:-1] = 0\n",
        "print(array1)"
      ],
      "id": "e3a6807d",
      "execution_count": null,
      "outputs": [
        {
          "output_type": "stream",
          "name": "stdout",
          "text": [
            "[[1. 1. 1. 1. 1.]\n",
            " [1. 0. 0. 0. 1.]\n",
            " [1. 0. 0. 0. 1.]\n",
            " [1. 0. 0. 0. 1.]\n",
            " [1. 1. 1. 1. 1.]]\n"
          ]
        }
      ]
    },
    {
      "cell_type": "markdown",
      "metadata": {
        "id": "6d0c506f"
      },
      "source": [
        "#### 16. How to add a border (filled with 0's) around an existing array? (★☆☆)"
      ],
      "id": "6d0c506f"
    },
    {
      "cell_type": "code",
      "metadata": {
        "id": "32ffee7b",
        "colab": {
          "base_uri": "https://localhost:8080/"
        },
        "outputId": "57be823f-4cab-4dd3-aa3d-ab64ab290ffb"
      },
      "source": [
        "A = np.ones((5,5))\n",
        "A[:, [0, -1]] = 0\n",
        "A[[0, -1], :] = 0\n",
        "print(A)"
      ],
      "id": "32ffee7b",
      "execution_count": null,
      "outputs": [
        {
          "output_type": "stream",
          "name": "stdout",
          "text": [
            "[[0. 0. 0. 0. 0.]\n",
            " [0. 1. 1. 1. 0.]\n",
            " [0. 1. 1. 1. 0.]\n",
            " [0. 1. 1. 1. 0.]\n",
            " [0. 0. 0. 0. 0.]]\n"
          ]
        }
      ]
    },
    {
      "cell_type": "code",
      "source": [
        "mat_16 = np.ones((3,3))\n",
        "np.pad(mat_16, pad_width=1, mode='constant', constant_values=0)"
      ],
      "metadata": {
        "colab": {
          "base_uri": "https://localhost:8080/"
        },
        "id": "jmSDvXgI8ZKG",
        "outputId": "6fed6760-34c1-4264-bcef-df15aaa92cf6"
      },
      "id": "jmSDvXgI8ZKG",
      "execution_count": null,
      "outputs": [
        {
          "output_type": "execute_result",
          "data": {
            "text/plain": [
              "array([[0., 0., 0., 0., 0.],\n",
              "       [0., 1., 1., 1., 0.],\n",
              "       [0., 1., 1., 1., 0.],\n",
              "       [0., 1., 1., 1., 0.],\n",
              "       [0., 0., 0., 0., 0.]])"
            ]
          },
          "metadata": {},
          "execution_count": 69
        }
      ]
    },
    {
      "cell_type": "markdown",
      "metadata": {
        "id": "d6ad1a9f"
      },
      "source": [
        "#### 17. What is the result of the following expression? (★☆☆)\n",
        "```python\n",
        "0 * np.nan\n",
        "np.nan == np.nan\n",
        "np.inf > np.nan\n",
        "np.nan - np.nan\n",
        "np.nan in set([np.nan])\n",
        "0.3 == 3 * 0.1\n",
        "```"
      ],
      "id": "d6ad1a9f"
    },
    {
      "cell_type": "code",
      "metadata": {
        "id": "ee7ff0f3",
        "colab": {
          "base_uri": "https://localhost:8080/"
        },
        "outputId": "cda50b96-8d97-4f77-f21d-9f3277cefa16"
      },
      "source": [
        "print(0 * np.nan)\n",
        "print(np.nan == np.nan)\n",
        "print(np.inf > np.nan)\n",
        "print(np.nan - np.nan)\n",
        "print(np.nan in set([np.nan]))\n",
        "print(0.3 == 3 * 0.1)"
      ],
      "id": "ee7ff0f3",
      "execution_count": null,
      "outputs": [
        {
          "output_type": "stream",
          "name": "stdout",
          "text": [
            "nan\n",
            "False\n",
            "False\n",
            "nan\n",
            "True\n",
            "False\n"
          ]
        }
      ]
    },
    {
      "cell_type": "markdown",
      "metadata": {
        "id": "e3a7ba7f"
      },
      "source": [
        "#### 18. Create a 5x5 matrix with values 1,2,3,4 just below the diagonal (★☆☆)"
      ],
      "id": "e3a7ba7f"
    },
    {
      "cell_type": "code",
      "metadata": {
        "id": "01d8e257",
        "colab": {
          "base_uri": "https://localhost:8080/"
        },
        "outputId": "0667d053-988b-4892-c803-3bc920b52c79"
      },
      "source": [
        "Z = np.diag(1+np.arange(4),k=-1)\n",
        "print(Z)"
      ],
      "id": "01d8e257",
      "execution_count": null,
      "outputs": [
        {
          "output_type": "stream",
          "name": "stdout",
          "text": [
            "[[0 0 0 0 0]\n",
            " [1 0 0 0 0]\n",
            " [0 2 0 0 0]\n",
            " [0 0 3 0 0]\n",
            " [0 0 0 4 0]]\n"
          ]
        }
      ]
    },
    {
      "cell_type": "markdown",
      "metadata": {
        "id": "6d17ab5d"
      },
      "source": [
        "#### 19. Create a 8x8 matrix and fill it with a checkerboard pattern (★☆☆)"
      ],
      "id": "6d17ab5d"
    },
    {
      "cell_type": "code",
      "metadata": {
        "id": "841373cd",
        "colab": {
          "base_uri": "https://localhost:8080/"
        },
        "outputId": "294a7526-b757-4b88-a874-d9ad112f325a"
      },
      "source": [
        "A = np.zeros((8,8),dtype=int)\n",
        "A[1::2,::2] = 1 #index 1부터 끝까지 두 칸 간격으로\n",
        "A[::2,1::2] = 1\n",
        "print(A)"
      ],
      "id": "841373cd",
      "execution_count": null,
      "outputs": [
        {
          "output_type": "stream",
          "name": "stdout",
          "text": [
            "[[0 1 0 1 0 1 0 1]\n",
            " [1 0 1 0 1 0 1 0]\n",
            " [0 1 0 1 0 1 0 1]\n",
            " [1 0 1 0 1 0 1 0]\n",
            " [0 1 0 1 0 1 0 1]\n",
            " [1 0 1 0 1 0 1 0]\n",
            " [0 1 0 1 0 1 0 1]\n",
            " [1 0 1 0 1 0 1 0]]\n"
          ]
        }
      ]
    },
    {
      "cell_type": "markdown",
      "metadata": {
        "id": "8837119b"
      },
      "source": [
        "#### 20. Consider a (6,7,8) shape array, what is the index (x,y,z) of the 100th element? (★☆☆)"
      ],
      "id": "8837119b"
    },
    {
      "cell_type": "code",
      "metadata": {
        "id": "2c0d16f1",
        "colab": {
          "base_uri": "https://localhost:8080/"
        },
        "outputId": "2cea6ff7-5609-46b7-fc46-27c6248b0997"
      },
      "source": [
        "print(np.unravel_index(99,(6,7,8)))"
      ],
      "id": "2c0d16f1",
      "execution_count": null,
      "outputs": [
        {
          "output_type": "stream",
          "name": "stdout",
          "text": [
            "(1, 5, 3)\n"
          ]
        }
      ]
    },
    {
      "cell_type": "markdown",
      "metadata": {
        "id": "ec788c9f"
      },
      "source": [
        "#### 21. Create a checkerboard 8x8 matrix using the tile function (★☆☆)"
      ],
      "id": "ec788c9f"
    },
    {
      "cell_type": "code",
      "metadata": {
        "id": "0a4f919f",
        "colab": {
          "base_uri": "https://localhost:8080/"
        },
        "outputId": "98edcdc2-ce84-4322-b8fc-16de3d76207b"
      },
      "source": [
        "A = np.tile( np.array([[0,1],[1,0]]), (4,4))\n",
        "print(A)"
      ],
      "id": "0a4f919f",
      "execution_count": null,
      "outputs": [
        {
          "output_type": "stream",
          "name": "stdout",
          "text": [
            "[[0 1 0 1 0 1 0 1]\n",
            " [1 0 1 0 1 0 1 0]\n",
            " [0 1 0 1 0 1 0 1]\n",
            " [1 0 1 0 1 0 1 0]\n",
            " [0 1 0 1 0 1 0 1]\n",
            " [1 0 1 0 1 0 1 0]\n",
            " [0 1 0 1 0 1 0 1]\n",
            " [1 0 1 0 1 0 1 0]]\n"
          ]
        }
      ]
    },
    {
      "cell_type": "markdown",
      "metadata": {
        "id": "391791e0"
      },
      "source": [
        "#### 22. Normalize a 5x5 random matrix (★☆☆)"
      ],
      "id": "391791e0"
    },
    {
      "cell_type": "code",
      "metadata": {
        "id": "f6533d39",
        "colab": {
          "base_uri": "https://localhost:8080/"
        },
        "outputId": "63c36290-96fd-4d98-f174-5189743c8cd3"
      },
      "source": [
        "A = np.random.random((5,5))\n",
        "A = (A - np.mean (A)) / (np.std (A))\n",
        "print(A)"
      ],
      "id": "f6533d39",
      "execution_count": null,
      "outputs": [
        {
          "output_type": "stream",
          "name": "stdout",
          "text": [
            "[[-0.79849125  0.25711777 -0.53488954 -0.81119323  1.234653  ]\n",
            " [ 0.43139251  0.80545188 -0.90823327 -1.7042898  -1.05001448]\n",
            " [ 0.71709645  0.40591503  0.64951691  1.34228283 -1.47652291]\n",
            " [ 0.97898941  0.31212781 -0.35823326 -1.86005983  1.42584039]\n",
            " [ 1.03219176 -1.34678084  0.30083693  1.17591515 -0.22061941]]\n"
          ]
        }
      ]
    },
    {
      "cell_type": "markdown",
      "metadata": {
        "id": "1e74d39e"
      },
      "source": [
        "#### 23. Create a custom dtype that describes a color as four unsigned bytes (RGBA) (★☆☆)"
      ],
      "id": "1e74d39e"
    },
    {
      "cell_type": "code",
      "metadata": {
        "id": "3f639d33",
        "colab": {
          "base_uri": "https://localhost:8080/"
        },
        "outputId": "362d1b87-3f60-4f0f-e38f-fd233bcc9611"
      },
      "source": [
        "color = np.dtype([(\"r\", np.ubyte, 1),\n",
        "                  (\"g\", np.ubyte, 1),\n",
        "                  (\"b\", np.ubyte, 1),\n",
        "                  (\"a\", np.ubyte, 1)])\n",
        "print(color)"
      ],
      "id": "3f639d33",
      "execution_count": null,
      "outputs": [
        {
          "output_type": "stream",
          "name": "stdout",
          "text": [
            "[('r', 'u1'), ('g', 'u1'), ('b', 'u1'), ('a', 'u1')]\n"
          ]
        },
        {
          "output_type": "stream",
          "name": "stderr",
          "text": [
            "/usr/local/lib/python3.7/dist-packages/ipykernel_launcher.py:4: FutureWarning: Passing (type, 1) or '1type' as a synonym of type is deprecated; in a future version of numpy, it will be understood as (type, (1,)) / '(1,)type'.\n",
            "  after removing the cwd from sys.path.\n"
          ]
        }
      ]
    },
    {
      "cell_type": "markdown",
      "metadata": {
        "id": "78250c14"
      },
      "source": [
        "#### 24. Multiply a 5x3 matrix by a 3x2 matrix (real matrix product) (★☆☆)"
      ],
      "id": "78250c14"
    },
    {
      "cell_type": "code",
      "metadata": {
        "id": "9fe729cb",
        "colab": {
          "base_uri": "https://localhost:8080/"
        },
        "outputId": "ed0d50f7-9ff6-40bf-af7b-183935dbf7ea"
      },
      "source": [
        "A = np.dot(np.ones((5,3)), np.ones((3,2)))\n",
        "print(A)"
      ],
      "id": "9fe729cb",
      "execution_count": null,
      "outputs": [
        {
          "output_type": "stream",
          "name": "stdout",
          "text": [
            "[[3. 3.]\n",
            " [3. 3.]\n",
            " [3. 3.]\n",
            " [3. 3.]\n",
            " [3. 3.]]\n"
          ]
        }
      ]
    },
    {
      "cell_type": "markdown",
      "metadata": {
        "id": "51898680"
      },
      "source": [
        "#### 25. Given a 1D array, negate all elements which are between 3 and 8, in place. (★☆☆)"
      ],
      "id": "51898680"
    },
    {
      "cell_type": "code",
      "metadata": {
        "id": "51c90f2d",
        "colab": {
          "base_uri": "https://localhost:8080/"
        },
        "outputId": "79416cf0-a866-4855-c14b-07942c068226"
      },
      "source": [
        "A = np.arange(11)\n",
        "A[(3 < A) & (A < 8)] *= -1\n",
        "print(A)"
      ],
      "id": "51c90f2d",
      "execution_count": null,
      "outputs": [
        {
          "output_type": "stream",
          "name": "stdout",
          "text": [
            "[ 0  1  2  3 -4 -5 -6 -7  8  9 10]\n"
          ]
        }
      ]
    },
    {
      "cell_type": "markdown",
      "metadata": {
        "id": "89e78048"
      },
      "source": [
        "#### 26. What is the output of the following script? (★☆☆)\n",
        "```python\n",
        "# Author: Jake VanderPlas\n",
        "\n",
        "print(sum(range(5),-1))\n",
        "from numpy import *\n",
        "print(sum(range(5),-1))\n",
        "```"
      ],
      "id": "89e78048"
    },
    {
      "cell_type": "code",
      "metadata": {
        "id": "b62e9d1c",
        "colab": {
          "base_uri": "https://localhost:8080/"
        },
        "outputId": "5f2e4b92-3888-4beb-abc6-a72cc37697b9"
      },
      "source": [
        "print(sum(range(5),-1))\n",
        "from numpy import *\n",
        "print(sum(range(5),-1))"
      ],
      "id": "b62e9d1c",
      "execution_count": null,
      "outputs": [
        {
          "output_type": "stream",
          "name": "stdout",
          "text": [
            "9\n",
            "10\n"
          ]
        }
      ]
    },
    {
      "cell_type": "markdown",
      "metadata": {
        "id": "ebd10810"
      },
      "source": [
        "#### 27. Consider an integer vector Z, which of these expressions are legal? (★☆☆)\n",
        "```python\n",
        "Z**Z\n",
        "2 << Z >> 2\n",
        "Z <- Z\n",
        "1j*Z\n",
        "Z/1/1\n",
        "Z<Z>Z\n",
        "```"
      ],
      "id": "ebd10810"
    },
    {
      "cell_type": "code",
      "metadata": {
        "id": "6ada209f",
        "colab": {
          "base_uri": "https://localhost:8080/",
          "height": 303
        },
        "outputId": "8d9b313e-6b3b-4837-f773-02166164c0a8"
      },
      "source": [
        "Z=np.arange(3)\n",
        "print(Z**Z)\n",
        "print(2 << Z >> 2)\n",
        "print(Z <- Z)\n",
        "print(1j*Z)\n",
        "print(Z/1/1)\n",
        "print(Z<Z>Z)"
      ],
      "id": "6ada209f",
      "execution_count": null,
      "outputs": [
        {
          "output_type": "stream",
          "name": "stdout",
          "text": [
            "[1 1 4]\n",
            "[0 1 2]\n",
            "[False False False]\n",
            "[0.+0.j 0.+1.j 0.+2.j]\n",
            "[0. 1. 2.]\n"
          ]
        },
        {
          "output_type": "error",
          "ename": "ValueError",
          "evalue": "ignored",
          "traceback": [
            "\u001b[0;31m---------------------------------------------------------------------------\u001b[0m",
            "\u001b[0;31mValueError\u001b[0m                                Traceback (most recent call last)",
            "\u001b[0;32m<ipython-input-84-690c663249f6>\u001b[0m in \u001b[0;36m<module>\u001b[0;34m()\u001b[0m\n\u001b[1;32m      5\u001b[0m \u001b[0mprint\u001b[0m\u001b[0;34m(\u001b[0m\u001b[0;36m1j\u001b[0m\u001b[0;34m*\u001b[0m\u001b[0mZ\u001b[0m\u001b[0;34m)\u001b[0m\u001b[0;34m\u001b[0m\u001b[0;34m\u001b[0m\u001b[0m\n\u001b[1;32m      6\u001b[0m \u001b[0mprint\u001b[0m\u001b[0;34m(\u001b[0m\u001b[0mZ\u001b[0m\u001b[0;34m/\u001b[0m\u001b[0;36m1\u001b[0m\u001b[0;34m/\u001b[0m\u001b[0;36m1\u001b[0m\u001b[0;34m)\u001b[0m\u001b[0;34m\u001b[0m\u001b[0;34m\u001b[0m\u001b[0m\n\u001b[0;32m----> 7\u001b[0;31m \u001b[0mprint\u001b[0m\u001b[0;34m(\u001b[0m\u001b[0mZ\u001b[0m\u001b[0;34m<\u001b[0m\u001b[0mZ\u001b[0m\u001b[0;34m>\u001b[0m\u001b[0mZ\u001b[0m\u001b[0;34m)\u001b[0m\u001b[0;34m\u001b[0m\u001b[0;34m\u001b[0m\u001b[0m\n\u001b[0m",
            "\u001b[0;31mValueError\u001b[0m: The truth value of an array with more than one element is ambiguous. Use a.any() or a.all()"
          ]
        }
      ]
    },
    {
      "cell_type": "markdown",
      "metadata": {
        "id": "c0e940f8"
      },
      "source": [
        "#### 28. What are the result of the following expressions? (★☆☆)\n",
        "```python\n",
        "np.array(0) / np.array(0)\n",
        "np.array(0) // np.array(0)\n",
        "np.array([np.nan]).astype(int).astype(float)\n",
        "```"
      ],
      "id": "c0e940f8"
    },
    {
      "cell_type": "code",
      "metadata": {
        "id": "820dc7a5",
        "colab": {
          "base_uri": "https://localhost:8080/"
        },
        "outputId": "83ee6bd7-441d-43c3-a4aa-4e09e97a6e23"
      },
      "source": [
        "np.array(0) / np.array(0)\n",
        "np.array(0) // np.array(0)\n",
        "np.array([np.nan]).astype(int).astype(float)"
      ],
      "id": "820dc7a5",
      "execution_count": null,
      "outputs": [
        {
          "output_type": "stream",
          "name": "stderr",
          "text": [
            "/usr/local/lib/python3.7/dist-packages/ipykernel_launcher.py:1: RuntimeWarning: invalid value encountered in true_divide\n",
            "  \"\"\"Entry point for launching an IPython kernel.\n",
            "/usr/local/lib/python3.7/dist-packages/ipykernel_launcher.py:2: RuntimeWarning: divide by zero encountered in floor_divide\n",
            "  \n"
          ]
        },
        {
          "output_type": "execute_result",
          "data": {
            "text/plain": [
              "array([-9.22337204e+18])"
            ]
          },
          "metadata": {},
          "execution_count": 74
        }
      ]
    },
    {
      "cell_type": "markdown",
      "metadata": {
        "id": "22713c3f"
      },
      "source": [
        "#### 29. How to round away from zero a float array ? (★☆☆)"
      ],
      "id": "22713c3f"
    },
    {
      "cell_type": "code",
      "metadata": {
        "id": "a3e05c29",
        "colab": {
          "base_uri": "https://localhost:8080/"
        },
        "outputId": "1f2c2db4-ecb6-4fe8-d430-1f35da84f4ad"
      },
      "source": [
        "Z = np.random.uniform(-10,+10,10)\n",
        "print(np.copysign(np.ceil(np.abs(Z)), Z))"
      ],
      "id": "a3e05c29",
      "execution_count": null,
      "outputs": [
        {
          "output_type": "stream",
          "name": "stdout",
          "text": [
            "[ -9.   2.   4.  -3. -10.  10.  -3.   8.  -5.   1.]\n"
          ]
        }
      ]
    },
    {
      "cell_type": "markdown",
      "metadata": {
        "id": "f1ae2c2d"
      },
      "source": [
        "#### 30. How to find common values between two arrays? (★☆☆)"
      ],
      "id": "f1ae2c2d"
    },
    {
      "cell_type": "code",
      "metadata": {
        "id": "6801c73d",
        "colab": {
          "base_uri": "https://localhost:8080/"
        },
        "outputId": "08d4a9f1-3492-4872-caee-78fc10d2e913"
      },
      "source": [
        "Z1 = np.random.randint(0,10,10)\n",
        "Z2 = np.random.randint(0,10,10)\n",
        "print(np.intersect1d(Z1,Z2))"
      ],
      "id": "6801c73d",
      "execution_count": null,
      "outputs": [
        {
          "output_type": "stream",
          "name": "stdout",
          "text": [
            "[0 1 2 5 7]\n"
          ]
        }
      ]
    },
    {
      "cell_type": "markdown",
      "metadata": {
        "id": "34a7bdee"
      },
      "source": [
        "#### 31. How to ignore all numpy warnings (not recommended)? (★☆☆)"
      ],
      "id": "34a7bdee"
    },
    {
      "cell_type": "code",
      "metadata": {
        "id": "befc60d1"
      },
      "source": [
        "defaults = np.seterr(all=\"ignore\")\n",
        "Z = np.ones(1) / 0\n"
      ],
      "id": "befc60d1",
      "execution_count": null,
      "outputs": []
    },
    {
      "cell_type": "markdown",
      "metadata": {
        "id": "37bc0973"
      },
      "source": [
        "#### 32. Is the following expressions true? (★☆☆)\n",
        "```python\n",
        "np.sqrt(-1) == np.emath.sqrt(-1)\n",
        "```"
      ],
      "id": "37bc0973"
    },
    {
      "cell_type": "code",
      "metadata": {
        "id": "c70cbabe",
        "colab": {
          "base_uri": "https://localhost:8080/"
        },
        "outputId": "ad7e3c44-55cd-4148-fee5-fdbd0d749158"
      },
      "source": [
        "np.sqrt(-1) == np.emath.sqrt(-1)"
      ],
      "id": "c70cbabe",
      "execution_count": null,
      "outputs": [
        {
          "output_type": "execute_result",
          "data": {
            "text/plain": [
              "False"
            ]
          },
          "metadata": {},
          "execution_count": 79
        }
      ]
    },
    {
      "cell_type": "markdown",
      "metadata": {
        "id": "129c342d"
      },
      "source": [
        "#### 33. How to get the dates of yesterday, today and tomorrow? (★☆☆)"
      ],
      "id": "129c342d"
    },
    {
      "cell_type": "code",
      "metadata": {
        "id": "8ba1badb"
      },
      "source": [
        "yesterday = np.datetime64('today') - np.timedelta64(1)\n",
        "today     = np.datetime64('today')\n",
        "tomorrow  = np.datetime64('today') + np.timedelta64(1)"
      ],
      "id": "8ba1badb",
      "execution_count": null,
      "outputs": []
    },
    {
      "cell_type": "markdown",
      "metadata": {
        "id": "42f8b2f9"
      },
      "source": [
        "#### 34. How to get all the dates corresponding to the month of July 2016? (★★☆)"
      ],
      "id": "42f8b2f9"
    },
    {
      "cell_type": "code",
      "metadata": {
        "id": "eb8ebe45",
        "colab": {
          "base_uri": "https://localhost:8080/"
        },
        "outputId": "c409cdde-6363-4bd5-b062-d1af0d3a598b"
      },
      "source": [
        "Z = np.arange('2016-07','2016-08', dtype = 'datetime64[D]')\n",
        "print(Z)"
      ],
      "id": "eb8ebe45",
      "execution_count": null,
      "outputs": [
        {
          "output_type": "stream",
          "name": "stdout",
          "text": [
            "['2016-07-01' '2016-07-02' '2016-07-03' '2016-07-04' '2016-07-05'\n",
            " '2016-07-06' '2016-07-07' '2016-07-08' '2016-07-09' '2016-07-10'\n",
            " '2016-07-11' '2016-07-12' '2016-07-13' '2016-07-14' '2016-07-15'\n",
            " '2016-07-16' '2016-07-17' '2016-07-18' '2016-07-19' '2016-07-20'\n",
            " '2016-07-21' '2016-07-22' '2016-07-23' '2016-07-24' '2016-07-25'\n",
            " '2016-07-26' '2016-07-27' '2016-07-28' '2016-07-29' '2016-07-30'\n",
            " '2016-07-31']\n"
          ]
        }
      ]
    },
    {
      "cell_type": "markdown",
      "metadata": {
        "id": "252c43e2"
      },
      "source": [
        "#### 35. How to compute ((A+B)*(-A/2)) in place (without copy)? (★★☆)"
      ],
      "id": "252c43e2"
    },
    {
      "cell_type": "code",
      "metadata": {
        "id": "f06ff615",
        "colab": {
          "base_uri": "https://localhost:8080/"
        },
        "outputId": "375c9f06-35ca-4b42-930e-2ec71bc7c937"
      },
      "source": [
        "A = np.ones(3)*1\n",
        "B = np.ones(3)*2\n",
        "C = np.ones(3)*3\n",
        "np.add(A,B, out=B)\n",
        "np.negative(A,out=A)\n",
        "np.divide(A,2,out=A)\n",
        "np.multiply(A,B,out=A)"
      ],
      "id": "f06ff615",
      "execution_count": null,
      "outputs": [
        {
          "output_type": "execute_result",
          "data": {
            "text/plain": [
              "array([-1.5, -1.5, -1.5])"
            ]
          },
          "metadata": {},
          "execution_count": 4
        }
      ]
    },
    {
      "cell_type": "markdown",
      "metadata": {
        "id": "486df8ea"
      },
      "source": [
        "#### 36. Extract the integer part of a random array of positive numbers using 4 different methods (★★☆)"
      ],
      "id": "486df8ea"
    },
    {
      "cell_type": "code",
      "metadata": {
        "id": "34b4fa08",
        "colab": {
          "base_uri": "https://localhost:8080/"
        },
        "outputId": "2d9cd5f2-8b50-4cf8-ca73-f825c1d78064"
      },
      "source": [
        "Z=np.random.uniform(0,10,10)\n",
        "print(Z)\n",
        "\n",
        "print(Z-Z%1)\n",
        "print(np.floor(Z))\n",
        "print(np.ceil(Z)-1)\n",
        "print(Z.astype(int))\n",
        "print(np.trunc(Z))"
      ],
      "id": "34b4fa08",
      "execution_count": null,
      "outputs": [
        {
          "output_type": "stream",
          "name": "stdout",
          "text": [
            "[6.79534316 2.57215654 5.55360253 8.43402549 0.53603261 2.01866659\n",
            " 2.39198436 4.4051175  2.9618717  8.555681  ]\n",
            "[6. 2. 5. 8. 0. 2. 2. 4. 2. 8.]\n",
            "[6. 2. 5. 8. 0. 2. 2. 4. 2. 8.]\n",
            "[6. 2. 5. 8. 0. 2. 2. 4. 2. 8.]\n",
            "[6 2 5 8 0 2 2 4 2 8]\n",
            "[6. 2. 5. 8. 0. 2. 2. 4. 2. 8.]\n"
          ]
        }
      ]
    },
    {
      "cell_type": "markdown",
      "metadata": {
        "id": "649e89f9"
      },
      "source": [
        "#### 37. Create a 5x5 matrix with row values ranging from 0 to 4 (★★☆)"
      ],
      "id": "649e89f9"
    },
    {
      "cell_type": "code",
      "metadata": {
        "id": "663cc611",
        "colab": {
          "base_uri": "https://localhost:8080/"
        },
        "outputId": "0b49184a-ab30-420a-bb85-f32ea55f2773"
      },
      "source": [
        "Z = np.zeros((5,5))\n",
        "Z += np.arange(5)\n",
        "print(Z)"
      ],
      "id": "663cc611",
      "execution_count": null,
      "outputs": [
        {
          "output_type": "stream",
          "name": "stdout",
          "text": [
            "[[0. 1. 2. 3. 4.]\n",
            " [0. 1. 2. 3. 4.]\n",
            " [0. 1. 2. 3. 4.]\n",
            " [0. 1. 2. 3. 4.]\n",
            " [0. 1. 2. 3. 4.]]\n"
          ]
        }
      ]
    },
    {
      "cell_type": "markdown",
      "metadata": {
        "id": "3421e17f"
      },
      "source": [
        "#### 38. Consider a generator function that generates 10 integers and use it to build an array (★☆☆)"
      ],
      "id": "3421e17f"
    },
    {
      "cell_type": "code",
      "metadata": {
        "id": "7336b8e4",
        "colab": {
          "base_uri": "https://localhost:8080/"
        },
        "outputId": "954aa41b-6eb9-48f3-989c-c5aa23ecf9f9"
      },
      "source": [
        "def generate():\n",
        "  for x in range(10):\n",
        "    yield x\n",
        "\n",
        "Z = np.fromiter(generate(), dtype=float, count=-1)\n",
        "print(Z)"
      ],
      "id": "7336b8e4",
      "execution_count": null,
      "outputs": [
        {
          "output_type": "stream",
          "name": "stdout",
          "text": [
            "[0. 1. 2. 3. 4. 5. 6. 7. 8. 9.]\n"
          ]
        }
      ]
    },
    {
      "cell_type": "markdown",
      "metadata": {
        "id": "483dd554"
      },
      "source": [
        "#### 39. Create a vector of size 10 with values ranging from 0 to 1, both excluded (★★☆)"
      ],
      "id": "483dd554"
    },
    {
      "cell_type": "code",
      "metadata": {
        "id": "c89b93e7",
        "colab": {
          "base_uri": "https://localhost:8080/"
        },
        "outputId": "68b0381c-c91f-4f19-f84a-79e7130a7647"
      },
      "source": [
        "np.linspace(0,1,11, endpoint=False)[1:]"
      ],
      "id": "c89b93e7",
      "execution_count": null,
      "outputs": [
        {
          "output_type": "execute_result",
          "data": {
            "text/plain": [
              "array([0.09090909, 0.18181818, 0.27272727, 0.36363636, 0.45454545,\n",
              "       0.54545455, 0.63636364, 0.72727273, 0.81818182, 0.90909091])"
            ]
          },
          "metadata": {},
          "execution_count": 10
        }
      ]
    },
    {
      "cell_type": "markdown",
      "metadata": {
        "id": "2d07be1c"
      },
      "source": [
        "#### 40. Create a random vector of size 10 and sort it (★★☆)"
      ],
      "id": "2d07be1c"
    },
    {
      "cell_type": "code",
      "metadata": {
        "id": "4f7cb3ad",
        "colab": {
          "base_uri": "https://localhost:8080/"
        },
        "outputId": "94e63cbf-caa8-4823-eda4-54246d4dc727"
      },
      "source": [
        "Z = np.random.random(10)\n",
        "Z.sort()\n",
        "print(Z)"
      ],
      "id": "4f7cb3ad",
      "execution_count": null,
      "outputs": [
        {
          "output_type": "stream",
          "name": "stdout",
          "text": [
            "[0.24590706 0.29420852 0.36103188 0.39943831 0.43720333 0.45220291\n",
            " 0.46749682 0.49026022 0.59465219 0.69872838]\n"
          ]
        }
      ]
    },
    {
      "cell_type": "markdown",
      "metadata": {
        "id": "6415f02e"
      },
      "source": [
        "#### 41. How to sum a small array faster than np.sum? (★★☆)"
      ],
      "id": "6415f02e"
    },
    {
      "cell_type": "code",
      "metadata": {
        "id": "bb0dd942",
        "colab": {
          "base_uri": "https://localhost:8080/"
        },
        "outputId": "b0c4d6db-fc77-49e2-d0f8-682130191797"
      },
      "source": [
        "Z = np.arange(10)\n",
        "np.add.reduce(Z)"
      ],
      "id": "bb0dd942",
      "execution_count": null,
      "outputs": [
        {
          "output_type": "execute_result",
          "data": {
            "text/plain": [
              "45"
            ]
          },
          "metadata": {},
          "execution_count": 14
        }
      ]
    },
    {
      "cell_type": "markdown",
      "metadata": {
        "id": "fe043549"
      },
      "source": [
        "#### 42. Consider two random array A and B, check if they are equal (★★☆)"
      ],
      "id": "fe043549"
    },
    {
      "cell_type": "code",
      "metadata": {
        "id": "3326a686",
        "colab": {
          "base_uri": "https://localhost:8080/"
        },
        "outputId": "35d2a4a9-6ada-44c7-aa86-749e7d0d94ea"
      },
      "source": [
        "A = np.random.randint(0,2,5)\n",
        "B = np.random.randint(0,2,5)\n",
        "\n",
        "print(A)\n",
        "print(B)\n",
        "\n",
        "equal = np.allclose(A,B)\n",
        "print(equal)"
      ],
      "id": "3326a686",
      "execution_count": null,
      "outputs": [
        {
          "output_type": "stream",
          "name": "stdout",
          "text": [
            "[0 1 1 1 0]\n",
            "[0 0 0 1 1]\n",
            "False\n"
          ]
        }
      ]
    },
    {
      "cell_type": "markdown",
      "metadata": {
        "id": "cc08f71c"
      },
      "source": [
        "#### 43. Make an array immutable (read-only) (★★☆)"
      ],
      "id": "cc08f71c"
    },
    {
      "cell_type": "code",
      "metadata": {
        "id": "d5cc9dbe",
        "colab": {
          "base_uri": "https://localhost:8080/",
          "height": 211
        },
        "outputId": "f1ff6e70-e362-4e9c-b20e-ee3bbdfbf346"
      },
      "source": [
        "Z = np.zeros(10)\n",
        "Z.flags.writeable = False\n",
        "Z[0] = 1"
      ],
      "id": "d5cc9dbe",
      "execution_count": null,
      "outputs": [
        {
          "output_type": "error",
          "ename": "ValueError",
          "evalue": "ignored",
          "traceback": [
            "\u001b[0;31m---------------------------------------------------------------------------\u001b[0m",
            "\u001b[0;31mValueError\u001b[0m                                Traceback (most recent call last)",
            "\u001b[0;32m<ipython-input-20-dcc5e7f145b5>\u001b[0m in \u001b[0;36m<module>\u001b[0;34m()\u001b[0m\n\u001b[1;32m      1\u001b[0m \u001b[0mZ\u001b[0m \u001b[0;34m=\u001b[0m \u001b[0mnp\u001b[0m\u001b[0;34m.\u001b[0m\u001b[0mzeros\u001b[0m\u001b[0;34m(\u001b[0m\u001b[0;36m10\u001b[0m\u001b[0;34m)\u001b[0m\u001b[0;34m\u001b[0m\u001b[0;34m\u001b[0m\u001b[0m\n\u001b[1;32m      2\u001b[0m \u001b[0mZ\u001b[0m\u001b[0;34m.\u001b[0m\u001b[0mflags\u001b[0m\u001b[0;34m.\u001b[0m\u001b[0mwriteable\u001b[0m \u001b[0;34m=\u001b[0m \u001b[0;32mFalse\u001b[0m\u001b[0;34m\u001b[0m\u001b[0;34m\u001b[0m\u001b[0m\n\u001b[0;32m----> 3\u001b[0;31m \u001b[0mZ\u001b[0m\u001b[0;34m[\u001b[0m\u001b[0;36m0\u001b[0m\u001b[0;34m]\u001b[0m \u001b[0;34m=\u001b[0m \u001b[0;36m1\u001b[0m\u001b[0;34m\u001b[0m\u001b[0;34m\u001b[0m\u001b[0m\n\u001b[0m",
            "\u001b[0;31mValueError\u001b[0m: assignment destination is read-only"
          ]
        }
      ]
    },
    {
      "cell_type": "markdown",
      "metadata": {
        "id": "2002cb03"
      },
      "source": [
        "#### 44. Consider a random 10x2 matrix representing cartesian coordinates, convert them to polar coordinates (★★☆)"
      ],
      "id": "2002cb03"
    },
    {
      "cell_type": "code",
      "metadata": {
        "id": "58be72bc",
        "colab": {
          "base_uri": "https://localhost:8080/"
        },
        "outputId": "6c0245cd-d638-4e5f-ea05-72ee5e148b35"
      },
      "source": [
        "Z = np.random.random((10,2))\n",
        "print(Z)\n",
        "X, Y = Z[:,0], Z[:,1]\n",
        "R = np.sqrt(X**2+Y**2)\n",
        "T = np.arctan2(Y,X)\n",
        "print(R)\n",
        "print(T)"
      ],
      "id": "58be72bc",
      "execution_count": null,
      "outputs": [
        {
          "output_type": "stream",
          "name": "stdout",
          "text": [
            "[[0.58736244 0.80531937]\n",
            " [0.9714616  0.75907308]\n",
            " [0.11766    0.75116788]\n",
            " [0.71519284 0.65906434]\n",
            " [0.08222527 0.30056317]\n",
            " [0.44568041 0.81819943]\n",
            " [0.08955696 0.66816167]\n",
            " [0.38814925 0.52447695]\n",
            " [0.18175803 0.98011443]\n",
            " [0.34957231 0.85637892]]\n",
            "[0.99676171 1.23285425 0.76032694 0.97255673 0.31160747 0.93170883\n",
            " 0.67413683 0.65248441 0.9968251  0.92497873]\n",
            "[0.9406405  0.66327887 1.41542272 0.74457806 1.30375942 1.07202455\n",
            " 1.43755557 0.93368127 1.38743362 1.1832426 ]\n"
          ]
        }
      ]
    },
    {
      "cell_type": "markdown",
      "metadata": {
        "id": "b7109c9f"
      },
      "source": [
        "#### 45. Create random vector of size 10 and replace the maximum value by 0 (★★☆)"
      ],
      "id": "b7109c9f"
    },
    {
      "cell_type": "code",
      "metadata": {
        "id": "f79e79a7",
        "colab": {
          "base_uri": "https://localhost:8080/"
        },
        "outputId": "9d9ac5f0-e4f9-442f-fd8e-d23bc02d3a55"
      },
      "source": [
        "Z = np.random.random(10)\n",
        "print(Z)\n",
        "Z[Z.argmax()] = 0\n",
        "print(Z)"
      ],
      "id": "f79e79a7",
      "execution_count": null,
      "outputs": [
        {
          "output_type": "stream",
          "name": "stdout",
          "text": [
            "[0.97844325 0.0891113  0.98029395 0.92607061 0.78819312 0.46714893\n",
            " 0.81318536 0.89297337 0.63555461 0.01171165]\n",
            "[0.97844325 0.0891113  0.         0.92607061 0.78819312 0.46714893\n",
            " 0.81318536 0.89297337 0.63555461 0.01171165]\n"
          ]
        }
      ]
    },
    {
      "cell_type": "markdown",
      "metadata": {
        "id": "7d3131b9"
      },
      "source": [
        "#### 46. Create a structured array with `x` and `y` coordinates covering the [0,1]x[0,1] area (★★☆)"
      ],
      "id": "7d3131b9"
    },
    {
      "cell_type": "code",
      "metadata": {
        "id": "4f471afe",
        "colab": {
          "base_uri": "https://localhost:8080/"
        },
        "outputId": "dd32cbbb-b63d-4b1e-b25d-617f7541ac53"
      },
      "source": [
        "Z = np.zeros((5,5), [('x',float),('y',float)])\n",
        "Z['x'], Z['y'] = np.meshgrid(np.linspace(0,1,5),\n",
        "                             np.linspace(0,1,5))\n",
        "print(Z)"
      ],
      "id": "4f471afe",
      "execution_count": 3,
      "outputs": [
        {
          "output_type": "stream",
          "name": "stdout",
          "text": [
            "[[(0.  , 0.  ) (0.25, 0.  ) (0.5 , 0.  ) (0.75, 0.  ) (1.  , 0.  )]\n",
            " [(0.  , 0.25) (0.25, 0.25) (0.5 , 0.25) (0.75, 0.25) (1.  , 0.25)]\n",
            " [(0.  , 0.5 ) (0.25, 0.5 ) (0.5 , 0.5 ) (0.75, 0.5 ) (1.  , 0.5 )]\n",
            " [(0.  , 0.75) (0.25, 0.75) (0.5 , 0.75) (0.75, 0.75) (1.  , 0.75)]\n",
            " [(0.  , 1.  ) (0.25, 1.  ) (0.5 , 1.  ) (0.75, 1.  ) (1.  , 1.  )]]\n"
          ]
        }
      ]
    },
    {
      "cell_type": "markdown",
      "metadata": {
        "id": "7c8c1fc5"
      },
      "source": [
        "#### 47. Given two arrays, X and Y, construct the Cauchy matrix C (Cij =1/(xi - yj)) (★★☆)"
      ],
      "id": "7c8c1fc5"
    },
    {
      "cell_type": "code",
      "metadata": {
        "id": "8fac7d28",
        "colab": {
          "base_uri": "https://localhost:8080/"
        },
        "outputId": "3a8e8d1d-c25e-46fa-ec83-2391715d50f6"
      },
      "source": [
        "X = np.arange(8)\n",
        "Y = X + 0.5\n",
        "C = 1.0 / np.subtract.outer(X, Y)\n",
        "print(np.linalg.det(C))"
      ],
      "id": "8fac7d28",
      "execution_count": 4,
      "outputs": [
        {
          "output_type": "stream",
          "name": "stdout",
          "text": [
            "3638.163637117973\n"
          ]
        }
      ]
    },
    {
      "cell_type": "markdown",
      "metadata": {
        "id": "5795b4bd"
      },
      "source": [
        "#### 48. Print the minimum and maximum representable value for each numpy scalar type (★★☆)"
      ],
      "id": "5795b4bd"
    },
    {
      "cell_type": "code",
      "metadata": {
        "id": "b721f7ca",
        "colab": {
          "base_uri": "https://localhost:8080/"
        },
        "outputId": "7d2cb747-6eb4-4067-94c2-0d60e1b54bf2"
      },
      "source": [
        "for dtype in [np.int8, np.int32, np.int64]:\n",
        "   print(np.iinfo(dtype).min)\n",
        "   print(np.iinfo(dtype).max)\n",
        "for dtype in [np.float32, np.float64]:\n",
        "   print(np.finfo(dtype).min)\n",
        "   print(np.finfo(dtype).max)\n",
        "   print(np.finfo(dtype).eps)"
      ],
      "id": "b721f7ca",
      "execution_count": 5,
      "outputs": [
        {
          "output_type": "stream",
          "name": "stdout",
          "text": [
            "-128\n",
            "127\n",
            "-2147483648\n",
            "2147483647\n",
            "-9223372036854775808\n",
            "9223372036854775807\n",
            "-3.4028235e+38\n",
            "3.4028235e+38\n",
            "1.1920929e-07\n",
            "-1.7976931348623157e+308\n",
            "1.7976931348623157e+308\n",
            "2.220446049250313e-16\n"
          ]
        }
      ]
    },
    {
      "cell_type": "markdown",
      "metadata": {
        "id": "fb24674c"
      },
      "source": [
        "#### 49. How to print all the values of an array? (★★☆)"
      ],
      "id": "fb24674c"
    },
    {
      "cell_type": "code",
      "metadata": {
        "id": "c81f1456",
        "colab": {
          "base_uri": "https://localhost:8080/"
        },
        "outputId": "1233c48c-b869-466d-9a6a-016ae0ba1280"
      },
      "source": [
        "np.set_printoptions(threshold=float(\"inf\"))\n",
        "Z = np.zeros((10,10))\n",
        "print(Z)"
      ],
      "id": "c81f1456",
      "execution_count": 7,
      "outputs": [
        {
          "output_type": "stream",
          "name": "stdout",
          "text": [
            "[[0. 0. 0. 0. 0. 0. 0. 0. 0. 0.]\n",
            " [0. 0. 0. 0. 0. 0. 0. 0. 0. 0.]\n",
            " [0. 0. 0. 0. 0. 0. 0. 0. 0. 0.]\n",
            " [0. 0. 0. 0. 0. 0. 0. 0. 0. 0.]\n",
            " [0. 0. 0. 0. 0. 0. 0. 0. 0. 0.]\n",
            " [0. 0. 0. 0. 0. 0. 0. 0. 0. 0.]\n",
            " [0. 0. 0. 0. 0. 0. 0. 0. 0. 0.]\n",
            " [0. 0. 0. 0. 0. 0. 0. 0. 0. 0.]\n",
            " [0. 0. 0. 0. 0. 0. 0. 0. 0. 0.]\n",
            " [0. 0. 0. 0. 0. 0. 0. 0. 0. 0.]]\n"
          ]
        }
      ]
    },
    {
      "cell_type": "markdown",
      "metadata": {
        "id": "e6e1ae2f"
      },
      "source": [
        "#### 50. How to find the closest value (to a given scalar) in a vector? (★★☆)"
      ],
      "id": "e6e1ae2f"
    },
    {
      "cell_type": "code",
      "metadata": {
        "id": "73dd91cc",
        "colab": {
          "base_uri": "https://localhost:8080/"
        },
        "outputId": "95e5e540-1007-4f46-efc3-0000d88aff2a"
      },
      "source": [
        "Z = np.arange(100)\n",
        "v = np.random.uniform(0, 100)\n",
        "print(v)\n",
        "index = (np.abs(Z-v)).argmin()\n",
        "print(Z[index])"
      ],
      "id": "73dd91cc",
      "execution_count": 11,
      "outputs": [
        {
          "output_type": "stream",
          "name": "stdout",
          "text": [
            "72.63789661617344\n",
            "73\n"
          ]
        }
      ]
    },
    {
      "cell_type": "markdown",
      "metadata": {
        "id": "c01f0ecf"
      },
      "source": [
        "#### 51. Create a structured array representing a position (x,y) and a color (r,g,b) (★★☆)"
      ],
      "id": "c01f0ecf"
    },
    {
      "cell_type": "code",
      "metadata": {
        "id": "fb8017ca",
        "colab": {
          "base_uri": "https://localhost:8080/"
        },
        "outputId": "0d2ca4a0-2cab-4e12-c628-4ce743fd0139"
      },
      "source": [
        "Z = np.zeros(10, [ ('position', [ ('x', float, 1),\n",
        "                                  ('y', float, 1)]),\n",
        "                   ('color',    [ ('r', float, 1),\n",
        "                                  ('g', float, 1),\n",
        "                                  ('b', float, 1)])])\n",
        "print(Z)"
      ],
      "id": "fb8017ca",
      "execution_count": 12,
      "outputs": [
        {
          "output_type": "stream",
          "name": "stdout",
          "text": [
            "[((0., 0.), (0., 0., 0.)) ((0., 0.), (0., 0., 0.))\n",
            " ((0., 0.), (0., 0., 0.)) ((0., 0.), (0., 0., 0.))\n",
            " ((0., 0.), (0., 0., 0.)) ((0., 0.), (0., 0., 0.))\n",
            " ((0., 0.), (0., 0., 0.)) ((0., 0.), (0., 0., 0.))\n",
            " ((0., 0.), (0., 0., 0.)) ((0., 0.), (0., 0., 0.))]\n"
          ]
        },
        {
          "output_type": "stream",
          "name": "stderr",
          "text": [
            "/usr/local/lib/python3.7/dist-packages/ipykernel_launcher.py:5: FutureWarning: Passing (type, 1) or '1type' as a synonym of type is deprecated; in a future version of numpy, it will be understood as (type, (1,)) / '(1,)type'.\n",
            "  \"\"\"\n"
          ]
        }
      ]
    },
    {
      "cell_type": "markdown",
      "metadata": {
        "id": "3b64a18b"
      },
      "source": [
        "#### 52. Consider a random vector with shape (100,2) representing coordinates, find point by point distances (★★☆)"
      ],
      "id": "3b64a18b"
    },
    {
      "cell_type": "code",
      "metadata": {
        "id": "4b482822",
        "colab": {
          "base_uri": "https://localhost:8080/"
        },
        "outputId": "80c83b70-e225-44de-ca39-a75c4942f17d"
      },
      "source": [
        "Z = np.random.random((10, 2))\n",
        "X,Y = np.atleast_2d(Z[:,0], Z[:,1])\n",
        "D = np.sqrt( (X-X.T)**2 + (Y-Y.T)**2)\n",
        "print(D)"
      ],
      "id": "4b482822",
      "execution_count": 13,
      "outputs": [
        {
          "output_type": "stream",
          "name": "stdout",
          "text": [
            "[[0.         0.52438719 0.27961351 0.98579901 0.42384409 0.40849238\n",
            "  0.43380295 0.77929145 0.72371521 0.15447674]\n",
            " [0.52438719 0.         0.24998009 0.93054272 0.8220778  0.80109638\n",
            "  0.9581743  0.93979229 1.09396511 0.61832816]\n",
            " [0.27961351 0.24998009 0.         0.88368426 0.58952647 0.56919858\n",
            "  0.7121704  0.79267657 0.87563479 0.36929686]\n",
            " [0.98579901 0.93054272 0.88368426 0.         0.79419619 0.78414248\n",
            "  1.21828865 0.38903575 0.80105628 0.9004557 ]\n",
            " [0.42384409 0.8220778  0.58952647 0.79419619 0.         0.02126072\n",
            "  0.43422083 0.46211929 0.30036773 0.26941865]\n",
            " [0.40849238 0.80109638 0.56919858 0.78414248 0.02126072 0.\n",
            "  0.43966811 0.45903739 0.31729058 0.25440331]\n",
            " [0.43380295 0.9581743  0.7121704  1.21828865 0.43422083 0.43966811\n",
            "  0.         0.89583409 0.62360769 0.37988961]\n",
            " [0.77929145 0.93979229 0.79267657 0.38903575 0.46211929 0.45903739\n",
            "  0.89583409 0.         0.41223513 0.65167422]\n",
            " [0.72371521 1.09396511 0.87563479 0.80105628 0.30036773 0.31729058\n",
            "  0.62360769 0.41223513 0.         0.56924957]\n",
            " [0.15447674 0.61832816 0.36929686 0.9004557  0.26941865 0.25440331\n",
            "  0.37988961 0.65167422 0.56924957 0.        ]]\n"
          ]
        }
      ]
    },
    {
      "cell_type": "markdown",
      "metadata": {
        "id": "48413134"
      },
      "source": [
        "#### 53. How to convert a float (32 bits) array into an integer (32 bits) in place?"
      ],
      "id": "48413134"
    },
    {
      "cell_type": "code",
      "metadata": {
        "id": "5db64b6d",
        "colab": {
          "base_uri": "https://localhost:8080/"
        },
        "outputId": "00d80af3-c6b8-4f19-e8c2-fe3324aed69b"
      },
      "source": [
        "Z = (np.random.rand(10)*100).astype(np.float32)\n",
        "Y = Z.view(np.int32)\n",
        "Y[:] = Z\n",
        "print(Y)"
      ],
      "id": "5db64b6d",
      "execution_count": 16,
      "outputs": [
        {
          "output_type": "stream",
          "name": "stdout",
          "text": [
            "[25 81 50 47 31 78 89 68 28 32]\n"
          ]
        }
      ]
    },
    {
      "cell_type": "markdown",
      "metadata": {
        "id": "0a532633"
      },
      "source": [
        "#### 54. How to read the following file? (★★☆)\n",
        "```\n",
        "1, 2, 3, 4, 5\n",
        "6,  ,  , 7, 8\n",
        " ,  , 9,10,11\n",
        "```"
      ],
      "id": "0a532633"
    },
    {
      "cell_type": "code",
      "metadata": {
        "id": "8af4f753",
        "colab": {
          "base_uri": "https://localhost:8080/"
        },
        "outputId": "1dc2f031-9885-4942-d857-6c34bf2322bc"
      },
      "source": [
        "from io import StringIO\n",
        "s = StringIO('''1, 2, 3, 4, 5\n",
        "                6,  ,  , 7, 8\n",
        "                 ,  , 9,10,11\n",
        "''')\n",
        "Z = np.genfromtxt(s, delimiter=\",\", dtype=np.int)\n",
        "print(Z)"
      ],
      "id": "8af4f753",
      "execution_count": 19,
      "outputs": [
        {
          "output_type": "stream",
          "name": "stdout",
          "text": [
            "[[ 1  2  3  4  5]\n",
            " [ 6 -1 -1  7  8]\n",
            " [-1 -1  9 10 11]]\n"
          ]
        },
        {
          "output_type": "stream",
          "name": "stderr",
          "text": [
            "/usr/local/lib/python3.7/dist-packages/ipykernel_launcher.py:6: DeprecationWarning: `np.int` is a deprecated alias for the builtin `int`. To silence this warning, use `int` by itself. Doing this will not modify any behavior and is safe. When replacing `np.int`, you may wish to use e.g. `np.int64` or `np.int32` to specify the precision. If you wish to review your current use, check the release note link for additional information.\n",
            "Deprecated in NumPy 1.20; for more details and guidance: https://numpy.org/devdocs/release/1.20.0-notes.html#deprecations\n",
            "  \n"
          ]
        }
      ]
    },
    {
      "cell_type": "markdown",
      "metadata": {
        "id": "f98713a6"
      },
      "source": [
        "#### 55. What is the equivalent of enumerate for numpy arrays? (★★☆)"
      ],
      "id": "f98713a6"
    },
    {
      "cell_type": "code",
      "metadata": {
        "id": "64795f84",
        "colab": {
          "base_uri": "https://localhost:8080/"
        },
        "outputId": "b2b75db4-33d6-4e18-99c8-7adf27009d3e"
      },
      "source": [
        "Z = np.arange(9).reshape(3,3)\n",
        "for index, value in np.ndenumerate(Z):\n",
        "    print(index, value)\n",
        "for index in np.ndindex(Z.shape):\n",
        "    print(index, Z[index])"
      ],
      "id": "64795f84",
      "execution_count": 20,
      "outputs": [
        {
          "output_type": "stream",
          "name": "stdout",
          "text": [
            "(0, 0) 0\n",
            "(0, 1) 1\n",
            "(0, 2) 2\n",
            "(1, 0) 3\n",
            "(1, 1) 4\n",
            "(1, 2) 5\n",
            "(2, 0) 6\n",
            "(2, 1) 7\n",
            "(2, 2) 8\n",
            "(0, 0) 0\n",
            "(0, 1) 1\n",
            "(0, 2) 2\n",
            "(1, 0) 3\n",
            "(1, 1) 4\n",
            "(1, 2) 5\n",
            "(2, 0) 6\n",
            "(2, 1) 7\n",
            "(2, 2) 8\n"
          ]
        }
      ]
    },
    {
      "cell_type": "markdown",
      "metadata": {
        "id": "1abc7cc8"
      },
      "source": [
        "#### 56. Generate a generic 2D Gaussian-like array (★★☆)"
      ],
      "id": "1abc7cc8"
    },
    {
      "cell_type": "code",
      "metadata": {
        "id": "42e3a5bc",
        "colab": {
          "base_uri": "https://localhost:8080/"
        },
        "outputId": "daf49573-f745-4abe-c8e7-53678fcbd8a4"
      },
      "source": [
        "X, Y = np.meshgrid(np.linspace(-1,1,10), np.linspace(-1,1,10))\n",
        "D = np.sqrt(X*X+Y*Y)\n",
        "sigma, mu = 1.0, 0.0\n",
        "G = np.exp(-( (D-mu)**2 / ( 2.0 * sigma**2 ) ) )\n",
        "print(G)"
      ],
      "id": "42e3a5bc",
      "execution_count": 21,
      "outputs": [
        {
          "output_type": "stream",
          "name": "stdout",
          "text": [
            "[[0.36787944 0.44822088 0.51979489 0.57375342 0.60279818 0.60279818\n",
            "  0.57375342 0.51979489 0.44822088 0.36787944]\n",
            " [0.44822088 0.54610814 0.63331324 0.69905581 0.73444367 0.73444367\n",
            "  0.69905581 0.63331324 0.54610814 0.44822088]\n",
            " [0.51979489 0.63331324 0.73444367 0.81068432 0.85172308 0.85172308\n",
            "  0.81068432 0.73444367 0.63331324 0.51979489]\n",
            " [0.57375342 0.69905581 0.81068432 0.89483932 0.9401382  0.9401382\n",
            "  0.89483932 0.81068432 0.69905581 0.57375342]\n",
            " [0.60279818 0.73444367 0.85172308 0.9401382  0.98773022 0.98773022\n",
            "  0.9401382  0.85172308 0.73444367 0.60279818]\n",
            " [0.60279818 0.73444367 0.85172308 0.9401382  0.98773022 0.98773022\n",
            "  0.9401382  0.85172308 0.73444367 0.60279818]\n",
            " [0.57375342 0.69905581 0.81068432 0.89483932 0.9401382  0.9401382\n",
            "  0.89483932 0.81068432 0.69905581 0.57375342]\n",
            " [0.51979489 0.63331324 0.73444367 0.81068432 0.85172308 0.85172308\n",
            "  0.81068432 0.73444367 0.63331324 0.51979489]\n",
            " [0.44822088 0.54610814 0.63331324 0.69905581 0.73444367 0.73444367\n",
            "  0.69905581 0.63331324 0.54610814 0.44822088]\n",
            " [0.36787944 0.44822088 0.51979489 0.57375342 0.60279818 0.60279818\n",
            "  0.57375342 0.51979489 0.44822088 0.36787944]]\n"
          ]
        }
      ]
    },
    {
      "cell_type": "markdown",
      "metadata": {
        "id": "0cf413ee"
      },
      "source": [
        "#### 57. How to randomly place p elements in a 2D array? (★★☆)"
      ],
      "id": "0cf413ee"
    },
    {
      "cell_type": "code",
      "metadata": {
        "id": "dfc57e06",
        "colab": {
          "base_uri": "https://localhost:8080/"
        },
        "outputId": "433e220c-0f37-45bd-c1fb-323295570f57"
      },
      "source": [
        "n = 10\n",
        "p = 3\n",
        "Z = np.zeros((n,n))\n",
        "np.put(Z, np.random.choice(range(n*n), p, replace=False),1)\n",
        "print(Z)"
      ],
      "id": "dfc57e06",
      "execution_count": 22,
      "outputs": [
        {
          "output_type": "stream",
          "name": "stdout",
          "text": [
            "[[0. 0. 0. 0. 0. 0. 0. 0. 0. 0.]\n",
            " [0. 0. 0. 0. 0. 0. 0. 0. 0. 0.]\n",
            " [0. 0. 0. 0. 1. 0. 0. 0. 1. 0.]\n",
            " [0. 0. 0. 0. 0. 0. 0. 1. 0. 0.]\n",
            " [0. 0. 0. 0. 0. 0. 0. 0. 0. 0.]\n",
            " [0. 0. 0. 0. 0. 0. 0. 0. 0. 0.]\n",
            " [0. 0. 0. 0. 0. 0. 0. 0. 0. 0.]\n",
            " [0. 0. 0. 0. 0. 0. 0. 0. 0. 0.]\n",
            " [0. 0. 0. 0. 0. 0. 0. 0. 0. 0.]\n",
            " [0. 0. 0. 0. 0. 0. 0. 0. 0. 0.]]\n"
          ]
        }
      ]
    },
    {
      "cell_type": "markdown",
      "metadata": {
        "id": "215b6acc"
      },
      "source": [
        "#### 58. Subtract the mean of each row of a matrix (★★☆)"
      ],
      "id": "215b6acc"
    },
    {
      "cell_type": "code",
      "metadata": {
        "id": "dd1adef4",
        "colab": {
          "base_uri": "https://localhost:8080/"
        },
        "outputId": "fdea474f-320e-4529-cd26-0d0700a7d553"
      },
      "source": [
        "X = np.random.rand(5, 10)\n",
        "Y = X - X.mean(axis=1, keepdims=True)\n",
        "print(Y)"
      ],
      "id": "dd1adef4",
      "execution_count": 23,
      "outputs": [
        {
          "output_type": "stream",
          "name": "stdout",
          "text": [
            "[[-0.2751741  -0.3331186   0.39044559 -0.25225426 -0.2021573   0.00233551\n",
            "   0.42705276 -0.01396796  0.16121378  0.09562458]\n",
            " [-0.43345863 -0.5760591  -0.08479974  0.25457843 -0.08549717  0.11762949\n",
            "   0.26679761  0.10693472  0.27664114  0.15723324]\n",
            " [ 0.08057875  0.02256838 -0.49721343  0.46000966  0.1524812   0.0571599\n",
            "   0.0791584   0.0344829  -0.37568727 -0.0135385 ]\n",
            " [-0.32688451 -0.27546458 -0.09331754  0.42751541 -0.24118141  0.3414916\n",
            "  -0.07313603 -0.30032112  0.47693852  0.06435967]\n",
            " [ 0.21829166  0.1377119   0.19021086 -0.15826045 -0.46377585  0.15775277\n",
            "  -0.02467801  0.041896    0.11408988 -0.21323876]]\n"
          ]
        }
      ]
    },
    {
      "cell_type": "markdown",
      "metadata": {
        "id": "c0cf37e0"
      },
      "source": [
        "#### 59. How to sort an array by the nth column? (★★☆)"
      ],
      "id": "c0cf37e0"
    },
    {
      "cell_type": "code",
      "metadata": {
        "id": "9336ca5f",
        "colab": {
          "base_uri": "https://localhost:8080/"
        },
        "outputId": "ff50d810-4a43-4f49-cf01-c34a60aa9165"
      },
      "source": [
        "Z = np.random.randint(0,10,(3,3))\n",
        "print(Z)\n",
        "print(Z[Z[:,1].argsort()])"
      ],
      "id": "9336ca5f",
      "execution_count": 24,
      "outputs": [
        {
          "output_type": "stream",
          "name": "stdout",
          "text": [
            "[[8 1 2]\n",
            " [2 9 8]\n",
            " [2 9 3]]\n",
            "[[8 1 2]\n",
            " [2 9 8]\n",
            " [2 9 3]]\n"
          ]
        }
      ]
    },
    {
      "cell_type": "markdown",
      "metadata": {
        "id": "c17fb213"
      },
      "source": [
        "#### 60. How to tell if a given 2D array has null columns? (★★☆)"
      ],
      "id": "c17fb213"
    },
    {
      "cell_type": "code",
      "metadata": {
        "id": "7fdda78d",
        "colab": {
          "base_uri": "https://localhost:8080/"
        },
        "outputId": "746c89f1-b4d6-4758-a520-579e12f49e6c"
      },
      "source": [
        "Z = np.random.randint(0,3,(3,10))\n",
        "print((~Z.any(axis=0)).any())"
      ],
      "id": "7fdda78d",
      "execution_count": 26,
      "outputs": [
        {
          "output_type": "stream",
          "name": "stdout",
          "text": [
            "False\n"
          ]
        }
      ]
    },
    {
      "cell_type": "markdown",
      "metadata": {
        "id": "8aaab886"
      },
      "source": [
        "#### 61. Find the nearest value from a given value in an array (★★☆)"
      ],
      "id": "8aaab886"
    },
    {
      "cell_type": "code",
      "metadata": {
        "id": "973f8079",
        "colab": {
          "base_uri": "https://localhost:8080/"
        },
        "outputId": "12807599-ebe0-43c0-baea-94316fe02949"
      },
      "source": [
        "Z = np.random.uniform(0,1,10)\n",
        "z = 0.5\n",
        "m = Z.flat[np.abs(Z - z).argmin()]\n",
        "print(m)"
      ],
      "id": "973f8079",
      "execution_count": 27,
      "outputs": [
        {
          "output_type": "stream",
          "name": "stdout",
          "text": [
            "0.5100452931341093\n"
          ]
        }
      ]
    },
    {
      "cell_type": "markdown",
      "metadata": {
        "id": "66a04e2e"
      },
      "source": [
        "#### 62. Considering two arrays with shape (1,3) and (3,1), how to compute their sum using an iterator? (★★☆)"
      ],
      "id": "66a04e2e"
    },
    {
      "cell_type": "code",
      "metadata": {
        "id": "4b356632",
        "colab": {
          "base_uri": "https://localhost:8080/"
        },
        "outputId": "29b5b23a-f860-4feb-f5a6-4fcb552260f7"
      },
      "source": [
        "A = np.arange(3).reshape(3,1)\n",
        "B = np.arange(3).reshape(1,3)\n",
        "it = np.nditer([A,B,None])\n",
        "for x,y,z in it: z[...] = x + y\n",
        "print(it.operands[2])"
      ],
      "id": "4b356632",
      "execution_count": 28,
      "outputs": [
        {
          "output_type": "stream",
          "name": "stdout",
          "text": [
            "[[0 1 2]\n",
            " [1 2 3]\n",
            " [2 3 4]]\n"
          ]
        }
      ]
    },
    {
      "cell_type": "markdown",
      "metadata": {
        "id": "f4427f7f"
      },
      "source": [
        "#### 63. Create an array class that has a name attribute (★★☆)"
      ],
      "id": "f4427f7f"
    },
    {
      "cell_type": "code",
      "metadata": {
        "id": "fe253212",
        "colab": {
          "base_uri": "https://localhost:8080/"
        },
        "outputId": "3fd20394-0516-4269-ec89-584b124082c7"
      },
      "source": [
        "class NameArray(np.ndarray):\n",
        "    def __new__(cls, array, name=\"no name\"):\n",
        "        obj = np.asarray(array).view(cls)\n",
        "        obj.name = name\n",
        "        return obj\n",
        "    def __array_finalize__(self, obj):\n",
        "        if obj is None:\n",
        "            return\n",
        "        self.info = getattr(obj, 'name', 'no name')\n",
        "        \n",
        "Z = NameArray(np.arange(10), 'range_10')\n",
        "print(Z.name)"
      ],
      "id": "fe253212",
      "execution_count": 29,
      "outputs": [
        {
          "output_type": "stream",
          "name": "stdout",
          "text": [
            "range_10\n"
          ]
        }
      ]
    },
    {
      "cell_type": "markdown",
      "metadata": {
        "id": "58be9dd4"
      },
      "source": [
        "#### 64. Consider a given vector, how to add 1 to each element indexed by a second vector (be careful with repeated indices)? (★★★)"
      ],
      "id": "58be9dd4"
    },
    {
      "cell_type": "code",
      "metadata": {
        "id": "5c8bae42",
        "colab": {
          "base_uri": "https://localhost:8080/"
        },
        "outputId": "61bf43c9-6cba-429b-cb61-7e2e2db47011"
      },
      "source": [
        "Z = np.ones(10)\n",
        "I = np.random.randint(0,len(Z),20)\n",
        "Z += np.bincount(I, minlength=len(Z))\n",
        "print(Z)"
      ],
      "id": "5c8bae42",
      "execution_count": 30,
      "outputs": [
        {
          "output_type": "stream",
          "name": "stdout",
          "text": [
            "[2. 5. 2. 5. 2. 2. 5. 1. 2. 4.]\n"
          ]
        }
      ]
    },
    {
      "cell_type": "markdown",
      "metadata": {
        "id": "7348abd0"
      },
      "source": [
        "#### 65. How to accumulate elements of a vector (X) to an array (F) based on an index list (I)? (★★★)"
      ],
      "id": "7348abd0"
    },
    {
      "cell_type": "code",
      "metadata": {
        "id": "b3e33a5a",
        "colab": {
          "base_uri": "https://localhost:8080/"
        },
        "outputId": "5eb46508-2428-4ad6-ca71-c1f66bbd37c3"
      },
      "source": [
        "X = [1,2,3,4,5,6]\n",
        "I = [1,3,9,3,4,1]\n",
        "F = np.bincount(I,X)\n",
        "print(F)"
      ],
      "id": "b3e33a5a",
      "execution_count": 31,
      "outputs": [
        {
          "output_type": "stream",
          "name": "stdout",
          "text": [
            "[0. 7. 0. 6. 5. 0. 0. 0. 0. 3.]\n"
          ]
        }
      ]
    },
    {
      "cell_type": "markdown",
      "metadata": {
        "id": "538e651c"
      },
      "source": [
        "#### 66. Considering a (w,h,3) image of (dtype=ubyte), compute the number of unique colors (★★☆)"
      ],
      "id": "538e651c"
    },
    {
      "cell_type": "code",
      "metadata": {
        "id": "57f2f02f",
        "colab": {
          "base_uri": "https://localhost:8080/"
        },
        "outputId": "91b919b3-eb74-4498-a731-b0f772c57053"
      },
      "source": [
        "w, h = 16,16\n",
        "I = np.random.randint(0, 2, (h,w,3)).astype(np.ubyte)\n",
        "\n",
        "F = I[...,0]*(256*256) + I[...,1]*256 +I[...,2]\n",
        "n = len(np.unique(F))\n",
        "print(n)"
      ],
      "id": "57f2f02f",
      "execution_count": 32,
      "outputs": [
        {
          "output_type": "stream",
          "name": "stdout",
          "text": [
            "8\n"
          ]
        }
      ]
    },
    {
      "cell_type": "markdown",
      "metadata": {
        "id": "33c986d9"
      },
      "source": [
        "#### 67. Considering a four dimensions array, how to get sum over the last two axis at once? (★★★)"
      ],
      "id": "33c986d9"
    },
    {
      "cell_type": "code",
      "metadata": {
        "id": "a99a50e2"
      },
      "source": [
        ""
      ],
      "id": "a99a50e2",
      "execution_count": null,
      "outputs": []
    },
    {
      "cell_type": "markdown",
      "metadata": {
        "id": "00eb27c4"
      },
      "source": [
        "#### 68. Considering a one-dimensional vector D, how to compute means of subsets of D using a vector S of same size describing subset  indices? (★★★)"
      ],
      "id": "00eb27c4"
    },
    {
      "cell_type": "code",
      "metadata": {
        "id": "d48c5210"
      },
      "source": [
        ""
      ],
      "id": "d48c5210",
      "execution_count": null,
      "outputs": []
    },
    {
      "cell_type": "markdown",
      "metadata": {
        "id": "928a1a15"
      },
      "source": [
        "#### 69. How to get the diagonal of a dot product? (★★★)"
      ],
      "id": "928a1a15"
    },
    {
      "cell_type": "code",
      "metadata": {
        "id": "ef2c9ddd"
      },
      "source": [
        ""
      ],
      "id": "ef2c9ddd",
      "execution_count": null,
      "outputs": []
    },
    {
      "cell_type": "markdown",
      "metadata": {
        "id": "5143f7f3"
      },
      "source": [
        "#### 70. Consider the vector [1, 2, 3, 4, 5], how to build a new vector with 3 consecutive zeros interleaved between each value? (★★★)"
      ],
      "id": "5143f7f3"
    },
    {
      "cell_type": "code",
      "metadata": {
        "id": "1d99a1c1"
      },
      "source": [
        ""
      ],
      "id": "1d99a1c1",
      "execution_count": null,
      "outputs": []
    },
    {
      "cell_type": "markdown",
      "metadata": {
        "id": "f62551d8"
      },
      "source": [
        "#### 71. Consider an array of dimension (5,5,3), how to mulitply it by an array with dimensions (5,5)? (★★★)"
      ],
      "id": "f62551d8"
    },
    {
      "cell_type": "code",
      "metadata": {
        "id": "9ab241b7"
      },
      "source": [
        ""
      ],
      "id": "9ab241b7",
      "execution_count": null,
      "outputs": []
    },
    {
      "cell_type": "markdown",
      "metadata": {
        "id": "6896e326"
      },
      "source": [
        "#### 72. How to swap two rows of an array? (★★★)"
      ],
      "id": "6896e326"
    },
    {
      "cell_type": "code",
      "metadata": {
        "id": "9e8fcba9"
      },
      "source": [
        ""
      ],
      "id": "9e8fcba9",
      "execution_count": null,
      "outputs": []
    },
    {
      "cell_type": "markdown",
      "metadata": {
        "id": "aeaf4a7b"
      },
      "source": [
        "#### 73. Consider a set of 10 triplets describing 10 triangles (with shared vertices), find the set of unique line segments composing all the  triangles (★★★)"
      ],
      "id": "aeaf4a7b"
    },
    {
      "cell_type": "code",
      "metadata": {
        "id": "39ef4234"
      },
      "source": [
        ""
      ],
      "id": "39ef4234",
      "execution_count": null,
      "outputs": []
    },
    {
      "cell_type": "markdown",
      "metadata": {
        "id": "3d11451b"
      },
      "source": [
        "#### 74. Given a sorted array C that corresponds to a bincount, how to produce an array A such that np.bincount(A) == C? (★★★)"
      ],
      "id": "3d11451b"
    },
    {
      "cell_type": "code",
      "metadata": {
        "id": "a5563362"
      },
      "source": [
        ""
      ],
      "id": "a5563362",
      "execution_count": null,
      "outputs": []
    },
    {
      "cell_type": "markdown",
      "metadata": {
        "id": "a0a45995"
      },
      "source": [
        "#### 75. How to compute averages using a sliding window over an array? (★★★)"
      ],
      "id": "a0a45995"
    },
    {
      "cell_type": "code",
      "metadata": {
        "id": "116243d5"
      },
      "source": [
        ""
      ],
      "id": "116243d5",
      "execution_count": null,
      "outputs": []
    },
    {
      "cell_type": "markdown",
      "metadata": {
        "id": "7808578f"
      },
      "source": [
        "#### 76. Consider a one-dimensional array Z, build a two-dimensional array whose first row is (Z[0],Z[1],Z[2]) and each subsequent row is  shifted by 1 (last row should be (Z[-3],Z[-2],Z[-1]) (★★★)"
      ],
      "id": "7808578f"
    },
    {
      "cell_type": "code",
      "metadata": {
        "id": "6b23ba6e"
      },
      "source": [
        ""
      ],
      "id": "6b23ba6e",
      "execution_count": null,
      "outputs": []
    },
    {
      "cell_type": "markdown",
      "metadata": {
        "id": "8e83df46"
      },
      "source": [
        "#### 77. How to negate a boolean, or to change the sign of a float inplace? (★★★)"
      ],
      "id": "8e83df46"
    },
    {
      "cell_type": "code",
      "metadata": {
        "id": "f73127b7"
      },
      "source": [
        ""
      ],
      "id": "f73127b7",
      "execution_count": null,
      "outputs": []
    },
    {
      "cell_type": "markdown",
      "metadata": {
        "id": "e67ff31c"
      },
      "source": [
        "#### 78. Consider 2 sets of points P0,P1 describing lines (2d) and a point p, how to compute distance from p to each line i (P0[i],P1[i])? (★★★)"
      ],
      "id": "e67ff31c"
    },
    {
      "cell_type": "code",
      "metadata": {
        "id": "89d75b76"
      },
      "source": [
        ""
      ],
      "id": "89d75b76",
      "execution_count": null,
      "outputs": []
    },
    {
      "cell_type": "markdown",
      "metadata": {
        "id": "ad8821b1"
      },
      "source": [
        "#### 79. Consider 2 sets of points P0,P1 describing lines (2d) and a set of points P, how to compute distance from each point j (P[j]) to each line i (P0[i],P1[i])? (★★★)"
      ],
      "id": "ad8821b1"
    },
    {
      "cell_type": "code",
      "metadata": {
        "id": "775feca0"
      },
      "source": [
        ""
      ],
      "id": "775feca0",
      "execution_count": null,
      "outputs": []
    },
    {
      "cell_type": "markdown",
      "metadata": {
        "id": "a0c8cbf5"
      },
      "source": [
        "#### 80. Consider an arbitrary array, write a function that extract a subpart with a fixed shape and centered on a given element (pad with a `fill` value when necessary) (★★★)"
      ],
      "id": "a0c8cbf5"
    },
    {
      "cell_type": "code",
      "metadata": {
        "id": "381fd926"
      },
      "source": [
        ""
      ],
      "id": "381fd926",
      "execution_count": null,
      "outputs": []
    },
    {
      "cell_type": "markdown",
      "metadata": {
        "id": "781fa236"
      },
      "source": [
        "#### 81. Consider an array Z = [1,2,3,4,5,6,7,8,9,10,11,12,13,14], how to generate an array R = [[1,2,3,4], [2,3,4,5], [3,4,5,6], ..., [11,12,13,14]]? (★★★)"
      ],
      "id": "781fa236"
    },
    {
      "cell_type": "code",
      "metadata": {
        "id": "8e84d3c2"
      },
      "source": [
        ""
      ],
      "id": "8e84d3c2",
      "execution_count": null,
      "outputs": []
    },
    {
      "cell_type": "markdown",
      "metadata": {
        "id": "9c9bb0f3"
      },
      "source": [
        "#### 82. Compute a matrix rank (★★★)"
      ],
      "id": "9c9bb0f3"
    },
    {
      "cell_type": "code",
      "metadata": {
        "id": "b75ef318"
      },
      "source": [
        ""
      ],
      "id": "b75ef318",
      "execution_count": null,
      "outputs": []
    },
    {
      "cell_type": "markdown",
      "metadata": {
        "id": "7d8dc135"
      },
      "source": [
        "#### 83. How to find the most frequent value in an array?"
      ],
      "id": "7d8dc135"
    },
    {
      "cell_type": "code",
      "metadata": {
        "id": "3978a7a2"
      },
      "source": [
        ""
      ],
      "id": "3978a7a2",
      "execution_count": null,
      "outputs": []
    },
    {
      "cell_type": "markdown",
      "metadata": {
        "id": "aa340126"
      },
      "source": [
        "#### 84. Extract all the contiguous 3x3 blocks from a random 10x10 matrix (★★★)"
      ],
      "id": "aa340126"
    },
    {
      "cell_type": "code",
      "metadata": {
        "id": "bf138783"
      },
      "source": [
        ""
      ],
      "id": "bf138783",
      "execution_count": null,
      "outputs": []
    },
    {
      "cell_type": "markdown",
      "metadata": {
        "id": "6b6d2c84"
      },
      "source": [
        "#### 85. Create a 2D array subclass such that Z[i,j] == Z[j,i] (★★★)"
      ],
      "id": "6b6d2c84"
    },
    {
      "cell_type": "code",
      "metadata": {
        "id": "155e16ce"
      },
      "source": [
        ""
      ],
      "id": "155e16ce",
      "execution_count": null,
      "outputs": []
    },
    {
      "cell_type": "markdown",
      "metadata": {
        "id": "7be0fe36"
      },
      "source": [
        "#### 86. Consider a set of p matrices wich shape (n,n) and a set of p vectors with shape (n,1). How to compute the sum of of the p matrix products at once? (result has shape (n,1)) (★★★)"
      ],
      "id": "7be0fe36"
    },
    {
      "cell_type": "code",
      "metadata": {
        "id": "ea732c23"
      },
      "source": [
        ""
      ],
      "id": "ea732c23",
      "execution_count": null,
      "outputs": []
    },
    {
      "cell_type": "markdown",
      "metadata": {
        "id": "a840a88f"
      },
      "source": [
        "#### 87. Consider a 16x16 array, how to get the block-sum (block size is 4x4)? (★★★)"
      ],
      "id": "a840a88f"
    },
    {
      "cell_type": "code",
      "metadata": {
        "id": "6e0c1cbe"
      },
      "source": [
        ""
      ],
      "id": "6e0c1cbe",
      "execution_count": null,
      "outputs": []
    },
    {
      "cell_type": "markdown",
      "metadata": {
        "id": "c2bd7385"
      },
      "source": [
        "#### 88. How to implement the Game of Life using numpy arrays? (★★★)"
      ],
      "id": "c2bd7385"
    },
    {
      "cell_type": "code",
      "metadata": {
        "id": "aea7d805"
      },
      "source": [
        ""
      ],
      "id": "aea7d805",
      "execution_count": null,
      "outputs": []
    },
    {
      "cell_type": "markdown",
      "metadata": {
        "id": "4c70397b"
      },
      "source": [
        "#### 89. How to get the n largest values of an array (★★★)"
      ],
      "id": "4c70397b"
    },
    {
      "cell_type": "code",
      "metadata": {
        "id": "16371718"
      },
      "source": [
        ""
      ],
      "id": "16371718",
      "execution_count": null,
      "outputs": []
    },
    {
      "cell_type": "markdown",
      "metadata": {
        "id": "15ba193c"
      },
      "source": [
        "#### 90. Given an arbitrary number of vectors, build the cartesian product (every combinations of every item) (★★★)"
      ],
      "id": "15ba193c"
    },
    {
      "cell_type": "code",
      "metadata": {
        "id": "c9c468d4"
      },
      "source": [
        ""
      ],
      "id": "c9c468d4",
      "execution_count": null,
      "outputs": []
    },
    {
      "cell_type": "markdown",
      "metadata": {
        "id": "ec828405"
      },
      "source": [
        "#### 91. How to create a record array from a regular array? (★★★)"
      ],
      "id": "ec828405"
    },
    {
      "cell_type": "code",
      "metadata": {
        "id": "84eb5fba"
      },
      "source": [
        ""
      ],
      "id": "84eb5fba",
      "execution_count": null,
      "outputs": []
    },
    {
      "cell_type": "markdown",
      "metadata": {
        "id": "d94352b6"
      },
      "source": [
        "#### 92. Consider a large vector Z, compute Z to the power of 3 using 3 different methods (★★★)"
      ],
      "id": "d94352b6"
    },
    {
      "cell_type": "code",
      "metadata": {
        "id": "301ba8a8"
      },
      "source": [
        ""
      ],
      "id": "301ba8a8",
      "execution_count": null,
      "outputs": []
    },
    {
      "cell_type": "markdown",
      "metadata": {
        "id": "7c3a9e32"
      },
      "source": [
        "#### 93. Consider two arrays A and B of shape (8,3) and (2,2). How to find rows of A that contain elements of each row of B regardless of the order of the elements in B? (★★★)"
      ],
      "id": "7c3a9e32"
    },
    {
      "cell_type": "code",
      "metadata": {
        "id": "777376e3"
      },
      "source": [
        ""
      ],
      "id": "777376e3",
      "execution_count": null,
      "outputs": []
    },
    {
      "cell_type": "markdown",
      "metadata": {
        "id": "da9d5eeb"
      },
      "source": [
        "#### 94. Considering a 10x3 matrix, extract rows with unequal values (e.g. [2,2,3]) (★★★)"
      ],
      "id": "da9d5eeb"
    },
    {
      "cell_type": "code",
      "metadata": {
        "id": "67dbea5c"
      },
      "source": [
        ""
      ],
      "id": "67dbea5c",
      "execution_count": null,
      "outputs": []
    },
    {
      "cell_type": "markdown",
      "metadata": {
        "id": "f7b65fd5"
      },
      "source": [
        "#### 95. Convert a vector of ints into a matrix binary representation (★★★)"
      ],
      "id": "f7b65fd5"
    },
    {
      "cell_type": "code",
      "metadata": {
        "id": "127294ed"
      },
      "source": [
        ""
      ],
      "id": "127294ed",
      "execution_count": null,
      "outputs": []
    },
    {
      "cell_type": "markdown",
      "metadata": {
        "id": "2784c996"
      },
      "source": [
        "#### 96. Given a two dimensional array, how to extract unique rows? (★★★)"
      ],
      "id": "2784c996"
    },
    {
      "cell_type": "code",
      "metadata": {
        "id": "f030595f"
      },
      "source": [
        ""
      ],
      "id": "f030595f",
      "execution_count": null,
      "outputs": []
    },
    {
      "cell_type": "markdown",
      "metadata": {
        "id": "71a7574c"
      },
      "source": [
        "#### 97. Considering 2 vectors A & B, write the einsum equivalent of inner, outer, sum, and mul function (★★★)"
      ],
      "id": "71a7574c"
    },
    {
      "cell_type": "code",
      "metadata": {
        "id": "721c4e1a"
      },
      "source": [
        ""
      ],
      "id": "721c4e1a",
      "execution_count": null,
      "outputs": []
    },
    {
      "cell_type": "markdown",
      "metadata": {
        "id": "30f06441"
      },
      "source": [
        "#### 98. Considering a path described by two vectors (X,Y), how to sample it using equidistant samples (★★★)?"
      ],
      "id": "30f06441"
    },
    {
      "cell_type": "code",
      "metadata": {
        "id": "fb41c022"
      },
      "source": [
        ""
      ],
      "id": "fb41c022",
      "execution_count": null,
      "outputs": []
    },
    {
      "cell_type": "markdown",
      "metadata": {
        "id": "e5737276"
      },
      "source": [
        "#### 99. Given an integer n and a 2D array X, select from X the rows which can be interpreted as draws from a multinomial distribution with n degrees, i.e., the rows which only contain integers and which sum to n. (★★★)"
      ],
      "id": "e5737276"
    },
    {
      "cell_type": "code",
      "metadata": {
        "id": "68c333b0"
      },
      "source": [
        ""
      ],
      "id": "68c333b0",
      "execution_count": null,
      "outputs": []
    },
    {
      "cell_type": "markdown",
      "metadata": {
        "id": "5882e36d"
      },
      "source": [
        "#### 100. Compute bootstrapped 95% confidence intervals for the mean of a 1D array X (i.e., resample the elements of an array with replacement N times, compute the mean of each sample, and then compute percentiles over the means). (★★★)"
      ],
      "id": "5882e36d"
    },
    {
      "cell_type": "code",
      "metadata": {
        "id": "d1b566e5"
      },
      "source": [
        ""
      ],
      "id": "d1b566e5",
      "execution_count": null,
      "outputs": []
    }
  ]
}