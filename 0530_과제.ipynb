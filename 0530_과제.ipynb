{
  "nbformat": 4,
  "nbformat_minor": 0,
  "metadata": {
    "colab": {
      "name": "0530 과제.ipynb",
      "provenance": [],
      "authorship_tag": "ABX9TyNxkaJBk7izN0LSNwk/vsMK",
      "include_colab_link": true
    },
    "kernelspec": {
      "name": "python3",
      "display_name": "Python 3"
    },
    "language_info": {
      "name": "python"
    }
  },
  "cells": [
    {
      "cell_type": "markdown",
      "metadata": {
        "id": "view-in-github",
        "colab_type": "text"
      },
      "source": [
        "<a href=\"https://colab.research.google.com/github/Hsuyeon01/ESAA/blob/main/0530_%EA%B3%BC%EC%A0%9C.ipynb\" target=\"_parent\"><img src=\"https://colab.research.google.com/assets/colab-badge.svg\" alt=\"Open In Colab\"/></a>"
      ]
    },
    {
      "cell_type": "markdown",
      "source": [
        "## 06. 규제 선형 모델 - 릿지, 라쏘, 엘라스틱넷\n",
        "\n",
        "### **규제 선형 모델의 개요**\n",
        "\n",
        "⚡ 회귀 모델은 적절히 데이터에 적합하면서도 회귀 계수가 기하급수적으로 커지는 것을 제어할 수 있어야 함\n",
        "\n",
        "⚡ 선형 모델의 비용 함수는 RSS를 최소화(실제값과 예측값의 차이를 최소화하는 것)만 고려 \n",
        "- 학습 데이터에 지나치게 맞추게 되고, 회귀계수가 쉽게 커짐, \n",
        "- 변동성이 심해져서 테스트 데이터 세트에서는 예측성능이 저하되기 쉬움\n",
        "- 비용 함수는 학습 데이터의 잔차 오류 값을 최소화하는 RSS 최소화 방법과 과적합을 방지하기 위해 회귀 계수 값이 커지지 않도록 하는 방법이 서로 균형을 이뤄야 함\n",
        "\n",
        "⚡ 최적 모델을 위한 Cost 함수 구성 요소 = 학습데이터 잔차 오류 최소화 + 회귀계수 크기 제어\n",
        "\n"
      ],
      "metadata": {
        "id": "AmryPYgWkPeU"
      }
    },
    {
      "cell_type": "markdown",
      "source": [
        "![image.png](data:image/png;base64,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)"
      ],
      "metadata": {
        "id": "x0DGqBEIm_-9"
      }
    },
    {
      "cell_type": "markdown",
      "source": [
        "⚡ alpha\n",
        "\n",
        "- alpha는 학습 데이터 적합 정도와 회귀 계수 값의 크기 제어를 수행하는 튜닝 파라미터\n",
        "- 역할\n",
        "  - alpha 값을 크게 하면 비용 함수는 회귀 계수 W의 값을 작게 해 과적합을 개선할 수 있음\n",
        "  - alpha 값을 작게 하면 회귀 계수 W의 값이 커져도 어느 정도 상쇄가 가능하므로 학습 데이터 적합을 더 개선할 수 있음\n",
        "- alpha=0인 경우 비용 함수는 Min(RSS(W))\n",
        "- alpha=무한대인 경우 비용 함수는 W를 0에 가깝게 최소화 해야 함 \n",
        "\n",
        "-> alpha 값을 0에서부터 지속적으로 증가시키면 회귀 계쑤 값의 크기를 감소시킬 수 있음\n"
      ],
      "metadata": {
        "id": "83FUvpiFnBC7"
      }
    },
    {
      "cell_type": "markdown",
      "source": [
        "\n",
        "⚡ 규제 : 비용 함수에 alpha 값으로 패널티를 부여해 회귀 계수 값의 크기를 감소시켜 과적합을 개선하는 방식\n",
        "- L1 규제 : W의 절댓값에 패널티를 부여, 영향력이 크지 않은 회귀 계수 값을 0으로 변환\n",
        "  - ex) 라쏘 회귀\n",
        "- L2 규제 : W의 제곱에 대해 패널티를 부여하는 방식\n",
        "  - ex) 릿지 회귀\n"
      ],
      "metadata": {
        "id": "pGDjA430o295"
      }
    },
    {
      "cell_type": "markdown",
      "source": [
        "### **릿지 회귀**\n",
        "\n",
        "⚡ 사이킷런은 Ridge 클래스를 통해 릿지 회귀를 구현\n",
        "\n",
        " - Ridge 클래스의 주요 생성 파라미터는 alpha, 이는 L2 규제 계수에 해당"
      ],
      "metadata": {
        "id": "mltK3NX_o4ON"
      }
    },
    {
      "cell_type": "code",
      "source": [
        "import numpy as np\n",
        "import matplotlib.pyplot as plt\n",
        "import pandas as pd\n",
        "import seaborn as sns\n",
        "from scipy import stats\n",
        "from sklearn.datasets import load_boston\n",
        "%matplotlib inline\n",
        "\n",
        "# bosotn 데이터 세트 로드\n",
        "boston = load_boston()\n",
        "\n",
        "# boston 데이터 세트 DataFrame 변환\n",
        "bostonDF = pd.DataFrame(boston.data, columns=boston.feature_names)\n",
        "\n",
        "# boston 데이터 세트의 target 배열은 주택 가격임. 이를 PRICE 칼럼을 DataFrame에 추가\n",
        "bostonDF['PRICE'] = boston.target\n",
        "print('Boston 데이터 세트 크기 : ', bostonDF.shape)\n",
        "\n",
        "from sklearn.model_selection import train_test_split\n",
        "from sklearn.linear_model import LinearRegression\n",
        "from sklearn.metrics import mean_squared_error, r2_score\n",
        "\n",
        "y_target = bostonDF['PRICE']\n",
        "X_data = bostonDF.drop(['PRICE'], axis=1, inplace=False)\n",
        "\n",
        "X_train, X_test, y_train, y_test = train_test_split(X_data, y_target, test_size=0.3,\n",
        "                                                   random_state=156)"
      ],
      "metadata": {
        "colab": {
          "base_uri": "https://localhost:8080/"
        },
        "id": "1PKt-HgWrQQc",
        "outputId": "47cae832-84aa-440d-8d91-e9ed5f8984bf"
      },
      "execution_count": 5,
      "outputs": [
        {
          "output_type": "stream",
          "name": "stdout",
          "text": [
            "Boston 데이터 세트 크기 :  (506, 14)\n"
          ]
        },
        {
          "output_type": "stream",
          "name": "stderr",
          "text": [
            "/usr/local/lib/python3.7/dist-packages/sklearn/utils/deprecation.py:87: FutureWarning: Function load_boston is deprecated; `load_boston` is deprecated in 1.0 and will be removed in 1.2.\n",
            "\n",
            "    The Boston housing prices dataset has an ethical problem. You can refer to\n",
            "    the documentation of this function for further details.\n",
            "\n",
            "    The scikit-learn maintainers therefore strongly discourage the use of this\n",
            "    dataset unless the purpose of the code is to study and educate about\n",
            "    ethical issues in data science and machine learning.\n",
            "\n",
            "    In this special case, you can fetch the dataset from the original\n",
            "    source::\n",
            "\n",
            "        import pandas as pd\n",
            "        import numpy as np\n",
            "\n",
            "\n",
            "        data_url = \"http://lib.stat.cmu.edu/datasets/boston\"\n",
            "        raw_df = pd.read_csv(data_url, sep=\"\\s+\", skiprows=22, header=None)\n",
            "        data = np.hstack([raw_df.values[::2, :], raw_df.values[1::2, :2]])\n",
            "        target = raw_df.values[1::2, 2]\n",
            "\n",
            "    Alternative datasets include the California housing dataset (i.e.\n",
            "    :func:`~sklearn.datasets.fetch_california_housing`) and the Ames housing\n",
            "    dataset. You can load the datasets as follows::\n",
            "\n",
            "        from sklearn.datasets import fetch_california_housing\n",
            "        housing = fetch_california_housing()\n",
            "\n",
            "    for the California housing dataset and::\n",
            "\n",
            "        from sklearn.datasets import fetch_openml\n",
            "        housing = fetch_openml(name=\"house_prices\", as_frame=True)\n",
            "\n",
            "    for the Ames housing dataset.\n",
            "    \n",
            "  warnings.warn(msg, category=FutureWarning)\n"
          ]
        }
      ]
    },
    {
      "cell_type": "code",
      "execution_count": null,
      "metadata": {
        "colab": {
          "base_uri": "https://localhost:8080/"
        },
        "id": "OuloUUF2kOWY",
        "outputId": "75cd1605-e4db-4251-8bcf-87746e323c82"
      },
      "outputs": [
        {
          "output_type": "stream",
          "name": "stdout",
          "text": [
            "5 folds의 개별 Negative MSE scores : [-11.422 -24.294 -28.144 -74.599 -28.517]\n",
            "5 folds의 개별 RMSE scores :  [3.38  4.929 5.305 8.637 5.34 ]\n",
            "5 folds의 평균 RMSE : 5.518\n"
          ]
        }
      ],
      "source": [
        "from sklearn.linear_model import Ridge\n",
        "from sklearn.model_selection import cross_val_score\n",
        "\n",
        "# alpha=10으로 설정해 릿지 회귀 수행\n",
        "ridge = Ridge(alpha=10)\n",
        "neg_mse_scores = cross_val_score(ridge, X_data, y_target, scoring=\"neg_mean_squared_error\", cv=5)\n",
        "rmse_scores = np.sqrt(-1 * neg_mse_scores)\n",
        "avg_rmse = np.mean(rmse_scores)\n",
        "\n",
        "print('5 folds의 개별 Negative MSE scores :', np.round(neg_mse_scores, 3))\n",
        "print('5 folds의 개별 RMSE scores : ', np.round(rmse_scores,3))\n",
        "print('5 folds의 평균 RMSE : {0:.3f}'.format(avg_rmse))"
      ]
    },
    {
      "cell_type": "code",
      "source": [
        "# 릿지에 사용될 alpha 파라미터의 값을 정의\n",
        "alphas = [0,0.1,1,10,100]\n",
        "\n",
        "# alpha list 값을 반복하면서 alpha에 따른 평균 rmse를 구함\n",
        "for alpha in alphas : \n",
        "  ridge = Ridge(alpha=alpha)\n",
        "  \n",
        "  # cross_val_score를 이용해 5 폴드의 평균 RMSE를 계싼\n",
        "  neg_mse_scores = cross_val_score(ridge, X_data, y_target,scoring=\"neg_mean_squared_error\", cv=5)\n",
        "  avg_rmse = np.mean(np.sqrt(-1 * neg_mse_scores))\n",
        "  print('alpha {0} 일 때 5 folds의 평균 RMSE : {1:.3f}'.format(alpha, avg_rmse))"
      ],
      "metadata": {
        "colab": {
          "base_uri": "https://localhost:8080/"
        },
        "id": "fAFsxwhItABQ",
        "outputId": "b2ff52ca-3513-4a8a-cfe4-972ba5bde16a"
      },
      "execution_count": null,
      "outputs": [
        {
          "output_type": "stream",
          "name": "stdout",
          "text": [
            "alpha 0 일 때 5 folds의 평균 RMSE : 5.829\n",
            "alpha 0.1 일 때 5 folds의 평균 RMSE : 5.788\n",
            "alpha 1 일 때 5 folds의 평균 RMSE : 5.653\n",
            "alpha 10 일 때 5 folds의 평균 RMSE : 5.518\n",
            "alpha 100 일 때 5 folds의 평균 RMSE : 5.330\n"
          ]
        }
      ]
    },
    {
      "cell_type": "code",
      "source": [
        "# 각 alpha에 따른 회귀 계수 값을 시각화하기 위해 5개의 열로 된 맷플롯립 축 생성\n",
        "fig, axs = plt.subplots(figsize=(18,6), nrows=1, ncols=5)\n",
        "# 각 alpha에 따른 회귀 계수 값을 데이터로 저장하기 위한 DataFrame 생성\n",
        "coeff_df = pd.DataFrame()\n",
        "\n",
        "# alphas 리스트 값을 차례로 입력해 회귀 계수 값 시각화 및 데이터 저장, pos는 axis의 위치 지정\n",
        "for pos, alpha in enumerate(alphas):\n",
        "  ridge = Ridge(alpha=alpha)\n",
        "  ridge.fit(X_data, y_target)\n",
        "  # alpha에 따른 피처별로 회귀 계수를 Series로 변환하고 이를 DataFrame의 칼럼으로 추가\n",
        "  coeff = pd.Series(data=ridge.coef_, index = X_data.columns)\n",
        "  colname = 'alpha : ' + str(alpha)\n",
        "  coeff_df[colname] = coeff\n",
        "  # 막대 그래프로 각 alpha 값에서의 회귀 계수를 시각화, 회귀 계수값이 높은 순으로 표현\n",
        "  coeff = coeff.sort_values(ascending = False)\n",
        "  axs[pos].set_title(colname)\n",
        "  axs[pos].set_xlim(-3,6)\n",
        "  sns.barplot(x=coeff.values, y=coeff.index, ax=axs[pos])\n",
        "\n",
        "# for 문 바깥에서 맷플롯립의 show 호출 및 alpha에 따른 피처별 회귀 계수를 DataFrame으로 표시\n",
        "plt.show()"
      ],
      "metadata": {
        "colab": {
          "base_uri": "https://localhost:8080/",
          "height": 236
        },
        "id": "hA_5FSRvwdK6",
        "outputId": "6929c2e3-6667-4212-8133-42ba72f553ec"
      },
      "execution_count": null,
      "outputs": [
        {
          "output_type": "display_data",
          "data": {
            "text/plain": [
              "<Figure size 1296x432 with 5 Axes>"
            ],
            "image/png": "[encoded data removed]"
          },
          "metadata": {
            "needs_background": "light"
          }
        }
      ]
    },
    {
      "cell_type": "markdown",
      "source": [
        "alpha 값을 계속 증가시킬수록 회귀 계수 값은 지속적으로 작아짐, 특히 NOX 피처의 경우 alpha 값을 계속 증가시킴에 따라 회귀 계수가 크게 작아지고 있음"
      ],
      "metadata": {
        "id": "nDEEIQFUxw-y"
      }
    },
    {
      "cell_type": "code",
      "source": [
        "ridge_alphas = [0,0.1,1,10,100]\n",
        "sort_column = 'alpha : ' + str(ridge_alphas[0])\n",
        "coeff_df.sort_values(by=sort_column, ascending=False)"
      ],
      "metadata": {
        "colab": {
          "base_uri": "https://localhost:8080/",
          "height": 452
        },
        "id": "yYFPjyTtxuwk",
        "outputId": "81ca5b85-f2de-4726-bb7b-cc0dbd168df9"
      },
      "execution_count": null,
      "outputs": [
        {
          "output_type": "execute_result",
          "data": {
            "text/plain": [
              "         alpha : 0  alpha : 0.1  alpha : 1  alpha : 10  alpha : 100\n",
              "RM        3.809865     3.818233   3.854000    3.702272     2.334536\n",
              "CHAS      2.686734     2.670019   2.552393    1.952021     0.638335\n",
              "RAD       0.306049     0.303515   0.290142    0.279596     0.315358\n",
              "ZN        0.046420     0.046572   0.047443    0.049579     0.054496\n",
              "INDUS     0.020559     0.015999  -0.008805   -0.042962    -0.052826\n",
              "B         0.009312     0.009368   0.009673    0.010037     0.009393\n",
              "AGE       0.000692    -0.000269  -0.005415   -0.010707     0.001212\n",
              "TAX      -0.012335    -0.012421  -0.012912   -0.013993    -0.015856\n",
              "CRIM     -0.108011    -0.107474  -0.104595   -0.101435    -0.102202\n",
              "LSTAT    -0.524758    -0.525966  -0.533343   -0.559366    -0.660764\n",
              "PTRATIO  -0.952747    -0.940759  -0.876074   -0.797945    -0.829218\n",
              "DIS      -1.475567    -1.459626  -1.372654   -1.248808    -1.153390\n",
              "NOX     -17.766611   -16.684645 -10.777015   -2.371619    -0.262847"
            ],
            "text/html": [
              "\n",
              "  <div id=\"df-60108738-2717-4526-b601-306073208057\">\n",
              "    <div class=\"colab-df-container\">\n",
              "      <div>\n",
              "<style scoped>\n",
              "    .dataframe tbody tr th:only-of-type {\n",
              "        vertical-align: middle;\n",
              "    }\n",
              "\n",
              "    .dataframe tbody tr th {\n",
              "        vertical-align: top;\n",
              "    }\n",
              "\n",
              "    .dataframe thead th {\n",
              "        text-align: right;\n",
              "    }\n",
              "</style>\n",
              "<table border=\"1\" class=\"dataframe\">\n",
              "  <thead>\n",
              "    <tr style=\"text-align: right;\">\n",
              "      <th></th>\n",
              "      <th>alpha : 0</th>\n",
              "      <th>alpha : 0.1</th>\n",
              "      <th>alpha : 1</th>\n",
              "      <th>alpha : 10</th>\n",
              "      <th>alpha : 100</th>\n",
              "    </tr>\n",
              "  </thead>\n",
              "  <tbody>\n",
              "    <tr>\n",
              "      <th>RM</th>\n",
              "      <td>3.809865</td>\n",
              "      <td>3.818233</td>\n",
              "      <td>3.854000</td>\n",
              "      <td>3.702272</td>\n",
              "      <td>2.334536</td>\n",
              "    </tr>\n",
              "    <tr>\n",
              "      <th>CHAS</th>\n",
              "      <td>2.686734</td>\n",
              "      <td>2.670019</td>\n",
              "      <td>2.552393</td>\n",
              "      <td>1.952021</td>\n",
              "      <td>0.638335</td>\n",
              "    </tr>\n",
              "    <tr>\n",
              "      <th>RAD</th>\n",
              "      <td>0.306049</td>\n",
              "      <td>0.303515</td>\n",
              "      <td>0.290142</td>\n",
              "      <td>0.279596</td>\n",
              "      <td>0.315358</td>\n",
              "    </tr>\n",
              "    <tr>\n",
              "      <th>ZN</th>\n",
              "      <td>0.046420</td>\n",
              "      <td>0.046572</td>\n",
              "      <td>0.047443</td>\n",
              "      <td>0.049579</td>\n",
              "      <td>0.054496</td>\n",
              "    </tr>\n",
              "    <tr>\n",
              "      <th>INDUS</th>\n",
              "      <td>0.020559</td>\n",
              "      <td>0.015999</td>\n",
              "      <td>-0.008805</td>\n",
              "      <td>-0.042962</td>\n",
              "      <td>-0.052826</td>\n",
              "    </tr>\n",
              "    <tr>\n",
              "      <th>B</th>\n",
              "      <td>0.009312</td>\n",
              "      <td>0.009368</td>\n",
              "      <td>0.009673</td>\n",
              "      <td>0.010037</td>\n",
              "      <td>0.009393</td>\n",
              "    </tr>\n",
              "    <tr>\n",
              "      <th>AGE</th>\n",
              "      <td>0.000692</td>\n",
              "      <td>-0.000269</td>\n",
              "      <td>-0.005415</td>\n",
              "      <td>-0.010707</td>\n",
              "      <td>0.001212</td>\n",
              "    </tr>\n",
              "    <tr>\n",
              "      <th>TAX</th>\n",
              "      <td>-0.012335</td>\n",
              "      <td>-0.012421</td>\n",
              "      <td>-0.012912</td>\n",
              "      <td>-0.013993</td>\n",
              "      <td>-0.015856</td>\n",
              "    </tr>\n",
              "    <tr>\n",
              "      <th>CRIM</th>\n",
              "      <td>-0.108011</td>\n",
              "      <td>-0.107474</td>\n",
              "      <td>-0.104595</td>\n",
              "      <td>-0.101435</td>\n",
              "      <td>-0.102202</td>\n",
              "    </tr>\n",
              "    <tr>\n",
              "      <th>LSTAT</th>\n",
              "      <td>-0.524758</td>\n",
              "      <td>-0.525966</td>\n",
              "      <td>-0.533343</td>\n",
              "      <td>-0.559366</td>\n",
              "      <td>-0.660764</td>\n",
              "    </tr>\n",
              "    <tr>\n",
              "      <th>PTRATIO</th>\n",
              "      <td>-0.952747</td>\n",
              "      <td>-0.940759</td>\n",
              "      <td>-0.876074</td>\n",
              "      <td>-0.797945</td>\n",
              "      <td>-0.829218</td>\n",
              "    </tr>\n",
              "    <tr>\n",
              "      <th>DIS</th>\n",
              "      <td>-1.475567</td>\n",
              "      <td>-1.459626</td>\n",
              "      <td>-1.372654</td>\n",
              "      <td>-1.248808</td>\n",
              "      <td>-1.153390</td>\n",
              "    </tr>\n",
              "    <tr>\n",
              "      <th>NOX</th>\n",
              "      <td>-17.766611</td>\n",
              "      <td>-16.684645</td>\n",
              "      <td>-10.777015</td>\n",
              "      <td>-2.371619</td>\n",
              "      <td>-0.262847</td>\n",
              "    </tr>\n",
              "  </tbody>\n",
              "</table>\n",
              "</div>\n",
              "      <button class=\"colab-df-convert\" onclick=\"convertToInteractive('df-60108738-2717-4526-b601-306073208057')\"\n",
              "              title=\"Convert this dataframe to an interactive table.\"\n",
              "              style=\"display:none;\">\n",
              "        \n",
              "  <svg xmlns=\"http://www.w3.org/2000/svg\" height=\"24px\"viewBox=\"0 0 24 24\"\n",
              "       width=\"24px\">\n",
              "    <path d=\"M0 0h24v24H0V0z\" fill=\"none\"/>\n",
              "    <path d=\"M18.56 5.44l.94 2.06.94-2.06 2.06-.94-2.06-.94-.94-2.06-.94 2.06-2.06.94zm-11 1L8.5 8.5l.94-2.06 2.06-.94-2.06-.94L8.5 2.5l-.94 2.06-2.06.94zm10 10l.94 2.06.94-2.06 2.06-.94-2.06-.94-.94-2.06-.94 2.06-2.06.94z\"/><path d=\"M17.41 7.96l-1.37-1.37c-.4-.4-.92-.59-1.43-.59-.52 0-1.04.2-1.43.59L10.3 9.45l-7.72 7.72c-.78.78-.78 2.05 0 2.83L4 21.41c.39.39.9.59 1.41.59.51 0 1.02-.2 1.41-.59l7.78-7.78 2.81-2.81c.8-.78.8-2.07 0-2.86zM5.41 20L4 18.59l7.72-7.72 1.47 1.35L5.41 20z\"/>\n",
              "  </svg>\n",
              "      </button>\n",
              "      \n",
              "  <style>\n",
              "    .colab-df-container {\n",
              "      display:flex;\n",
              "      flex-wrap:wrap;\n",
              "      gap: 12px;\n",
              "    }\n",
              "\n",
              "    .colab-df-convert {\n",
              "      background-color: #E8F0FE;\n",
              "      border: none;\n",
              "      border-radius: 50%;\n",
              "      cursor: pointer;\n",
              "      display: none;\n",
              "      fill: #1967D2;\n",
              "      height: 32px;\n",
              "      padding: 0 0 0 0;\n",
              "      width: 32px;\n",
              "    }\n",
              "\n",
              "    .colab-df-convert:hover {\n",
              "      background-color: #E2EBFA;\n",
              "      box-shadow: 0px 1px 2px rgba(60, 64, 67, 0.3), 0px 1px 3px 1px rgba(60, 64, 67, 0.15);\n",
              "      fill: #174EA6;\n",
              "    }\n",
              "\n",
              "    [theme=dark] .colab-df-convert {\n",
              "      background-color: #3B4455;\n",
              "      fill: #D2E3FC;\n",
              "    }\n",
              "\n",
              "    [theme=dark] .colab-df-convert:hover {\n",
              "      background-color: #434B5C;\n",
              "      box-shadow: 0px 1px 3px 1px rgba(0, 0, 0, 0.15);\n",
              "      filter: drop-shadow(0px 1px 2px rgba(0, 0, 0, 0.3));\n",
              "      fill: #FFFFFF;\n",
              "    }\n",
              "  </style>\n",
              "\n",
              "      <script>\n",
              "        const buttonEl =\n",
              "          document.querySelector('#df-60108738-2717-4526-b601-306073208057 button.colab-df-convert');\n",
              "        buttonEl.style.display =\n",
              "          google.colab.kernel.accessAllowed ? 'block' : 'none';\n",
              "\n",
              "        async function convertToInteractive(key) {\n",
              "          const element = document.querySelector('#df-60108738-2717-4526-b601-306073208057');\n",
              "          const dataTable =\n",
              "            await google.colab.kernel.invokeFunction('convertToInteractive',\n",
              "                                                     [key], {});\n",
              "          if (!dataTable) return;\n",
              "\n",
              "          const docLinkHtml = 'Like what you see? Visit the ' +\n",
              "            '<a target=\"_blank\" href=https://colab.research.google.com/notebooks/data_table.ipynb>data table notebook</a>'\n",
              "            + ' to learn more about interactive tables.';\n",
              "          element.innerHTML = '';\n",
              "          dataTable['output_type'] = 'display_data';\n",
              "          await google.colab.output.renderOutput(dataTable, element);\n",
              "          const docLink = document.createElement('div');\n",
              "          docLink.innerHTML = docLinkHtml;\n",
              "          element.appendChild(docLink);\n",
              "        }\n",
              "      </script>\n",
              "    </div>\n",
              "  </div>\n",
              "  "
            ]
          },
          "metadata": {},
          "execution_count": 5
        }
      ]
    },
    {
      "cell_type": "markdown",
      "source": [
        "alpha 값이 증가하면서 회귀 계수가 지속적으로 작아지고 있음, 릿지 회귀의 경우에는 회귀 계수를 0으로 만들지는 않음"
      ],
      "metadata": {
        "id": "GXlvteowyKcT"
      }
    },
    {
      "cell_type": "markdown",
      "source": [
        "### **라쏘 회귀**\n",
        "\n",
        "\n",
        "✏️  라쏘 회귀\n",
        "\n",
        "- 비용함수의 목표는 RSS(W) + alpha * ||W|| 식을 최소화하는 W를 찾는 것\n",
        "- L1 규제는 불필요한 회귀 계수를 급격하게 감소시켜 0으로 만들고 제거 -> 적절한 피처만 회귀에 포함시키는 피처 선택을 특성을 가지고 있음\n",
        "- 사이킷런은 Lasso 클래스를 통해 라쏘 회귀를 구현\n",
        "   - 주요 생성 파라미터는 alpha, 라쏘 회귀의 alpha L1 규제 계수에 해당"
      ],
      "metadata": {
        "id": "VIHHNhnzyRsl"
      }
    },
    {
      "cell_type": "code",
      "source": [
        "from sklearn.linear_model import Lasso, ElasticNet\n",
        "\n",
        "# alpha 값에 따른 회귀 모델의 폴드 평균 RMSE를 출력하고 회귀 계수값들을 DataFrame으로 반환\n",
        "def get_linear_reg_eval(model_name, params=None, X_data_n = None, y_target_n=None, verbose=True):\n",
        "  coeff_df = pd.DataFrame()\n",
        "  if verbose : print('######', model_name, '######')\n",
        "  for param in params : \n",
        "    if model_name == 'Ridge' : model=Ridge(alpha=param)\n",
        "    elif model_name == 'Lasso' : model = Lasso(alpha=param)\n",
        "    elif model_name == 'ElasticNet' : model= ElasticNet(alpha=param, l1_ratio=0.7)\n",
        "    neg_mse_scores = cross_val_score(model, X_data_n, y_target_n, \n",
        "                                     scoring = 'neg_mean_squared_error', cv=5)\n",
        "    \n",
        "    avg_rmse = np.mean(np.sqrt(-1 * neg_mse_scores))\n",
        "    print('alpha {0} 일 때 5폴드 세트의 평균 RMSE : {1:.3f}'.format(param, avg_rmse))\n",
        "    # cross_val_score는 evaluation metric만 반환하므로 모델을 다시 학습하여 회귀 계수 추출\n",
        "    model.fit(X_data, y_target)\n",
        "    # alpha에 따른 피처별 회귀 계수를 Series로 변환하고 이를 DataFrame의 칼럼으로 추가\n",
        "    coeff = pd.Series(data=model.coef_, index=X_data.columns)\n",
        "    colname = 'alpha : ' + str(param)\n",
        "    coeff_df[colname] = coeff\n",
        "  return coeff_df\n",
        "  #end of get_linear_regre_eval"
      ],
      "metadata": {
        "id": "2bKUHJh1xvFo"
      },
      "execution_count": null,
      "outputs": []
    },
    {
      "cell_type": "code",
      "source": [
        "# 라쏘에 사용될 alpha 파라미터 값을 정의하고 get_linear_reg_eval() 함수 호출\n",
        "lasso_alphas = [0.07, 0.1, 0.5, 1,3]\n",
        "coeff_lasso_df = get_linear_reg_eval('Lasso', params = lasso_alphas, X_data_n = X_data, y_target_n = y_target)"
      ],
      "metadata": {
        "colab": {
          "base_uri": "https://localhost:8080/"
        },
        "id": "QvhIG6fF5rxY",
        "outputId": "5d38ba98-7ca3-4be5-9717-e4c776813fb7"
      },
      "execution_count": null,
      "outputs": [
        {
          "output_type": "stream",
          "name": "stdout",
          "text": [
            "###### Lasso ######\n",
            "alpha 0.07 일 때 5폴드 세트의 평균 RMSE : 5.612\n",
            "alpha 0.1 일 때 5폴드 세트의 평균 RMSE : 5.615\n",
            "alpha 0.5 일 때 5폴드 세트의 평균 RMSE : 5.669\n",
            "alpha 1 일 때 5폴드 세트의 평균 RMSE : 5.776\n",
            "alpha 3 일 때 5폴드 세트의 평균 RMSE : 6.189\n"
          ]
        }
      ]
    },
    {
      "cell_type": "code",
      "source": [
        "# 반환된 coeff_lasso_df를 첫번째 칼럼순으로 내림차순 정렬해 회귀계수 DataFrame 출력\n",
        "sort_column = 'alpha : ' + str(lasso_alphas[0])\n",
        "coeff_lasso_df.sort_values(by=sort_column, ascending=False)"
      ],
      "metadata": {
        "colab": {
          "base_uri": "https://localhost:8080/",
          "height": 452
        },
        "id": "BxwnIiSR6cVi",
        "outputId": "62b9c874-b8a6-4a93-abff-e59df6626d5e"
      },
      "execution_count": null,
      "outputs": [
        {
          "output_type": "execute_result",
          "data": {
            "text/plain": [
              "         alpha : 0.07  alpha : 0.1  alpha : 0.5  alpha : 1  alpha : 3\n",
              "RM           3.789725     3.703202     2.498212   0.949811   0.000000\n",
              "CHAS         1.434343     0.955190     0.000000   0.000000   0.000000\n",
              "RAD          0.270936     0.274707     0.277451   0.264206   0.061864\n",
              "ZN           0.049059     0.049211     0.049544   0.049165   0.037231\n",
              "B            0.010248     0.010249     0.009469   0.008247   0.006510\n",
              "NOX         -0.000000    -0.000000    -0.000000  -0.000000   0.000000\n",
              "AGE         -0.011706    -0.010037     0.003604   0.020910   0.042495\n",
              "TAX         -0.014290    -0.014570    -0.015442  -0.015212  -0.008602\n",
              "INDUS       -0.042120    -0.036619    -0.005253  -0.000000  -0.000000\n",
              "CRIM        -0.098193    -0.097894    -0.083289  -0.063437  -0.000000\n",
              "LSTAT       -0.560431    -0.568769    -0.656290  -0.761115  -0.807679\n",
              "PTRATIO     -0.765107    -0.770654    -0.758752  -0.722966  -0.265072\n",
              "DIS         -1.176583    -1.160538    -0.936605  -0.668790  -0.000000"
            ],
            "text/html": [
              "\n",
              "  <div id=\"df-6b038472-c881-4fae-a477-e419056ed940\">\n",
              "    <div class=\"colab-df-container\">\n",
              "      <div>\n",
              "<style scoped>\n",
              "    .dataframe tbody tr th:only-of-type {\n",
              "        vertical-align: middle;\n",
              "    }\n",
              "\n",
              "    .dataframe tbody tr th {\n",
              "        vertical-align: top;\n",
              "    }\n",
              "\n",
              "    .dataframe thead th {\n",
              "        text-align: right;\n",
              "    }\n",
              "</style>\n",
              "<table border=\"1\" class=\"dataframe\">\n",
              "  <thead>\n",
              "    <tr style=\"text-align: right;\">\n",
              "      <th></th>\n",
              "      <th>alpha : 0.07</th>\n",
              "      <th>alpha : 0.1</th>\n",
              "      <th>alpha : 0.5</th>\n",
              "      <th>alpha : 1</th>\n",
              "      <th>alpha : 3</th>\n",
              "    </tr>\n",
              "  </thead>\n",
              "  <tbody>\n",
              "    <tr>\n",
              "      <th>RM</th>\n",
              "      <td>3.789725</td>\n",
              "      <td>3.703202</td>\n",
              "      <td>2.498212</td>\n",
              "      <td>0.949811</td>\n",
              "      <td>0.000000</td>\n",
              "    </tr>\n",
              "    <tr>\n",
              "      <th>CHAS</th>\n",
              "      <td>1.434343</td>\n",
              "      <td>0.955190</td>\n",
              "      <td>0.000000</td>\n",
              "      <td>0.000000</td>\n",
              "      <td>0.000000</td>\n",
              "    </tr>\n",
              "    <tr>\n",
              "      <th>RAD</th>\n",
              "      <td>0.270936</td>\n",
              "      <td>0.274707</td>\n",
              "      <td>0.277451</td>\n",
              "      <td>0.264206</td>\n",
              "      <td>0.061864</td>\n",
              "    </tr>\n",
              "    <tr>\n",
              "      <th>ZN</th>\n",
              "      <td>0.049059</td>\n",
              "      <td>0.049211</td>\n",
              "      <td>0.049544</td>\n",
              "      <td>0.049165</td>\n",
              "      <td>0.037231</td>\n",
              "    </tr>\n",
              "    <tr>\n",
              "      <th>B</th>\n",
              "      <td>0.010248</td>\n",
              "      <td>0.010249</td>\n",
              "      <td>0.009469</td>\n",
              "      <td>0.008247</td>\n",
              "      <td>0.006510</td>\n",
              "    </tr>\n",
              "    <tr>\n",
              "      <th>NOX</th>\n",
              "      <td>-0.000000</td>\n",
              "      <td>-0.000000</td>\n",
              "      <td>-0.000000</td>\n",
              "      <td>-0.000000</td>\n",
              "      <td>0.000000</td>\n",
              "    </tr>\n",
              "    <tr>\n",
              "      <th>AGE</th>\n",
              "      <td>-0.011706</td>\n",
              "      <td>-0.010037</td>\n",
              "      <td>0.003604</td>\n",
              "      <td>0.020910</td>\n",
              "      <td>0.042495</td>\n",
              "    </tr>\n",
              "    <tr>\n",
              "      <th>TAX</th>\n",
              "      <td>-0.014290</td>\n",
              "      <td>-0.014570</td>\n",
              "      <td>-0.015442</td>\n",
              "      <td>-0.015212</td>\n",
              "      <td>-0.008602</td>\n",
              "    </tr>\n",
              "    <tr>\n",
              "      <th>INDUS</th>\n",
              "      <td>-0.042120</td>\n",
              "      <td>-0.036619</td>\n",
              "      <td>-0.005253</td>\n",
              "      <td>-0.000000</td>\n",
              "      <td>-0.000000</td>\n",
              "    </tr>\n",
              "    <tr>\n",
              "      <th>CRIM</th>\n",
              "      <td>-0.098193</td>\n",
              "      <td>-0.097894</td>\n",
              "      <td>-0.083289</td>\n",
              "      <td>-0.063437</td>\n",
              "      <td>-0.000000</td>\n",
              "    </tr>\n",
              "    <tr>\n",
              "      <th>LSTAT</th>\n",
              "      <td>-0.560431</td>\n",
              "      <td>-0.568769</td>\n",
              "      <td>-0.656290</td>\n",
              "      <td>-0.761115</td>\n",
              "      <td>-0.807679</td>\n",
              "    </tr>\n",
              "    <tr>\n",
              "      <th>PTRATIO</th>\n",
              "      <td>-0.765107</td>\n",
              "      <td>-0.770654</td>\n",
              "      <td>-0.758752</td>\n",
              "      <td>-0.722966</td>\n",
              "      <td>-0.265072</td>\n",
              "    </tr>\n",
              "    <tr>\n",
              "      <th>DIS</th>\n",
              "      <td>-1.176583</td>\n",
              "      <td>-1.160538</td>\n",
              "      <td>-0.936605</td>\n",
              "      <td>-0.668790</td>\n",
              "      <td>-0.000000</td>\n",
              "    </tr>\n",
              "  </tbody>\n",
              "</table>\n",
              "</div>\n",
              "      <button class=\"colab-df-convert\" onclick=\"convertToInteractive('df-6b038472-c881-4fae-a477-e419056ed940')\"\n",
              "              title=\"Convert this dataframe to an interactive table.\"\n",
              "              style=\"display:none;\">\n",
              "        \n",
              "  <svg xmlns=\"http://www.w3.org/2000/svg\" height=\"24px\"viewBox=\"0 0 24 24\"\n",
              "       width=\"24px\">\n",
              "    <path d=\"M0 0h24v24H0V0z\" fill=\"none\"/>\n",
              "    <path d=\"M18.56 5.44l.94 2.06.94-2.06 2.06-.94-2.06-.94-.94-2.06-.94 2.06-2.06.94zm-11 1L8.5 8.5l.94-2.06 2.06-.94-2.06-.94L8.5 2.5l-.94 2.06-2.06.94zm10 10l.94 2.06.94-2.06 2.06-.94-2.06-.94-.94-2.06-.94 2.06-2.06.94z\"/><path d=\"M17.41 7.96l-1.37-1.37c-.4-.4-.92-.59-1.43-.59-.52 0-1.04.2-1.43.59L10.3 9.45l-7.72 7.72c-.78.78-.78 2.05 0 2.83L4 21.41c.39.39.9.59 1.41.59.51 0 1.02-.2 1.41-.59l7.78-7.78 2.81-2.81c.8-.78.8-2.07 0-2.86zM5.41 20L4 18.59l7.72-7.72 1.47 1.35L5.41 20z\"/>\n",
              "  </svg>\n",
              "      </button>\n",
              "      \n",
              "  <style>\n",
              "    .colab-df-container {\n",
              "      display:flex;\n",
              "      flex-wrap:wrap;\n",
              "      gap: 12px;\n",
              "    }\n",
              "\n",
              "    .colab-df-convert {\n",
              "      background-color: #E8F0FE;\n",
              "      border: none;\n",
              "      border-radius: 50%;\n",
              "      cursor: pointer;\n",
              "      display: none;\n",
              "      fill: #1967D2;\n",
              "      height: 32px;\n",
              "      padding: 0 0 0 0;\n",
              "      width: 32px;\n",
              "    }\n",
              "\n",
              "    .colab-df-convert:hover {\n",
              "      background-color: #E2EBFA;\n",
              "      box-shadow: 0px 1px 2px rgba(60, 64, 67, 0.3), 0px 1px 3px 1px rgba(60, 64, 67, 0.15);\n",
              "      fill: #174EA6;\n",
              "    }\n",
              "\n",
              "    [theme=dark] .colab-df-convert {\n",
              "      background-color: #3B4455;\n",
              "      fill: #D2E3FC;\n",
              "    }\n",
              "\n",
              "    [theme=dark] .colab-df-convert:hover {\n",
              "      background-color: #434B5C;\n",
              "      box-shadow: 0px 1px 3px 1px rgba(0, 0, 0, 0.15);\n",
              "      filter: drop-shadow(0px 1px 2px rgba(0, 0, 0, 0.3));\n",
              "      fill: #FFFFFF;\n",
              "    }\n",
              "  </style>\n",
              "\n",
              "      <script>\n",
              "        const buttonEl =\n",
              "          document.querySelector('#df-6b038472-c881-4fae-a477-e419056ed940 button.colab-df-convert');\n",
              "        buttonEl.style.display =\n",
              "          google.colab.kernel.accessAllowed ? 'block' : 'none';\n",
              "\n",
              "        async function convertToInteractive(key) {\n",
              "          const element = document.querySelector('#df-6b038472-c881-4fae-a477-e419056ed940');\n",
              "          const dataTable =\n",
              "            await google.colab.kernel.invokeFunction('convertToInteractive',\n",
              "                                                     [key], {});\n",
              "          if (!dataTable) return;\n",
              "\n",
              "          const docLinkHtml = 'Like what you see? Visit the ' +\n",
              "            '<a target=\"_blank\" href=https://colab.research.google.com/notebooks/data_table.ipynb>data table notebook</a>'\n",
              "            + ' to learn more about interactive tables.';\n",
              "          element.innerHTML = '';\n",
              "          dataTable['output_type'] = 'display_data';\n",
              "          await google.colab.output.renderOutput(dataTable, element);\n",
              "          const docLink = document.createElement('div');\n",
              "          docLink.innerHTML = docLinkHtml;\n",
              "          element.appendChild(docLink);\n",
              "        }\n",
              "      </script>\n",
              "    </div>\n",
              "  </div>\n",
              "  "
            ]
          },
          "metadata": {},
          "execution_count": 14
        }
      ]
    },
    {
      "cell_type": "markdown",
      "source": [
        "### **엘라스틱넷 회귀**\n",
        "\n",
        "✏️  엘라스틱넷 회귀\n",
        "\n",
        "- L2 규제와 L1 규제를 결합한 회귀\n",
        "- 비용함수의 목표는 RSS(W) + alpha2 x ||W|| + alpha1 x ||W|| 식을 최소화하는 w를 찾는 것\n",
        "- 라쏘 회귀가 서로 상관관계가 높은 피처들의 경우에 이들 중에서 중요 피처만을 셀렉션하고 다른 피처들은 모두 회귀 계수를 0으로 만드는 성향이 강해 alpha 값에 따라 회귀 계수의 값이 급격히 변동할 수도 있음 -> 이를 완화하기 위해 L2 규제를 라쏘 회귀 추가한 것\n",
        "- 단점은 L1, L2 규제가 결합된 규제로 인해 수행시간이 상대적으로 오래 걸린다는 것\n",
        "- 사이킷런은 ElasticNet 클래스를 통해 엘라스틱넷 회귀를 구현\n",
        "  - 주요 생성 파라미터는 alpha, l1_ratio\n",
        "    - alpha는 Ridge, Lasso 클래스의 alpha 값과 다름 \n",
        "    - a x L1 + b x L2\n",
        "    : a는 L1 규제의 alpha값, b는 L2 규제의 alpha값 -> alpha 파라미터 값은 a+b\n",
        "    - l1_ratio 파라미터 값은 a/(a+b)\n",
        "    - l1_ratio가 0이면 a가 0이므로 L2 규제와 동일함 / l1_ratio가 1이면 b가 0이므로 L1 규제와 동일"
      ],
      "metadata": {
        "id": "IfTFKTxxJYBV"
      }
    },
    {
      "cell_type": "code",
      "source": [
        "# 엘틱스틱넷에 사용될 alpha 파라미터의 값들을 정의하고 get_linear_reg_eval() 함수 호출\n",
        "# l1_ratio는 0.7로 고정\n",
        "elastic_alphas=[0.07,0.1,0.5,1.3]\n",
        "coeff_elastic_df = get_linear_reg_eval('ElasticNet', params=elastic_alphas,\n",
        "                                       X_data_n=X_data, y_target_n=y_target)"
      ],
      "metadata": {
        "colab": {
          "base_uri": "https://localhost:8080/"
        },
        "id": "WgALwBBvOqiX",
        "outputId": "6adc624f-1eff-4ae4-b8a4-6942a55a577d"
      },
      "execution_count": null,
      "outputs": [
        {
          "output_type": "stream",
          "name": "stdout",
          "text": [
            "###### ElasticNet ######\n",
            "alpha 0.07 일 때 5폴드 세트의 평균 RMSE : 5.542\n",
            "alpha 0.1 일 때 5폴드 세트의 평균 RMSE : 5.526\n",
            "alpha 0.5 일 때 5폴드 세트의 평균 RMSE : 5.467\n",
            "alpha 1.3 일 때 5폴드 세트의 평균 RMSE : 5.670\n"
          ]
        }
      ]
    },
    {
      "cell_type": "code",
      "source": [
        "# 반환된 coeff_elastic_df를 첫번째 칼럼순으로 내림차순 정렬해 회귀계수 DataFrame 출력\n",
        "sort_column = 'alpha : ' + str(elastic_alphas[0])\n",
        "coeff_elastic_df.sort_values(by = sort_column, ascending=False)"
      ],
      "metadata": {
        "colab": {
          "base_uri": "https://localhost:8080/",
          "height": 452
        },
        "id": "WZ69NpttQIl6",
        "outputId": "a1eda627-1222-4dc4-bb8e-ed9f372f3cb0"
      },
      "execution_count": null,
      "outputs": [
        {
          "output_type": "execute_result",
          "data": {
            "text/plain": [
              "         alpha : 0.07  alpha : 0.1  alpha : 0.5  alpha : 1.3\n",
              "RM           3.574162     3.414154     1.918419     0.560937\n",
              "CHAS         1.330724     0.979706     0.000000     0.000000\n",
              "RAD          0.278880     0.283443     0.300761     0.273045\n",
              "ZN           0.050107     0.050617     0.052878     0.050578\n",
              "B            0.010122     0.010067     0.009114     0.007957\n",
              "AGE         -0.010116    -0.008276     0.007760     0.026241\n",
              "TAX         -0.014522    -0.014814    -0.016046    -0.015689\n",
              "INDUS       -0.044855    -0.042719    -0.023252    -0.000000\n",
              "CRIM        -0.099468    -0.099213    -0.089070    -0.064928\n",
              "NOX         -0.175072    -0.000000    -0.000000    -0.000000\n",
              "LSTAT       -0.574822    -0.587702    -0.693861    -0.783503\n",
              "PTRATIO     -0.779498    -0.784725    -0.790969    -0.697610\n",
              "DIS         -1.189438    -1.173647    -0.975902    -0.599443"
            ],
            "text/html": [
              "\n",
              "  <div id=\"df-1f4c31c7-abb1-463d-9587-458ce4f29dd8\">\n",
              "    <div class=\"colab-df-container\">\n",
              "      <div>\n",
              "<style scoped>\n",
              "    .dataframe tbody tr th:only-of-type {\n",
              "        vertical-align: middle;\n",
              "    }\n",
              "\n",
              "    .dataframe tbody tr th {\n",
              "        vertical-align: top;\n",
              "    }\n",
              "\n",
              "    .dataframe thead th {\n",
              "        text-align: right;\n",
              "    }\n",
              "</style>\n",
              "<table border=\"1\" class=\"dataframe\">\n",
              "  <thead>\n",
              "    <tr style=\"text-align: right;\">\n",
              "      <th></th>\n",
              "      <th>alpha : 0.07</th>\n",
              "      <th>alpha : 0.1</th>\n",
              "      <th>alpha : 0.5</th>\n",
              "      <th>alpha : 1.3</th>\n",
              "    </tr>\n",
              "  </thead>\n",
              "  <tbody>\n",
              "    <tr>\n",
              "      <th>RM</th>\n",
              "      <td>3.574162</td>\n",
              "      <td>3.414154</td>\n",
              "      <td>1.918419</td>\n",
              "      <td>0.560937</td>\n",
              "    </tr>\n",
              "    <tr>\n",
              "      <th>CHAS</th>\n",
              "      <td>1.330724</td>\n",
              "      <td>0.979706</td>\n",
              "      <td>0.000000</td>\n",
              "      <td>0.000000</td>\n",
              "    </tr>\n",
              "    <tr>\n",
              "      <th>RAD</th>\n",
              "      <td>0.278880</td>\n",
              "      <td>0.283443</td>\n",
              "      <td>0.300761</td>\n",
              "      <td>0.273045</td>\n",
              "    </tr>\n",
              "    <tr>\n",
              "      <th>ZN</th>\n",
              "      <td>0.050107</td>\n",
              "      <td>0.050617</td>\n",
              "      <td>0.052878</td>\n",
              "      <td>0.050578</td>\n",
              "    </tr>\n",
              "    <tr>\n",
              "      <th>B</th>\n",
              "      <td>0.010122</td>\n",
              "      <td>0.010067</td>\n",
              "      <td>0.009114</td>\n",
              "      <td>0.007957</td>\n",
              "    </tr>\n",
              "    <tr>\n",
              "      <th>AGE</th>\n",
              "      <td>-0.010116</td>\n",
              "      <td>-0.008276</td>\n",
              "      <td>0.007760</td>\n",
              "      <td>0.026241</td>\n",
              "    </tr>\n",
              "    <tr>\n",
              "      <th>TAX</th>\n",
              "      <td>-0.014522</td>\n",
              "      <td>-0.014814</td>\n",
              "      <td>-0.016046</td>\n",
              "      <td>-0.015689</td>\n",
              "    </tr>\n",
              "    <tr>\n",
              "      <th>INDUS</th>\n",
              "      <td>-0.044855</td>\n",
              "      <td>-0.042719</td>\n",
              "      <td>-0.023252</td>\n",
              "      <td>-0.000000</td>\n",
              "    </tr>\n",
              "    <tr>\n",
              "      <th>CRIM</th>\n",
              "      <td>-0.099468</td>\n",
              "      <td>-0.099213</td>\n",
              "      <td>-0.089070</td>\n",
              "      <td>-0.064928</td>\n",
              "    </tr>\n",
              "    <tr>\n",
              "      <th>NOX</th>\n",
              "      <td>-0.175072</td>\n",
              "      <td>-0.000000</td>\n",
              "      <td>-0.000000</td>\n",
              "      <td>-0.000000</td>\n",
              "    </tr>\n",
              "    <tr>\n",
              "      <th>LSTAT</th>\n",
              "      <td>-0.574822</td>\n",
              "      <td>-0.587702</td>\n",
              "      <td>-0.693861</td>\n",
              "      <td>-0.783503</td>\n",
              "    </tr>\n",
              "    <tr>\n",
              "      <th>PTRATIO</th>\n",
              "      <td>-0.779498</td>\n",
              "      <td>-0.784725</td>\n",
              "      <td>-0.790969</td>\n",
              "      <td>-0.697610</td>\n",
              "    </tr>\n",
              "    <tr>\n",
              "      <th>DIS</th>\n",
              "      <td>-1.189438</td>\n",
              "      <td>-1.173647</td>\n",
              "      <td>-0.975902</td>\n",
              "      <td>-0.599443</td>\n",
              "    </tr>\n",
              "  </tbody>\n",
              "</table>\n",
              "</div>\n",
              "      <button class=\"colab-df-convert\" onclick=\"convertToInteractive('df-1f4c31c7-abb1-463d-9587-458ce4f29dd8')\"\n",
              "              title=\"Convert this dataframe to an interactive table.\"\n",
              "              style=\"display:none;\">\n",
              "        \n",
              "  <svg xmlns=\"http://www.w3.org/2000/svg\" height=\"24px\"viewBox=\"0 0 24 24\"\n",
              "       width=\"24px\">\n",
              "    <path d=\"M0 0h24v24H0V0z\" fill=\"none\"/>\n",
              "    <path d=\"M18.56 5.44l.94 2.06.94-2.06 2.06-.94-2.06-.94-.94-2.06-.94 2.06-2.06.94zm-11 1L8.5 8.5l.94-2.06 2.06-.94-2.06-.94L8.5 2.5l-.94 2.06-2.06.94zm10 10l.94 2.06.94-2.06 2.06-.94-2.06-.94-.94-2.06-.94 2.06-2.06.94z\"/><path d=\"M17.41 7.96l-1.37-1.37c-.4-.4-.92-.59-1.43-.59-.52 0-1.04.2-1.43.59L10.3 9.45l-7.72 7.72c-.78.78-.78 2.05 0 2.83L4 21.41c.39.39.9.59 1.41.59.51 0 1.02-.2 1.41-.59l7.78-7.78 2.81-2.81c.8-.78.8-2.07 0-2.86zM5.41 20L4 18.59l7.72-7.72 1.47 1.35L5.41 20z\"/>\n",
              "  </svg>\n",
              "      </button>\n",
              "      \n",
              "  <style>\n",
              "    .colab-df-container {\n",
              "      display:flex;\n",
              "      flex-wrap:wrap;\n",
              "      gap: 12px;\n",
              "    }\n",
              "\n",
              "    .colab-df-convert {\n",
              "      background-color: #E8F0FE;\n",
              "      border: none;\n",
              "      border-radius: 50%;\n",
              "      cursor: pointer;\n",
              "      display: none;\n",
              "      fill: #1967D2;\n",
              "      height: 32px;\n",
              "      padding: 0 0 0 0;\n",
              "      width: 32px;\n",
              "    }\n",
              "\n",
              "    .colab-df-convert:hover {\n",
              "      background-color: #E2EBFA;\n",
              "      box-shadow: 0px 1px 2px rgba(60, 64, 67, 0.3), 0px 1px 3px 1px rgba(60, 64, 67, 0.15);\n",
              "      fill: #174EA6;\n",
              "    }\n",
              "\n",
              "    [theme=dark] .colab-df-convert {\n",
              "      background-color: #3B4455;\n",
              "      fill: #D2E3FC;\n",
              "    }\n",
              "\n",
              "    [theme=dark] .colab-df-convert:hover {\n",
              "      background-color: #434B5C;\n",
              "      box-shadow: 0px 1px 3px 1px rgba(0, 0, 0, 0.15);\n",
              "      filter: drop-shadow(0px 1px 2px rgba(0, 0, 0, 0.3));\n",
              "      fill: #FFFFFF;\n",
              "    }\n",
              "  </style>\n",
              "\n",
              "      <script>\n",
              "        const buttonEl =\n",
              "          document.querySelector('#df-1f4c31c7-abb1-463d-9587-458ce4f29dd8 button.colab-df-convert');\n",
              "        buttonEl.style.display =\n",
              "          google.colab.kernel.accessAllowed ? 'block' : 'none';\n",
              "\n",
              "        async function convertToInteractive(key) {\n",
              "          const element = document.querySelector('#df-1f4c31c7-abb1-463d-9587-458ce4f29dd8');\n",
              "          const dataTable =\n",
              "            await google.colab.kernel.invokeFunction('convertToInteractive',\n",
              "                                                     [key], {});\n",
              "          if (!dataTable) return;\n",
              "\n",
              "          const docLinkHtml = 'Like what you see? Visit the ' +\n",
              "            '<a target=\"_blank\" href=https://colab.research.google.com/notebooks/data_table.ipynb>data table notebook</a>'\n",
              "            + ' to learn more about interactive tables.';\n",
              "          element.innerHTML = '';\n",
              "          dataTable['output_type'] = 'display_data';\n",
              "          await google.colab.output.renderOutput(dataTable, element);\n",
              "          const docLink = document.createElement('div');\n",
              "          docLink.innerHTML = docLinkHtml;\n",
              "          element.appendChild(docLink);\n",
              "        }\n",
              "      </script>\n",
              "    </div>\n",
              "  </div>\n",
              "  "
            ]
          },
          "metadata": {},
          "execution_count": 17
        }
      ]
    },
    {
      "cell_type": "markdown",
      "source": [
        "- alpha 0.5일때 RMSE가 가장 좋은예측 성능을 보임\n",
        "- alpha 값에 따른 피처들의 회귀 계수들 값이 라쏘보다는 상대적으로 0이 되는 값이 적음을 알 수 있음\n",
        "\n",
        "\n",
        "\n"
      ],
      "metadata": {
        "id": "dlTyGKBHQhEH"
      }
    },
    {
      "cell_type": "markdown",
      "source": [
        "### **선형 회귀 모델을 위한 데이터 변환**\n",
        "\n",
        "✏️ 선형 모델은 일반적으로 피처와 타깃값 간에 선형의 관계가 있다고 가정하고, 이러한 최적의 선형함수를 찾아내 결과를 예측\n",
        "\n",
        "✏️ 선형 회귀 모델은 피처값과 타깃값의 분포가 정규 분포 형태를 매우 선호\n",
        "\n",
        "- 특히 타깃값의 경우 정규 분포 형태가 아니라 특정값의 분포가 치우친 왜곡된 형태의 분포도 일 경우 예측 성능에 부정적인 영향을 미칠 가능성이 높음\n",
        "- 피처값 역시 결정값보다는 덜하지만 왜곡된 분포도로 인해 예측 성능에 부정적인 영향을 미칠 수 있음\n",
        "- 따라서 선형 회귀 모델을 적용하기 전에 먼저 데이터에 대한 스케일링/정규화 작업을 수행하는 것이 일반적 (무조건 예측 성능이 향상되는 것은 아님, 중요 피처들이나 타깃값의 분포도가 심하게 왜곡됐을 경우에 이러한 변환 작업을 수행)\n",
        "\n",
        "✏️ 사이킷런을 이용해 피처 데이터 세트에 적용하는 변환 작업\n",
        "\n",
        "- StandardScaler 클래스를 이용해 평균이 0, 분산이 1인 표준 정규 분포를 가진 데이터 세트로 변환하거나 MinMaxScaler 클래스를 이용해 최솟값이 0이고 최댓값이 1인 값으로 정규화를 수행\n",
        "- 스케일링/정규화를 수행한 데이터 세트에 다시 다항 특성을 적용하여 변환하는 방법, 보통 1번 방법을 통해 성능에 향상이 없을 경우 적용\n",
        "- 원래 값에 log 함수를 적용하면 보다 정규 분포에 가까운 형태로 값이 분포됨, 이러한 변환을 로그 변환(log Transformation)이라고 부름, 로그 변환은 실제로 선형회귀에서 앞선 2가지 방법보다 많이 사용됨, 1번 방법의 경우 예측 성능이 크게 기대하기 어려운 경우가 많으며 2번 방법의 경우 피처의 개수가 매우 많을 경우에는 다항 변환으로 생성되는 피처의 개수가 기하급수적으로 늘어나서 과적합의 이슈가 발생할 수 있기 때문\n",
        "\n",
        "✏️ 타깃값의 경우는 일반적으로 로그 변환을 적용\n",
        "\n",
        "- 결정 값을 정규 분포나 다른 정규값으로 변환하면 변환된 값을 다시 원본 타깃값으로 원복하기 어려울 수 있음\n",
        "\n",
        "\n",
        "\n",
        "\n"
      ],
      "metadata": {
        "id": "AjWXQo6XQuv8"
      }
    },
    {
      "cell_type": "code",
      "source": [
        "# method는 표준 정규 분포 변환 (Standard), 최댓값/최솟값 정규화(MinMax), 로그변환(Log) 결정\n",
        "# p_degree는 다항식 특성을 추가할 때 적용, p_degree는 2이상 부여하지 않음\n",
        "def get_scaled_data(method=\"None\", p_degree=None, input_data=None):\n",
        "  if method == 'Standard':\n",
        "    scaled_data = StandardScaler().fit_transform(input_data)\n",
        "  elif method == 'MinMax':\n",
        "    scaled_data = MinMaxScaler().fit_transform(input_data)\n",
        "  elif method == 'Log':\n",
        "    scaled_data = np.log1p(input_data)\n",
        "  else:\n",
        "    scaled_data = input_data\n",
        "  \n",
        "  if p_degree != None:\n",
        "    scaled_data = PolynomialFeatures(degree=p_degree, \n",
        "                                     include_bias=False).fit_transform(scaled_data)\n",
        "  return scaled_data\n",
        "\n"
      ],
      "metadata": {
        "id": "1nE_q4c8YdCT"
      },
      "execution_count": null,
      "outputs": []
    },
    {
      "cell_type": "code",
      "source": [
        "from sklearn.preprocessing import MinMaxScaler, StandardScaler, PolynomialFeatures\n",
        "\n",
        "# Ridge의 alpha 값을 다르게 적용하고 다양한 데이터 변환 방법에 따른 RMSE 추출\n",
        "alphas = [0.1, 1, 10, 100]\n",
        "\n",
        "# 5개의 방식으로 변환, 먼저 원본 그대로, 표준정규 분포, 표준정규 분포 + 다항식 특성\n",
        "# 최대/최조 정규화, 최대/최소 정규화 + 다항식 특성, 로그변환\n",
        "scale_methods = [(None, None), ('Standard',None), ('Standard', 2),\n",
        "                  ('MinMax', None), ('MinMax',2), ('Log', None)]\n",
        "for scale_method in scale_methods:\n",
        "  X_data_scaled = get_scaled_data(method=scale_method[0],\n",
        "                                  p_degree=scale_method[1],\n",
        "                                  input_data=X_data)\n",
        "  print('\\n ## 변환 유형: {0}, Polynomial Degree: {1}'.format(scale_method[0],\n",
        "                                                          scale_method[1]))\n",
        "  get_linear_reg_eval('Ridge', params=alphas, X_data_n=X_data_scaled,\n",
        "                      y_target_n = y_target, verbose=False)"
      ],
      "metadata": {
        "colab": {
          "base_uri": "https://localhost:8080/"
        },
        "id": "DeEkypPkZhGF",
        "outputId": "6a05cde9-4e55-46cf-d3de-83d446deba1f"
      },
      "execution_count": null,
      "outputs": [
        {
          "output_type": "stream",
          "name": "stdout",
          "text": [
            "\n",
            " ## 변환 유형: None, Polynomial Degree: None\n",
            "alpha 0.1 일 때 5폴드 세트의 평균 RMSE : 5.788\n",
            "alpha 1 일 때 5폴드 세트의 평균 RMSE : 5.653\n",
            "alpha 10 일 때 5폴드 세트의 평균 RMSE : 5.518\n",
            "alpha 100 일 때 5폴드 세트의 평균 RMSE : 5.330\n",
            "\n",
            " ## 변환 유형: Standard, Polynomial Degree: None\n",
            "alpha 0.1 일 때 5폴드 세트의 평균 RMSE : 5.826\n",
            "alpha 1 일 때 5폴드 세트의 평균 RMSE : 5.803\n",
            "alpha 10 일 때 5폴드 세트의 평균 RMSE : 5.637\n",
            "alpha 100 일 때 5폴드 세트의 평균 RMSE : 5.421\n",
            "\n",
            " ## 변환 유형: Standard, Polynomial Degree: 2\n",
            "alpha 0.1 일 때 5폴드 세트의 평균 RMSE : 8.827\n",
            "alpha 1 일 때 5폴드 세트의 평균 RMSE : 6.871\n",
            "alpha 10 일 때 5폴드 세트의 평균 RMSE : 5.485\n",
            "alpha 100 일 때 5폴드 세트의 평균 RMSE : 4.634\n",
            "\n",
            " ## 변환 유형: MinMax, Polynomial Degree: None\n",
            "alpha 0.1 일 때 5폴드 세트의 평균 RMSE : 5.764\n",
            "alpha 1 일 때 5폴드 세트의 평균 RMSE : 5.465\n",
            "alpha 10 일 때 5폴드 세트의 평균 RMSE : 5.754\n",
            "alpha 100 일 때 5폴드 세트의 평균 RMSE : 7.635\n",
            "\n",
            " ## 변환 유형: MinMax, Polynomial Degree: 2\n",
            "alpha 0.1 일 때 5폴드 세트의 평균 RMSE : 5.298\n",
            "alpha 1 일 때 5폴드 세트의 평균 RMSE : 4.323\n",
            "alpha 10 일 때 5폴드 세트의 평균 RMSE : 5.185\n",
            "alpha 100 일 때 5폴드 세트의 평균 RMSE : 6.538\n",
            "\n",
            " ## 변환 유형: Log, Polynomial Degree: None\n",
            "alpha 0.1 일 때 5폴드 세트의 평균 RMSE : 4.770\n",
            "alpha 1 일 때 5폴드 세트의 평균 RMSE : 4.676\n",
            "alpha 10 일 때 5폴드 세트의 평균 RMSE : 4.836\n",
            "alpha 100 일 때 5폴드 세트의 평균 RMSE : 6.241\n"
          ]
        }
      ]
    },
    {
      "cell_type": "markdown",
      "source": [
        "- 표준 정규 분포와 최솟값/최댓값 정규화로 피처 데이터 세트를 변경해도 성능상의 개선은 없음\n",
        "- 표준 정규 분포로 일차 변환 후 2차 다항식 변환을 했을 때 alpha=100에서 4.631로 성능이 개선됐으며 최솟값/최댓값 정규화로 일차 변환 후 2차 다항식 변환을 했을 때 alpha=1에서 4.320으로 성능이 개선됨\n",
        "- 로그 변환을 보면 alpha가 0.1, 1, 10인 경우에 모두 좋은 성능 향상이 있음\n",
        "\n",
        "\n"
      ],
      "metadata": {
        "id": "Jjh330eNbmeJ"
      }
    },
    {
      "cell_type": "markdown",
      "source": [
        "## 로지스틱 회귀\n",
        "\n",
        "✏️ 로지스틱 회귀 : 선형 회귀 방식을 분류에 적용한 알고리즘\n",
        "\n",
        "- 회귀가 선형인가 비선형인가는 독립변수가 아닌 가중치 변수가 선형인지 아닌지를 따름\n",
        "- 로지스틱 회귀가 선형 회귀와 다른 점은 학습을 통해 선형 함수의 회귀 최적선을 찾는 것이 아니라 시그모이드 함수 최적선을 찾고 이 시그모이드 함수의 반환 값을 확률로 간주해 확률에 따라 분류를 결정함\n",
        "\n",
        "✏️ 시그모이드 함수\n",
        "\n",
        "- x값이 +, -로 아무리 커지거나 작아져도 y값은 항상 0과 1 사이 값을 반환\n",
        "- x값이 커지면 1에 근사, 작아지면 0에 근사, 0일 때는 0.5 \n",
        "\n",
        "![image.png](data:image/png;base64,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)\n",
        "\n",
        "\n"
      ],
      "metadata": {
        "id": "OhT9YJoYcTfJ"
      }
    },
    {
      "cell_type": "code",
      "source": [
        "import pandas as pd\n",
        "import matplotlib.pyplot as plt\n",
        "%matplotlib inline\n",
        "\n",
        "from sklearn.datasets import load_breast_cancer\n",
        "from sklearn.linear_model import LogisticRegression\n",
        "\n",
        "cancer = load_breast_cancer()"
      ],
      "metadata": {
        "id": "M-2bXC-8dJpJ"
      },
      "execution_count": null,
      "outputs": []
    },
    {
      "cell_type": "code",
      "source": [
        "from sklearn.preprocessing import StandardScaler\n",
        "from sklearn.model_selection import train_test_split\n",
        "\n",
        "# StandardScaler()로 평균이 0, 분산 1로 데이터 분포도 변환\n",
        "scaler = StandardScaler()\n",
        "data_scaled = scaler.fit_transform(cancer.data)\n",
        "\n",
        "X_train, X_test, y_train, y_test = train_test_split(data_scaled, cancer.target,\n",
        "                                                    test_size=0.3, random_state=0)\n",
        "\n"
      ],
      "metadata": {
        "id": "6KLpRkAfdY88"
      },
      "execution_count": null,
      "outputs": []
    },
    {
      "cell_type": "code",
      "source": [
        "from sklearn.metrics import accuracy_score, roc_auc_score\n",
        "\n",
        "# 로지스틱 회귀를 이용해 학습 및 예측 수행\n",
        "lr_clf = LogisticRegression()\n",
        "lr_clf.fit(X_train, y_train)\n",
        "lr_preds = lr_clf.predict(X_test)\n",
        "\n",
        "# 정확도와 roc_auc 측정\n",
        "print('accuracy : {:0.3f}'.format(accuracy_score(y_test, lr_preds)))\n",
        "print('roc_auc : {:0.3f}'.format(roc_auc_score(y_test, lr_preds)))\n"
      ],
      "metadata": {
        "colab": {
          "base_uri": "https://localhost:8080/"
        },
        "id": "fXzbnKZYd6JS",
        "outputId": "465b18ed-2f2a-45f4-c743-a72d403c9af5"
      },
      "execution_count": null,
      "outputs": [
        {
          "output_type": "stream",
          "name": "stdout",
          "text": [
            "accuracy : 0.977\n",
            "roc_auc : 0.972\n"
          ]
        }
      ]
    },
    {
      "cell_type": "code",
      "source": [
        "from sklearn.model_selection import GridSearchCV\n",
        "\n",
        "params = {'penalty' : ['l2','l1'],\n",
        "          'C' : [0.01,0.1,1,1,5,10]}\n",
        "\n",
        "grid_clf = GridSearchCV(lr_clf, param_grid=params,\n",
        "                        scoring='accuracy', cv=3)\n",
        "grid_clf.fit(data_scaled, cancer.target)\n",
        "print('최적 하이퍼 파라미터 : {0}, 최적 평균 정확도 : {1:.3f}'.format(grid_clf.best_params_,\n",
        "                                                      grid_clf.best_score_))\n",
        "\n"
      ],
      "metadata": {
        "colab": {
          "base_uri": "https://localhost:8080/"
        },
        "id": "iHSR1FBfes6i",
        "outputId": "af3585aa-f581-4554-dc78-38c2d11483bc"
      },
      "execution_count": null,
      "outputs": [
        {
          "output_type": "stream",
          "name": "stdout",
          "text": [
            "최적 하이퍼 파라미터 : {'C': 1, 'penalty': 'l2'}, 최적 평균 정확도 : 0.975\n"
          ]
        },
        {
          "output_type": "stream",
          "name": "stderr",
          "text": [
            "/usr/local/lib/python3.7/dist-packages/sklearn/model_selection/_validation.py:372: FitFailedWarning: \n",
            "18 fits failed out of a total of 36.\n",
            "The score on these train-test partitions for these parameters will be set to nan.\n",
            "If these failures are not expected, you can try to debug them by setting error_score='raise'.\n",
            "\n",
            "Below are more details about the failures:\n",
            "--------------------------------------------------------------------------------\n",
            "18 fits failed with the following error:\n",
            "Traceback (most recent call last):\n",
            "  File \"/usr/local/lib/python3.7/dist-packages/sklearn/model_selection/_validation.py\", line 680, in _fit_and_score\n",
            "    estimator.fit(X_train, y_train, **fit_params)\n",
            "  File \"/usr/local/lib/python3.7/dist-packages/sklearn/linear_model/_logistic.py\", line 1461, in fit\n",
            "    solver = _check_solver(self.solver, self.penalty, self.dual)\n",
            "  File \"/usr/local/lib/python3.7/dist-packages/sklearn/linear_model/_logistic.py\", line 449, in _check_solver\n",
            "    % (solver, penalty)\n",
            "ValueError: Solver lbfgs supports only 'l2' or 'none' penalties, got l1 penalty.\n",
            "\n",
            "  warnings.warn(some_fits_failed_message, FitFailedWarning)\n",
            "/usr/local/lib/python3.7/dist-packages/sklearn/model_selection/_search.py:972: UserWarning: One or more of the test scores are non-finite: [0.94555834        nan 0.97364708        nan 0.97539218        nan\n",
            " 0.97539218        nan 0.97011974        nan 0.96661097        nan]\n",
            "  category=UserWarning,\n"
          ]
        }
      ]
    },
    {
      "cell_type": "markdown",
      "source": [
        "## 회귀 트리\n",
        "\n",
        "✏️ 비선형 회귀 : 비선형 회귀 함수를 통해 결괏값 예측, 다만 회귀 계수의 결합이 비선형\n",
        "\n",
        "✏️ 트리 기반의 회귀 : 회귀 트리를 이용하는 것\n",
        "\n",
        "- 회귀를 위한 트리를 생성하고 이를 기반으로 회귀 예측\n",
        "- 분류 트리와 크게 다르지 않으나 리프 노드에서 예측 결정값을 만드는 과정에 차이가 있음\n",
        "  - 분류 트리가 특정 클래스 레이블을 결정하는 것과는 달리 회귀 트리는 리프 노드에 속한 데이터 값의 평균값을 구해 회귀 예측값을 계산\n",
        "\n",
        "✏️ 회귀 트리가 어떻게 동작하는가?\n",
        "\n",
        "- 피처가 단 하나인 X 피처 데이터 세트와 결정값 Y가 2차원 평면상에 있다고 가정\n",
        "- X 피처를 결정 트리 기반으로 분할하면 X값의 균일도를 반영한 지니 계수에 따라 분할\n",
        "- 리프 노드 생성 기준에 부합하는 트리 분할이 완료됐다면 리프 노드에 소속된 데이터 값의 평균값을 구해서 최종적으로 리프 노드에 결정값으로 할당\n",
        "  \n",
        "✏️ 모든 트리 기반의 알고리즘은 분류 뿐만 아니라 회귀도 가능 : 트리 생성이 CART 알고리즘에 기반하고 있기 때문\n",
        "\n",
        "\n",
        "✏️ 알고리즘과 회귀, 분류 Estimator 클래스\n",
        "\n",
        "|  알고리즘  |  회귀 Estimator 클래스 | 분류 Estimator 클래스\n",
        "| : --- : | : --- : | : ---: | \n",
        "| Decision Tree | DecisionTreeRegressor | DecisionTreeClassifier |\n",
        "| Gradient Boosting | GradientBoostingRegressor | GradientBoositngClassifier |\n",
        "| XGBoost | XGBRegressor | XGBClassifier |\n",
        "| LightGBM | LGBRegressor | LGBMClassifier |\n"
      ],
      "metadata": {
        "id": "8kH3Gy8eesce"
      }
    },
    {
      "cell_type": "code",
      "source": [
        "from sklearn.datasets import load_boston\n",
        "from sklearn.model_selection import cross_val_score\n",
        "from sklearn.ensemble import RandomForestRegressor\n",
        "import pandas as pd\n",
        "import numpy as np\n",
        "\n",
        "# 보스턴 데이터 세트 로드\n",
        "boston = load_boston()\n",
        "bostonDF = pd.DataFrame(boston.data, columns = boston.feature_names)\n",
        "\n",
        "bostonDF['PRICE'] = boston.target\n",
        "y_target = bostonDF['PRICE']\n",
        "X_data = bostonDF.drop(['PRICE'], axis=1, inplace=False)\n",
        "\n",
        "rf = RandomForestRegressor(random_state=0, n_estimators=1000)\n",
        "neg_mse_scores = cross_val_score(rf, X_data, y_target, scoring='neg_mean_squared_error', cv=5)\n",
        "rmse_scores = np.sqrt(-1 * neg_mse_scores)\n",
        "avg_rmse = np.mean(rmse_scores)\n",
        "\n",
        "print('5 교차 검증의 개별 Negative MSE series : ', np.round(neg_mse_scores,2))\n",
        "print('5 교차 검증의 개별 RMSE scores : ', np.round(rmse_scores, 2))\n",
        "print('5 교차 검증의 평균 RMSE : {0:.3f}'.format(avg_rmse))"
      ],
      "metadata": {
        "colab": {
          "base_uri": "https://localhost:8080/"
        },
        "id": "n6LX_SsIs28H",
        "outputId": "b75fd9cf-c287-40f3-8086-7837d2e1c210"
      },
      "execution_count": 6,
      "outputs": [
        {
          "output_type": "stream",
          "name": "stderr",
          "text": [
            "/usr/local/lib/python3.7/dist-packages/sklearn/utils/deprecation.py:87: FutureWarning: Function load_boston is deprecated; `load_boston` is deprecated in 1.0 and will be removed in 1.2.\n",
            "\n",
            "    The Boston housing prices dataset has an ethical problem. You can refer to\n",
            "    the documentation of this function for further details.\n",
            "\n",
            "    The scikit-learn maintainers therefore strongly discourage the use of this\n",
            "    dataset unless the purpose of the code is to study and educate about\n",
            "    ethical issues in data science and machine learning.\n",
            "\n",
            "    In this special case, you can fetch the dataset from the original\n",
            "    source::\n",
            "\n",
            "        import pandas as pd\n",
            "        import numpy as np\n",
            "\n",
            "\n",
            "        data_url = \"http://lib.stat.cmu.edu/datasets/boston\"\n",
            "        raw_df = pd.read_csv(data_url, sep=\"\\s+\", skiprows=22, header=None)\n",
            "        data = np.hstack([raw_df.values[::2, :], raw_df.values[1::2, :2]])\n",
            "        target = raw_df.values[1::2, 2]\n",
            "\n",
            "    Alternative datasets include the California housing dataset (i.e.\n",
            "    :func:`~sklearn.datasets.fetch_california_housing`) and the Ames housing\n",
            "    dataset. You can load the datasets as follows::\n",
            "\n",
            "        from sklearn.datasets import fetch_california_housing\n",
            "        housing = fetch_california_housing()\n",
            "\n",
            "    for the California housing dataset and::\n",
            "\n",
            "        from sklearn.datasets import fetch_openml\n",
            "        housing = fetch_openml(name=\"house_prices\", as_frame=True)\n",
            "\n",
            "    for the Ames housing dataset.\n",
            "    \n",
            "  warnings.warn(msg, category=FutureWarning)\n"
          ]
        },
        {
          "output_type": "stream",
          "name": "stdout",
          "text": [
            "5 교차 검증의 개별 Negative MSE series :  [ -7.88 -13.14 -20.57 -46.23 -18.88]\n",
            "5 교차 검증의 개별 RMSE scores :  [2.81 3.63 4.54 6.8  4.34]\n",
            "5 교차 검증의 평균 RMSE : 4.423\n"
          ]
        }
      ]
    },
    {
      "cell_type": "code",
      "source": [
        "def get_model_cv_prediction(model, X_data, y_target):\n",
        "  neg_mse_scores = cross_val_score(model, X_data, y_target, scoring = 'neg_mean_squared_error', cv=5)\n",
        "  rmse_scores = np.sqrt(-1 * neg_mse_scores)\n",
        "  avg_rmse = np.mean(rmse_scores)\n",
        "  print('#####', model.__class__.__name__, '#####')\n",
        "  print('5 교차 검증의 평균 RMSE : {0:.3f}'.format(avg_rmse))"
      ],
      "metadata": {
        "id": "R-Q3xSG4v7HQ"
      },
      "execution_count": 7,
      "outputs": []
    },
    {
      "cell_type": "code",
      "source": [
        "from sklearn.tree import DecisionTreeRegressor\n",
        "from sklearn.ensemble import GradientBoostingRegressor\n",
        "from xgboost import XGBRegressor\n",
        "from lightgbm import LGBMRegressor\n",
        "\n",
        "dt_reg = DecisionTreeRegressor(random_state=0, max_depth=4)\n",
        "rf_reg = RandomForestRegressor(random_state=0, n_estimators=1000)\n",
        "gb_reg = GradientBoostingRegressor(random_state=0, n_estimators=1000)\n",
        "xgb_reg = XGBRegressor(n_estimators=1000)\n",
        "lgb_reg = LGBMRegressor(n_estimators=1000)\n",
        "\n",
        "# 트리 기반의 회귀 모델을 반복하면서 평가 수행\n",
        "models = [dt_reg, rf_reg, gb_reg, xgb_reg, lgb_reg]\n",
        "for model in models : \n",
        "  get_model_cv_prediction(model, X_data, y_target)"
      ],
      "metadata": {
        "colab": {
          "base_uri": "https://localhost:8080/"
        },
        "id": "sXoFh-xKxCPT",
        "outputId": "85f2c173-2312-49ca-9634-228f378984fb"
      },
      "execution_count": 10,
      "outputs": [
        {
          "output_type": "stream",
          "name": "stdout",
          "text": [
            "##### DecisionTreeRegressor #####\n",
            "5 교차 검증의 평균 RMSE : 5.978\n",
            "##### RandomForestRegressor #####\n",
            "5 교차 검증의 평균 RMSE : 4.423\n",
            "##### GradientBoostingRegressor #####\n",
            "5 교차 검증의 평균 RMSE : 4.269\n",
            "[17:06:29] WARNING: /workspace/src/objective/regression_obj.cu:152: reg:linear is now deprecated in favor of reg:squarederror.\n",
            "[17:06:30] WARNING: /workspace/src/objective/regression_obj.cu:152: reg:linear is now deprecated in favor of reg:squarederror.\n",
            "[17:06:30] WARNING: /workspace/src/objective/regression_obj.cu:152: reg:linear is now deprecated in favor of reg:squarederror.\n",
            "[17:06:30] WARNING: /workspace/src/objective/regression_obj.cu:152: reg:linear is now deprecated in favor of reg:squarederror.\n",
            "[17:06:31] WARNING: /workspace/src/objective/regression_obj.cu:152: reg:linear is now deprecated in favor of reg:squarederror.\n",
            "##### XGBRegressor #####\n",
            "5 교차 검증의 평균 RMSE : 4.089\n",
            "##### LGBMRegressor #####\n",
            "5 교차 검증의 평균 RMSE : 4.646\n"
          ]
        }
      ]
    },
    {
      "cell_type": "code",
      "source": [
        "# 피처별 중요도 시각화\n",
        "\n",
        "import seaborn as sns\n",
        "%matplotlib inline\n",
        "\n",
        "rf_reg = RandomForestRegressor(n_estimators=1000)\n",
        "\n",
        "# 앞 여제에서 만들어진 X_data, y_target 데이터 세트를 적용해 학습\n",
        "rf_reg.fit(X_data, y_target)\n",
        "\n",
        "feature_series = pd.Series(data=rf_reg.feature_importances_, index = X_data.columns)\n",
        "feature_series = feature_series.sort_values(ascending=False)\n",
        "sns.barplot(x=feature_series, y=feature_series.index)"
      ],
      "metadata": {
        "colab": {
          "base_uri": "https://localhost:8080/",
          "height": 283
        },
        "id": "2Fp2amWeyMr7",
        "outputId": "9b26c85a-874d-49ac-b362-5ed33bed8696"
      },
      "execution_count": 12,
      "outputs": [
        {
          "output_type": "execute_result",
          "data": {
            "text/plain": [
              "<matplotlib.axes._subplots.AxesSubplot at 0x7f7787397650>"
            ]
          },
          "metadata": {},
          "execution_count": 12
        },
        {
          "output_type": "display_data",
          "data": {
            "text/plain": [
              "<Figure size 432x288 with 1 Axes>"
            ],
            "image/png": "[encoded data removed]"
          },
          "metadata": {
            "needs_background": "light"
          }
        }
      ]
    },
    {
      "cell_type": "code",
      "source": [
        "bostonDF_sample = bostonDF[['RM', 'PRICE']]\n",
        "bostonDF_sample = bostonDF_sample.sample(n=100, random_state=0)\n",
        "print(bostonDF_sample.shape)\n",
        "plt.figure()\n",
        "plt.scatter(bostonDF_sample.RM, bostonDF_sample.PRICE, c='darkorange')"
      ],
      "metadata": {
        "colab": {
          "base_uri": "https://localhost:8080/",
          "height": 302
        },
        "id": "r3KGg7V7yzhD",
        "outputId": "57beeccc-ea99-432d-961a-8111e74813c9"
      },
      "execution_count": 13,
      "outputs": [
        {
          "output_type": "stream",
          "name": "stdout",
          "text": [
            "(100, 2)\n"
          ]
        },
        {
          "output_type": "execute_result",
          "data": {
            "text/plain": [
              "<matplotlib.collections.PathCollection at 0x7f7786666ad0>"
            ]
          },
          "metadata": {},
          "execution_count": 13
        },
        {
          "output_type": "display_data",
          "data": {
            "text/plain": [
              "<Figure size 432x288 with 1 Axes>"
            ],
            "image/png": "[encoded data removed]"
          },
          "metadata": {
            "needs_background": "light"
          }
        }
      ]
    },
    {
      "cell_type": "code",
      "source": [
        "import numpy as np\n",
        "from sklearn.linear_model import LinearRegression\n",
        "\n",
        "# 선형 회귀와 결정 트리 기반의 Regressor 생성, DecisionTreeRegressor의 max_depth는 각각 2, 7\n",
        "lr_reg = LinearRegression()\n",
        "rf_reg2 = DecisionTreeRegressor(max_depth=2)\n",
        "rf_reg7 = DecisionTreeRegressor(max_depth=7)\n",
        "\n",
        "# 실제 예측을 적용할 테스트용 데이터 세트를 4.5~8.5까지의 100개 데이터 세트로 생성\n",
        "X_test = np.arange(4.5, 8.5, 0.04).reshape(-1,1)\n",
        "\n",
        "# 보스턴 주택 가격 데이터에서 시각화를 위해 피처는 RM만, 그리고 결정 데이터인 PRICE 추출\n",
        "X_feature = bostonDF_sample['RM'].values.reshape(-1,1)\n",
        "y_target = bostonDF_sample['PRICE'].values.reshape(-1,1)\n",
        "\n",
        "# 학습과 예측 수행\n",
        "lr_reg.fit(X_feature, y_target)\n",
        "rf_reg2.fit(X_feature, y_target)\n",
        "rf_reg7.fit(X_feature, y_target)\n",
        "\n",
        "pred_lr = lr_reg.predict(X_test)\n",
        "pred_rf2 = rf_reg2.predict(X_test)\n",
        "pred_rf7 = rf_reg7.predict(X_test)"
      ],
      "metadata": {
        "id": "DuNnqoD8zdif"
      },
      "execution_count": 15,
      "outputs": []
    },
    {
      "cell_type": "code",
      "source": [
        "fig, (ax1, ax2, ax3) = plt.subplots(figsize=(14,4), ncols=3)\n",
        "\n",
        "# X축 값을 4.5~8.5로 변환하며 입력했을 때 선형 회귀와 결정 트리 회귀 예측선 시각화\n",
        "# 선형 회귀로 학습된 모델 회귀 예츠그선\n",
        "ax1.set_title('LinearRegression')\n",
        "ax1.scatter(bostonDF_sample.RM, bostonDF_sample.PRICE, c='darkorange')\n",
        "ax1.plot(X_test, pred_lr, label='linear', linewidth=2)\n",
        "\n",
        "# DecisionTreeRegressor의 max_depth를 2로 했을 떄 회귀 예측선\n",
        "ax2.set_title('Decision Tree Regression : \\n max_depth=2')\n",
        "ax2.scatter(bostonDF_sample.RM, bostonDF_sample.PRICE, c='darkorange')\n",
        "ax2.plot(X_test, pred_rf2, label='max_depth:2', linewidth=2)\n",
        "\n",
        "# DecisionTreeRegressor의 max_depth를 7로 했을 떄 회귀 예측선\n",
        "ax3.set_title('Decision Tree Regression : \\n max_depth=7')\n",
        "ax3.scatter(bostonDF_sample.RM, bostonDF_sample.PRICE, c='darkorange')\n",
        "ax3.plot(X_test, pred_rf7, label='max_depth:3', linewidth=2)"
      ],
      "metadata": {
        "colab": {
          "base_uri": "https://localhost:8080/",
          "height": 314
        },
        "id": "mW2SXRq_0lLG",
        "outputId": "507b66a4-ae62-4874-d8c7-fb30e70c16d2"
      },
      "execution_count": 21,
      "outputs": [
        {
          "output_type": "execute_result",
          "data": {
            "text/plain": [
              "[<matplotlib.lines.Line2D at 0x7f7786043390>]"
            ]
          },
          "metadata": {},
          "execution_count": 21
        },
        {
          "output_type": "display_data",
          "data": {
            "text/plain": [
              "<Figure size 1008x288 with 3 Axes>"
            ],
            "image/png": "[encoded data removed]"
          },
          "metadata": {
            "needs_background": "light"
          }
        }
      ]
    }
  ]
}