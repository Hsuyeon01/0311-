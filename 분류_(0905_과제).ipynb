{
  "nbformat": 4,
  "nbformat_minor": 0,
  "metadata": {
    "colab": {
      "provenance": [],
      "collapsed_sections": [],
      "authorship_tag": "ABX9TyOz4LQtrnHG/WSgcXkaj/6u",
      "include_colab_link": true
    },
    "kernelspec": {
      "name": "python3",
      "display_name": "Python 3"
    },
    "language_info": {
      "name": "python"
    }
  },
  "cells": [
    {
      "cell_type": "markdown",
      "metadata": {
        "id": "view-in-github",
        "colab_type": "text"
      },
      "source": [
        "<a href=\"https://colab.research.google.com/github/Hsuyeon01/ESAA/blob/main/%EB%B6%84%EB%A5%98_(0905_%EA%B3%BC%EC%A0%9C).ipynb\" target=\"_parent\"><img src=\"https://colab.research.google.com/assets/colab-badge.svg\" alt=\"Open In Colab\"/></a>"
      ]
    },
    {
      "cell_type": "markdown",
      "source": [
        "## **3-1. MNIST**\n",
        "\n"
      ],
      "metadata": {
        "id": "mV65Sc8r532X"
      }
    },
    {
      "cell_type": "code",
      "execution_count": 1,
      "metadata": {
        "colab": {
          "base_uri": "https://localhost:8080/"
        },
        "id": "51-9z01l5MBi",
        "outputId": "fdeea6a5-ef3d-4767-c285-8087b56f17bd"
      },
      "outputs": [
        {
          "output_type": "execute_result",
          "data": {
            "text/plain": [
              "dict_keys(['data', 'target', 'frame', 'categories', 'feature_names', 'target_names', 'DESCR', 'details', 'url'])"
            ]
          },
          "metadata": {},
          "execution_count": 1
        }
      ],
      "source": [
        "from sklearn.datasets import fetch_openml\n",
        "\n",
        "#as_frame 설정을 False로 해주면 기본값인 판다스 데이터프레임으로 파일을 받아 옴\n",
        "\n",
        "mnist = fetch_openml('mnist_784', version=1, as_frame = False)\n",
        "mnist.keys()"
      ]
    },
    {
      "cell_type": "markdown",
      "source": [
        "사이킷런에서 읽어 들인 데이터셋들이 가지는 비슷한 딕셔너리 구조\n",
        "\n",
        "- 데이터셋을 설명하는 DESCR 키\n",
        "- 샘플이 하나의 행, 특성이 하나의 열로 구성된 배열을 가진 data 키\n",
        "- 레이블 배열을 담은 target 키\n"
      ],
      "metadata": {
        "id": "mIqimwAw6bhD"
      }
    },
    {
      "cell_type": "code",
      "source": [
        "X,y = mnist['data'], mnist['target']\n",
        "X.shape"
      ],
      "metadata": {
        "colab": {
          "base_uri": "https://localhost:8080/"
        },
        "id": "172r8U-E6xY0",
        "outputId": "00334c86-ea01-4f99-b1bd-cb2d6b3ffd05"
      },
      "execution_count": 2,
      "outputs": [
        {
          "output_type": "execute_result",
          "data": {
            "text/plain": [
              "(70000, 784)"
            ]
          },
          "metadata": {},
          "execution_count": 2
        }
      ]
    },
    {
      "cell_type": "code",
      "source": [
        "y.shape"
      ],
      "metadata": {
        "colab": {
          "base_uri": "https://localhost:8080/"
        },
        "id": "7jHIVTJI64Vq",
        "outputId": "070596df-8d45-408c-a5aa-f1f90d91be8e"
      },
      "execution_count": 3,
      "outputs": [
        {
          "output_type": "execute_result",
          "data": {
            "text/plain": [
              "(70000,)"
            ]
          },
          "metadata": {},
          "execution_count": 3
        }
      ]
    },
    {
      "cell_type": "markdown",
      "source": [
        "- 이미지가 70,000개 있고 각 이미지에는 784개의 특성이 있음\n",
        "- 개개의 특성은 단순히 0(흰색)부터 255(검은색)까지의 픽셀 강도를 나타냄"
      ],
      "metadata": {
        "id": "3Kv2FRMd7nyv"
      }
    },
    {
      "cell_type": "code",
      "source": [
        "# 데이터셋에서 이미지 하나 확인\n",
        "import matplotlib as mpl\n",
        "import matplotlib.pyplot as plt\n",
        "import pandas as pd\n",
        "\n",
        "some_digit = X[0]\n",
        "some_digit_image = some_digit.reshape(28,28)\n",
        "\n",
        "plt.imshow(some_digit_image, cmap = 'binary')\n",
        "plt.axis('off')\n",
        "plt.show()"
      ],
      "metadata": {
        "colab": {
          "base_uri": "https://localhost:8080/",
          "height": 248
        },
        "id": "p6I1k2Nt6_5E",
        "outputId": "0df519ad-c74d-4ddb-d2a3-4428cd624ba4"
      },
      "execution_count": 4,
      "outputs": [
        {
          "output_type": "display_data",
          "data": {
            "text/plain": [
              "<Figure size 432x288 with 1 Axes>"
            ],
            "image/png": "[encoded data removed]"
          },
          "metadata": {
            "needs_background": "light"
          }
        }
      ]
    },
    {
      "cell_type": "code",
      "source": [
        "y[0]"
      ],
      "metadata": {
        "colab": {
          "base_uri": "https://localhost:8080/",
          "height": 36
        },
        "id": "nhLNanvI8mUR",
        "outputId": "00079c9f-e97b-4189-cb4f-19bc118bde02"
      },
      "execution_count": 5,
      "outputs": [
        {
          "output_type": "execute_result",
          "data": {
            "text/plain": [
              "'5'"
            ],
            "application/vnd.google.colaboratory.intrinsic+json": {
              "type": "string"
            }
          },
          "metadata": {},
          "execution_count": 5
        }
      ]
    },
    {
      "cell_type": "code",
      "source": [
        "# 레이블은 문자열, y를 정수로 변환\n",
        "\n",
        "import numpy as np\n",
        "y=y.astype(np.uint8)"
      ],
      "metadata": {
        "id": "qwB5Qy6Y8w_e"
      },
      "execution_count": 6,
      "outputs": []
    },
    {
      "cell_type": "code",
      "source": [
        "# 테스트 세트, 학습 세트 분리\n",
        "\n",
        "X_train, X_test, y_train, y_test = X[:60000], X[60000:], y[:60000], y[60000:]"
      ],
      "metadata": {
        "id": "LYU91moO9AEG"
      },
      "execution_count": 7,
      "outputs": []
    },
    {
      "cell_type": "markdown",
      "source": [
        "## **3-2. 이진분류기 훈련**\n",
        "\n"
      ],
      "metadata": {
        "id": "sVUDKkhU6lU8"
      }
    },
    {
      "cell_type": "markdown",
      "source": [
        "- '5-감지기' : '5'와 '5 아님' 두 개의 클래스를 구분할 수 있는 **이진분류기**의 한 예"
      ],
      "metadata": {
        "id": "eOsH1Pz29GPK"
      }
    },
    {
      "cell_type": "code",
      "source": [
        "# 분류 작업을 위해 타깃 벡터 만들기\n",
        "\n",
        "y_train_5 = (y_train==5) # 5는 True고, 다른 숫자는 모두 False\n",
        "y_test_5 = (y_test == 5)"
      ],
      "metadata": {
        "id": "fziInloi9ysj"
      },
      "execution_count": 8,
      "outputs": []
    },
    {
      "cell_type": "markdown",
      "source": [
        "- 확률적 경사 하강법(SGD) 분류기 : \n",
        "    - 매우 큰 데이터셋을 효율적으로 처리하는 장점을 가짐 -> 한 번에 하나씩 훈련 샘플을 독립적으로 처리하기 때문 "
      ],
      "metadata": {
        "id": "lfocBVBp-Vvb"
      }
    },
    {
      "cell_type": "code",
      "source": [
        "# SGDClassifier 모델을 만들고 전체 훈련 세트를 사용해 훈련\n",
        "\n",
        "from sklearn.linear_model import SGDClassifier\n",
        "\n",
        "sgd_clf = SGDClassifier(random_state=42)\n",
        "sgd_clf.fit(X_train, y_train_5)"
      ],
      "metadata": {
        "colab": {
          "base_uri": "https://localhost:8080/"
        },
        "id": "9VogPFbb-0z5",
        "outputId": "ce7ec447-a8b5-4ba5-a1eb-bda93e822507"
      },
      "execution_count": 9,
      "outputs": [
        {
          "output_type": "execute_result",
          "data": {
            "text/plain": [
              "SGDClassifier(random_state=42)"
            ]
          },
          "metadata": {},
          "execution_count": 9
        }
      ]
    },
    {
      "cell_type": "code",
      "source": [
        "# 모델을 이용해 숫자 5를 감지\n",
        "\n",
        "sgd_clf.predict([some_digit])"
      ],
      "metadata": {
        "colab": {
          "base_uri": "https://localhost:8080/"
        },
        "id": "q_j1_gpZAF-P",
        "outputId": "4c173030-012b-49dd-c526-2ba82b70296a"
      },
      "execution_count": 10,
      "outputs": [
        {
          "output_type": "execute_result",
          "data": {
            "text/plain": [
              "array([ True])"
            ]
          },
          "metadata": {},
          "execution_count": 10
        }
      ]
    },
    {
      "cell_type": "markdown",
      "source": [
        "-> 분류기는 이 이미지가 5를 나타낸다고 추측함"
      ],
      "metadata": {
        "id": "IChj-6BUAdV_"
      }
    },
    {
      "cell_type": "markdown",
      "source": [
        "## **3-3. 성능 측정**"
      ],
      "metadata": {
        "id": "W_YgyequAx1L"
      }
    },
    {
      "cell_type": "markdown",
      "source": [
        "### 3-3-1) 교차 검증을 사용한 정확도 측정\n",
        "\n",
        "교차 검증 구현\n",
        "\n",
        "- 사이킷런이 제공하는 기능보다 교차 검증 과정을 더 많이 제어해야 할 필요 -> 교차 검증 기능을 직접 구현하면 됨"
      ],
      "metadata": {
        "id": "RfvK649uAw8e"
      }
    },
    {
      "cell_type": "code",
      "source": [
        "# cross_val_score() 함수와 거의 같은 작업을 수행하고 동일한 결과를 출력하는 코드\n",
        "\n",
        "from sklearn.model_selection import StratifiedKFold\n",
        "from sklearn.base import clone\n",
        "\n",
        "skfolds = StratifiedKFold(n_splits=3,shuffle=True, random_state=42)\n",
        "\n",
        "for train_index, test_index in skfolds.split(X_train, y_train_5):\n",
        "  clone_clf = clone(sgd_clf) # 데이터 복사 후 가져옴\n",
        "  X_train_folds = X_train[train_index]\n",
        "  y_train_folds = y_train_5[train_index]\n",
        "  X_test_fold = X_train[test_index]\n",
        "  y_test_fold = y_train_5[test_index]\n",
        "\n",
        "  clone_clf.fit(X_train_folds, y_train_folds)\n",
        "  y_pred = clone_clf.predict(X_test_fold)\n",
        "  n_correct = sum(y_pred == y_test_fold)\n",
        "  print(n_correct / len(y_pred))\n"
      ],
      "metadata": {
        "colab": {
          "base_uri": "https://localhost:8080/"
        },
        "id": "udG1XG3pCTmf",
        "outputId": "c1b1b921-eaf3-4835-cd3e-36fe3c94b90e"
      },
      "execution_count": 11,
      "outputs": [
        {
          "output_type": "stream",
          "name": "stdout",
          "text": [
            "0.9669\n",
            "0.91625\n",
            "0.96785\n"
          ]
        }
      ]
    },
    {
      "cell_type": "markdown",
      "source": [
        "- StratifiedKFold는 클래스별 비율이 유지되도록 폴드를 만들기 위해 계층적 샘플링 수행\n",
        "  - 매 반복에서 분류기 객체를 복제하여 훈련폴드로 훈련시키고 테스트 폴드로 예측을 만듦\n",
        "  - 그런 다음 올바른 예측의 수를 세어 정확한 예측의 비율을 출력"
      ],
      "metadata": {
        "id": "ZLSWDlKzIxJR"
      }
    },
    {
      "cell_type": "code",
      "source": [
        "# cross_val_score 함수로 폴드가 3개인 k-겹 교차 검증을 사용해 SGDCLassifier 모델을 평가\n",
        "# 나머지 폴드로 훈련시킨 모델을 사용\n",
        "\n",
        "from sklearn.model_selection import cross_val_score\n",
        "cross_val_score(sgd_clf, X_train, y_train_5, cv=3, scoring='accuracy')"
      ],
      "metadata": {
        "colab": {
          "base_uri": "https://localhost:8080/"
        },
        "id": "i_mx6N-YHFD6",
        "outputId": "06898a16-bdbd-41a0-bf77-a63e03e05f74"
      },
      "execution_count": 12,
      "outputs": [
        {
          "output_type": "execute_result",
          "data": {
            "text/plain": [
              "array([0.95035, 0.96035, 0.9604 ])"
            ]
          },
          "metadata": {},
          "execution_count": 12
        }
      ]
    },
    {
      "cell_type": "code",
      "source": [
        "# 모든 이미지를 '5 아님' 클래스로 분류하는 더미 분류기를 만들어 비교\n",
        "\n",
        "from sklearn.base import BaseEstimator\n",
        "\n",
        "class Never5Classifier(BaseEstimator):\n",
        "  def fit(self, X, y=None):\n",
        "    return self\n",
        "  def predict(self, X):\n",
        "    return np.zeros((len(X),1), dtype=bool)"
      ],
      "metadata": {
        "id": "n00BATo5L7Kt"
      },
      "execution_count": 13,
      "outputs": []
    },
    {
      "cell_type": "code",
      "source": [
        "never_5_clf = Never5Classifier()\n",
        "cross_val_score(never_5_clf, X_train, y_train_5, cv=3, scoring='accuracy')"
      ],
      "metadata": {
        "colab": {
          "base_uri": "https://localhost:8080/"
        },
        "id": "RlexzQWFMhOr",
        "outputId": "b7a22c13-303c-4dcd-c84d-0eac36c02d5f"
      },
      "execution_count": 14,
      "outputs": [
        {
          "output_type": "execute_result",
          "data": {
            "text/plain": [
              "array([0.91125, 0.90855, 0.90915])"
            ]
          },
          "metadata": {},
          "execution_count": 14
        }
      ]
    },
    {
      "cell_type": "markdown",
      "source": [
        "-> 정확도를 분류기의 성능 측정 지표로 선호하지 않는 이유를 보여줌 (특히 불균형한 데이터셋을 다룰 때)"
      ],
      "metadata": {
        "id": "SjHZXd2XCTKG"
      }
    },
    {
      "cell_type": "markdown",
      "source": [
        "### 3-3-2) 오차 행렬\n",
        "\n",
        "오차 행렬\n",
        "\n",
        "- 클래스 A의 샘플이 클래스 B로 분류된 횟수를 세는 것\n",
        "- 실제 타깃과 비교할 수 있도록 먼저 예측값을 만들어야 함\n",
        "- 테스트 세트로 예측을 만들 수 있지만 사용 X -> cross_val_predict() 함수 사용\n",
        "- 행은 **실제 클래스**를 나타내고 열은 **예측한 클래스**를 나타냄"
      ],
      "metadata": {
        "id": "Mb0gdA6YOr_p"
      }
    },
    {
      "cell_type": "code",
      "source": [
        "from sklearn.model_selection import cross_val_predict\n",
        "\n",
        "y_train_pred = cross_val_predict(sgd_clf, X_train, y_train_5, cv=3)"
      ],
      "metadata": {
        "id": "olGRqQcqPbzs"
      },
      "execution_count": 15,
      "outputs": []
    },
    {
      "cell_type": "markdown",
      "source": [
        "- cross_val_predict() 함수는 k-겹 교차 검증을 수행하지만 평가 점수를 반환하지 않고 각 테스트 폴드에서 얻은 예측을 반환 (훈련 세트의 모든 샘플에 대해 깨끗한 예측을 얻게 됨)"
      ],
      "metadata": {
        "id": "IGwsa1X5QFBO"
      }
    },
    {
      "cell_type": "code",
      "source": [
        "from sklearn.metrics import confusion_matrix\n",
        "confusion_matrix(y_train_5, y_train_pred)"
      ],
      "metadata": {
        "colab": {
          "base_uri": "https://localhost:8080/"
        },
        "id": "hXeBJCBaQVFa",
        "outputId": "5c7c8031-721f-4641-8ff3-07f256301dd0"
      },
      "execution_count": 16,
      "outputs": [
        {
          "output_type": "execute_result",
          "data": {
            "text/plain": [
              "array([[53892,   687],\n",
              "       [ 1891,  3530]])"
            ]
          },
          "metadata": {},
          "execution_count": 16
        }
      ]
    },
    {
      "cell_type": "code",
      "source": [
        "y_train_perfect_predictions = y_train_5  #완벽한 분류기일 경우\n",
        "confusion_matrix(y_train_5, y_train_perfect_predictions)"
      ],
      "metadata": {
        "colab": {
          "base_uri": "https://localhost:8080/"
        },
        "id": "dNOjBDAqRUfe",
        "outputId": "1664a1c7-1ee1-42ba-8b27-db5632e44033"
      },
      "execution_count": 17,
      "outputs": [
        {
          "output_type": "execute_result",
          "data": {
            "text/plain": [
              "array([[54579,     0],\n",
              "       [    0,  5421]])"
            ]
          },
          "metadata": {},
          "execution_count": 17
        }
      ]
    },
    {
      "cell_type": "markdown",
      "source": [
        "### 3-3-3) 정밀도와 재현율"
      ],
      "metadata": {
        "id": "cQSo_vvoS0_7"
      }
    },
    {
      "cell_type": "markdown",
      "source": [
        "정밀도 \n",
        "\n",
        "- 양성 예측의 정확도 \n",
        "- 정밀도 = TP / TP(진짜 양성의 수)+FP(거짓 양성의 수)\n",
        "- 분류기가 다른 모든 양성 샘플을 무시하기 때문에 그리 유용하지 않음\n",
        "\n",
        "재현율\n",
        "\n",
        "- 분류기가 정확하게 감지한 양성 샘플의 비율\n",
        "- 민감도 또는 진짜 양성 비율이라고도 함\n",
        "- 재현율 = TP / TP+FN(거짓 음성의 수)"
      ],
      "metadata": {
        "id": "Z3lGu9yyRjuw"
      }
    },
    {
      "cell_type": "code",
      "source": [
        "from sklearn.metrics import precision_score, recall_score\n",
        "precision_score(y_train_5, y_train_pred)"
      ],
      "metadata": {
        "colab": {
          "base_uri": "https://localhost:8080/"
        },
        "id": "ki7N6vcQS4va",
        "outputId": "1878e181-54f9-4379-9d23-3631892d4142"
      },
      "execution_count": 18,
      "outputs": [
        {
          "output_type": "execute_result",
          "data": {
            "text/plain": [
              "0.8370879772350012"
            ]
          },
          "metadata": {},
          "execution_count": 18
        }
      ]
    },
    {
      "cell_type": "code",
      "source": [
        "recall_score(y_train_5, y_train_pred)"
      ],
      "metadata": {
        "colab": {
          "base_uri": "https://localhost:8080/"
        },
        "id": "X0bzl2g6TCx1",
        "outputId": "6c27e54b-a48b-45e1-b931-bedc338671f1"
      },
      "execution_count": 19,
      "outputs": [
        {
          "output_type": "execute_result",
          "data": {
            "text/plain": [
              "0.6511713705958311"
            ]
          },
          "metadata": {},
          "execution_count": 19
        }
      ]
    },
    {
      "cell_type": "markdown",
      "source": [
        "F1 점수\n",
        "- 정밀도와 재현율의 조화 평균\n",
        "![스크린샷 2022-09-04 오후 4.11.07.png](data:image/png;base64,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)"
      ],
      "metadata": {
        "id": "J6raiIFCVgAq"
      }
    },
    {
      "cell_type": "code",
      "source": [
        "from sklearn.metrics import f1_score\n",
        "f1_score(y_train_5, y_train_pred)"
      ],
      "metadata": {
        "colab": {
          "base_uri": "https://localhost:8080/"
        },
        "id": "wby2j-baVxtK",
        "outputId": "e5967e1c-feb5-4008-a8e1-d2df1ca298e8"
      },
      "execution_count": 20,
      "outputs": [
        {
          "output_type": "execute_result",
          "data": {
            "text/plain": [
              "0.7325171197343846"
            ]
          },
          "metadata": {},
          "execution_count": 20
        }
      ]
    },
    {
      "cell_type": "markdown",
      "source": [
        "- 상황에 따라 정밀도가 중요할 수도 있고 재현율이 중요할 수도 있음\n",
        "- 정밀도/재현율 트레이드오프 : 정밀도를 올리면 재현율이 줄고 그 반대도 마찬가지"
      ],
      "metadata": {
        "id": "op26kxxoV9Pk"
      }
    },
    {
      "cell_type": "markdown",
      "source": [
        "### 3-3-4) 정밀도/재현율 트레이드오프\n",
        "\n",
        "- SGDClassifier 분류기는 결정함수를 사용하여 각 샘플의 점수를 계산\n",
        "  - 이 점수가 임곗값보다 크면 샘플을 양성 클래스에 할당하고 그렇지 않으면 음성 클래스에 할당"
      ],
      "metadata": {
        "id": "5bEjoy45WPtU"
      }
    },
    {
      "cell_type": "code",
      "source": [
        "# 분류기의 predict 메서드 대신 decision_function 메서드를 호출하면 각 샘플의 점수를 얻을 수 있음\n",
        "# 이 점수를 기반으로 원하는 임곗값을 정해 예측을 만들 수 있음\n",
        "\n",
        "y_scores = sgd_clf.decision_function([some_digit])\n",
        "y_scores"
      ],
      "metadata": {
        "colab": {
          "base_uri": "https://localhost:8080/"
        },
        "id": "hqP2ogGsV8c2",
        "outputId": "b9aaacd5-bb6c-4f51-ddea-a220dbb78c1b"
      },
      "execution_count": 21,
      "outputs": [
        {
          "output_type": "execute_result",
          "data": {
            "text/plain": [
              "array([2164.22030239])"
            ]
          },
          "metadata": {},
          "execution_count": 21
        }
      ]
    },
    {
      "cell_type": "code",
      "source": [
        "threshold=0\n",
        "y_some_digit_pred = (y_scores > threshold)\n",
        "# 임곗값 0이므로 predict() 메서드와 같은 결과 반환"
      ],
      "metadata": {
        "id": "PyM42nyfXHLi"
      },
      "execution_count": 22,
      "outputs": []
    },
    {
      "cell_type": "code",
      "source": [
        "# 임곗값 높이기\n",
        "threshold=8000\n",
        "y_some_digit_pred = (y_scores > threshold)\n",
        "y_some_digit_pred"
      ],
      "metadata": {
        "colab": {
          "base_uri": "https://localhost:8080/"
        },
        "id": "Jgtd4pRhXWqz",
        "outputId": "1e0e36d6-5b1e-44f5-fe75-2f6e8f83a7e5"
      },
      "execution_count": 23,
      "outputs": [
        {
          "output_type": "execute_result",
          "data": {
            "text/plain": [
              "array([False])"
            ]
          },
          "metadata": {},
          "execution_count": 23
        }
      ]
    },
    {
      "cell_type": "code",
      "source": [
        "# 훈련 세트에 있는 모든 샘플의 점수 구하기\n",
        "# 예측 결과가 아니라 결정 점수를 반환하도록 지정\n",
        "y_scores = cross_val_predict(sgd_clf, X_train, y_train_5, \n",
        "                             cv=3, method = 'decision_function')"
      ],
      "metadata": {
        "id": "3JoUzXYZZ5_f"
      },
      "execution_count": 24,
      "outputs": []
    },
    {
      "cell_type": "code",
      "source": [
        "from sklearn.metrics import precision_recall_curve\n",
        "\n",
        "precisions, recalls, thresholds = precision_recall_curve(y_train_5, \n",
        "                                                         y_scores)"
      ],
      "metadata": {
        "id": "iUuoK7bFaWPB"
      },
      "execution_count": 25,
      "outputs": []
    },
    {
      "cell_type": "code",
      "source": [
        "# 맷플롯립을 이용해 임곗값의 함수로 정밀도와 재현율 그리기\n",
        "import matplotlib.pyplot as plt\n",
        "\n",
        "def plot_precision_recall_vs_threshold(precisions, recalls, thresholds):\n",
        "  plt.plot(thresholds, precisions[:-1],'b--', label='정밀도')\n",
        "  plt.plot(thresholds, recalls[:-1], 'g--', label='재현율')\n",
        "\n",
        "plot_precision_recall_vs_threshold(precisions, recalls, thresholds)\n",
        "plt.show"
      ],
      "metadata": {
        "colab": {
          "base_uri": "https://localhost:8080/",
          "height": 283
        },
        "id": "iBT_gK_hbjE5",
        "outputId": "37c3b224-608f-45ad-d9ec-ad073d2f3706"
      },
      "execution_count": 26,
      "outputs": [
        {
          "output_type": "execute_result",
          "data": {
            "text/plain": [
              "<function matplotlib.pyplot.show(*args, **kw)>"
            ]
          },
          "metadata": {},
          "execution_count": 26
        },
        {
          "output_type": "display_data",
          "data": {
            "text/plain": [
              "<Figure size 432x288 with 1 Axes>"
            ],
            "image/png": "[encoded data removed]"
          },
          "metadata": {
            "needs_background": "light"
          }
        }
      ]
    },
    {
      "cell_type": "markdown",
      "source": [
        "-> 재현율 그래프에서 정밀도가 급격하게 줄어드는 하강점 직전을 정밀도/재현율 트레이드 오프로 선택하는 것이 좋음"
      ],
      "metadata": {
        "id": "aOHzz2c5l9nE"
      }
    },
    {
      "cell_type": "code",
      "source": [
        "# 정밀도 90%를 달성하는 것이 목표\n",
        "\n",
        "threshold_90_precision = thresholds[np.argmax(precisions >= 0.90)]\n",
        "y_train_pred_90 = (y_scores >= threshold_90_precision)"
      ],
      "metadata": {
        "id": "wIwueWbgefC6"
      },
      "execution_count": 27,
      "outputs": []
    },
    {
      "cell_type": "code",
      "source": [
        "precision_score(y_train_5, y_train_pred_90)"
      ],
      "metadata": {
        "colab": {
          "base_uri": "https://localhost:8080/"
        },
        "id": "LQ0l8KCmmtVa",
        "outputId": "e671ef8c-8eac-421c-9d93-ee020cd2ec67"
      },
      "execution_count": 28,
      "outputs": [
        {
          "output_type": "execute_result",
          "data": {
            "text/plain": [
              "0.9000345901072293"
            ]
          },
          "metadata": {},
          "execution_count": 28
        }
      ]
    },
    {
      "cell_type": "code",
      "source": [
        "recall_score(y_train_5, y_train_pred_90)"
      ],
      "metadata": {
        "colab": {
          "base_uri": "https://localhost:8080/"
        },
        "id": "MYC_Sebtm9DN",
        "outputId": "8e59b373-6a77-44e1-daab-7864c71ff400"
      },
      "execution_count": 29,
      "outputs": [
        {
          "output_type": "execute_result",
          "data": {
            "text/plain": [
              "0.4799852425751706"
            ]
          },
          "metadata": {},
          "execution_count": 29
        }
      ]
    },
    {
      "cell_type": "markdown",
      "source": [
        "-> 충분히 큰 임곗값을 지정하면 가상의 정밀도에 대해서도 분류기를 손쉽게 만들 수 있음"
      ],
      "metadata": {
        "id": "niLepCnrnOBP"
      }
    },
    {
      "cell_type": "markdown",
      "source": [
        "### 3-3-5) ROC 곡선\n",
        "\n",
        "수신기조작특성(ROC) 곡선 \n",
        "\n",
        "- 정밀도/재현율 곡선과 비슷하지만 거짓 양성 비율(FPR)에 대한 진짜 양성 비율(TPR)의 곡선\n",
        "- FPR : 양성으로 잘못 분류된 음성 샘플의 비율, 1에서 진짜 음성 비율(TNR)을 뺀 값\n",
        "- TNR : 특이도\n",
        "- 민감도(재현율)에 대한 1-특이도 그래프"
      ],
      "metadata": {
        "id": "2y8xFZ6gnTrK"
      }
    },
    {
      "cell_type": "code",
      "source": [
        "# 여러 임곗값에서 TPR과 FPR을 계산\n",
        "from sklearn.metrics import roc_curve\n",
        "\n",
        "fpr, tpr, thresholds = roc_curve(y_train_5, y_scores)"
      ],
      "metadata": {
        "id": "F9-vJdmJn_Lr"
      },
      "execution_count": 30,
      "outputs": []
    },
    {
      "cell_type": "code",
      "source": [
        "# 맷플롯립을 사용해 TPR에 대한 FPR 곡선 나타내기\n",
        "\n",
        "def plot_roc_curve(fpr, tpr, label=None):\n",
        "  plt.plot(fpr, tpr, linewidth=2, label=label)\n",
        "  plt.plot([0,1],[0,1],'k--') # 대각 점선\n",
        "\n",
        "plot_roc_curve(fpr,tpr)\n",
        "plt.show()"
      ],
      "metadata": {
        "colab": {
          "base_uri": "https://localhost:8080/",
          "height": 265
        },
        "id": "USCXe1_QoTyB",
        "outputId": "ef2de96d-584a-41c4-a7b1-36d85cb0ec6c"
      },
      "execution_count": 31,
      "outputs": [
        {
          "output_type": "display_data",
          "data": {
            "text/plain": [
              "<Figure size 432x288 with 1 Axes>"
            ],
            "image/png": "[encoded data removed]"
          },
          "metadata": {
            "needs_background": "light"
          }
        }
      ]
    },
    {
      "cell_type": "markdown",
      "source": [
        "- 재현율(TPR)이 높을수록 분류기가 만드는 거짓 양성(FPR)이 늘어남\n",
        "- 점선에서 멀리 떨어질수록 좋은 분류기\n",
        "- 곡선 아래의 면적(AUC) : 분류기 비교에 사용, 완벽한 분류기는 ROC의 AUC가 1, 완전한 랜덤 분류기는 0.5"
      ],
      "metadata": {
        "id": "zNrSIFdRo3wg"
      }
    },
    {
      "cell_type": "code",
      "source": [
        "from sklearn.metrics import roc_auc_score\n",
        "roc_auc_score(y_train_5, y_scores)"
      ],
      "metadata": {
        "colab": {
          "base_uri": "https://localhost:8080/"
        },
        "id": "D-lj_caeq3ZU",
        "outputId": "319f0777-41e3-4a3c-9afa-d79a91aa2595"
      },
      "execution_count": 32,
      "outputs": [
        {
          "output_type": "execute_result",
          "data": {
            "text/plain": [
              "0.9604938554008616"
            ]
          },
          "metadata": {},
          "execution_count": 32
        }
      ]
    },
    {
      "cell_type": "markdown",
      "source": [
        "✏️ 양성 클래스가 드물거나 거짓 음성보다 거짓 양성이 더 중요할 때 PR(정밀도/재현율) 곡선을 사용하고 그렇지 않으면 ROC 곡선 사용\n",
        "\n",
        "✏️ PR 곡선은 분류기의 성능 개선 여지가 얼마나 되는지 잘 보여줌"
      ],
      "metadata": {
        "id": "ZsExZFCirDbN"
      }
    },
    {
      "cell_type": "code",
      "source": [
        "# RandomForestClassifier를 훈련시켜 SGDClassifier의 ROC 곡선과 AUC 점수 비교\n",
        "# RandomForestClassifier에서는 decision_function 대신 predict_proba 사용\n",
        "# predict_proba는 샘플이 행, 클래스가 열, 샘플이 주어진 클래스에 속한 확률을 담은 배열 반환\n",
        "\n",
        "from sklearn.ensemble import RandomForestClassifier\n",
        "\n",
        "forest_clf = RandomForestClassifier(random_state=42)\n",
        "y_probas_forest = cross_val_predict(forest_clf, X_train, y_train_5,\n",
        "                                    cv=3, method = 'predict_proba')"
      ],
      "metadata": {
        "id": "692xIEsWrn7u"
      },
      "execution_count": 33,
      "outputs": []
    },
    {
      "cell_type": "code",
      "source": [
        "y_scores_forest = y_probas_forest[:,1] # 양성 클래스에 대한 확률을 점수로 사용\n",
        "fpr_forest, tpr_forest, thresholds_forest = roc_curve(y_train_5, \n",
        "                                                      y_scores_forest)"
      ],
      "metadata": {
        "id": "d3-yjZqxrn99"
      },
      "execution_count": 34,
      "outputs": []
    },
    {
      "cell_type": "code",
      "source": [
        "plt.plot(fpr, tpr, 'b:', label = \"SGD\")\n",
        "plot_roc_curve(fpr_forest, tpr_forest, \"RandomForest\")\n",
        "plt.legend(loc='lower right')\n",
        "plt.show()"
      ],
      "metadata": {
        "colab": {
          "base_uri": "https://localhost:8080/",
          "height": 265
        },
        "id": "G8nqfobwrnkG",
        "outputId": "bc632790-f18c-453c-cf4e-7339fefb4ca7"
      },
      "execution_count": 35,
      "outputs": [
        {
          "output_type": "display_data",
          "data": {
            "text/plain": [
              "<Figure size 432x288 with 1 Axes>"
            ],
            "image/png": "[encoded data removed]"
          },
          "metadata": {
            "needs_background": "light"
          }
        }
      ]
    },
    {
      "cell_type": "code",
      "source": [
        "roc_auc_score(y_train_5, y_scores_forest)"
      ],
      "metadata": {
        "colab": {
          "base_uri": "https://localhost:8080/"
        },
        "id": "Tw2H7-_4t8sF",
        "outputId": "11d28eb1-89fc-4b0b-cb58-6f199d7b5316"
      },
      "execution_count": 36,
      "outputs": [
        {
          "output_type": "execute_result",
          "data": {
            "text/plain": [
              "0.9983436731328145"
            ]
          },
          "metadata": {},
          "execution_count": 36
        }
      ]
    },
    {
      "cell_type": "markdown",
      "source": [
        "-> RandomForestClassifier의 ROC 곡선이 왼쪽 위 모서리에 더 가까워 SGDCLassifier보다 좋아보임, ROC AUC 점수도 더 높음"
      ],
      "metadata": {
        "id": "vNpHdb5styZS"
      }
    },
    {
      "cell_type": "markdown",
      "source": [
        "## **3-4. 다중 분류**\n",
        "\n",
        "\n",
        "다중 분류기 : 둘 이상의 클래스를 구별할 수 있음\n",
        "\n",
        "OvR 전략\n",
        "\n",
        "- 이진분류기 10개(0에서부터 9까지)를 훈련시켜 클래스가 10개인 숫자 이미지 분류 시스템을 만들 수 있음 -> 이미지를 분류할 때 각 분류기의 결정 점수 중에서 가장 높은 것을 클래스로 선택\n",
        "\n",
        "OvO 전략\n",
        "\n",
        "- 0과1 구별, 0과 2 구별, 1과 2 구별 등과 같이 각 숫자의 조합마다 이진 분류기를 훈련시키는 것\n",
        "- 클래스가 N개라면 분류기는 Nx(N-1)/2개가 필요\n",
        "- 주요 장점은 각 분류기의 훈련에 전체 훈련 세트 중 구별할 두 클래스에 해당하는 샘플만 필요하다는 것\n",
        "\n",
        "-> 대부분의 이진 분류 알고리즘에서는 OvR 선호\n",
        "\n",
        "사이킷런이 알고리즘에 따라 자동으로 OvR 또는 OvO 실행"
      ],
      "metadata": {
        "id": "VKXshmYcuJNw"
      }
    },
    {
      "cell_type": "code",
      "source": [
        "from sklearn.svm import SVC\n",
        "svm_clf = SVC()\n",
        "svm_clf.fit(X_train, y_train) # y_train_5가 아니고 y_train을 사용\n",
        "svm_clf.predict([some_digit])"
      ],
      "metadata": {
        "colab": {
          "base_uri": "https://localhost:8080/"
        },
        "id": "47HYetkguIOf",
        "outputId": "0e20f871-c94a-41f8-950b-7e592d5d0143"
      },
      "execution_count": 37,
      "outputs": [
        {
          "output_type": "execute_result",
          "data": {
            "text/plain": [
              "array([5], dtype=uint8)"
            ]
          },
          "metadata": {},
          "execution_count": 37
        }
      ]
    },
    {
      "cell_type": "markdown",
      "source": [
        "- 사이킷런이 OvO 전략을 사용해 10개의 이진 분류기를 훈련시키고 각각의 결정 점수를 얻어 점수가 가장 높은 클래스를 선택"
      ],
      "metadata": {
        "id": "v9dYJY2szeGo"
      }
    },
    {
      "cell_type": "code",
      "source": [
        "some_digit_scores = svm_clf.decision_function([some_digit])\n",
        "some_digit_scores\n",
        "# 가장 높은 점수가 클래스 5에 해당하는 값"
      ],
      "metadata": {
        "colab": {
          "base_uri": "https://localhost:8080/"
        },
        "id": "0stDq-rPzmJg",
        "outputId": "5c152d3f-6559-435d-9755-81a525b24fd0"
      },
      "execution_count": 38,
      "outputs": [
        {
          "output_type": "execute_result",
          "data": {
            "text/plain": [
              "array([[ 1.72501977,  2.72809088,  7.2510018 ,  8.3076379 , -0.31087254,\n",
              "         9.3132482 ,  1.70975103,  2.76765202,  6.23049537,  4.84771048]])"
            ]
          },
          "metadata": {},
          "execution_count": 38
        }
      ]
    },
    {
      "cell_type": "code",
      "source": [
        "np.argmax(some_digit_scores)"
      ],
      "metadata": {
        "colab": {
          "base_uri": "https://localhost:8080/"
        },
        "id": "xovOXOkp0B-T",
        "outputId": "7d0625f0-cdc5-443b-83b8-d4b768a4f7b0"
      },
      "execution_count": 39,
      "outputs": [
        {
          "output_type": "execute_result",
          "data": {
            "text/plain": [
              "5"
            ]
          },
          "metadata": {},
          "execution_count": 39
        }
      ]
    },
    {
      "cell_type": "code",
      "source": [
        "svm_clf.classes_"
      ],
      "metadata": {
        "colab": {
          "base_uri": "https://localhost:8080/"
        },
        "id": "U9IUXSkn0Evi",
        "outputId": "7df846b7-66fa-4094-f51a-57a2ab28cbda"
      },
      "execution_count": 40,
      "outputs": [
        {
          "output_type": "execute_result",
          "data": {
            "text/plain": [
              "array([0, 1, 2, 3, 4, 5, 6, 7, 8, 9], dtype=uint8)"
            ]
          },
          "metadata": {},
          "execution_count": 40
        }
      ]
    },
    {
      "cell_type": "code",
      "source": [
        "svm_clf.classes_[5]"
      ],
      "metadata": {
        "colab": {
          "base_uri": "https://localhost:8080/"
        },
        "id": "sYeGywUO0GoG",
        "outputId": "3e89a6d6-c8b5-49b3-95d7-7900e86a0917"
      },
      "execution_count": 41,
      "outputs": [
        {
          "output_type": "execute_result",
          "data": {
            "text/plain": [
              "5"
            ]
          },
          "metadata": {},
          "execution_count": 41
        }
      ]
    },
    {
      "cell_type": "markdown",
      "source": [
        "- 사이킷런에서 OvO나 OvR을 사용하도록 강제하려면 OneVsOneClassifier나 OneVsRestClassifier를 사용"
      ],
      "metadata": {
        "id": "sb-PvqZV0WQb"
      }
    },
    {
      "cell_type": "code",
      "source": [
        "from sklearn.multiclass import OneVsRestClassifier\n",
        "ovr_clf = OneVsRestClassifier(SVC())\n",
        "ovr_clf.fit(X_train, y_train)\n",
        "ovr_clf.predict([some_digit])"
      ],
      "metadata": {
        "colab": {
          "base_uri": "https://localhost:8080/"
        },
        "id": "Y_PDZ3Tw0oOh",
        "outputId": "f58c07fb-640e-4651-fea5-4d52d85ebe7c"
      },
      "execution_count": 42,
      "outputs": [
        {
          "output_type": "execute_result",
          "data": {
            "text/plain": [
              "array([5], dtype=uint8)"
            ]
          },
          "metadata": {},
          "execution_count": 42
        }
      ]
    },
    {
      "cell_type": "code",
      "source": [
        "len(ovr_clf.estimators_)"
      ],
      "metadata": {
        "colab": {
          "base_uri": "https://localhost:8080/"
        },
        "id": "8bkPTCZQ1GtX",
        "outputId": "6c8ebdcf-2495-4106-c028-dd99ce7d0b1c"
      },
      "execution_count": 43,
      "outputs": [
        {
          "output_type": "execute_result",
          "data": {
            "text/plain": [
              "10"
            ]
          },
          "metadata": {},
          "execution_count": 43
        }
      ]
    },
    {
      "cell_type": "code",
      "source": [
        "# SGDClassifier 훈련\n",
        "# SGD 분류기는 직접 샘플을 다중 클래스로 분류할 수 있기 때문에 OvR이나 OvO 적용 필요하지 않음\n",
        "sgd_clf.fit(X_train, y_train)\n",
        "sgd_clf.predict([some_digit])"
      ],
      "metadata": {
        "colab": {
          "base_uri": "https://localhost:8080/"
        },
        "id": "1Rv1ascX1Jv9",
        "outputId": "6da506fa-d086-47e0-8787-9897fa9504ae"
      },
      "execution_count": 45,
      "outputs": [
        {
          "output_type": "execute_result",
          "data": {
            "text/plain": [
              "array([3], dtype=uint8)"
            ]
          },
          "metadata": {},
          "execution_count": 45
        }
      ]
    },
    {
      "cell_type": "code",
      "source": [
        "# SGD 분류기가 클래스마다 부여한 점수 확인\n",
        "sgd_clf.decision_function([some_digit])"
      ],
      "metadata": {
        "colab": {
          "base_uri": "https://localhost:8080/"
        },
        "id": "hXhXMzqc2w2M",
        "outputId": "f8742487-764c-4767-cfdf-dc2745f4d35e"
      },
      "execution_count": 46,
      "outputs": [
        {
          "output_type": "execute_result",
          "data": {
            "text/plain": [
              "array([[-31893.03095419, -34419.69069632,  -9530.63950739,\n",
              "          1823.73154031, -22320.14822878,  -1385.80478895,\n",
              "        -26188.91070951, -16147.51323997,  -4604.35491274,\n",
              "        -12050.767298  ]])"
            ]
          },
          "metadata": {},
          "execution_count": 46
        }
      ]
    },
    {
      "cell_type": "code",
      "source": [
        "# SGDClassifier의 정확도 평가\n",
        "cross_val_score(sgd_clf, X_train, y_train, cv=3, \n",
        "                scoring='accuracy')"
      ],
      "metadata": {
        "colab": {
          "base_uri": "https://localhost:8080/"
        },
        "id": "zfO086e13mu-",
        "outputId": "52d5b58b-b85c-4466-cef4-5e91cbc995b4"
      },
      "execution_count": 47,
      "outputs": [
        {
          "output_type": "execute_result",
          "data": {
            "text/plain": [
              "array([0.87365, 0.85835, 0.8689 ])"
            ]
          },
          "metadata": {},
          "execution_count": 47
        }
      ]
    },
    {
      "cell_type": "code",
      "source": [
        "# 성능 높이기\n",
        "from sklearn.preprocessing import StandardScaler\n",
        "scaler=StandardScaler()\n",
        "X_train_scaled = scaler.fit_transform(X_train.astype(np.float64))\n",
        "cross_val_score(sgd_clf, X_train_scaled, y_train, cv=3,\n",
        "                scoring='accuracy')"
      ],
      "metadata": {
        "colab": {
          "base_uri": "https://localhost:8080/"
        },
        "id": "4Xk-8Q_Z3u7k",
        "outputId": "f0850788-df50-4b17-a265-b0fa26fd2732"
      },
      "execution_count": 48,
      "outputs": [
        {
          "output_type": "execute_result",
          "data": {
            "text/plain": [
              "array([0.8983, 0.891 , 0.9018])"
            ]
          },
          "metadata": {},
          "execution_count": 48
        }
      ]
    },
    {
      "cell_type": "markdown",
      "source": [
        "## **3-5. 에러 분석**\n",
        "\n"
      ],
      "metadata": {
        "id": "2yQZlbyA4_Qu"
      }
    },
    {
      "cell_type": "code",
      "source": [
        "# 오차 행렬 살펴보기\n",
        "\n",
        "y_train_pred = cross_val_predict(sgd_clf, X_train_scaled, y_train,\n",
        "                                 cv=3)\n",
        "conf_mx = confusion_matrix(y_train, y_train_pred)\n",
        "conf_mx"
      ],
      "metadata": {
        "colab": {
          "base_uri": "https://localhost:8080/"
        },
        "id": "Ji9LVZCN5XZV",
        "outputId": "2a8cbeb0-4c1e-467d-87f8-4afa85070f54"
      },
      "execution_count": 49,
      "outputs": [
        {
          "output_type": "execute_result",
          "data": {
            "text/plain": [
              "array([[5577,    0,   22,    5,    8,   43,   36,    6,  225,    1],\n",
              "       [   0, 6400,   37,   24,    4,   44,    4,    7,  212,   10],\n",
              "       [  27,   27, 5220,   92,   73,   27,   67,   36,  378,   11],\n",
              "       [  22,   17,  117, 5227,    2,  203,   27,   40,  403,   73],\n",
              "       [  12,   14,   41,    9, 5182,   12,   34,   27,  347,  164],\n",
              "       [  27,   15,   30,  168,   53, 4444,   75,   14,  535,   60],\n",
              "       [  30,   15,   42,    3,   44,   97, 5552,    3,  131,    1],\n",
              "       [  21,   10,   51,   30,   49,   12,    3, 5684,  195,  210],\n",
              "       [  17,   63,   48,   86,    3,  126,   25,   10, 5429,   44],\n",
              "       [  25,   18,   30,   64,  118,   36,    1,  179,  371, 5107]])"
            ]
          },
          "metadata": {},
          "execution_count": 49
        }
      ]
    },
    {
      "cell_type": "code",
      "source": [
        "plt.matshow(conf_mx, cmap=plt.cm.gray)\n",
        "plt.show()"
      ],
      "metadata": {
        "colab": {
          "base_uri": "https://localhost:8080/",
          "height": 275
        },
        "id": "tyow7RrE5tvQ",
        "outputId": "f9de1c70-44a6-4a09-b821-039e4e13cc86"
      },
      "execution_count": 50,
      "outputs": [
        {
          "output_type": "display_data",
          "data": {
            "text/plain": [
              "<Figure size 288x288 with 1 Axes>"
            ],
            "image/png": "[encoded data removed]"
          },
          "metadata": {
            "needs_background": "light"
          }
        }
      ]
    },
    {
      "cell_type": "code",
      "source": [
        "# 오차행렬의 각 값을 대응되는 클래스의 이미지 개수로 나누어 에러 비율을 비교\n",
        "\n",
        "row_sums = conf_mx.sum(axis=1, keepdims=True)\n",
        "norm_conf_mx = conf_mx / row_sums"
      ],
      "metadata": {
        "id": "obZRCAnU57sy"
      },
      "execution_count": 51,
      "outputs": []
    },
    {
      "cell_type": "code",
      "source": [
        "# 다른 항목은 그대로 유지하고 주대각선만 0으로 채워서 그래프 그림\n",
        "np.fill_diagonal(norm_conf_mx, 0)\n",
        "plt.matshow(norm_conf_mx, cmap = plt.cm.gray)\n",
        "plt.show()"
      ],
      "metadata": {
        "colab": {
          "base_uri": "https://localhost:8080/",
          "height": 275
        },
        "id": "GSH_DkUg6gyA",
        "outputId": "a41e7f4e-f6d9-4a89-fa33-9a92e458d80e"
      },
      "execution_count": 52,
      "outputs": [
        {
          "output_type": "display_data",
          "data": {
            "text/plain": [
              "<Figure size 288x288 with 1 Axes>"
            ],
            "image/png": "[encoded data removed]"
          },
          "metadata": {
            "needs_background": "light"
          }
        }
      ]
    },
    {
      "cell_type": "markdown",
      "source": [
        "-> 선형 분류기는 클래스마다 픽셀에 가중치를 할당하고 새로운 이미지에 대해 단순히 픽셀 강도의 가중치 합을 클래스의 점수로 계산, 따라서 3과 5는 몇 개의 픽셀만 다르기 때문에 모델이 쉽게 혼동하게 됨\n",
        " \n",
        "- 에러를 줄이는 한 가지 방법은 이미지를 중앙에 위치시키고 회전되어 있지 않도록 전처리 하는 것"
      ],
      "metadata": {
        "id": "Py5rRw7Gj1FZ"
      }
    },
    {
      "cell_type": "markdown",
      "source": [
        "## **3-6. 다중 레이블 분류**\n",
        "\n",
        "다중 레이블 분류 : 여러 개의 이진 꼬리표를 출력하는 분류 시스템"
      ],
      "metadata": {
        "id": "2h620kR6kFt6"
      }
    },
    {
      "cell_type": "code",
      "source": [
        "from sklearn.neighbors import KNeighborsClassifier\n",
        "y_train_large = (y_train>=7) \n",
        "y_train_odd = (y_train % 2 == 1)\n",
        "y_multilabel = np.c_[y_train_large, y_train_odd] \n",
        "# 두 개의 타깃 레이블이 담김\n",
        "# 두 개의 1차원 배열을 칼럼으로 세로로 붙여서 2차원 배열 만들기\n",
        "\n",
        "\n",
        "knn_clf = KNeighborsClassifier()\n",
        "knn_clf.fit(X_train, y_multilabel) "
      ],
      "metadata": {
        "colab": {
          "base_uri": "https://localhost:8080/"
        },
        "id": "tEm2f6D_j0bD",
        "outputId": "d5854ad2-5a6b-4d96-81b1-69c0cadb47f5"
      },
      "execution_count": 54,
      "outputs": [
        {
          "output_type": "execute_result",
          "data": {
            "text/plain": [
              "KNeighborsClassifier()"
            ]
          },
          "metadata": {},
          "execution_count": 54
        }
      ]
    },
    {
      "cell_type": "code",
      "source": [
        "knn_clf.predict([some_digit])"
      ],
      "metadata": {
        "colab": {
          "base_uri": "https://localhost:8080/"
        },
        "id": "e1Z6lSm2jrzu",
        "outputId": "a0a259cf-c601-488e-c55b-d04b218234bc"
      },
      "execution_count": 55,
      "outputs": [
        {
          "output_type": "execute_result",
          "data": {
            "text/plain": [
              "array([[False,  True]])"
            ]
          },
          "metadata": {},
          "execution_count": 55
        }
      ]
    },
    {
      "cell_type": "code",
      "source": [
        "# 모든 레이블에 대한 F1 점수의 평균을 계산\n",
        "y_train_knn_pred = cross_val_predict(knn_clf, X_train, \n",
        "                                     y_multilabel, cv=3)\n",
        "f1_score(y_multilabel, y_train_knn_pred, average='macro')"
      ],
      "metadata": {
        "colab": {
          "base_uri": "https://localhost:8080/"
        },
        "id": "nUJw_4Xom1kK",
        "outputId": "23c9fbba-1ffc-41af-dfc6-618d6be05d85"
      },
      "execution_count": 56,
      "outputs": [
        {
          "output_type": "execute_result",
          "data": {
            "text/plain": [
              "0.976410265560605"
            ]
          },
          "metadata": {},
          "execution_count": 56
        }
      ]
    },
    {
      "cell_type": "markdown",
      "source": [
        "-> 레이블에 클래스의 지지도(타깃 레이블에 속한 샘플 수)를 가중치로 주려면 average='weighted'로 설정"
      ],
      "metadata": {
        "id": "D0ATIb1jnc5J"
      }
    },
    {
      "cell_type": "markdown",
      "source": [
        "## **3-7. 다중 출력 분류**\n",
        "\n",
        "다중 출력 다중 클래스 분류 : 다중 레이블 분류에서 한 레이블이 다중 클래스가 될 수 있도록 일반화한 것"
      ],
      "metadata": {
        "id": "GOunccK458KS"
      }
    },
    {
      "cell_type": "code",
      "source": [
        "# 이미지에서 잡음 제거\n",
        "# randint() 함수를 사용하여 픽셀 강도에 잡음을 추가\n",
        "\n",
        "noise = np.random.randint(0,100, (len(X_train), 784))\n",
        "X_train_mod = X_train + noise\n",
        "noise = np.random.randint(0,100, (len(X_test), 784))\n",
        "X_test_mod = X_test + noise\n",
        "y_train_mod = X_train\n",
        "y_test_mod = X_test"
      ],
      "metadata": {
        "id": "9HSpQvLCo5BL"
      },
      "execution_count": 57,
      "outputs": []
    },
    {
      "cell_type": "code",
      "source": [
        "some_index = 0"
      ],
      "metadata": {
        "id": "P5ZD6uQm05IF"
      },
      "execution_count": 59,
      "outputs": []
    },
    {
      "cell_type": "code",
      "source": [
        "def plot_digit(data):\n",
        "    image = data.reshape(28, 28)\n",
        "    plt.imshow(image, cmap = mpl.cm.binary,\n",
        "               interpolation=\"nearest\")\n",
        "    plt.axis(\"off\")"
      ],
      "metadata": {
        "id": "b5UNtMYI013z"
      },
      "execution_count": 60,
      "outputs": []
    },
    {
      "cell_type": "code",
      "source": [
        "# 분류기를 훈련시켜 이 이미지를 깨끗하게 만듦\n",
        "\n",
        "knn_clf.fit(X_train_mod, y_train_mod)\n",
        "clean_digit = knn_clf.predict([X_test_mod[some_index]])\n",
        "plot_digit(clean_digit)"
      ],
      "metadata": {
        "colab": {
          "base_uri": "https://localhost:8080/",
          "height": 248
        },
        "id": "qz5qa3GBp-N4",
        "outputId": "582dd346-1698-4210-cb36-ade67bf068b0"
      },
      "execution_count": 61,
      "outputs": [
        {
          "output_type": "display_data",
          "data": {
            "text/plain": [
              "<Figure size 432x288 with 1 Axes>"
            ],
            "image/png": "[encoded data removed]"
          },
          "metadata": {
            "needs_background": "light"
          }
        }
      ]
    }
  ]
}