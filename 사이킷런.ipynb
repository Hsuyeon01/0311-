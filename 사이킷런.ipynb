{
  "nbformat": 4,
  "nbformat_minor": 0,
  "metadata": {
    "colab": {
      "name": "사이킷런.ipynb",
      "provenance": [],
      "collapsed_sections": [],
      "include_colab_link": true
    },
    "kernelspec": {
      "name": "python3",
      "display_name": "Python 3"
    },
    "language_info": {
      "name": "python"
    }
  },
  "cells": [
    {
      "cell_type": "markdown",
      "metadata": {
        "id": "view-in-github",
        "colab_type": "text"
      },
      "source": [
        "<a href=\"https://colab.research.google.com/github/Hsuyeon01/ESAA/blob/main/%EC%82%AC%EC%9D%B4%ED%82%B7%EB%9F%B0.ipynb\" target=\"_parent\"><img src=\"https://colab.research.google.com/assets/colab-badge.svg\" alt=\"Open In Colab\"/></a>"
      ]
    },
    {
      "cell_type": "markdown",
      "metadata": {
        "id": "7iaTeZje-TSJ"
      },
      "source": [
        "1. scikit-learn 으로부터 의사결정나무 모듈을 불러오는 코드를 아래에 작성하세요."
      ]
    },
    {
      "cell_type": "code",
      "metadata": {
        "id": "X1aSVTPc91JA"
      },
      "source": [
        "from sklearn.tree import DecisionTreeClassifier\n",
        "model = DecisionTreeClassifier()"
      ],
      "execution_count": 6,
      "outputs": []
    },
    {
      "cell_type": "markdown",
      "metadata": {
        "id": "FMaKM19W-hsG"
      },
      "source": [
        "# 셀을 실행할 때 팝업이 뜨면 `무시하고 계속하기` 를 눌러주세요\n",
        "## 데이터 다운로드\n",
        "--- \n",
        "아래 셀을 실행시켜 데이터를 colab에 불러옵니다.  \n",
        "셀 실행은 Ctrl + Enter 를 이용해 실행 시킬 수 있습니다. "
      ]
    },
    {
      "cell_type": "code",
      "metadata": {
        "id": "BRr7uRtG-0H-",
        "colab": {
          "base_uri": "https://localhost:8080/"
        },
        "outputId": "df605b8c-170e-48b6-941a-d647401d68bc"
      },
      "source": [
        "# 데이터 다운로드 링크로 데이터를 코랩에 불러옵니다.\n",
        "\n",
        "!wget 'https://bit.ly/3gLj0Q6'\n",
        "\n",
        "import zipfile\n",
        "with zipfile.ZipFile('3gLj0Q6', 'r') as existing_zip:\n",
        "    existing_zip.extractall('data')"
      ],
      "execution_count": 2,
      "outputs": [
        {
          "output_type": "stream",
          "name": "stdout",
          "text": [
            "--2022-04-04 09:12:38--  https://bit.ly/3gLj0Q6\n",
            "Resolving bit.ly (bit.ly)... 67.199.248.10, 67.199.248.11\n",
            "Connecting to bit.ly (bit.ly)|67.199.248.10|:443... connected.\n",
            "HTTP request sent, awaiting response... 301 Moved Permanently\n",
            "Location: https://drive.google.com/uc?export=download&id=1or_QN1ksv81DNog6Tu_kWcZ5jJWf5W9E [following]\n",
            "--2022-04-04 09:12:38--  https://drive.google.com/uc?export=download&id=1or_QN1ksv81DNog6Tu_kWcZ5jJWf5W9E\n",
            "Resolving drive.google.com (drive.google.com)... 142.250.141.102, 142.250.141.138, 142.250.141.139, ...\n",
            "Connecting to drive.google.com (drive.google.com)|142.250.141.102|:443... connected.\n",
            "HTTP request sent, awaiting response... 303 See Other\n",
            "Location: https://doc-0c-10-docs.googleusercontent.com/docs/securesc/ha0ro937gcuc7l7deffksulhg5h7mbp1/j8ng2lltj3j3kna0gfgoiuh0jbdjc5sa/1649063550000/17946651057176172524/*/1or_QN1ksv81DNog6Tu_kWcZ5jJWf5W9E?e=download [following]\n",
            "Warning: wildcards not supported in HTTP.\n",
            "--2022-04-04 09:12:38--  https://doc-0c-10-docs.googleusercontent.com/docs/securesc/ha0ro937gcuc7l7deffksulhg5h7mbp1/j8ng2lltj3j3kna0gfgoiuh0jbdjc5sa/1649063550000/17946651057176172524/*/1or_QN1ksv81DNog6Tu_kWcZ5jJWf5W9E?e=download\n",
            "Resolving doc-0c-10-docs.googleusercontent.com (doc-0c-10-docs.googleusercontent.com)... 142.250.141.132, 2607:f8b0:4023:c0b::84\n",
            "Connecting to doc-0c-10-docs.googleusercontent.com (doc-0c-10-docs.googleusercontent.com)|142.250.141.132|:443... connected.\n",
            "HTTP request sent, awaiting response... 200 OK\n",
            "Length: 39208 (38K) [application/zip]\n",
            "Saving to: ‘3gLj0Q6’\n",
            "\n",
            "3gLj0Q6             100%[===================>]  38.29K  --.-KB/s    in 0.03s   \n",
            "\n",
            "2022-04-04 09:12:39 (1.49 MB/s) - ‘3gLj0Q6’ saved [39208/39208]\n",
            "\n"
          ]
        }
      ]
    },
    {
      "cell_type": "markdown",
      "metadata": {
        "id": "ESCvCqF2_QVP"
      },
      "source": [
        "## 라이브러리 불러오기\n",
        "---\n",
        "아래 셀을 실행시켜 pandas 와 DecisionTreeClassifier 를 불러옵니다."
      ]
    },
    {
      "cell_type": "code",
      "metadata": {
        "id": "gJv1rVvp-6jE"
      },
      "source": [
        "import pandas as pd\n",
        "from sklearn.tree import DecisionTreeRegressor"
      ],
      "execution_count": 3,
      "outputs": []
    },
    {
      "cell_type": "markdown",
      "metadata": {
        "id": "0oob8F8j_blt"
      },
      "source": [
        "## 데이터 불러오기\n",
        "---\n",
        "아래 셀을 실행시켜 csv 파일 데이터를 DataFrame 객체로 불러옵니다."
      ]
    },
    {
      "cell_type": "code",
      "metadata": {
        "id": "J-WSiPon_XON"
      },
      "source": [
        "train = pd.read_csv('data/train.csv') \n",
        "test = pd.read_csv('data/test.csv')"
      ],
      "execution_count": 4,
      "outputs": []
    },
    {
      "cell_type": "markdown",
      "metadata": {
        "id": "gajgMdGa_h4y"
      },
      "source": [
        "## 결측치 제거하기\n",
        "---\n",
        "결측치를 제거하고, 결측치가 모두 제거됐는지 확인합니다."
      ]
    },
    {
      "cell_type": "code",
      "metadata": {
        "id": "-CfkGjDP_fmW",
        "colab": {
          "base_uri": "https://localhost:8080/"
        },
        "outputId": "4c341842-50cb-4a25-cdc2-3d79c7d96257"
      },
      "source": [
        "test = test.dropna()\n",
        "train = train.dropna()\n",
        "\n",
        "print(train.isnull().sum())"
      ],
      "execution_count": 5,
      "outputs": [
        {
          "output_type": "stream",
          "name": "stdout",
          "text": [
            "id                        0\n",
            "hour                      0\n",
            "hour_bef_temperature      0\n",
            "hour_bef_precipitation    0\n",
            "hour_bef_windspeed        0\n",
            "hour_bef_humidity         0\n",
            "hour_bef_visibility       0\n",
            "hour_bef_ozone            0\n",
            "hour_bef_pm10             0\n",
            "hour_bef_pm2.5            0\n",
            "count                     0\n",
            "dtype: int64\n"
          ]
        }
      ]
    },
    {
      "cell_type": "markdown",
      "metadata": {
        "id": "VLshlruu_nVc"
      },
      "source": [
        "2. train 데이터중 <br>\n",
        "예측해야할 `count` 피쳐를 drop()함수를 사용하고, axis=1 옵션을 사용해 해당 열을 제외한 데이터들을 `X_train` 이라는 이름의 DataFrame 객체로 만들고 <br>\n",
        "`count` 피쳐만을 데이터로 갖는 `Y_train` 이라는 이름의 DataFrame 객체로 만드는 코드를 아래에 작성하세요"
      ]
    },
    {
      "cell_type": "code",
      "metadata": {
        "id": "PjGhMNVN_lGk"
      },
      "source": [
        "X_train = train.drop(\"count\", axis=1)\n",
        "Y_train = train['count']"
      ],
      "execution_count": 9,
      "outputs": []
    },
    {
      "cell_type": "markdown",
      "metadata": {
        "id": "OsFe-Y1Y_v-l"
      },
      "source": [
        "3. `model` 변수명으로 모델을 선언하고, fit() 함수를 사용해서, `X_train` 을 input 으로 삼고, `Y_train` 을 output 으로 삼아 모델을 훈련시키는 코드를 아래에 작성하세요"
      ]
    },
    {
      "cell_type": "code",
      "metadata": {
        "id": "jp8XHSAg_xx6",
        "colab": {
          "base_uri": "https://localhost:8080/"
        },
        "outputId": "a84157f3-8d3f-4636-ffef-31c9b4229c66"
      },
      "source": [
        "model = DecisionTreeClassifier()\n",
        "model.fit(X_train, Y_train)"
      ],
      "execution_count": 13,
      "outputs": [
        {
          "output_type": "execute_result",
          "data": {
            "text/plain": [
              "DecisionTreeClassifier()"
            ]
          },
          "metadata": {},
          "execution_count": 13
        }
      ]
    },
    {
      "cell_type": "markdown",
      "metadata": {
        "id": "U5-_yNUsAKRa"
      },
      "source": [
        "4. predict() 를 이용해 test data 를 훈련된 모델로 예측한 data 를 생성하고 예측결과 상위 5개를 출력하는 코드를 작성하세요."
      ]
    },
    {
      "cell_type": "code",
      "metadata": {
        "id": "bfmw8qg6BJ2Z",
        "colab": {
          "base_uri": "https://localhost:8080/"
        },
        "outputId": "34b1675b-035b-4ba2-9ff8-7f4e7aa39a63"
      },
      "source": [
        "pred = model.predict(test)\n",
        "pred[:5]"
      ],
      "execution_count": 15,
      "outputs": [
        {
          "output_type": "execute_result",
          "data": {
            "text/plain": [
              "array([108., 226.,  49.,  18.,  41.])"
            ]
          },
          "metadata": {},
          "execution_count": 15
        }
      ]
    },
    {
      "cell_type": "markdown",
      "metadata": {
        "id": "omEBVUkgJC13"
      },
      "source": [
        "## 데이터 다운로드 2\n",
        "---\n",
        "아래 셀을 실행시켜 데이터를 colab 에 불러옵니다.\n",
        "셀 실행은 Ctrl + Enter 를 이용해 실행시킬 수 있습니다."
      ]
    },
    {
      "cell_type": "code",
      "metadata": {
        "id": "si-MIrT1JNBt",
        "colab": {
          "base_uri": "https://localhost:8080/"
        },
        "outputId": "217b46ad-a368-4478-93f7-4d2fea01c94f"
      },
      "source": [
        "# 데이터 다운로드 링크로 데이터를 코랩에 불러옵니다.\n",
        "\n",
        "!wget 'https://bit.ly/3i4n1QB'\n",
        "\n",
        "import zipfile\n",
        "with zipfile.ZipFile('3i4n1QB', 'r') as existing_zip:\n",
        "    existing_zip.extractall('data')"
      ],
      "execution_count": 18,
      "outputs": [
        {
          "output_type": "stream",
          "name": "stdout",
          "text": [
            "--2022-04-04 09:33:49--  https://bit.ly/3i4n1QB\n",
            "Resolving bit.ly (bit.ly)... 67.199.248.11, 67.199.248.10\n",
            "Connecting to bit.ly (bit.ly)|67.199.248.11|:443... connected.\n",
            "HTTP request sent, awaiting response... 301 Moved Permanently\n",
            "Location: https://drive.google.com/uc?export=download&id=1emLrrpFWT8dCoj5BJb12-5QMG2-nruUw [following]\n",
            "--2022-04-04 09:33:49--  https://drive.google.com/uc?export=download&id=1emLrrpFWT8dCoj5BJb12-5QMG2-nruUw\n",
            "Resolving drive.google.com (drive.google.com)... 142.250.141.100, 142.250.141.102, 142.250.141.139, ...\n",
            "Connecting to drive.google.com (drive.google.com)|142.250.141.100|:443... connected.\n",
            "HTTP request sent, awaiting response... 303 See Other\n",
            "Location: https://doc-10-10-docs.googleusercontent.com/docs/securesc/ha0ro937gcuc7l7deffksulhg5h7mbp1/3q52gn2onj4i2pbbg7j9s9ree4ectrm9/1649064825000/17946651057176172524/*/1emLrrpFWT8dCoj5BJb12-5QMG2-nruUw?e=download [following]\n",
            "Warning: wildcards not supported in HTTP.\n",
            "--2022-04-04 09:33:50--  https://doc-10-10-docs.googleusercontent.com/docs/securesc/ha0ro937gcuc7l7deffksulhg5h7mbp1/3q52gn2onj4i2pbbg7j9s9ree4ectrm9/1649064825000/17946651057176172524/*/1emLrrpFWT8dCoj5BJb12-5QMG2-nruUw?e=download\n",
            "Resolving doc-10-10-docs.googleusercontent.com (doc-10-10-docs.googleusercontent.com)... 142.250.141.132, 2607:f8b0:4023:c0b::84\n",
            "Connecting to doc-10-10-docs.googleusercontent.com (doc-10-10-docs.googleusercontent.com)|142.250.141.132|:443... connected.\n",
            "HTTP request sent, awaiting response... 200 OK\n",
            "Length: 137694 (134K) [application/zip]\n",
            "Saving to: ‘3i4n1QB’\n",
            "\n",
            "3i4n1QB             100%[===================>] 134.47K  --.-KB/s    in 0.08s   \n",
            "\n",
            "2022-04-04 09:33:50 (1.62 MB/s) - ‘3i4n1QB’ saved [137694/137694]\n",
            "\n"
          ]
        }
      ]
    },
    {
      "cell_type": "code",
      "metadata": {
        "id": "gMK9we3bJQpX"
      },
      "source": [
        "# 라이브러리 불러오기\n",
        "\n",
        "import pandas as pd\n",
        "from sklearn.preprocessing import MinMaxScaler, OneHotEncoder\n",
        "from sklearn.ensemble import RandomForestClassifier"
      ],
      "execution_count": 19,
      "outputs": []
    },
    {
      "cell_type": "code",
      "metadata": {
        "id": "CLf7mks6JTX0",
        "colab": {
          "base_uri": "https://localhost:8080/",
          "height": 342
        },
        "outputId": "5c9f81e1-5f9f-4261-a941-1936cb59dd42"
      },
      "source": [
        "train = pd.read_csv('data/train.csv')\n",
        "\n",
        "# Scailing\n",
        "scaler = MinMaxScaler()\n",
        "scaler.fit(train[['fixed acidity']])\n",
        "train['Scaled fixed acidity'] = scaler.transform(train[['fixed acidity']])\n",
        "\n",
        "# Encoding\n",
        "encoder = OneHotEncoder()\n",
        "encoder.fit(train[['type']])\n",
        "onehot = encoder.transform(train[['type']])\n",
        "onehot = onehot.toarray()\n",
        "onehot = pd.DataFrame(onehot)\n",
        "onehot.columns = encoder.get_feature_names()\n",
        "train = pd.concat([train, onehot], axis = 1)\n",
        "train = train.drop(columns = ['type'])\n",
        "train.head()"
      ],
      "execution_count": 20,
      "outputs": [
        {
          "output_type": "stream",
          "name": "stderr",
          "text": [
            "/usr/local/lib/python3.7/dist-packages/sklearn/utils/deprecation.py:87: FutureWarning: Function get_feature_names is deprecated; get_feature_names is deprecated in 1.0 and will be removed in 1.2. Please use get_feature_names_out instead.\n",
            "  warnings.warn(msg, category=FutureWarning)\n"
          ]
        },
        {
          "output_type": "execute_result",
          "data": {
            "text/plain": [
              "   index  quality  fixed acidity  volatile acidity  citric acid  \\\n",
              "0      0        5            5.6             0.695         0.06   \n",
              "1      1        5            8.8             0.610         0.14   \n",
              "2      2        5            7.9             0.210         0.39   \n",
              "3      3        6            7.0             0.210         0.31   \n",
              "4      4        6            7.8             0.400         0.26   \n",
              "\n",
              "   residual sugar  chlorides  free sulfur dioxide  total sulfur dioxide  \\\n",
              "0             6.8      0.042                  9.0                  84.0   \n",
              "1             2.4      0.067                 10.0                  42.0   \n",
              "2             2.0      0.057                 21.0                 138.0   \n",
              "3             6.0      0.046                 29.0                 108.0   \n",
              "4             9.5      0.059                 32.0                 178.0   \n",
              "\n",
              "   density    pH  sulphates  alcohol  Scaled fixed acidity  x0_red  x0_white  \n",
              "0  0.99432  3.44       0.44     10.2              0.148760     0.0       1.0  \n",
              "1  0.99690  3.19       0.59      9.5              0.413223     1.0       0.0  \n",
              "2  0.99176  3.05       0.52     10.9              0.338843     0.0       1.0  \n",
              "3  0.99390  3.26       0.50     10.8              0.264463     0.0       1.0  \n",
              "4  0.99550  3.04       0.43     10.9              0.330579     0.0       1.0  "
            ],
            "text/html": [
              "\n",
              "  <div id=\"df-eec49dc3-6406-45d0-a8eb-5a5d5dfa3557\">\n",
              "    <div class=\"colab-df-container\">\n",
              "      <div>\n",
              "<style scoped>\n",
              "    .dataframe tbody tr th:only-of-type {\n",
              "        vertical-align: middle;\n",
              "    }\n",
              "\n",
              "    .dataframe tbody tr th {\n",
              "        vertical-align: top;\n",
              "    }\n",
              "\n",
              "    .dataframe thead th {\n",
              "        text-align: right;\n",
              "    }\n",
              "</style>\n",
              "<table border=\"1\" class=\"dataframe\">\n",
              "  <thead>\n",
              "    <tr style=\"text-align: right;\">\n",
              "      <th></th>\n",
              "      <th>index</th>\n",
              "      <th>quality</th>\n",
              "      <th>fixed acidity</th>\n",
              "      <th>volatile acidity</th>\n",
              "      <th>citric acid</th>\n",
              "      <th>residual sugar</th>\n",
              "      <th>chlorides</th>\n",
              "      <th>free sulfur dioxide</th>\n",
              "      <th>total sulfur dioxide</th>\n",
              "      <th>density</th>\n",
              "      <th>pH</th>\n",
              "      <th>sulphates</th>\n",
              "      <th>alcohol</th>\n",
              "      <th>Scaled fixed acidity</th>\n",
              "      <th>x0_red</th>\n",
              "      <th>x0_white</th>\n",
              "    </tr>\n",
              "  </thead>\n",
              "  <tbody>\n",
              "    <tr>\n",
              "      <th>0</th>\n",
              "      <td>0</td>\n",
              "      <td>5</td>\n",
              "      <td>5.6</td>\n",
              "      <td>0.695</td>\n",
              "      <td>0.06</td>\n",
              "      <td>6.8</td>\n",
              "      <td>0.042</td>\n",
              "      <td>9.0</td>\n",
              "      <td>84.0</td>\n",
              "      <td>0.99432</td>\n",
              "      <td>3.44</td>\n",
              "      <td>0.44</td>\n",
              "      <td>10.2</td>\n",
              "      <td>0.148760</td>\n",
              "      <td>0.0</td>\n",
              "      <td>1.0</td>\n",
              "    </tr>\n",
              "    <tr>\n",
              "      <th>1</th>\n",
              "      <td>1</td>\n",
              "      <td>5</td>\n",
              "      <td>8.8</td>\n",
              "      <td>0.610</td>\n",
              "      <td>0.14</td>\n",
              "      <td>2.4</td>\n",
              "      <td>0.067</td>\n",
              "      <td>10.0</td>\n",
              "      <td>42.0</td>\n",
              "      <td>0.99690</td>\n",
              "      <td>3.19</td>\n",
              "      <td>0.59</td>\n",
              "      <td>9.5</td>\n",
              "      <td>0.413223</td>\n",
              "      <td>1.0</td>\n",
              "      <td>0.0</td>\n",
              "    </tr>\n",
              "    <tr>\n",
              "      <th>2</th>\n",
              "      <td>2</td>\n",
              "      <td>5</td>\n",
              "      <td>7.9</td>\n",
              "      <td>0.210</td>\n",
              "      <td>0.39</td>\n",
              "      <td>2.0</td>\n",
              "      <td>0.057</td>\n",
              "      <td>21.0</td>\n",
              "      <td>138.0</td>\n",
              "      <td>0.99176</td>\n",
              "      <td>3.05</td>\n",
              "      <td>0.52</td>\n",
              "      <td>10.9</td>\n",
              "      <td>0.338843</td>\n",
              "      <td>0.0</td>\n",
              "      <td>1.0</td>\n",
              "    </tr>\n",
              "    <tr>\n",
              "      <th>3</th>\n",
              "      <td>3</td>\n",
              "      <td>6</td>\n",
              "      <td>7.0</td>\n",
              "      <td>0.210</td>\n",
              "      <td>0.31</td>\n",
              "      <td>6.0</td>\n",
              "      <td>0.046</td>\n",
              "      <td>29.0</td>\n",
              "      <td>108.0</td>\n",
              "      <td>0.99390</td>\n",
              "      <td>3.26</td>\n",
              "      <td>0.50</td>\n",
              "      <td>10.8</td>\n",
              "      <td>0.264463</td>\n",
              "      <td>0.0</td>\n",
              "      <td>1.0</td>\n",
              "    </tr>\n",
              "    <tr>\n",
              "      <th>4</th>\n",
              "      <td>4</td>\n",
              "      <td>6</td>\n",
              "      <td>7.8</td>\n",
              "      <td>0.400</td>\n",
              "      <td>0.26</td>\n",
              "      <td>9.5</td>\n",
              "      <td>0.059</td>\n",
              "      <td>32.0</td>\n",
              "      <td>178.0</td>\n",
              "      <td>0.99550</td>\n",
              "      <td>3.04</td>\n",
              "      <td>0.43</td>\n",
              "      <td>10.9</td>\n",
              "      <td>0.330579</td>\n",
              "      <td>0.0</td>\n",
              "      <td>1.0</td>\n",
              "    </tr>\n",
              "  </tbody>\n",
              "</table>\n",
              "</div>\n",
              "      <button class=\"colab-df-convert\" onclick=\"convertToInteractive('df-eec49dc3-6406-45d0-a8eb-5a5d5dfa3557')\"\n",
              "              title=\"Convert this dataframe to an interactive table.\"\n",
              "              style=\"display:none;\">\n",
              "        \n",
              "  <svg xmlns=\"http://www.w3.org/2000/svg\" height=\"24px\"viewBox=\"0 0 24 24\"\n",
              "       width=\"24px\">\n",
              "    <path d=\"M0 0h24v24H0V0z\" fill=\"none\"/>\n",
              "    <path d=\"M18.56 5.44l.94 2.06.94-2.06 2.06-.94-2.06-.94-.94-2.06-.94 2.06-2.06.94zm-11 1L8.5 8.5l.94-2.06 2.06-.94-2.06-.94L8.5 2.5l-.94 2.06-2.06.94zm10 10l.94 2.06.94-2.06 2.06-.94-2.06-.94-.94-2.06-.94 2.06-2.06.94z\"/><path d=\"M17.41 7.96l-1.37-1.37c-.4-.4-.92-.59-1.43-.59-.52 0-1.04.2-1.43.59L10.3 9.45l-7.72 7.72c-.78.78-.78 2.05 0 2.83L4 21.41c.39.39.9.59 1.41.59.51 0 1.02-.2 1.41-.59l7.78-7.78 2.81-2.81c.8-.78.8-2.07 0-2.86zM5.41 20L4 18.59l7.72-7.72 1.47 1.35L5.41 20z\"/>\n",
              "  </svg>\n",
              "      </button>\n",
              "      \n",
              "  <style>\n",
              "    .colab-df-container {\n",
              "      display:flex;\n",
              "      flex-wrap:wrap;\n",
              "      gap: 12px;\n",
              "    }\n",
              "\n",
              "    .colab-df-convert {\n",
              "      background-color: #E8F0FE;\n",
              "      border: none;\n",
              "      border-radius: 50%;\n",
              "      cursor: pointer;\n",
              "      display: none;\n",
              "      fill: #1967D2;\n",
              "      height: 32px;\n",
              "      padding: 0 0 0 0;\n",
              "      width: 32px;\n",
              "    }\n",
              "\n",
              "    .colab-df-convert:hover {\n",
              "      background-color: #E2EBFA;\n",
              "      box-shadow: 0px 1px 2px rgba(60, 64, 67, 0.3), 0px 1px 3px 1px rgba(60, 64, 67, 0.15);\n",
              "      fill: #174EA6;\n",
              "    }\n",
              "\n",
              "    [theme=dark] .colab-df-convert {\n",
              "      background-color: #3B4455;\n",
              "      fill: #D2E3FC;\n",
              "    }\n",
              "\n",
              "    [theme=dark] .colab-df-convert:hover {\n",
              "      background-color: #434B5C;\n",
              "      box-shadow: 0px 1px 3px 1px rgba(0, 0, 0, 0.15);\n",
              "      filter: drop-shadow(0px 1px 2px rgba(0, 0, 0, 0.3));\n",
              "      fill: #FFFFFF;\n",
              "    }\n",
              "  </style>\n",
              "\n",
              "      <script>\n",
              "        const buttonEl =\n",
              "          document.querySelector('#df-eec49dc3-6406-45d0-a8eb-5a5d5dfa3557 button.colab-df-convert');\n",
              "        buttonEl.style.display =\n",
              "          google.colab.kernel.accessAllowed ? 'block' : 'none';\n",
              "\n",
              "        async function convertToInteractive(key) {\n",
              "          const element = document.querySelector('#df-eec49dc3-6406-45d0-a8eb-5a5d5dfa3557');\n",
              "          const dataTable =\n",
              "            await google.colab.kernel.invokeFunction('convertToInteractive',\n",
              "                                                     [key], {});\n",
              "          if (!dataTable) return;\n",
              "\n",
              "          const docLinkHtml = 'Like what you see? Visit the ' +\n",
              "            '<a target=\"_blank\" href=https://colab.research.google.com/notebooks/data_table.ipynb>data table notebook</a>'\n",
              "            + ' to learn more about interactive tables.';\n",
              "          element.innerHTML = '';\n",
              "          dataTable['output_type'] = 'display_data';\n",
              "          await google.colab.output.renderOutput(dataTable, element);\n",
              "          const docLink = document.createElement('div');\n",
              "          docLink.innerHTML = docLinkHtml;\n",
              "          element.appendChild(docLink);\n",
              "        }\n",
              "      </script>\n",
              "    </div>\n",
              "  </div>\n",
              "  "
            ]
          },
          "metadata": {},
          "execution_count": 20
        }
      ]
    },
    {
      "cell_type": "markdown",
      "metadata": {
        "id": "VIt03PA6J0dh"
      },
      "source": [
        "5. sklearn에 model_selection 부분 속 KFold를 불러와보세요"
      ]
    },
    {
      "cell_type": "code",
      "metadata": {
        "id": "wwBMhwuuJV7A"
      },
      "source": [
        "from sklearn.model_selection import KFold"
      ],
      "execution_count": 21,
      "outputs": []
    },
    {
      "cell_type": "markdown",
      "metadata": {
        "id": "Pwyd6UpCJ6fN"
      },
      "source": [
        "6. KFold에 n_splits = 5, shuffle = True, random_state = 0이라는 인자를 추가해 \"kf\"라는 변수에 저장해보세요"
      ]
    },
    {
      "cell_type": "code",
      "metadata": {
        "id": "nGFgARMpJ9aL"
      },
      "source": [
        "kf = KFold(n_splits=5, shuffle = True, random_state=0)"
      ],
      "execution_count": 23,
      "outputs": []
    },
    {
      "cell_type": "markdown",
      "metadata": {
        "id": "nToxKqtxKEBS"
      },
      "source": [
        "7. 반복문을 통해서 1번부터 5번까지의 데이터에 접근해보세요 (추가문제입니다. 꼭 풀 필요는 없되 답지를 참고해주세요.)"
      ]
    },
    {
      "cell_type": "code",
      "metadata": {
        "id": "mRHc7n0sKBuK",
        "colab": {
          "base_uri": "https://localhost:8080/"
        },
        "outputId": "88b82203-4fae-4b8d-a7af-ba628b2d3909"
      },
      "source": [
        "n_iter = 0\n",
        "\n",
        "for train_index, test_index in kf.split(train):\n",
        "    n_iter += 1\n",
        "    train_data = train.iloc[train_idx]\n",
        "    valid_data = train.iloc[valid_idx]\n",
        "    print('## 교차검증: {0}'.format(n_iter))\n",
        "    print('학습 레이블 데이터 분포 : \\n', train_data.value_counts())\n",
        "    print('검증 레이블 데이터 분포 : \\n', valid_data.value_counts())"
      ],
      "execution_count": 28,
      "outputs": [
        {
          "output_type": "stream",
          "name": "stdout",
          "text": [
            "## 교차검증: 1\n",
            "학습 레이블 데이터 분포 : \n",
            " index  quality  fixed acidity  volatile acidity  citric acid  residual sugar  chlorides  free sulfur dioxide  total sulfur dioxide  density  pH    sulphates  alcohol  Scaled fixed acidity  x0_red  x0_white\n",
            "1      5        8.8            0.61              0.14         2.40            0.067      10.0                 42.0                  0.99690  3.19  0.59       9.5      0.413223              1.0     0.0         1\n",
            "3662   5        7.5            0.31              0.51         14.80           0.039      62.0                 204.0                 0.99820  3.06  0.60       9.5      0.305785              0.0     1.0         1\n",
            "3669   6        7.8            0.27              0.34         1.60            0.046      27.0                 154.0                 0.99270  3.05  0.45       10.5     0.330579              0.0     1.0         1\n",
            "3668   6        6.4            0.23              0.30         7.10            0.037      63.0                 236.0                 0.99520  3.06  0.34       9.2      0.214876              0.0     1.0         1\n",
            "3667   5        6.0            0.33              0.26         5.10            0.051      16.0                 119.0                 0.99416  3.15  0.41       9.2      0.181818              0.0     1.0         1\n",
            "                                                                                                                                                                                                                ..\n",
            "1826   5        5.6            0.50              0.09         2.30            0.049      17.0                 99.0                  0.99370  3.63  0.63       13.0     0.148760              1.0     0.0         1\n",
            "1827   6        6.2            0.28              0.33         1.70            0.029      24.0                 111.0                 0.99000  3.24  0.50       12.1     0.198347              0.0     1.0         1\n",
            "1828   6        7.9            0.14              0.28         1.80            0.041      44.0                 178.0                 0.99540  3.45  0.43       9.2      0.338843              0.0     1.0         1\n",
            "1829   7        7.4            0.25              0.28         7.25            0.028      14.0                 78.0                  0.99238  2.94  0.37       11.5     0.297521              0.0     1.0         1\n",
            "5496   6        7.0            0.35              0.17         1.10            0.049      7.0                  119.0                 0.99297  3.13  0.36       9.7      0.264463              0.0     1.0         1\n",
            "Length: 4398, dtype: int64\n",
            "검증 레이블 데이터 분포 : \n",
            " index  quality  fixed acidity  volatile acidity  citric acid  residual sugar  chlorides  free sulfur dioxide  total sulfur dioxide  density  pH    sulphates  alcohol  Scaled fixed acidity  x0_red  x0_white\n",
            "0      5        5.6            0.695             0.06         6.8             0.042      9.0                  84.0                  0.99432  3.44  0.44       10.2     0.148760              0.0     1.0         1\n",
            "3632   6        8.1            0.170             0.21         1.6             0.036      24.0                 119.0                 0.99396  3.18  0.52       10.1     0.355372              0.0     1.0         1\n",
            "3678   5        5.9            0.360             0.04         5.7             0.046      21.0                 87.0                  0.99340  3.22  0.51       10.2     0.173554              0.0     1.0         1\n",
            "3676   7        6.5            0.220             0.27         1.6             0.039      36.0                 116.0                 0.99178  3.38  0.57       11.0     0.223140              0.0     1.0         1\n",
            "3674   5        9.4            0.420             0.32         6.5             0.027      20.0                 167.0                 0.99479  3.08  0.43       10.6     0.462810              0.0     1.0         1\n",
            "                                                                                                                                                                                                                ..\n",
            "1910   6        6.3            0.670             0.48         12.6            0.052      57.0                 222.0                 0.99790  3.17  0.52       9.3      0.206612              0.0     1.0         1\n",
            "1913   8        6.4            0.320             0.25         5.0             0.055      28.0                 138.0                 0.99171  3.27  0.50       12.4     0.214876              0.0     1.0         1\n",
            "1924   7        10.0           0.440             0.49         2.7             0.077      11.0                 19.0                  0.99630  3.23  0.63       11.6     0.512397              1.0     0.0         1\n",
            "1932   6        6.8            0.330             0.28         1.2             0.032      38.0                 131.0                 0.98890  3.19  0.41       13.0     0.247934              0.0     1.0         1\n",
            "5494   7        7.8            0.150             0.34         1.1             0.035      31.0                 93.0                  0.99096  3.07  0.72       11.3     0.330579              0.0     1.0         1\n",
            "Length: 1099, dtype: int64\n",
            "## 교차검증: 2\n",
            "학습 레이블 데이터 분포 : \n",
            " index  quality  fixed acidity  volatile acidity  citric acid  residual sugar  chlorides  free sulfur dioxide  total sulfur dioxide  density  pH    sulphates  alcohol  Scaled fixed acidity  x0_red  x0_white\n",
            "1      5        8.8            0.61              0.14         2.40            0.067      10.0                 42.0                  0.99690  3.19  0.59       9.5      0.413223              1.0     0.0         1\n",
            "3662   5        7.5            0.31              0.51         14.80           0.039      62.0                 204.0                 0.99820  3.06  0.60       9.5      0.305785              0.0     1.0         1\n",
            "3669   6        7.8            0.27              0.34         1.60            0.046      27.0                 154.0                 0.99270  3.05  0.45       10.5     0.330579              0.0     1.0         1\n",
            "3668   6        6.4            0.23              0.30         7.10            0.037      63.0                 236.0                 0.99520  3.06  0.34       9.2      0.214876              0.0     1.0         1\n",
            "3667   5        6.0            0.33              0.26         5.10            0.051      16.0                 119.0                 0.99416  3.15  0.41       9.2      0.181818              0.0     1.0         1\n",
            "                                                                                                                                                                                                                ..\n",
            "1826   5        5.6            0.50              0.09         2.30            0.049      17.0                 99.0                  0.99370  3.63  0.63       13.0     0.148760              1.0     0.0         1\n",
            "1827   6        6.2            0.28              0.33         1.70            0.029      24.0                 111.0                 0.99000  3.24  0.50       12.1     0.198347              0.0     1.0         1\n",
            "1828   6        7.9            0.14              0.28         1.80            0.041      44.0                 178.0                 0.99540  3.45  0.43       9.2      0.338843              0.0     1.0         1\n",
            "1829   7        7.4            0.25              0.28         7.25            0.028      14.0                 78.0                  0.99238  2.94  0.37       11.5     0.297521              0.0     1.0         1\n",
            "5496   6        7.0            0.35              0.17         1.10            0.049      7.0                  119.0                 0.99297  3.13  0.36       9.7      0.264463              0.0     1.0         1\n",
            "Length: 4398, dtype: int64\n",
            "검증 레이블 데이터 분포 : \n",
            " index  quality  fixed acidity  volatile acidity  citric acid  residual sugar  chlorides  free sulfur dioxide  total sulfur dioxide  density  pH    sulphates  alcohol  Scaled fixed acidity  x0_red  x0_white\n",
            "0      5        5.6            0.695             0.06         6.8             0.042      9.0                  84.0                  0.99432  3.44  0.44       10.2     0.148760              0.0     1.0         1\n",
            "3632   6        8.1            0.170             0.21         1.6             0.036      24.0                 119.0                 0.99396  3.18  0.52       10.1     0.355372              0.0     1.0         1\n",
            "3678   5        5.9            0.360             0.04         5.7             0.046      21.0                 87.0                  0.99340  3.22  0.51       10.2     0.173554              0.0     1.0         1\n",
            "3676   7        6.5            0.220             0.27         1.6             0.039      36.0                 116.0                 0.99178  3.38  0.57       11.0     0.223140              0.0     1.0         1\n",
            "3674   5        9.4            0.420             0.32         6.5             0.027      20.0                 167.0                 0.99479  3.08  0.43       10.6     0.462810              0.0     1.0         1\n",
            "                                                                                                                                                                                                                ..\n",
            "1910   6        6.3            0.670             0.48         12.6            0.052      57.0                 222.0                 0.99790  3.17  0.52       9.3      0.206612              0.0     1.0         1\n",
            "1913   8        6.4            0.320             0.25         5.0             0.055      28.0                 138.0                 0.99171  3.27  0.50       12.4     0.214876              0.0     1.0         1\n",
            "1924   7        10.0           0.440             0.49         2.7             0.077      11.0                 19.0                  0.99630  3.23  0.63       11.6     0.512397              1.0     0.0         1\n",
            "1932   6        6.8            0.330             0.28         1.2             0.032      38.0                 131.0                 0.98890  3.19  0.41       13.0     0.247934              0.0     1.0         1\n",
            "5494   7        7.8            0.150             0.34         1.1             0.035      31.0                 93.0                  0.99096  3.07  0.72       11.3     0.330579              0.0     1.0         1\n",
            "Length: 1099, dtype: int64\n",
            "## 교차검증: 3\n",
            "학습 레이블 데이터 분포 : \n",
            " index  quality  fixed acidity  volatile acidity  citric acid  residual sugar  chlorides  free sulfur dioxide  total sulfur dioxide  density  pH    sulphates  alcohol  Scaled fixed acidity  x0_red  x0_white\n",
            "1      5        8.8            0.61              0.14         2.40            0.067      10.0                 42.0                  0.99690  3.19  0.59       9.5      0.413223              1.0     0.0         1\n",
            "3662   5        7.5            0.31              0.51         14.80           0.039      62.0                 204.0                 0.99820  3.06  0.60       9.5      0.305785              0.0     1.0         1\n",
            "3669   6        7.8            0.27              0.34         1.60            0.046      27.0                 154.0                 0.99270  3.05  0.45       10.5     0.330579              0.0     1.0         1\n",
            "3668   6        6.4            0.23              0.30         7.10            0.037      63.0                 236.0                 0.99520  3.06  0.34       9.2      0.214876              0.0     1.0         1\n",
            "3667   5        6.0            0.33              0.26         5.10            0.051      16.0                 119.0                 0.99416  3.15  0.41       9.2      0.181818              0.0     1.0         1\n",
            "                                                                                                                                                                                                                ..\n",
            "1826   5        5.6            0.50              0.09         2.30            0.049      17.0                 99.0                  0.99370  3.63  0.63       13.0     0.148760              1.0     0.0         1\n",
            "1827   6        6.2            0.28              0.33         1.70            0.029      24.0                 111.0                 0.99000  3.24  0.50       12.1     0.198347              0.0     1.0         1\n",
            "1828   6        7.9            0.14              0.28         1.80            0.041      44.0                 178.0                 0.99540  3.45  0.43       9.2      0.338843              0.0     1.0         1\n",
            "1829   7        7.4            0.25              0.28         7.25            0.028      14.0                 78.0                  0.99238  2.94  0.37       11.5     0.297521              0.0     1.0         1\n",
            "5496   6        7.0            0.35              0.17         1.10            0.049      7.0                  119.0                 0.99297  3.13  0.36       9.7      0.264463              0.0     1.0         1\n",
            "Length: 4398, dtype: int64\n",
            "검증 레이블 데이터 분포 : \n",
            " index  quality  fixed acidity  volatile acidity  citric acid  residual sugar  chlorides  free sulfur dioxide  total sulfur dioxide  density  pH    sulphates  alcohol  Scaled fixed acidity  x0_red  x0_white\n",
            "0      5        5.6            0.695             0.06         6.8             0.042      9.0                  84.0                  0.99432  3.44  0.44       10.2     0.148760              0.0     1.0         1\n",
            "3632   6        8.1            0.170             0.21         1.6             0.036      24.0                 119.0                 0.99396  3.18  0.52       10.1     0.355372              0.0     1.0         1\n",
            "3678   5        5.9            0.360             0.04         5.7             0.046      21.0                 87.0                  0.99340  3.22  0.51       10.2     0.173554              0.0     1.0         1\n",
            "3676   7        6.5            0.220             0.27         1.6             0.039      36.0                 116.0                 0.99178  3.38  0.57       11.0     0.223140              0.0     1.0         1\n",
            "3674   5        9.4            0.420             0.32         6.5             0.027      20.0                 167.0                 0.99479  3.08  0.43       10.6     0.462810              0.0     1.0         1\n",
            "                                                                                                                                                                                                                ..\n",
            "1910   6        6.3            0.670             0.48         12.6            0.052      57.0                 222.0                 0.99790  3.17  0.52       9.3      0.206612              0.0     1.0         1\n",
            "1913   8        6.4            0.320             0.25         5.0             0.055      28.0                 138.0                 0.99171  3.27  0.50       12.4     0.214876              0.0     1.0         1\n",
            "1924   7        10.0           0.440             0.49         2.7             0.077      11.0                 19.0                  0.99630  3.23  0.63       11.6     0.512397              1.0     0.0         1\n",
            "1932   6        6.8            0.330             0.28         1.2             0.032      38.0                 131.0                 0.98890  3.19  0.41       13.0     0.247934              0.0     1.0         1\n",
            "5494   7        7.8            0.150             0.34         1.1             0.035      31.0                 93.0                  0.99096  3.07  0.72       11.3     0.330579              0.0     1.0         1\n",
            "Length: 1099, dtype: int64\n",
            "## 교차검증: 4\n",
            "학습 레이블 데이터 분포 : \n",
            " index  quality  fixed acidity  volatile acidity  citric acid  residual sugar  chlorides  free sulfur dioxide  total sulfur dioxide  density  pH    sulphates  alcohol  Scaled fixed acidity  x0_red  x0_white\n",
            "1      5        8.8            0.61              0.14         2.40            0.067      10.0                 42.0                  0.99690  3.19  0.59       9.5      0.413223              1.0     0.0         1\n",
            "3662   5        7.5            0.31              0.51         14.80           0.039      62.0                 204.0                 0.99820  3.06  0.60       9.5      0.305785              0.0     1.0         1\n",
            "3669   6        7.8            0.27              0.34         1.60            0.046      27.0                 154.0                 0.99270  3.05  0.45       10.5     0.330579              0.0     1.0         1\n",
            "3668   6        6.4            0.23              0.30         7.10            0.037      63.0                 236.0                 0.99520  3.06  0.34       9.2      0.214876              0.0     1.0         1\n",
            "3667   5        6.0            0.33              0.26         5.10            0.051      16.0                 119.0                 0.99416  3.15  0.41       9.2      0.181818              0.0     1.0         1\n",
            "                                                                                                                                                                                                                ..\n",
            "1826   5        5.6            0.50              0.09         2.30            0.049      17.0                 99.0                  0.99370  3.63  0.63       13.0     0.148760              1.0     0.0         1\n",
            "1827   6        6.2            0.28              0.33         1.70            0.029      24.0                 111.0                 0.99000  3.24  0.50       12.1     0.198347              0.0     1.0         1\n",
            "1828   6        7.9            0.14              0.28         1.80            0.041      44.0                 178.0                 0.99540  3.45  0.43       9.2      0.338843              0.0     1.0         1\n",
            "1829   7        7.4            0.25              0.28         7.25            0.028      14.0                 78.0                  0.99238  2.94  0.37       11.5     0.297521              0.0     1.0         1\n",
            "5496   6        7.0            0.35              0.17         1.10            0.049      7.0                  119.0                 0.99297  3.13  0.36       9.7      0.264463              0.0     1.0         1\n",
            "Length: 4398, dtype: int64\n",
            "검증 레이블 데이터 분포 : \n",
            " index  quality  fixed acidity  volatile acidity  citric acid  residual sugar  chlorides  free sulfur dioxide  total sulfur dioxide  density  pH    sulphates  alcohol  Scaled fixed acidity  x0_red  x0_white\n",
            "0      5        5.6            0.695             0.06         6.8             0.042      9.0                  84.0                  0.99432  3.44  0.44       10.2     0.148760              0.0     1.0         1\n",
            "3632   6        8.1            0.170             0.21         1.6             0.036      24.0                 119.0                 0.99396  3.18  0.52       10.1     0.355372              0.0     1.0         1\n",
            "3678   5        5.9            0.360             0.04         5.7             0.046      21.0                 87.0                  0.99340  3.22  0.51       10.2     0.173554              0.0     1.0         1\n",
            "3676   7        6.5            0.220             0.27         1.6             0.039      36.0                 116.0                 0.99178  3.38  0.57       11.0     0.223140              0.0     1.0         1\n",
            "3674   5        9.4            0.420             0.32         6.5             0.027      20.0                 167.0                 0.99479  3.08  0.43       10.6     0.462810              0.0     1.0         1\n",
            "                                                                                                                                                                                                                ..\n",
            "1910   6        6.3            0.670             0.48         12.6            0.052      57.0                 222.0                 0.99790  3.17  0.52       9.3      0.206612              0.0     1.0         1\n",
            "1913   8        6.4            0.320             0.25         5.0             0.055      28.0                 138.0                 0.99171  3.27  0.50       12.4     0.214876              0.0     1.0         1\n",
            "1924   7        10.0           0.440             0.49         2.7             0.077      11.0                 19.0                  0.99630  3.23  0.63       11.6     0.512397              1.0     0.0         1\n",
            "1932   6        6.8            0.330             0.28         1.2             0.032      38.0                 131.0                 0.98890  3.19  0.41       13.0     0.247934              0.0     1.0         1\n",
            "5494   7        7.8            0.150             0.34         1.1             0.035      31.0                 93.0                  0.99096  3.07  0.72       11.3     0.330579              0.0     1.0         1\n",
            "Length: 1099, dtype: int64\n",
            "## 교차검증: 5\n",
            "학습 레이블 데이터 분포 : \n",
            " index  quality  fixed acidity  volatile acidity  citric acid  residual sugar  chlorides  free sulfur dioxide  total sulfur dioxide  density  pH    sulphates  alcohol  Scaled fixed acidity  x0_red  x0_white\n",
            "1      5        8.8            0.61              0.14         2.40            0.067      10.0                 42.0                  0.99690  3.19  0.59       9.5      0.413223              1.0     0.0         1\n",
            "3662   5        7.5            0.31              0.51         14.80           0.039      62.0                 204.0                 0.99820  3.06  0.60       9.5      0.305785              0.0     1.0         1\n",
            "3669   6        7.8            0.27              0.34         1.60            0.046      27.0                 154.0                 0.99270  3.05  0.45       10.5     0.330579              0.0     1.0         1\n",
            "3668   6        6.4            0.23              0.30         7.10            0.037      63.0                 236.0                 0.99520  3.06  0.34       9.2      0.214876              0.0     1.0         1\n",
            "3667   5        6.0            0.33              0.26         5.10            0.051      16.0                 119.0                 0.99416  3.15  0.41       9.2      0.181818              0.0     1.0         1\n",
            "                                                                                                                                                                                                                ..\n",
            "1826   5        5.6            0.50              0.09         2.30            0.049      17.0                 99.0                  0.99370  3.63  0.63       13.0     0.148760              1.0     0.0         1\n",
            "1827   6        6.2            0.28              0.33         1.70            0.029      24.0                 111.0                 0.99000  3.24  0.50       12.1     0.198347              0.0     1.0         1\n",
            "1828   6        7.9            0.14              0.28         1.80            0.041      44.0                 178.0                 0.99540  3.45  0.43       9.2      0.338843              0.0     1.0         1\n",
            "1829   7        7.4            0.25              0.28         7.25            0.028      14.0                 78.0                  0.99238  2.94  0.37       11.5     0.297521              0.0     1.0         1\n",
            "5496   6        7.0            0.35              0.17         1.10            0.049      7.0                  119.0                 0.99297  3.13  0.36       9.7      0.264463              0.0     1.0         1\n",
            "Length: 4398, dtype: int64\n",
            "검증 레이블 데이터 분포 : \n",
            " index  quality  fixed acidity  volatile acidity  citric acid  residual sugar  chlorides  free sulfur dioxide  total sulfur dioxide  density  pH    sulphates  alcohol  Scaled fixed acidity  x0_red  x0_white\n",
            "0      5        5.6            0.695             0.06         6.8             0.042      9.0                  84.0                  0.99432  3.44  0.44       10.2     0.148760              0.0     1.0         1\n",
            "3632   6        8.1            0.170             0.21         1.6             0.036      24.0                 119.0                 0.99396  3.18  0.52       10.1     0.355372              0.0     1.0         1\n",
            "3678   5        5.9            0.360             0.04         5.7             0.046      21.0                 87.0                  0.99340  3.22  0.51       10.2     0.173554              0.0     1.0         1\n",
            "3676   7        6.5            0.220             0.27         1.6             0.039      36.0                 116.0                 0.99178  3.38  0.57       11.0     0.223140              0.0     1.0         1\n",
            "3674   5        9.4            0.420             0.32         6.5             0.027      20.0                 167.0                 0.99479  3.08  0.43       10.6     0.462810              0.0     1.0         1\n",
            "                                                                                                                                                                                                                ..\n",
            "1910   6        6.3            0.670             0.48         12.6            0.052      57.0                 222.0                 0.99790  3.17  0.52       9.3      0.206612              0.0     1.0         1\n",
            "1913   8        6.4            0.320             0.25         5.0             0.055      28.0                 138.0                 0.99171  3.27  0.50       12.4     0.214876              0.0     1.0         1\n",
            "1924   7        10.0           0.440             0.49         2.7             0.077      11.0                 19.0                  0.99630  3.23  0.63       11.6     0.512397              1.0     0.0         1\n",
            "1932   6        6.8            0.330             0.28         1.2             0.032      38.0                 131.0                 0.98890  3.19  0.41       13.0     0.247934              0.0     1.0         1\n",
            "5494   7        7.8            0.150             0.34         1.1             0.035      31.0                 93.0                  0.99096  3.07  0.72       11.3     0.330579              0.0     1.0         1\n",
            "Length: 1099, dtype: int64\n"
          ]
        }
      ]
    }
  ]
}