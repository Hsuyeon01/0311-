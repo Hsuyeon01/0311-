{
  "cells": [
    {
      "cell_type": "markdown",
      "metadata": {
        "id": "view-in-github",
        "colab_type": "text"
      },
      "source": [
        "<a href=\"https://colab.research.google.com/github/Hsuyeon01/ESAA/blob/main/0701_%EA%B3%BC%EC%A0%9C.ipynb\" target=\"_parent\"><img src=\"https://colab.research.google.com/assets/colab-badge.svg\" alt=\"Open In Colab\"/></a>"
      ]
    },
    {
      "cell_type": "code",
      "execution_count": null,
      "metadata": {
        "id": "kXYirNz1qDTs",
        "outputId": "550a79e1-5eae-4018-ef9e-dc671ec2c616"
      },
      "outputs": [
        {
          "data": {
            "text/html": [
              "<div>\n",
              "<style scoped>\n",
              "    .dataframe tbody tr th:only-of-type {\n",
              "        vertical-align: middle;\n",
              "    }\n",
              "\n",
              "    .dataframe tbody tr th {\n",
              "        vertical-align: top;\n",
              "    }\n",
              "\n",
              "    .dataframe thead th {\n",
              "        text-align: right;\n",
              "    }\n",
              "</style>\n",
              "<table border=\"1\" class=\"dataframe\">\n",
              "  <thead>\n",
              "    <tr style=\"text-align: right;\">\n",
              "      <th></th>\n",
              "      <th>InvoiceNo</th>\n",
              "      <th>StockCode</th>\n",
              "      <th>Description</th>\n",
              "      <th>Quantity</th>\n",
              "      <th>InvoiceDate</th>\n",
              "      <th>UnitPrice</th>\n",
              "      <th>CustomerID</th>\n",
              "      <th>Country</th>\n",
              "    </tr>\n",
              "  </thead>\n",
              "  <tbody>\n",
              "    <tr>\n",
              "      <th>0</th>\n",
              "      <td>536365</td>\n",
              "      <td>85123A</td>\n",
              "      <td>WHITE HANGING HEART T-LIGHT HOLDER</td>\n",
              "      <td>6</td>\n",
              "      <td>2010-12-01 08:26:00</td>\n",
              "      <td>2.55</td>\n",
              "      <td>17850.0</td>\n",
              "      <td>United Kingdom</td>\n",
              "    </tr>\n",
              "    <tr>\n",
              "      <th>1</th>\n",
              "      <td>536365</td>\n",
              "      <td>71053</td>\n",
              "      <td>WHITE METAL LANTERN</td>\n",
              "      <td>6</td>\n",
              "      <td>2010-12-01 08:26:00</td>\n",
              "      <td>3.39</td>\n",
              "      <td>17850.0</td>\n",
              "      <td>United Kingdom</td>\n",
              "    </tr>\n",
              "    <tr>\n",
              "      <th>2</th>\n",
              "      <td>536365</td>\n",
              "      <td>84406B</td>\n",
              "      <td>CREAM CUPID HEARTS COAT HANGER</td>\n",
              "      <td>8</td>\n",
              "      <td>2010-12-01 08:26:00</td>\n",
              "      <td>2.75</td>\n",
              "      <td>17850.0</td>\n",
              "      <td>United Kingdom</td>\n",
              "    </tr>\n",
              "  </tbody>\n",
              "</table>\n",
              "</div>"
            ],
            "text/plain": [
              "  InvoiceNo StockCode                         Description  Quantity  \\\n",
              "0    536365    85123A  WHITE HANGING HEART T-LIGHT HOLDER         6   \n",
              "1    536365     71053                 WHITE METAL LANTERN         6   \n",
              "2    536365    84406B      CREAM CUPID HEARTS COAT HANGER         8   \n",
              "\n",
              "          InvoiceDate  UnitPrice  CustomerID         Country  \n",
              "0 2010-12-01 08:26:00       2.55     17850.0  United Kingdom  \n",
              "1 2010-12-01 08:26:00       3.39     17850.0  United Kingdom  \n",
              "2 2010-12-01 08:26:00       2.75     17850.0  United Kingdom  "
            ]
          },
          "execution_count": 1,
          "metadata": {},
          "output_type": "execute_result"
        }
      ],
      "source": [
        "import pandas as pd\n",
        "import datetime\n",
        "import math\n",
        "import numpy as np\n",
        "import matplotlib.pyplot as plt\n",
        "%matplotlib inline\n",
        "\n",
        "retail_df = pd.read_excel(io='Online Retail.xlsx')\n",
        "retail_df.head(3)"
      ]
    },
    {
      "cell_type": "markdown",
      "metadata": {
        "id": "8O9ef3T7qDT0"
      },
      "source": [
        "데이터 세트의 칼럼\n",
        "\n",
        "- InvoiceNo : 주문번호, 'C'로 시작하는 것은 취소 주문\n",
        "- StockCode : 제품 코드\n",
        "- Description : 제품 설명\n",
        "- Quantity : 주문 제품 건수\n",
        "- InvoiceDate : 주문 일차\n",
        "- UnitPrice : 제품 단가\n",
        "- CustomerID : 고객 번호\n",
        "- Country : 국가명(주문 고객의 국적)"
      ]
    },
    {
      "cell_type": "code",
      "execution_count": null,
      "metadata": {
        "id": "Ex_bITLiqDT3",
        "outputId": "91f77d74-541d-4ba6-a994-e9c33711e8bb"
      },
      "outputs": [
        {
          "name": "stdout",
          "output_type": "stream",
          "text": [
            "<class 'pandas.core.frame.DataFrame'>\n",
            "RangeIndex: 541909 entries, 0 to 541908\n",
            "Data columns (total 8 columns):\n",
            " #   Column       Non-Null Count   Dtype         \n",
            "---  ------       --------------   -----         \n",
            " 0   InvoiceNo    541909 non-null  object        \n",
            " 1   StockCode    541909 non-null  object        \n",
            " 2   Description  540455 non-null  object        \n",
            " 3   Quantity     541909 non-null  int64         \n",
            " 4   InvoiceDate  541909 non-null  datetime64[ns]\n",
            " 5   UnitPrice    541909 non-null  float64       \n",
            " 6   CustomerID   406829 non-null  float64       \n",
            " 7   Country      541909 non-null  object        \n",
            "dtypes: datetime64[ns](1), float64(2), int64(1), object(4)\n",
            "memory usage: 33.1+ MB\n"
          ]
        }
      ],
      "source": [
        "retail_df.info()"
      ]
    },
    {
      "cell_type": "markdown",
      "metadata": {
        "id": "pEqTiawAqDT4"
      },
      "source": [
        "필요한 사전 정제 작업\n",
        "\n",
        "- Null 데이터 제거 : 특히 CustomerID가 Null인 데이터가 많음, 고객 세그먼테이션을 수행하므로 고객 식별 번호가 없는 데이터는 필요가 없기에 삭제\n",
        "- 오류 데이터 삭제 :  대표적인 오류 데이터는 Quantity 또는 UnitPrice가 0보다 작은 경우"
      ]
    },
    {
      "cell_type": "code",
      "execution_count": null,
      "metadata": {
        "id": "Ta3pHhI_qDT5",
        "outputId": "eb6fd9cd-ac87-4bff-bf95-65ad5d4758f4"
      },
      "outputs": [
        {
          "name": "stdout",
          "output_type": "stream",
          "text": [
            "(397884, 8)\n"
          ]
        },
        {
          "data": {
            "text/plain": [
              "InvoiceNo      0\n",
              "StockCode      0\n",
              "Description    0\n",
              "Quantity       0\n",
              "InvoiceDate    0\n",
              "UnitPrice      0\n",
              "CustomerID     0\n",
              "Country        0\n",
              "dtype: int64"
            ]
          },
          "execution_count": 3,
          "metadata": {},
          "output_type": "execute_result"
        }
      ],
      "source": [
        "# 불린 인덱싱을 통해 필터링\n",
        "\n",
        "retail_df = retail_df[retail_df['Quantity']>0]\n",
        "retail_df = retail_df[retail_df['UnitPrice']>0]\n",
        "retail_df = retail_df[retail_df['CustomerID'].notnull()]\n",
        "print(retail_df.shape)\n",
        "retail_df.isnull().sum()"
      ]
    },
    {
      "cell_type": "code",
      "execution_count": null,
      "metadata": {
        "id": "jIMLwnUCqDT6",
        "outputId": "21aef7ea-5d22-45d4-d069-d97f9e02e6ab"
      },
      "outputs": [
        {
          "data": {
            "text/plain": [
              "United Kingdom    354321\n",
              "Germany             9040\n",
              "France              8341\n",
              "EIRE                7236\n",
              "Spain               2484\n",
              "Name: Country, dtype: int64"
            ]
          },
          "execution_count": 6,
          "metadata": {},
          "output_type": "execute_result"
        }
      ],
      "source": [
        "retail_df['Country'].value_counts()[:5]"
      ]
    },
    {
      "cell_type": "code",
      "execution_count": null,
      "metadata": {
        "id": "GQxSNMotqDT7",
        "outputId": "2532220a-26c2-4f2a-c3ba-57e1abb93937"
      },
      "outputs": [
        {
          "name": "stdout",
          "output_type": "stream",
          "text": [
            "(354321, 8)\n"
          ]
        }
      ],
      "source": [
        "# 영국이 대다수를 차지하므로 다른 국가의 데이터는 모두 제외\n",
        "retail_df = retail_df[retail_df['Country']=='United Kingdom']\n",
        "print(retail_df.shape)"
      ]
    },
    {
      "cell_type": "markdown",
      "metadata": {
        "id": "jvLU_a7IqDT9"
      },
      "source": [
        "## RFM 기반 데이터 가공\n",
        "\n",
        "고객 세그먼테이션 군집화를 RFM 기반으로 수행"
      ]
    },
    {
      "cell_type": "code",
      "execution_count": null,
      "metadata": {
        "id": "LKLZfXVlqDT9"
      },
      "outputs": [],
      "source": [
        "# UnitPrice와 Quantity를 곱해서 주문 금액 데이터 만듦\n",
        "# CustomerNo도 편리한 식별성을 위해 float 형을 int 형으로 변경\n",
        "\n",
        "retail_df['sale_amount'] = retail_df['Quantity']*retail_df['UnitPrice']\n",
        "retail_df['CustomerID'] = retail_df['CustomerID'].astype(int)"
      ]
    },
    {
      "cell_type": "code",
      "execution_count": null,
      "metadata": {
        "id": "E4e3JBsdqDT_",
        "outputId": "23d9317b-c015-4378-9cf1-7e8807cd6552"
      },
      "outputs": [
        {
          "name": "stdout",
          "output_type": "stream",
          "text": [
            "17841    7847\n",
            "14096    5111\n",
            "12748    4595\n",
            "14606    2700\n",
            "15311    2379\n",
            "Name: CustomerID, dtype: int64\n",
            "CustomerID\n",
            "18102    259657.30\n",
            "17450    194550.79\n",
            "16446    168472.50\n",
            "17511     91062.38\n",
            "16029     81024.84\n",
            "Name: sale_amount, dtype: float64\n"
          ]
        }
      ],
      "source": [
        "# Top5 주문건수와 주문금액을 가진 고객 데이터 추출\n",
        "\n",
        "print(retail_df['CustomerID'].value_counts().head(5))\n",
        "print(retail_df.groupby('CustomerID')['sale_amount'].sum().sort_values(ascending=False)[:5])"
      ]
    },
    {
      "cell_type": "code",
      "execution_count": null,
      "metadata": {
        "id": "b7YJsspyqDUA",
        "outputId": "cd006699-bc61-47c4-a884-e54d27dff797"
      },
      "outputs": [
        {
          "data": {
            "text/plain": [
              "1.028702077315023"
            ]
          },
          "execution_count": 10,
          "metadata": {},
          "output_type": "execute_result"
        }
      ],
      "source": [
        "retail_df.groupby(['InvoiceNo','StockCode'])['InvoiceNo'].count().mean()"
      ]
    },
    {
      "cell_type": "markdown",
      "metadata": {
        "id": "Rrxwt8vYqDUB"
      },
      "source": [
        "- 주문번호 + 상품코드 기준의 데이터를 고객 기준의 Recency, Frequency, Monetary value 데이터로 변경\n",
        "- 주문번호 기준의 데이터를 개별 고객 기준의 데이터로 groupby\n",
        "- DataFrame의 groupby()만 사용해서는 여러 개의 카럼에 서로 다른 aggregation 연산을 한 번에 수행하기 어려움, 이를 해결하기 위해서 DataFrame에 groupby를 호출해 반환된 DataFrameGroupby 객체에 agg()를 이용\n",
        "- agg() 인자로 대상 칼럼들과 aggregation 함수명들을 딕셔너리 형태로 입력하면 칼럼 여러 개의 서로 다른 aggregation 연산을 쉽게 수행할 수 있음"
      ]
    },
    {
      "cell_type": "code",
      "execution_count": null,
      "metadata": {
        "id": "Boq01fDeqDUB",
        "outputId": "d21936b9-ef86-4734-ffe9-7bf99fa16b1c"
      },
      "outputs": [
        {
          "data": {
            "text/html": [
              "<div>\n",
              "<style scoped>\n",
              "    .dataframe tbody tr th:only-of-type {\n",
              "        vertical-align: middle;\n",
              "    }\n",
              "\n",
              "    .dataframe tbody tr th {\n",
              "        vertical-align: top;\n",
              "    }\n",
              "\n",
              "    .dataframe thead th {\n",
              "        text-align: right;\n",
              "    }\n",
              "</style>\n",
              "<table border=\"1\" class=\"dataframe\">\n",
              "  <thead>\n",
              "    <tr style=\"text-align: right;\">\n",
              "      <th></th>\n",
              "      <th>CustomerID</th>\n",
              "      <th>Recency</th>\n",
              "      <th>Frequency</th>\n",
              "      <th>Monetary</th>\n",
              "    </tr>\n",
              "  </thead>\n",
              "  <tbody>\n",
              "    <tr>\n",
              "      <th>0</th>\n",
              "      <td>12346</td>\n",
              "      <td>2011-01-18 10:01:00</td>\n",
              "      <td>1</td>\n",
              "      <td>77183.60</td>\n",
              "    </tr>\n",
              "    <tr>\n",
              "      <th>1</th>\n",
              "      <td>12747</td>\n",
              "      <td>2011-12-07 14:34:00</td>\n",
              "      <td>103</td>\n",
              "      <td>4196.01</td>\n",
              "    </tr>\n",
              "    <tr>\n",
              "      <th>2</th>\n",
              "      <td>12748</td>\n",
              "      <td>2011-12-09 12:20:00</td>\n",
              "      <td>4595</td>\n",
              "      <td>33719.73</td>\n",
              "    </tr>\n",
              "  </tbody>\n",
              "</table>\n",
              "</div>"
            ],
            "text/plain": [
              "   CustomerID             Recency  Frequency  Monetary\n",
              "0       12346 2011-01-18 10:01:00          1  77183.60\n",
              "1       12747 2011-12-07 14:34:00        103   4196.01\n",
              "2       12748 2011-12-09 12:20:00       4595  33719.73"
            ]
          },
          "execution_count": 12,
          "metadata": {},
          "output_type": "execute_result"
        }
      ],
      "source": [
        "# DataFrmae의 groupby()의 multiple 연산을 위해 agg() 이용\n",
        "# Recency는 InvoiceDate 칼럼의 max()에서 데이터 가공\n",
        "# Frequency는 InvoiceNo 칼럼의 count(), Moneytary value는 sale_amount 칼럼의 sum()\n",
        "\n",
        "aggregations = {\n",
        "    'InvoiceDate' : 'max',\n",
        "    'InvoiceNo' : 'count',\n",
        "    'sale_amount' : 'sum'\n",
        "}\n",
        "\n",
        "cust_df = retail_df.groupby('CustomerID').agg(aggregations)\n",
        "cust_df = cust_df.rename(columns = {'InvoiceDate' : 'Recency',\n",
        "                                   'InvoiceNo':  'Frequency',\n",
        "                                   'sale_amount' : 'Monetary'})\n",
        "\n",
        "cust_df = cust_df.reset_index()\n",
        "cust_df.head(3)"
      ]
    },
    {
      "cell_type": "code",
      "execution_count": null,
      "metadata": {
        "id": "KwiV9fPEqDUD",
        "outputId": "6d98ebf2-9848-4047-ad68-14b6fd2e8ccd"
      },
      "outputs": [
        {
          "name": "stdout",
          "output_type": "stream",
          "text": [
            "cust_df 로우와 칼럼 건수는  (3920, 4)\n"
          ]
        },
        {
          "data": {
            "text/html": [
              "<div>\n",
              "<style scoped>\n",
              "    .dataframe tbody tr th:only-of-type {\n",
              "        vertical-align: middle;\n",
              "    }\n",
              "\n",
              "    .dataframe tbody tr th {\n",
              "        vertical-align: top;\n",
              "    }\n",
              "\n",
              "    .dataframe thead th {\n",
              "        text-align: right;\n",
              "    }\n",
              "</style>\n",
              "<table border=\"1\" class=\"dataframe\">\n",
              "  <thead>\n",
              "    <tr style=\"text-align: right;\">\n",
              "      <th></th>\n",
              "      <th>CustomerID</th>\n",
              "      <th>Recency</th>\n",
              "      <th>Frequency</th>\n",
              "      <th>Monetary</th>\n",
              "    </tr>\n",
              "  </thead>\n",
              "  <tbody>\n",
              "    <tr>\n",
              "      <th>0</th>\n",
              "      <td>12346</td>\n",
              "      <td>326</td>\n",
              "      <td>1</td>\n",
              "      <td>77183.60</td>\n",
              "    </tr>\n",
              "    <tr>\n",
              "      <th>1</th>\n",
              "      <td>12747</td>\n",
              "      <td>3</td>\n",
              "      <td>103</td>\n",
              "      <td>4196.01</td>\n",
              "    </tr>\n",
              "    <tr>\n",
              "      <th>2</th>\n",
              "      <td>12748</td>\n",
              "      <td>1</td>\n",
              "      <td>4595</td>\n",
              "      <td>33719.73</td>\n",
              "    </tr>\n",
              "  </tbody>\n",
              "</table>\n",
              "</div>"
            ],
            "text/plain": [
              "   CustomerID  Recency  Frequency  Monetary\n",
              "0       12346      326          1  77183.60\n",
              "1       12747        3        103   4196.01\n",
              "2       12748        1       4595  33719.73"
            ]
          },
          "execution_count": 13,
          "metadata": {},
          "output_type": "execute_result"
        }
      ],
      "source": [
        "# 2011년 12월 10일을 현재 날짜로 간주하고 가장 최근의 주문 일자를 뺀 데이터에서 일자 데이터만 추출\n",
        "import datetime as dt\n",
        "\n",
        "cust_df['Recency'] = dt.datetime(2011,12,10) - cust_df['Recency']\n",
        "cust_df['Recency'] = cust_df['Recency'].apply(lambda x: x.days + 1)\n",
        "print('cust_df 로우와 칼럼 건수는 ', cust_df.shape)\n",
        "cust_df.head(3)"
      ]
    },
    {
      "cell_type": "markdown",
      "metadata": {
        "id": "UKBiWKpnqDUE"
      },
      "source": [
        "## RFM 기반 고객 세그먼테이션\n",
        "\n",
        "온라인 판매 데이터 세트의 칼럼별 히스토그램을 확인, 왜곡된 데이터 분포도에서 군집화를 수행할 때 어떤 현상이 발생하는 지"
      ]
    },
    {
      "cell_type": "code",
      "execution_count": null,
      "metadata": {
        "id": "UWzZntZ_qDUF",
        "outputId": "7fca6431-f8db-49fe-ca06-ed1da72f7c6e"
      },
      "outputs": [
        {
          "data": {
            "text/plain": [
              "(array([3.887e+03, 1.900e+01, 9.000e+00, 2.000e+00, 0.000e+00, 0.000e+00,\n",
              "        1.000e+00, 1.000e+00, 0.000e+00, 1.000e+00]),\n",
              " array([3.75000000e+00, 2.59691050e+04, 5.19344600e+04, 7.78998150e+04,\n",
              "        1.03865170e+05, 1.29830525e+05, 1.55795880e+05, 1.81761235e+05,\n",
              "        2.07726590e+05, 2.33691945e+05, 2.59657300e+05]),\n",
              " <BarContainer object of 10 artists>)"
            ]
          },
          "execution_count": 14,
          "metadata": {},
          "output_type": "execute_result"
        },
        {
          "data": {
            "image/png": "[encoded data removed]",
            "text/plain": [
              "<Figure size 864x288 with 3 Axes>"
            ]
          },
          "metadata": {
            "needs_background": "light"
          },
          "output_type": "display_data"
        }
      ],
      "source": [
        "fig, (ax1, ax2, ax3) = plt.subplots(figsize=(12,4), nrows=1, ncols=3)\n",
        "ax1.set_title('Recency Histogram')\n",
        "ax1.hist(cust_df['Recency'])\n",
        "\n",
        "ax2.set_title('Frequency Histogram')\n",
        "ax2.hist(cust_df['Frequency'])\n",
        "\n",
        "ax3.set_title('Monetary Histogram')\n",
        "ax3.hist(cust_df['Monetary'])"
      ]
    },
    {
      "cell_type": "markdown",
      "metadata": {
        "id": "WfykoeGTqDUG"
      },
      "source": [
        "- 모두 왜곡된 데이터 값 분포도를 가지고 있으며 특히 Frequency, Monetary의 경우 특정 범위에 값이 몰려 있어 왜곡 정도가 매우 심함"
      ]
    },
    {
      "cell_type": "code",
      "execution_count": null,
      "metadata": {
        "id": "tnXb-ONjqDUG",
        "outputId": "6d173897-dab7-4dbc-b6d0-639e72413f60"
      },
      "outputs": [
        {
          "data": {
            "text/html": [
              "<div>\n",
              "<style scoped>\n",
              "    .dataframe tbody tr th:only-of-type {\n",
              "        vertical-align: middle;\n",
              "    }\n",
              "\n",
              "    .dataframe tbody tr th {\n",
              "        vertical-align: top;\n",
              "    }\n",
              "\n",
              "    .dataframe thead th {\n",
              "        text-align: right;\n",
              "    }\n",
              "</style>\n",
              "<table border=\"1\" class=\"dataframe\">\n",
              "  <thead>\n",
              "    <tr style=\"text-align: right;\">\n",
              "      <th></th>\n",
              "      <th>Recency</th>\n",
              "      <th>Frequency</th>\n",
              "      <th>Monetary</th>\n",
              "    </tr>\n",
              "  </thead>\n",
              "  <tbody>\n",
              "    <tr>\n",
              "      <th>count</th>\n",
              "      <td>3920.000000</td>\n",
              "      <td>3920.000000</td>\n",
              "      <td>3920.000000</td>\n",
              "    </tr>\n",
              "    <tr>\n",
              "      <th>mean</th>\n",
              "      <td>92.742092</td>\n",
              "      <td>90.388010</td>\n",
              "      <td>1864.385601</td>\n",
              "    </tr>\n",
              "    <tr>\n",
              "      <th>std</th>\n",
              "      <td>99.533485</td>\n",
              "      <td>217.808385</td>\n",
              "      <td>7482.817477</td>\n",
              "    </tr>\n",
              "    <tr>\n",
              "      <th>min</th>\n",
              "      <td>1.000000</td>\n",
              "      <td>1.000000</td>\n",
              "      <td>3.750000</td>\n",
              "    </tr>\n",
              "    <tr>\n",
              "      <th>25%</th>\n",
              "      <td>18.000000</td>\n",
              "      <td>17.000000</td>\n",
              "      <td>300.280000</td>\n",
              "    </tr>\n",
              "    <tr>\n",
              "      <th>50%</th>\n",
              "      <td>51.000000</td>\n",
              "      <td>41.000000</td>\n",
              "      <td>652.280000</td>\n",
              "    </tr>\n",
              "    <tr>\n",
              "      <th>75%</th>\n",
              "      <td>143.000000</td>\n",
              "      <td>99.250000</td>\n",
              "      <td>1576.585000</td>\n",
              "    </tr>\n",
              "    <tr>\n",
              "      <th>max</th>\n",
              "      <td>374.000000</td>\n",
              "      <td>7847.000000</td>\n",
              "      <td>259657.300000</td>\n",
              "    </tr>\n",
              "  </tbody>\n",
              "</table>\n",
              "</div>"
            ],
            "text/plain": [
              "           Recency    Frequency       Monetary\n",
              "count  3920.000000  3920.000000    3920.000000\n",
              "mean     92.742092    90.388010    1864.385601\n",
              "std      99.533485   217.808385    7482.817477\n",
              "min       1.000000     1.000000       3.750000\n",
              "25%      18.000000    17.000000     300.280000\n",
              "50%      51.000000    41.000000     652.280000\n",
              "75%     143.000000    99.250000    1576.585000\n",
              "max     374.000000  7847.000000  259657.300000"
            ]
          },
          "execution_count": 15,
          "metadata": {},
          "output_type": "execute_result"
        }
      ],
      "source": [
        "# 각 칼럼의 데이터 값 백분위로 대략적으로 어떻게 값이 분포돼 있는지 확인\n",
        "\n",
        "cust_df[['Recency','Frequency','Monetary']].describe()"
      ]
    },
    {
      "cell_type": "code",
      "execution_count": null,
      "metadata": {
        "id": "61jn3XlrqDUH",
        "outputId": "422fc8c4-7352-403b-b8fd-fc8c943d38e6"
      },
      "outputs": [
        {
          "name": "stdout",
          "output_type": "stream",
          "text": [
            "실루엣 스코어는 : 0.592\n"
          ]
        }
      ],
      "source": [
        "# 데이터 세트를 StandardScaler로 평균과 표준편차를 재조정한 뒤에 K-평균 수행\n",
        "\n",
        "from sklearn.preprocessing import StandardScaler\n",
        "from sklearn.cluster import KMeans\n",
        "from sklearn.metrics import silhouette_score, silhouette_samples\n",
        "\n",
        "X_features = cust_df[['Recency', 'Frequency','Monetary']].values\n",
        "X_features_scaled = StandardScaler().fit_transform(X_features)\n",
        "\n",
        "kmeans = KMeans(n_clusters=3, random_state=0)\n",
        "labels = kmeans.fit_predict(X_features_scaled)\n",
        "cust_df['cluster_label'] = labels\n",
        "\n",
        "print('실루엣 스코어는 : {0:.3f}'.format(silhouette_score(X_features_scaled, labels)))"
      ]
    },
    {
      "cell_type": "code",
      "execution_count": null,
      "metadata": {
        "id": "aRqLK_qVqDUI"
      },
      "outputs": [],
      "source": [
        "### 여러개의 클러스터링 갯수를 List로 입력 받아 각각의 실루엣 계수를 면적으로 시각화한 함수 작성\n",
        "def visualize_silhouette(cluster_lists, X_features): \n",
        "\n",
        "    from sklearn.datasets import make_blobs\n",
        "    from sklearn.cluster import KMeans\n",
        "    from sklearn.metrics import silhouette_samples, silhouette_score\n",
        "\n",
        "    import matplotlib.pyplot as plt\n",
        "    import matplotlib.cm as cm\n",
        "    import math\n",
        "\n",
        "    # 입력값으로 클러스터링 갯수들을 리스트로 받아서, 각 갯수별로 클러스터링을 적용하고 실루엣 개수를 구함\n",
        "    n_cols = len(cluster_lists)\n",
        "\n",
        "    # plt.subplots()으로 리스트에 기재된 클러스터링 수만큼의 sub figures를 가지는 axs 생성 \n",
        "    fig, axs = plt.subplots(figsize=(4*n_cols, 4), nrows=1, ncols=n_cols)\n",
        "\n",
        "    # 리스트에 기재된 클러스터링 갯수들을 차례로 iteration 수행하면서 실루엣 개수 시각화\n",
        "    for ind, n_cluster in enumerate(cluster_lists):\n",
        "\n",
        "        # KMeans 클러스터링 수행하고, 실루엣 스코어와 개별 데이터의 실루엣 값 계산. \n",
        "        clusterer = KMeans(n_clusters = n_cluster, max_iter=500, random_state=0)\n",
        "        cluster_labels = clusterer.fit_predict(X_features)\n",
        "\n",
        "        sil_avg = silhouette_score(X_features, cluster_labels)\n",
        "        sil_values = silhouette_samples(X_features, cluster_labels)\n",
        "\n",
        "        y_lower = 10\n",
        "        axs[ind].set_title('Number of Cluster : '+ str(n_cluster)+'\\n' \\\n",
        "                          'Silhouette Score :' + str(round(sil_avg,3)) )\n",
        "        axs[ind].set_xlabel(\"The silhouette coefficient values\")\n",
        "        axs[ind].set_ylabel(\"Cluster label\")\n",
        "        axs[ind].set_xlim([-0.1, 1])\n",
        "        axs[ind].set_ylim([0, len(X_features) + (n_cluster + 1) * 10])\n",
        "        axs[ind].set_yticks([])  # Clear the yaxis labels / ticks\n",
        "        axs[ind].set_xticks([0, 0.2, 0.4, 0.6, 0.8, 1])\n",
        "\n",
        "        # 클러스터링 갯수별로 fill_betweenx( )형태의 막대 그래프 표현. \n",
        "        for i in range(n_cluster):\n",
        "            ith_cluster_sil_values = sil_values[cluster_labels==i]\n",
        "            ith_cluster_sil_values.sort()\n",
        "\n",
        "            size_cluster_i = ith_cluster_sil_values.shape[0]\n",
        "            y_upper = y_lower + size_cluster_i\n",
        "\n",
        "            color = cm.nipy_spectral(float(i) / n_cluster)\n",
        "            axs[ind].fill_betweenx(np.arange(y_lower, y_upper), 0, ith_cluster_sil_values, \\\n",
        "                                facecolor=color, edgecolor=color, alpha=0.7)\n",
        "            axs[ind].text(-0.05, y_lower + 0.5 * size_cluster_i, str(i))\n",
        "            y_lower = y_upper + 10"
      ]
    },
    {
      "cell_type": "code",
      "execution_count": null,
      "metadata": {
        "id": "6eXAbVlJqDUJ",
        "outputId": "69ce5a5a-6da8-4568-8f1e-f0c20694813f"
      },
      "outputs": [
        {
          "data": {
            "text/plain": [
              "<function matplotlib.pyplot.show(close=None, block=None)>"
            ]
          },
          "execution_count": 20,
          "metadata": {},
          "output_type": "execute_result"
        }
      ],
      "source": [
        "def visualize_kmeans_plot_multi(cluster_lists, X_fetaures):\n",
        "  from sklearn.cluster import KMeans\n",
        "  from sklearn.decomposition import PCA\n",
        "  import pandas as pd\n",
        "  import numpy as np\n",
        "\n",
        "  n_cols = len(cluster_lists)\n",
        "  fig, axs = plt.subplots(figsize=(4*n_cols,4), nrows=1, ncols=n_cols)\n",
        "\n",
        "  pca = PCA(n_components=2)\n",
        "  pca_transformed = pca.fit_transform(X_features)\n",
        "  dataframe = pd.DataFrame(pca_transformed, columns=['PCA1','PCA2'])\n",
        "\n",
        "  for ind, n_cluster in enumerate(cluster_lists):\n",
        "    clusterer = KMeans(n_clusters=n_cluster, max_iter=500, random_state=0)\n",
        "    cluster_labels = clusterer.fit_predict(pca_transformed)\n",
        "    dataframe['cluster']=cluster_labels\n",
        "    \n",
        "    unique_labels = np.unique(clusterer.labels_)\n",
        "    markers=['o', 's', '^', 'x', '*']\n",
        "\n",
        "    for label in unique_labels:\n",
        "      label_df = dataframe[dataframe['cluster']==label]\n",
        "      if label == -1:\n",
        "        cluster_legend = 'Noise'\n",
        "      else:       \n",
        "        cluster_legend = 'Cluster' + str(label)\n",
        "      \n",
        "      axs[ind].scatter(x=label_df['PCA1'],y=label_df['PCA2'],s=70, \n",
        "                       edgecolor='k', marker=markers[label], label=cluster_legend)\n",
        "      axs[ind].set_title('Number of Cluster : '+ str(n_cluster))    \n",
        "      axs[ind].legend(loc='upper right')\n",
        "plt.show"
      ]
    },
    {
      "cell_type": "code",
      "execution_count": null,
      "metadata": {
        "id": "GPcr5AiuqDUK",
        "outputId": "ed4944a5-3457-46dd-df0b-56dfd14e2989"
      },
      "outputs": [
        {
          "data": {
            "image/png": "[encoded data removed]",
            "text/plain": [
              "<Figure size 1152x288 with 4 Axes>"
            ]
          },
          "metadata": {
            "needs_background": "light"
          },
          "output_type": "display_data"
        },
        {
          "data": {
            "image/png": "[encoded data removed]",
            "text/plain": [
              "<Figure size 1152x288 with 4 Axes>"
            ]
          },
          "metadata": {
            "needs_background": "light"
          },
          "output_type": "display_data"
        }
      ],
      "source": [
        "# 군집 개수를 변화 시키면서 개별 군집의 실루엣 계수 값과 데이터 구성 확인\n",
        "\n",
        "visualize_silhouette([2,3,4,5], X_features_scaled)\n",
        "visualize_kmeans_plot_multi([2,3,4,5], X_features_scaled)"
      ]
    },
    {
      "cell_type": "markdown",
      "metadata": {
        "id": "-NZVrygSqDUK"
      },
      "source": [
        "- 군집이 2개일 경우 0번 군집과 1번 군집이 너무 개괄적으로 군집화 됨\n",
        "- 군집이 3개 이상일 때부터는 데이터 세트의 개수가 너무 작은 군집이 만들어짐\n",
        "- 지나치게 왜곡된 데이터 세트는 K-평균과 같은 거리 기반 군집화 알고리즘에서 지나치게 일반적인 군집화 결과를 도출"
      ]
    },
    {
      "cell_type": "code",
      "execution_count": null,
      "metadata": {
        "id": "WG2ziw7EqDUL",
        "outputId": "1305e3c0-93de-461e-9241-9fcf8a7a3621"
      },
      "outputs": [
        {
          "name": "stdout",
          "output_type": "stream",
          "text": [
            "실루엣 스코어는 : 0.303\n"
          ]
        }
      ],
      "source": [
        "# 전체 데이터를 로그 변환한 뒤에 K-평균 알고리즘 적용\n",
        "from sklearn.preprocessing import StandardScaler\n",
        "from sklearn.cluster import KMeans\n",
        "from sklearn.metrics import silhouette_score, silhouette_samples\n",
        "\n",
        "# Recency, Frequency, Monetary 칼럼에 np.log1p()로 Log Transformation\n",
        "cust_df['Recency_log'] = np.log1p(cust_df['Recency'])\n",
        "cust_df['Frequency_log'] = np.log1p(cust_df['Frequency'])\n",
        "cust_df['Monetary_log'] = np.log1p(cust_df['Monetary'])\n",
        "\n",
        "# Log Transformation 데이터에 StandardScaler 적용\n",
        "X_features = cust_df[['Recency_log', 'Frequency_log', 'Monetary_log']].values\n",
        "X_features_scaled = StandardScaler().fit_transform(X_features)\n",
        "\n",
        "kmeans = KMeans(n_clusters=3, random_state=0)\n",
        "labels = kmeans.fit_predict(X_features_scaled)\n",
        "cust_df['cluster_label'] = labels\n",
        "\n",
        "print('실루엣 스코어는 : {0:.3f}'.format(silhouette_score(X_features_scaled, labels)))"
      ]
    }
  ],
  "metadata": {
    "kernelspec": {
      "display_name": "Python 3",
      "language": "python",
      "name": "python3"
    },
    "language_info": {
      "codemirror_mode": {
        "name": "ipython",
        "version": 3
      },
      "file_extension": ".py",
      "mimetype": "text/x-python",
      "name": "python",
      "nbconvert_exporter": "python",
      "pygments_lexer": "ipython3",
      "version": "3.8.5"
    },
    "colab": {
      "name": "0701 과제.ipynb",
      "provenance": [],
      "include_colab_link": true
    }
  },
  "nbformat": 4,
  "nbformat_minor": 0
}