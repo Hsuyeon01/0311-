{
  "cells": [
    {
      "cell_type": "markdown",
      "metadata": {
        "id": "view-in-github",
        "colab_type": "text"
      },
      "source": [
        "<a href=\"https://colab.research.google.com/github/Hsuyeon01/ESAA/blob/main/0411_%EA%B3%BC%EC%A0%9C.ipynb\" target=\"_parent\"><img src=\"https://colab.research.google.com/assets/colab-badge.svg\" alt=\"Open In Colab\"/></a>"
      ]
    },
    {
      "cell_type": "markdown",
      "metadata": {
        "id": "eANteuCEagiU"
      },
      "source": [
        "## 12-1 datetime 오브젝트 ##\n",
        "\n",
        "datetime 라이브러리는 날짜와 시간을 처리하는 등의 다양한 기능을 제공하는 파이썬 라이브러리\n",
        "- 날짜를 처리하는 date 오브젝트\n",
        "- 시간을 처리하는 time 오브젝트 \n",
        "- 날짜와 시간을 모두 처리하는 datetime 오브젝트\n",
        "\n",
        "**datetime 오브젝트 사용하기**\n",
        "\n",
        "1. datetime 오브젝트를 사용하기 위해 datetime 라이브러리를 불러옴"
      ]
    },
    {
      "cell_type": "code",
      "execution_count": null,
      "metadata": {
        "id": "HH3YDFX_agiw"
      },
      "outputs": [],
      "source": [
        "from datetime import datetime"
      ]
    },
    {
      "cell_type": "markdown",
      "metadata": {
        "id": "FOz6dmz8agi0"
      },
      "source": [
        "2. now.today 메서드를 사용하면 다음과 같이 현재 시간을 출력할 수 있음"
      ]
    },
    {
      "cell_type": "code",
      "execution_count": null,
      "metadata": {
        "id": "ikE0TPqSagi8",
        "outputId": "c1d3c4f7-0b88-437b-afb6-9c5d06f558e0"
      },
      "outputs": [
        {
          "name": "stdout",
          "output_type": "stream",
          "text": [
            "2022-04-11 01:37:54.514429\n"
          ]
        }
      ],
      "source": [
        "now1 = datetime.now()\n",
        "print(now1)"
      ]
    },
    {
      "cell_type": "code",
      "execution_count": null,
      "metadata": {
        "id": "uQafs22DagjB",
        "outputId": "c5c06360-36a5-44f0-b45a-2fbfbead4db7"
      },
      "outputs": [
        {
          "name": "stdout",
          "output_type": "stream",
          "text": [
            "2022-04-11 01:37:54.734989\n"
          ]
        }
      ],
      "source": [
        "now2 = datetime.today()\n",
        "print(now2)"
      ]
    },
    {
      "cell_type": "markdown",
      "metadata": {
        "id": "cSBrlycDagjE"
      },
      "source": [
        "3. datetime 오브젝트를 생성할 때 시간을 직접 입력하여 인자로 전달한 것, 입력한 시간을 바탕으로 datetime 오브젝트가 생성됨"
      ]
    },
    {
      "cell_type": "code",
      "execution_count": null,
      "metadata": {
        "id": "fbHLw39yagjH",
        "outputId": "31eae141-0e50-41c9-8c81-b152af02c93f"
      },
      "outputs": [
        {
          "name": "stdout",
          "output_type": "stream",
          "text": [
            "2022-04-11 01:37:55.103724\n",
            "1970-01-01 00:00:00\n",
            "1970-12-12 13:24:34\n"
          ]
        }
      ],
      "source": [
        "t1 = datetime.now()\n",
        "t2 = datetime(1970,1,1)\n",
        "t3 = datetime(1970,12,12,13,24,34)\n",
        "\n",
        "print(t1)\n",
        "print(t2)\n",
        "print(t3)"
      ]
    },
    {
      "cell_type": "markdown",
      "metadata": {
        "id": "R1_wt8ZjagjM"
      },
      "source": [
        "4. datetime 오브젝트는 시간계산 가능"
      ]
    },
    {
      "cell_type": "code",
      "execution_count": null,
      "metadata": {
        "id": "rZFRMdQHagjP",
        "outputId": "dd9cd328-89af-4789-b3b6-68ae9c9f6c5e"
      },
      "outputs": [
        {
          "name": "stdout",
          "output_type": "stream",
          "text": [
            "19093 days, 1:37:55.103724\n",
            "<class 'datetime.timedelta'>\n"
          ]
        }
      ],
      "source": [
        "diff1 = t1 - t2\n",
        "\n",
        "print(diff1)\n",
        "print(type(diff1))"
      ]
    },
    {
      "cell_type": "code",
      "execution_count": null,
      "metadata": {
        "id": "HtP2Ro-qagjV",
        "outputId": "7ea5ef63-fdee-4343-9504-67e8526f7fd4"
      },
      "outputs": [
        {
          "name": "stdout",
          "output_type": "stream",
          "text": [
            "-19094 days, 22:22:04.896276\n",
            "<class 'datetime.timedelta'>\n"
          ]
        }
      ],
      "source": [
        "diff2 = t2 - t1\n",
        "\n",
        "print(diff2)\n",
        "print(type(diff2))"
      ]
    },
    {
      "cell_type": "markdown",
      "metadata": {
        "id": "tGNz8q9Hagjc"
      },
      "source": [
        "**테슬라 주식 데이터로 시간 계산하기**"
      ]
    },
    {
      "cell_type": "code",
      "execution_count": null,
      "metadata": {
        "id": "aq-90zbsagje",
        "outputId": "e06dad77-f84f-4beb-cc50-7ed17b700165"
      },
      "outputs": [
        {
          "name": "stdout",
          "output_type": "stream",
          "text": [
            "Collecting pandas-datareader\n",
            "  Downloading pandas_datareader-0.10.0-py3-none-any.whl (109 kB)\n",
            "Requirement already satisfied: lxml in c:\\users\\user\\anaconda3\\lib\\site-packages (from pandas-datareader) (4.6.1)\n",
            "Requirement already satisfied: pandas>=0.23 in c:\\users\\user\\anaconda3\\lib\\site-packages (from pandas-datareader) (1.1.3)\n",
            "Requirement already satisfied: requests>=2.19.0 in c:\\users\\user\\anaconda3\\lib\\site-packages (from pandas-datareader) (2.24.0)\n",
            "Requirement already satisfied: numpy>=1.15.4 in c:\\users\\user\\anaconda3\\lib\\site-packages (from pandas>=0.23->pandas-datareader) (1.22.3)\n",
            "Requirement already satisfied: python-dateutil>=2.7.3 in c:\\users\\user\\anaconda3\\lib\\site-packages (from pandas>=0.23->pandas-datareader) (2.8.1)\n",
            "Requirement already satisfied: pytz>=2017.2 in c:\\users\\user\\anaconda3\\lib\\site-packages (from pandas>=0.23->pandas-datareader) (2020.1)\n",
            "Requirement already satisfied: idna<3,>=2.5 in c:\\users\\user\\anaconda3\\lib\\site-packages (from requests>=2.19.0->pandas-datareader) (2.10)\n",
            "Requirement already satisfied: chardet<4,>=3.0.2 in c:\\users\\user\\anaconda3\\lib\\site-packages (from requests>=2.19.0->pandas-datareader) (3.0.4)\n",
            "Requirement already satisfied: certifi>=2017.4.17 in c:\\users\\user\\anaconda3\\lib\\site-packages (from requests>=2.19.0->pandas-datareader) (2020.6.20)\n",
            "Requirement already satisfied: urllib3!=1.25.0,!=1.25.1,<1.26,>=1.21.1 in c:\\users\\user\\anaconda3\\lib\\site-packages (from requests>=2.19.0->pandas-datareader) (1.25.11)\n",
            "Requirement already satisfied: six>=1.5 in c:\\users\\user\\anaconda3\\lib\\site-packages (from python-dateutil>=2.7.3->pandas>=0.23->pandas-datareader) (1.15.0)\n",
            "Installing collected packages: pandas-datareader\n",
            "Successfully installed pandas-datareader-0.10.0\n"
          ]
        }
      ],
      "source": [
        "# pandas-datereader 라이브러리 설치\n",
        "\n",
        "import pandas as pd\n",
        "!pip install pandas-datareader"
      ]
    },
    {
      "cell_type": "markdown",
      "metadata": {
        "id": "vborcozbagjg"
      },
      "source": [
        "1. get_data_quanal 메서드에 TSLA라는 문자열을 전달하여 테슬라의 주식 데이터를 내려받은 다음 to_csv 메서드를 이용하여 data 폴더 안에 tesla_stock_quandl.csv라는 이름으로 저장"
      ]
    },
    {
      "cell_type": "code",
      "execution_count": null,
      "metadata": {
        "id": "_G53oLHJagjh"
      },
      "outputs": [],
      "source": [
        "pd.core.common.is_list_like = pd.api.types.is_list_like\n",
        "import pandas_datareader as pdr"
      ]
    },
    {
      "cell_type": "code",
      "execution_count": null,
      "metadata": {
        "id": "cTNUkvBCagjl"
      },
      "outputs": [],
      "source": [
        "# tesla에는 데이터프레임이 저장됨\n",
        "tesla = pdr.get_data_quandl('TSLA', api_key = '9LRnE9y4Yr4Hx2NoKEaf')"
      ]
    },
    {
      "cell_type": "code",
      "execution_count": null,
      "metadata": {
        "id": "zHii7aaWagjx"
      },
      "outputs": [],
      "source": [
        "# tesla에 저장된 데이터프레임을 파일로 저장\n",
        "tesla.to_csv('c:/Temp/tesla_stock_quandl.csv')"
      ]
    },
    {
      "cell_type": "markdown",
      "metadata": {
        "id": "yVLPu7Pkagj1"
      },
      "source": [
        "2. tesla 데이터프레임의 Date열은 문자열로 저장되어 있음, datetime 오브젝트로 자료형을 변환"
      ]
    },
    {
      "cell_type": "code",
      "execution_count": null,
      "metadata": {
        "id": "6PN6Ypuwagj4",
        "outputId": "48c28993-c803-41f6-f3fc-147eda7caf62"
      },
      "outputs": [
        {
          "name": "stdout",
          "output_type": "stream",
          "text": [
            "              Open    High     Low   Close      Volume  ExDividend  \\\n",
            "Date                                                                 \n",
            "2018-03-27  304.00  304.27  277.18  279.18  13696168.0         0.0   \n",
            "2018-03-26  307.34  307.59  291.36  304.18   8324639.0         0.0   \n",
            "2018-03-23  311.25  311.61  300.45  301.54   6600538.0         0.0   \n",
            "2018-03-22  313.89  318.82  308.18  309.10   4914307.0         0.0   \n",
            "2018-03-21  310.25  322.44  310.19  316.53   5927881.0         0.0   \n",
            "\n",
            "            SplitRatio  AdjOpen  AdjHigh  AdjLow  AdjClose   AdjVolume  \n",
            "Date                                                                    \n",
            "2018-03-27         1.0   304.00   304.27  277.18    279.18  13696168.0  \n",
            "2018-03-26         1.0   307.34   307.59  291.36    304.18   8324639.0  \n",
            "2018-03-23         1.0   311.25   311.61  300.45    301.54   6600538.0  \n",
            "2018-03-22         1.0   313.89   318.82  308.18    309.10   4914307.0  \n",
            "2018-03-21         1.0   310.25   322.44  310.19    316.53   5927881.0  \n"
          ]
        }
      ],
      "source": [
        "print(tesla.head())"
      ]
    },
    {
      "cell_type": "markdown",
      "metadata": {
        "id": "GFpzXP-xagj8"
      },
      "source": [
        "3. Date열을 Datetime 형으로 변환하려면 read_csv 메서드로 데이터 집합을 불러올 때 parse_datees 인자에 Date 열을 전달하면 됨"
      ]
    },
    {
      "cell_type": "code",
      "execution_count": null,
      "metadata": {
        "id": "pAT1HOOgagj-",
        "outputId": "057c9aff-10fd-4294-bf9b-f876e1510288"
      },
      "outputs": [
        {
          "name": "stdout",
          "output_type": "stream",
          "text": [
            "<class 'pandas.core.frame.DataFrame'>\n",
            "RangeIndex: 240 entries, 0 to 239\n",
            "Data columns (total 13 columns):\n",
            " #   Column      Non-Null Count  Dtype         \n",
            "---  ------      --------------  -----         \n",
            " 0   Date        240 non-null    datetime64[ns]\n",
            " 1   Open        240 non-null    float64       \n",
            " 2   High        240 non-null    float64       \n",
            " 3   Low         240 non-null    float64       \n",
            " 4   Close       240 non-null    float64       \n",
            " 5   Volume      240 non-null    float64       \n",
            " 6   ExDividend  240 non-null    float64       \n",
            " 7   SplitRatio  240 non-null    float64       \n",
            " 8   AdjOpen     240 non-null    float64       \n",
            " 9   AdjHigh     240 non-null    float64       \n",
            " 10  AdjLow      240 non-null    float64       \n",
            " 11  AdjClose    240 non-null    float64       \n",
            " 12  AdjVolume   240 non-null    float64       \n",
            "dtypes: datetime64[ns](1), float64(12)\n",
            "memory usage: 24.5 KB\n",
            "None\n"
          ]
        }
      ],
      "source": [
        "tesla = pd.read_csv('c:/Temp/tesla_stock_quandl.csv', parse_dates=[0])\n",
        "print(tesla.info())"
      ]
    },
    {
      "cell_type": "markdown",
      "metadata": {
        "id": "CzrbYm-qagkA"
      },
      "source": [
        "4. Date 열의 자료형이 datetime 오브젝트로 변환됨, dt 접근자를 사용할 수 있음"
      ]
    },
    {
      "cell_type": "code",
      "execution_count": null,
      "metadata": {
        "id": "COfnCJvlagkB",
        "outputId": "bc4c8fb9-a1c1-4333-dc1d-4692ff496382"
      },
      "outputs": [
        {
          "name": "stdout",
          "output_type": "stream",
          "text": [
            "                 Date     Open      High       Low   Close      Volume  \\\n",
            "Date                                                                     \n",
            "2017-06-30 2017-06-30  363.710  366.7674  359.6187  361.61   5759458.0   \n",
            "2017-06-29 2017-06-29  370.610  371.0000  354.1000  360.75   8180408.0   \n",
            "2017-06-28 2017-06-28  366.680  371.7400  362.5200  371.24   6245040.0   \n",
            "2017-06-27 2017-06-27  376.400  376.4000  362.0200  362.37   6884529.0   \n",
            "2017-06-26 2017-06-26  386.690  386.9500  373.1000  377.49   6575285.0   \n",
            "2017-06-23 2017-06-23  382.450  386.9900  379.3450  383.45   6176578.0   \n",
            "2017-06-22 2017-06-22  377.990  385.0000  373.5700  382.61   7485677.0   \n",
            "2017-06-21 2017-06-21  374.350  376.9900  368.0200  376.40   4900356.0   \n",
            "2017-06-20 2017-06-20  376.670  378.8800  369.7300  372.24   7396357.0   \n",
            "2017-06-19 2017-06-19  375.000  376.7000  367.8000  369.80   6392331.0   \n",
            "2017-06-16 2017-06-16  377.975  378.0100  370.1000  371.40   6259666.0   \n",
            "2017-06-15 2017-06-15  372.500  375.4600  366.4900  375.34  10371559.0   \n",
            "2017-06-14 2017-06-14  381.085  384.2500  376.3100  380.66  12731997.0   \n",
            "2017-06-13 2017-06-13  367.620  376.0000  366.6100  375.95  11693404.0   \n",
            "2017-06-12 2017-06-12  357.990  364.5000  350.6200  359.01  10476833.0   \n",
            "2017-06-09 2017-06-09  374.420  376.8700  354.8000  357.32  17160231.0   \n",
            "2017-06-08 2017-06-08  363.750  371.9000  360.2200  370.00   8975028.0   \n",
            "2017-06-07 2017-06-07  356.340  360.5000  355.1400  359.65   9287888.0   \n",
            "2017-06-06 2017-06-06  344.700  359.4929  339.9700  352.85  10951473.0   \n",
            "2017-06-05 2017-06-05  338.500  348.4400  334.2100  347.32   6737855.0   \n",
            "2017-06-02 2017-06-02  339.770  342.8800  335.9300  339.85   5570256.0   \n",
            "2017-06-01 2017-06-01  344.000  344.8800  337.2900  340.37   7580447.0   \n",
            "\n",
            "            ExDividend  SplitRatio  AdjOpen   AdjHigh    AdjLow  AdjClose  \\\n",
            "Date                                                                        \n",
            "2017-06-30         0.0         1.0  363.710  366.7674  359.6187    361.61   \n",
            "2017-06-29         0.0         1.0  370.610  371.0000  354.1000    360.75   \n",
            "2017-06-28         0.0         1.0  366.680  371.7400  362.5200    371.24   \n",
            "2017-06-27         0.0         1.0  376.400  376.4000  362.0200    362.37   \n",
            "2017-06-26         0.0         1.0  386.690  386.9500  373.1000    377.49   \n",
            "2017-06-23         0.0         1.0  382.450  386.9900  379.3450    383.45   \n",
            "2017-06-22         0.0         1.0  377.990  385.0000  373.5700    382.61   \n",
            "2017-06-21         0.0         1.0  374.350  376.9900  368.0200    376.40   \n",
            "2017-06-20         0.0         1.0  376.670  378.8800  369.7300    372.24   \n",
            "2017-06-19         0.0         1.0  375.000  376.7000  367.8000    369.80   \n",
            "2017-06-16         0.0         1.0  377.975  378.0100  370.1000    371.40   \n",
            "2017-06-15         0.0         1.0  372.500  375.4600  366.4900    375.34   \n",
            "2017-06-14         0.0         1.0  381.085  384.2500  376.3100    380.66   \n",
            "2017-06-13         0.0         1.0  367.620  376.0000  366.6100    375.95   \n",
            "2017-06-12         0.0         1.0  357.990  364.5000  350.6200    359.01   \n",
            "2017-06-09         0.0         1.0  374.420  376.8700  354.8000    357.32   \n",
            "2017-06-08         0.0         1.0  363.750  371.9000  360.2200    370.00   \n",
            "2017-06-07         0.0         1.0  356.340  360.5000  355.1400    359.65   \n",
            "2017-06-06         0.0         1.0  344.700  359.4929  339.9700    352.85   \n",
            "2017-06-05         0.0         1.0  338.500  348.4400  334.2100    347.32   \n",
            "2017-06-02         0.0         1.0  339.770  342.8800  335.9300    339.85   \n",
            "2017-06-01         0.0         1.0  344.000  344.8800  337.2900    340.37   \n",
            "\n",
            "             AdjVolume  \n",
            "Date                    \n",
            "2017-06-30   5759458.0  \n",
            "2017-06-29   8180408.0  \n",
            "2017-06-28   6245040.0  \n",
            "2017-06-27   6884529.0  \n",
            "2017-06-26   6575285.0  \n",
            "2017-06-23   6176578.0  \n",
            "2017-06-22   7485677.0  \n",
            "2017-06-21   4900356.0  \n",
            "2017-06-20   7396357.0  \n",
            "2017-06-19   6392331.0  \n",
            "2017-06-16   6259666.0  \n",
            "2017-06-15  10371559.0  \n",
            "2017-06-14  12731997.0  \n",
            "2017-06-13  11693404.0  \n",
            "2017-06-12  10476833.0  \n",
            "2017-06-09  17160231.0  \n",
            "2017-06-08   8975028.0  \n",
            "2017-06-07   9287888.0  \n",
            "2017-06-06  10951473.0  \n",
            "2017-06-05   6737855.0  \n",
            "2017-06-02   5570256.0  \n",
            "2017-06-01   7580447.0  \n"
          ]
        }
      ],
      "source": [
        "print(tesla.loc[(tesla.Date.dt.year == 2017)& (tesla.Date.dt.month == 6)])"
      ]
    },
    {
      "cell_type": "markdown",
      "metadata": {
        "id": "KaoJSqAVagkG"
      },
      "source": [
        "### datetime 오브젝트와 인덱스 - DatetimeIndex ###\n",
        "\n",
        "datetime을 인덱스로 지정하는 방법\n",
        "\n",
        "**datetime 오브젝트를 인덱스로 설정해 데이터 추출하기**\n",
        "\n",
        "1. Date열을 tesla 데이터프레임의 인덱스로 지정"
      ]
    },
    {
      "cell_type": "code",
      "execution_count": null,
      "metadata": {
        "id": "XAlgCxqGagkH",
        "outputId": "525d9980-e8f3-4e1a-a5eb-12dd482b686e"
      },
      "outputs": [
        {
          "name": "stdout",
          "output_type": "stream",
          "text": [
            "DatetimeIndex(['2018-03-27', '2018-03-26', '2018-03-23', '2018-03-22',\n",
            "               '2018-03-21', '2018-03-20', '2018-03-19', '2018-03-16',\n",
            "               '2018-03-15', '2018-03-14',\n",
            "               ...\n",
            "               '2017-04-26', '2017-04-25', '2017-04-24', '2017-04-21',\n",
            "               '2017-04-20', '2017-04-19', '2017-04-18', '2017-04-17',\n",
            "               '2017-04-13', '2017-04-12'],\n",
            "              dtype='datetime64[ns]', name='Date', length=240, freq=None)\n"
          ]
        }
      ],
      "source": [
        "tesla.index = tesla['Date']\n",
        "print(tesla.index)"
      ]
    },
    {
      "cell_type": "markdown",
      "metadata": {
        "id": "cxKDIoWkagkI"
      },
      "source": [
        "2. datetime 오브젝트를 인덱스로 지정하면 원하는 시간의 데이터를 바로 추출할 수 있음"
      ]
    },
    {
      "cell_type": "code",
      "execution_count": null,
      "metadata": {
        "id": "8F8rOIVjagkJ",
        "outputId": "1437fc27-30ea-4378-93ea-4732b6635758"
      },
      "outputs": [
        {
          "name": "stdout",
          "output_type": "stream",
          "text": [
            "                 Date    Open      High     Low   Close\n",
            "Date                                                   \n",
            "2017-12-29 2017-12-29  316.18  316.4100  310.00  311.35\n",
            "2017-12-28 2017-12-28  311.75  315.8200  309.54  315.36\n",
            "2017-12-27 2017-12-27  316.00  317.6800  310.75  311.64\n",
            "2017-12-26 2017-12-26  323.83  323.9400  316.58  317.29\n",
            "2017-12-22 2017-12-22  329.51  330.9214  324.82  325.20\n"
          ]
        }
      ],
      "source": [
        "print(tesla.loc['2017'].iloc[:5, :5])"
      ]
    },
    {
      "cell_type": "markdown",
      "metadata": {
        "id": "o_S3dPM1agkJ"
      },
      "source": [
        "3. 2017년 6월의 데이터 추출"
      ]
    },
    {
      "cell_type": "code",
      "execution_count": null,
      "metadata": {
        "id": "rekkwCQDagkK",
        "outputId": "be7507f5-aef3-4664-9af6-ddc3cd0fb9f3"
      },
      "outputs": [
        {
          "name": "stdout",
          "output_type": "stream",
          "text": [
            "                 Date    Open      High       Low   Close\n",
            "Date                                                     \n",
            "2017-06-30 2017-06-30  363.71  366.7674  359.6187  361.61\n",
            "2017-06-29 2017-06-29  370.61  371.0000  354.1000  360.75\n",
            "2017-06-28 2017-06-28  366.68  371.7400  362.5200  371.24\n",
            "2017-06-27 2017-06-27  376.40  376.4000  362.0200  362.37\n",
            "2017-06-26 2017-06-26  386.69  386.9500  373.1000  377.49\n"
          ]
        }
      ],
      "source": [
        "print(tesla.loc['2017-06'].iloc[:5,:5])"
      ]
    },
    {
      "cell_type": "markdown",
      "metadata": {
        "id": "UnkIX2iragkL"
      },
      "source": [
        "### 시간과 간격 인덱스 - TimedeltaIndex ###\n",
        "\n",
        "datetime 오브젝트를 인덱스로 지정하는 것이 아니라 시간 간격을 인덱스로 지정하여 진행\n",
        "\n",
        "**시간 간격을 인덱스로 지정해 데이터 추출\n",
        "\n",
        "1. Date 열에서 Date 열의 최솟값을 빼면 데이터를 수집한 이후에 시간일 얼마나 흘렀는지 알 수 있음, Date열에서 Date 열의 최솟값을 뺀 다음 ref_date열로 추가"
      ]
    },
    {
      "cell_type": "code",
      "execution_count": null,
      "metadata": {
        "id": "ynmvk9jFagkM",
        "outputId": "8220ea5d-0476-4ed2-9353-17482b9d9b15"
      },
      "outputs": [
        {
          "name": "stdout",
          "output_type": "stream",
          "text": [
            "                 Date    Open    High     Low   Close      Volume  ExDividend  \\\n",
            "Date                                                                            \n",
            "2018-03-27 2018-03-27  304.00  304.27  277.18  279.18  13696168.0         0.0   \n",
            "2018-03-26 2018-03-26  307.34  307.59  291.36  304.18   8324639.0         0.0   \n",
            "2018-03-23 2018-03-23  311.25  311.61  300.45  301.54   6600538.0         0.0   \n",
            "2018-03-22 2018-03-22  313.89  318.82  308.18  309.10   4914307.0         0.0   \n",
            "2018-03-21 2018-03-21  310.25  322.44  310.19  316.53   5927881.0         0.0   \n",
            "\n",
            "            SplitRatio  AdjOpen  AdjHigh  AdjLow  AdjClose   AdjVolume  \\\n",
            "Date                                                                     \n",
            "2018-03-27         1.0   304.00   304.27  277.18    279.18  13696168.0   \n",
            "2018-03-26         1.0   307.34   307.59  291.36    304.18   8324639.0   \n",
            "2018-03-23         1.0   311.25   311.61  300.45    301.54   6600538.0   \n",
            "2018-03-22         1.0   313.89   318.82  308.18    309.10   4914307.0   \n",
            "2018-03-21         1.0   310.25   322.44  310.19    316.53   5927881.0   \n",
            "\n",
            "           ref_date  \n",
            "Date                 \n",
            "2018-03-27 349 days  \n",
            "2018-03-26 348 days  \n",
            "2018-03-23 345 days  \n",
            "2018-03-22 344 days  \n",
            "2018-03-21 343 days  \n"
          ]
        }
      ],
      "source": [
        "tesla['ref_date'] = tesla['Date'] - tesla['Date'].min()\n",
        "print(tesla.head())"
      ]
    },
    {
      "cell_type": "markdown",
      "metadata": {
        "id": "vavWNtuUagkN"
      },
      "source": [
        "2. ref_date 열을 인덱스로 지정, 시간 간격을 이용하여 데이터 추출 가능"
      ]
    },
    {
      "cell_type": "code",
      "execution_count": null,
      "metadata": {
        "id": "pKmqmmaxagkP",
        "outputId": "5e98850e-0ed5-4d96-fc25-2ee8ba1eb51f"
      },
      "outputs": [
        {
          "name": "stdout",
          "output_type": "stream",
          "text": [
            "               Date    Open    High     Low   Close\n",
            "ref_date                                           \n",
            "349 days 2018-03-27  304.00  304.27  277.18  279.18\n",
            "348 days 2018-03-26  307.34  307.59  291.36  304.18\n",
            "345 days 2018-03-23  311.25  311.61  300.45  301.54\n",
            "344 days 2018-03-22  313.89  318.82  308.18  309.10\n",
            "343 days 2018-03-21  310.25  322.44  310.19  316.53\n"
          ]
        }
      ],
      "source": [
        "tesla.index = tesla['ref_date']\n",
        "print(tesla.iloc[:5,:5])"
      ]
    },
    {
      "cell_type": "markdown",
      "metadata": {
        "id": "pK9dCxf2agkQ"
      },
      "source": [
        "3. 데이터 수집한 이후 최초 5일의 데이터 추출"
      ]
    },
    {
      "cell_type": "code",
      "execution_count": null,
      "metadata": {
        "id": "v7dj4NPjagkR",
        "outputId": "55e261f6-1620-4333-aab5-b8ad500f5dae"
      },
      "outputs": [
        {
          "name": "stdout",
          "output_type": "stream",
          "text": [
            "               Date    Open      High     Low   Close\n",
            "ref_date                                             \n",
            "5 days   2017-04-17  302.70  304.0000  298.68  301.44\n",
            "1 days   2017-04-13  296.70  307.3900  295.30  304.00\n",
            "0 days   2017-04-12  306.34  308.4481  296.32  296.84\n"
          ]
        }
      ],
      "source": [
        "print(tesla['5 days':].iloc[:5,:5])"
      ]
    },
    {
      "cell_type": "markdown",
      "metadata": {
        "id": "4U2Mu6IZagkS"
      },
      "source": [
        "### 시간 범위와 인덱스 ###\n",
        "\n",
        "특정 일에 누락된 데이터도 포함시켜 데이터를 살펴보려면 임의로 시간 범위를 생성하여 인덱스로 지정\n",
        "\n",
        "**시간 범위 생성해 인덱스로 지정하기**\n",
        "\n",
        "1. 에볼라 데이터 집합을 사용"
      ]
    },
    {
      "cell_type": "code",
      "execution_count": null,
      "metadata": {
        "id": "Y9sAF8JBagkT",
        "outputId": "0fa8ccd5-3f65-4634-d282-b05c587981c5"
      },
      "outputs": [
        {
          "name": "stdout",
          "output_type": "stream",
          "text": [
            "        Date  Day  Cases_Guinea  Cases_Liberia  Cases_SierraLeone\n",
            "0 2015-01-05  289        2776.0            NaN            10030.0\n",
            "1 2015-01-04  288        2775.0            NaN             9780.0\n",
            "2 2015-01-03  287        2769.0         8166.0             9722.0\n",
            "3 2015-01-02  286           NaN         8157.0                NaN\n",
            "4 2014-12-31  284        2730.0         8115.0             9633.0\n"
          ]
        }
      ],
      "source": [
        "ebola = pd.read_csv('c:/Temp/country_timeseries.csv', parse_dates=[0])\n",
        "print(ebola.iloc[:5,:5])"
      ]
    },
    {
      "cell_type": "markdown",
      "metadata": {
        "id": "5B9FAbUeagkU"
      },
      "source": [
        "2. 2014년 3월 23일의 데이터가 누락"
      ]
    },
    {
      "cell_type": "code",
      "execution_count": null,
      "metadata": {
        "id": "312yl8opagkW",
        "outputId": "f8b8ad61-5509-4ad9-9564-f584891a694f"
      },
      "outputs": [
        {
          "name": "stdout",
          "output_type": "stream",
          "text": [
            "          Date  Day  Cases_Guinea  Cases_Liberia  Cases_SierraLeone\n",
            "117 2014-03-27    5         103.0            8.0                6.0\n",
            "118 2014-03-26    4          86.0            NaN                NaN\n",
            "119 2014-03-25    3          86.0            NaN                NaN\n",
            "120 2014-03-24    2          86.0            NaN                NaN\n",
            "121 2014-03-22    0          49.0            NaN                NaN\n"
          ]
        }
      ],
      "source": [
        "print(ebola.iloc[-5:,:5])"
      ]
    },
    {
      "cell_type": "markdown",
      "metadata": {
        "id": "p6jN4nRxagkX"
      },
      "source": [
        "3. data_range 메서드를 사용하여 2014년 12월 31일부터 2015년 1월 5일 사이의 시간 인덱스를 생성"
      ]
    },
    {
      "cell_type": "code",
      "execution_count": null,
      "metadata": {
        "id": "rH97uaWUagkY",
        "outputId": "661eb5b7-9ed9-468a-b467-f30a7e86bccb"
      },
      "outputs": [
        {
          "name": "stdout",
          "output_type": "stream",
          "text": [
            "DatetimeIndex(['2014-12-31', '2015-01-01', '2015-01-02', '2015-01-03',\n",
            "               '2015-01-04', '2015-01-05'],\n",
            "              dtype='datetime64[ns]', freq='D')\n"
          ]
        }
      ],
      "source": [
        "head_range = pd.date_range(start='2014-12-31', end='2015-01-05')\n",
        "print(head_range)"
      ]
    },
    {
      "cell_type": "markdown",
      "metadata": {
        "id": "R4MbOxjPagkZ"
      },
      "source": [
        "4. 원본 데이터가 손상시키는것을 방지하기 위해 ebola 데이터 프레임의 앞쪽 5개의 데이터를 추출하여 새로운 데이터 프레임을 만듦, Date열을 인덱스로 먼저 지정하지 않으면 오류 발생"
      ]
    },
    {
      "cell_type": "code",
      "execution_count": null,
      "metadata": {
        "id": "5HdkcMgWagka",
        "outputId": "3be332b1-e7c9-4e5b-c97d-e963a6c5457e"
      },
      "outputs": [
        {
          "name": "stdout",
          "output_type": "stream",
          "text": [
            "                 Date  Day  Cases_Guinea  Cases_Liberia  Cases_SierraLeone\n",
            "Date                                                                      \n",
            "2015-01-05 2015-01-05  289        2776.0            NaN            10030.0\n",
            "2015-01-04 2015-01-04  288        2775.0            NaN             9780.0\n",
            "2015-01-03 2015-01-03  287        2769.0         8166.0             9722.0\n",
            "2015-01-02 2015-01-02  286           NaN         8157.0                NaN\n",
            "2014-12-31 2014-12-31  284        2730.0         8115.0             9633.0\n"
          ]
        }
      ],
      "source": [
        "ebola_5 = ebola.head()\n",
        "ebola_5.index = ebola_5['Date']\n",
        "ebola_5.reindex(head_range)\n",
        "print(ebola_5.iloc[:5, :5])"
      ]
    },
    {
      "cell_type": "markdown",
      "metadata": {
        "id": "idorD1vIagkc"
      },
      "source": [
        "**시간 범위의 주기 설정하기**\n",
        "\n",
        "freq 속성값으로 사용할 수 있는 시간 주기\n",
        "\n",
        "- B : 평일만 포함\n",
        "- C : 사용자가 정의한 평일만 포함\n",
        "- D : 달력 일자 단위\n",
        "- W : 주간 단위\n",
        "- M : 월 마지막 날만 포함\n",
        "- SM : 15일과 월 마지막 날만 포함\n",
        "- BM : M 주기의 값이 휴일이면 제외하고 평일만 포함\n",
        "- CBM : BM에 사용자 정의 평일을 적용\n",
        "- MS : 월 시작일만 포함\n",
        "- SMS : 월 시작일과 15일만 포함\n",
        "- BMS : MS 주기의 값이 휴일이면 제외하고 평일만 퐇마"
      ]
    }
  ],
  "metadata": {
    "kernelspec": {
      "display_name": "Python 3",
      "language": "python",
      "name": "python3"
    },
    "language_info": {
      "codemirror_mode": {
        "name": "ipython",
        "version": 3
      },
      "file_extension": ".py",
      "mimetype": "text/x-python",
      "name": "python",
      "nbconvert_exporter": "python",
      "pygments_lexer": "ipython3",
      "version": "3.8.5"
    },
    "colab": {
      "name": "0411 과제.ipynb",
      "provenance": [],
      "include_colab_link": true
    }
  },
  "nbformat": 4,
  "nbformat_minor": 0
}