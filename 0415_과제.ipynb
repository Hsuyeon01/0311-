{
  "cells": [
    {
      "cell_type": "markdown",
      "metadata": {
        "id": "view-in-github",
        "colab_type": "text"
      },
      "source": [
        "<a href=\"https://colab.research.google.com/github/Hsuyeon01/ESAA/blob/main/0415_%EA%B3%BC%EC%A0%9C.ipynb\" target=\"_parent\"><img src=\"https://colab.research.google.com/assets/colab-badge.svg\" alt=\"Open In Colab\"/></a>"
      ]
    },
    {
      "cell_type": "markdown",
      "metadata": {
        "id": "hG1z-kXeKnT-"
      },
      "source": [
        "### datetme 오브젝트로 변환하기 - to_datetime 메서드 ###\n",
        "\n",
        "**문자열을 datetime 오브젝트로 변환하기**\n",
        "\n",
        "1. 먼저 ebola 데이터 집합 불러오기"
      ]
    },
    {
      "cell_type": "code",
      "execution_count": null,
      "metadata": {
        "id": "nhFBXBboKnUJ"
      },
      "outputs": [],
      "source": [
        "import pandas as pd\n",
        "import os\n",
        "ebola = pd.read_csv('c:/Temp/country_timeseries.csv')"
      ]
    },
    {
      "cell_type": "markdown",
      "metadata": {
        "id": "Hk2ryEykKnUN"
      },
      "source": [
        "2. ebola 데이터프레임에는 문자열로 저장된 Date열이 있음"
      ]
    },
    {
      "cell_type": "code",
      "execution_count": null,
      "metadata": {
        "id": "vO8wA2sQKnUO",
        "outputId": "198da827-d0b0-4309-82a0-74b45f4210cd"
      },
      "outputs": [
        {
          "name": "stdout",
          "output_type": "stream",
          "text": [
            "<class 'pandas.core.frame.DataFrame'>\n",
            "RangeIndex: 122 entries, 0 to 121\n",
            "Data columns (total 18 columns):\n",
            " #   Column               Non-Null Count  Dtype  \n",
            "---  ------               --------------  -----  \n",
            " 0   Date                 122 non-null    object \n",
            " 1   Day                  122 non-null    int64  \n",
            " 2   Cases_Guinea         93 non-null     float64\n",
            " 3   Cases_Liberia        83 non-null     float64\n",
            " 4   Cases_SierraLeone    87 non-null     float64\n",
            " 5   Cases_Nigeria        38 non-null     float64\n",
            " 6   Cases_Senegal        25 non-null     float64\n",
            " 7   Cases_UnitedStates   18 non-null     float64\n",
            " 8   Cases_Spain          16 non-null     float64\n",
            " 9   Cases_Mali           12 non-null     float64\n",
            " 10  Deaths_Guinea        92 non-null     float64\n",
            " 11  Deaths_Liberia       81 non-null     float64\n",
            " 12  Deaths_SierraLeone   87 non-null     float64\n",
            " 13  Deaths_Nigeria       38 non-null     float64\n",
            " 14  Deaths_Senegal       22 non-null     float64\n",
            " 15  Deaths_UnitedStates  18 non-null     float64\n",
            " 16  Deaths_Spain         16 non-null     float64\n",
            " 17  Deaths_Mali          12 non-null     float64\n",
            "dtypes: float64(16), int64(1), object(1)\n",
            "memory usage: 17.3+ KB\n",
            "None\n"
          ]
        }
      ],
      "source": [
        "print(ebola.info())"
      ]
    },
    {
      "cell_type": "markdown",
      "metadata": {
        "id": "mbF03v6CKnUR"
      },
      "source": [
        "3. to_datetime 메서드를 사용하면 Date열의 자료형을 datetime 오브젝트로 변환할 수 있음"
      ]
    },
    {
      "cell_type": "code",
      "execution_count": null,
      "metadata": {
        "id": "_fwS_KV1KnUT",
        "outputId": "733a027b-ca4f-45ca-954e-29ab059ce8d3"
      },
      "outputs": [
        {
          "name": "stdout",
          "output_type": "stream",
          "text": [
            "<class 'pandas.core.frame.DataFrame'>\n",
            "RangeIndex: 122 entries, 0 to 121\n",
            "Data columns (total 19 columns):\n",
            " #   Column               Non-Null Count  Dtype         \n",
            "---  ------               --------------  -----         \n",
            " 0   Date                 122 non-null    object        \n",
            " 1   Day                  122 non-null    int64         \n",
            " 2   Cases_Guinea         93 non-null     float64       \n",
            " 3   Cases_Liberia        83 non-null     float64       \n",
            " 4   Cases_SierraLeone    87 non-null     float64       \n",
            " 5   Cases_Nigeria        38 non-null     float64       \n",
            " 6   Cases_Senegal        25 non-null     float64       \n",
            " 7   Cases_UnitedStates   18 non-null     float64       \n",
            " 8   Cases_Spain          16 non-null     float64       \n",
            " 9   Cases_Mali           12 non-null     float64       \n",
            " 10  Deaths_Guinea        92 non-null     float64       \n",
            " 11  Deaths_Liberia       81 non-null     float64       \n",
            " 12  Deaths_SierraLeone   87 non-null     float64       \n",
            " 13  Deaths_Nigeria       38 non-null     float64       \n",
            " 14  Deaths_Senegal       22 non-null     float64       \n",
            " 15  Deaths_UnitedStates  18 non-null     float64       \n",
            " 16  Deaths_Spain         16 non-null     float64       \n",
            " 17  Deaths_Mali          12 non-null     float64       \n",
            " 18  date_dt              122 non-null    datetime64[ns]\n",
            "dtypes: datetime64[ns](1), float64(16), int64(1), object(1)\n",
            "memory usage: 18.2+ KB\n",
            "None\n"
          ]
        }
      ],
      "source": [
        "ebola['date_dt'] = pd.to_datetime(ebola['Date'])\n",
        "print(ebola.info())"
      ]
    },
    {
      "cell_type": "raw",
      "metadata": {
        "id": "zZ-j7r5dKnUW"
      },
      "source": [
        "4. 시간 형식 지정자(%d, %m, %y)와 기호(/,-)를 적절히 조합하여 format 인자에 전달하면 그 형식에 맞게 정리된 datetime 오브젝트를 얻을 수 있음"
      ]
    },
    {
      "cell_type": "code",
      "execution_count": null,
      "metadata": {
        "id": "YxDre6fxKnUY",
        "outputId": "96f5cbf9-44df-40ac-a9a7-d5bfb87ae874"
      },
      "outputs": [
        {
          "name": "stdout",
          "output_type": "stream",
          "text": [
            "  order_day   date_dt1   date_dt2   date_dt3\n",
            "0  01/01/15 2015-01-01 2015-01-01 2001-01-15\n",
            "1  02/01/15 2015-01-02 2015-02-01 2002-01-15\n",
            "2  03/01/15 2015-01-03 2015-03-01 2003-01-15\n"
          ]
        }
      ],
      "source": [
        "test_df1 = pd.DataFrame({'order_day':['01/01/15','02/01/15','03/01/15']})\n",
        "\n",
        "test_df1['date_dt1'] = pd.to_datetime(test_df1['order_day'], format='%d/%m/%y')\n",
        "test_df1['date_dt2'] = pd.to_datetime(test_df1['order_day'], format='%m/%d/%y')\n",
        "test_df1['date_dt3'] = pd.to_datetime(test_df1['order_day'], format='%y/%m/%d')\n",
        "\n",
        "print(test_df1)"
      ]
    },
    {
      "cell_type": "code",
      "execution_count": null,
      "metadata": {
        "id": "tRNCaBMQKnUa",
        "outputId": "44af8a9d-1697-4d0c-fa09-b4d5c1b89c1b"
      },
      "outputs": [
        {
          "name": "stdout",
          "output_type": "stream",
          "text": [
            "  order_day    date_dt\n",
            "0  01-01-15 2015-01-01\n",
            "1  02-01-15 2015-01-02\n",
            "2  03-01-15 2015-01-03\n"
          ]
        }
      ],
      "source": [
        "test_df2 = pd.DataFrame({'order_day' : ['01-01-15','02-01-15','03-01-15']})\n",
        "test_df2['date_dt'] = pd.to_datetime(test_df2['order_day'], format='%d-%m-%y')\n",
        "print(test_df2)"
      ]
    },
    {
      "cell_type": "markdown",
      "metadata": {
        "id": "GgUFP2wnKnUc"
      },
      "source": [
        "시간 형식 지정자\n",
        "\n",
        "- %a : 요일 출력\n",
        "- %A : 요일 출력(긴 이름)\n",
        "- %w : 요일 출력(숫자, 0부터 일요일)\n",
        "- %d : 날짜 출력(2자리로 표시)\n",
        "- %b : 월 출력\n",
        "- %B : 월 출력(긴 이름)\n",
        "- %m : 월 출력(숫자)\n",
        "- %y : 년 출력(2자리로 표시)\n",
        "- %Y : 년 출력(4자리로 표시)\n",
        "- %H : 시간 출력(24시간)\n",
        "- %I : 시간 출력(12시간)\n",
        "- %p : AM 또는 PM 룰력\n",
        "- %M : 분 출력(2자리로 표시)\n",
        "- %S : 초 출력(2자리로 표시)\n",
        "- %f : 마이크로초 출력\n",
        "- %z : UTC 차이 출력 ( +HHMM이나 -HHMM 형태)\n",
        "- %Z : 기준 지역 이름 출력\n",
        "- %j : 올해의 지난 일 수 출력\n",
        "- %U : 올해의 지난 주 수 출력\n",
        "- %c : 날짜와 시간 출력\n",
        "- %x : 날짜 출력\n",
        "- %X : 시간 출력\n",
        "- %G : 년 출력(ISO 8601 형식)\n",
        "- %u : 요일 출력(ISO 8601 형식)\n",
        "- %V : 올해의 지난 주 수 출력\n",
        "\n",
        "\n"
      ]
    },
    {
      "cell_type": "markdown",
      "metadata": {
        "id": "nq-vxWpCKnUd"
      },
      "source": [
        "시계열 데이터를 구분해서 추출하기 - strftime 메서드와 시간 형식 지정자를 이용하여 시계열 데이터를 잘라냄"
      ]
    },
    {
      "cell_type": "code",
      "execution_count": null,
      "metadata": {
        "id": "7iyuO_FqKnUe",
        "outputId": "2b5c01ad-ea75-466e-a573-50dcc76b3f93"
      },
      "outputs": [
        {
          "name": "stdout",
          "output_type": "stream",
          "text": [
            "2022-04-11 18:44:42.269859\n"
          ]
        }
      ],
      "source": [
        "from datetime import datetime\n",
        "now = datetime.now()\n",
        "print(now)"
      ]
    },
    {
      "cell_type": "code",
      "execution_count": null,
      "metadata": {
        "id": "2oKKENBlKnUf",
        "outputId": "5986cea7-518f-4870-ae10-26ecfec739bb"
      },
      "outputs": [
        {
          "name": "stdout",
          "output_type": "stream",
          "text": [
            "2022-04-11\n"
          ]
        }
      ],
      "source": [
        "nowDate = now.strftime('%Y-%m-%d')\n",
        "print(nowDate)"
      ]
    },
    {
      "cell_type": "code",
      "execution_count": null,
      "metadata": {
        "id": "9xn4QQ01KnUg",
        "outputId": "9c5187c6-370a-49c1-a583-54d8127059e0"
      },
      "outputs": [
        {
          "name": "stdout",
          "output_type": "stream",
          "text": [
            "18:44:42\n"
          ]
        }
      ],
      "source": [
        "nowTime = now.strftime('%H:%M:%S')\n",
        "print(nowTime)"
      ]
    },
    {
      "cell_type": "code",
      "execution_count": null,
      "metadata": {
        "id": "NIu5fzCaKnUh",
        "outputId": "ba9012bf-9876-435b-d74b-d8526d7f9b85"
      },
      "outputs": [
        {
          "name": "stdout",
          "output_type": "stream",
          "text": [
            "2022-04-11 18:44:42\n"
          ]
        }
      ],
      "source": [
        "nowDatetime = now.strftime('%Y-%m-%d %H:%M:%S')\n",
        "print(nowDatetime)"
      ]
    },
    {
      "cell_type": "markdown",
      "metadata": {
        "id": "nlTIHO7XKnUi"
      },
      "source": [
        "### datetime 오브젝트로 변환하기 - read_csv 메서드 ###\n",
        "\n",
        "**datetime 오브젝트로 변환하려는 열을 지정하여 데이터 집합 불러오기**\n",
        "\n",
        "1. read_csv 메서드의 parse_dates 인자에 datetime 오브젝트로 변환하고자 하는 열의 이름을 전달하여 데이터 집합을 불러오기"
      ]
    },
    {
      "cell_type": "code",
      "execution_count": null,
      "metadata": {
        "id": "igp0SNl_KnUj",
        "outputId": "65259ad8-0704-4035-bf2a-d50fcb5acd18"
      },
      "outputs": [
        {
          "name": "stdout",
          "output_type": "stream",
          "text": [
            "<class 'pandas.core.frame.DataFrame'>\n",
            "RangeIndex: 122 entries, 0 to 121\n",
            "Data columns (total 18 columns):\n",
            " #   Column               Non-Null Count  Dtype         \n",
            "---  ------               --------------  -----         \n",
            " 0   Date                 122 non-null    datetime64[ns]\n",
            " 1   Day                  122 non-null    int64         \n",
            " 2   Cases_Guinea         93 non-null     float64       \n",
            " 3   Cases_Liberia        83 non-null     float64       \n",
            " 4   Cases_SierraLeone    87 non-null     float64       \n",
            " 5   Cases_Nigeria        38 non-null     float64       \n",
            " 6   Cases_Senegal        25 non-null     float64       \n",
            " 7   Cases_UnitedStates   18 non-null     float64       \n",
            " 8   Cases_Spain          16 non-null     float64       \n",
            " 9   Cases_Mali           12 non-null     float64       \n",
            " 10  Deaths_Guinea        92 non-null     float64       \n",
            " 11  Deaths_Liberia       81 non-null     float64       \n",
            " 12  Deaths_SierraLeone   87 non-null     float64       \n",
            " 13  Deaths_Nigeria       38 non-null     float64       \n",
            " 14  Deaths_Senegal       22 non-null     float64       \n",
            " 15  Deaths_UnitedStates  18 non-null     float64       \n",
            " 16  Deaths_Spain         16 non-null     float64       \n",
            " 17  Deaths_Mali          12 non-null     float64       \n",
            "dtypes: datetime64[ns](1), float64(16), int64(1)\n",
            "memory usage: 17.3 KB\n",
            "None\n"
          ]
        }
      ],
      "source": [
        "ebola1 = pd.read_csv('c:/Temp/country_timeseries.csv', parse_dates = ['Date'])\n",
        "print(ebola1.info())"
      ]
    },
    {
      "cell_type": "markdown",
      "metadata": {
        "id": "_4nLwAvYKnUk"
      },
      "source": [
        "### datetime 오브젝트에서 날짜 정보 추출하기 ###\n",
        "\n",
        "**datetime 오브젝트에서 날짜 정보 추출하기**\n",
        "\n",
        "1. 문자열로 저장된 날짜를 시리즈에 담아 datetime 오브젝트로 변환"
      ]
    },
    {
      "cell_type": "code",
      "execution_count": null,
      "metadata": {
        "id": "ibdhhFMGKnUk",
        "outputId": "471b9057-ef0a-4e4b-ceb0-c2603caca2f4"
      },
      "outputs": [
        {
          "name": "stdout",
          "output_type": "stream",
          "text": [
            "0   2018-05-16\n",
            "1   2018-05-17\n",
            "2   2018-05-18\n",
            "dtype: datetime64[ns]\n"
          ]
        }
      ],
      "source": [
        "date_series = pd.Series(['2018-05-16','2018-05-17', '2018-05-18'])\n",
        "d1 = pd.to_datetime(date_series)\n",
        "print(d1)"
      ]
    },
    {
      "cell_type": "markdown",
      "metadata": {
        "id": "-pwpdy4FKnUl"
      },
      "source": [
        "2. datetime 오브젝트의 year, month, day 속성을 이용하면 년, 월, 일 정보를 바로 추출할 수 있음"
      ]
    },
    {
      "cell_type": "code",
      "execution_count": null,
      "metadata": {
        "id": "couSNQy6KnUl",
        "outputId": "a93be3bf-a760-44a8-d760-dc25ae2e775d"
      },
      "outputs": [
        {
          "name": "stdout",
          "output_type": "stream",
          "text": [
            "2018\n"
          ]
        }
      ],
      "source": [
        "print(d1[0].year)"
      ]
    },
    {
      "cell_type": "code",
      "execution_count": null,
      "metadata": {
        "id": "zw-usO-LKnUm",
        "outputId": "b22a64f5-47d8-4403-dc8b-32a17806819d"
      },
      "outputs": [
        {
          "name": "stdout",
          "output_type": "stream",
          "text": [
            "5\n"
          ]
        }
      ],
      "source": [
        "print(d1[0].month)"
      ]
    },
    {
      "cell_type": "code",
      "execution_count": null,
      "metadata": {
        "id": "QpKqFMCcKnUn",
        "outputId": "c1cea853-8263-4348-837b-e898b88b72f5"
      },
      "outputs": [
        {
          "name": "stdout",
          "output_type": "stream",
          "text": [
            "16\n"
          ]
        }
      ],
      "source": [
        "print(d1[0].day)"
      ]
    },
    {
      "cell_type": "markdown",
      "metadata": {
        "id": "SA772lbXKnUo"
      },
      "source": [
        "### dt 접근자 사용하기 ###\n",
        "\n",
        "**dt 접근자로 시계열 데이터 정리하기**\n",
        "\n",
        "1. ebola 데이터 집합을 불러온 다음 Date열을 datetime 오브젝트로 변환하여 새로운 열(date_dt)로 추가"
      ]
    },
    {
      "cell_type": "code",
      "execution_count": null,
      "metadata": {
        "id": "Piw5rrhKKnUp"
      },
      "outputs": [],
      "source": [
        "ebola = pd.read_csv('c:/Temp/country_timeseries.csv')\n",
        "ebola['date_dt'] = pd.to_datetime(ebola['Date'])"
      ]
    },
    {
      "cell_type": "markdown",
      "metadata": {
        "id": "4oHHibqeKnUp"
      },
      "source": [
        "2. dt 접근자를 사용하지 않고 인덱스가 3인 데이터의 년, 월, 일 데이터를 추출"
      ]
    },
    {
      "cell_type": "code",
      "execution_count": null,
      "metadata": {
        "id": "BCcp_e0PKnUq",
        "outputId": "2356177b-e5bf-43ce-ba6b-0dbbb32341bd"
      },
      "outputs": [
        {
          "name": "stdout",
          "output_type": "stream",
          "text": [
            "         Date    date_dt\n",
            "0    1/5/2015 2015-01-05\n",
            "1    1/4/2015 2015-01-04\n",
            "2    1/3/2015 2015-01-03\n",
            "3    1/2/2015 2015-01-02\n",
            "4  12/31/2014 2014-12-31\n"
          ]
        }
      ],
      "source": [
        "print(ebola[['Date','date_dt']].head())"
      ]
    },
    {
      "cell_type": "code",
      "execution_count": null,
      "metadata": {
        "id": "os_OiWyYKnUr",
        "outputId": "ca2b9fdf-d192-47b5-89cc-d5b23f39e06e"
      },
      "outputs": [
        {
          "name": "stdout",
          "output_type": "stream",
          "text": [
            "2015\n"
          ]
        }
      ],
      "source": [
        "print(ebola['date_dt'][3].year)"
      ]
    },
    {
      "cell_type": "code",
      "execution_count": null,
      "metadata": {
        "id": "IM2OnbbNKnUs",
        "outputId": "840447fe-78d0-415d-a4dd-19374df6f837"
      },
      "outputs": [
        {
          "name": "stdout",
          "output_type": "stream",
          "text": [
            "1\n"
          ]
        }
      ],
      "source": [
        "print(ebola['date_dt'][3].month)"
      ]
    },
    {
      "cell_type": "code",
      "execution_count": null,
      "metadata": {
        "id": "GBF_xCZfKnUs",
        "outputId": "9171b6bd-ed32-4016-e94c-432d5e1e6b15"
      },
      "outputs": [
        {
          "name": "stdout",
          "output_type": "stream",
          "text": [
            "2\n"
          ]
        }
      ],
      "source": [
        "print(ebola['date_dt'][3].day)"
      ]
    },
    {
      "cell_type": "markdown",
      "metadata": {
        "id": "OCbEr3oJKnUt"
      },
      "source": [
        "3. 2와 같은 방법은 date_dt 열의 특정 데이터를 인덱스로 접근해야 하기 때문에 불편함. dt 접근자로 date_dt 열에 한번에 접근한 다음 year 속성을 이용하여 연도값을 추출하여 ebola 데이터프레임의 새로운 열(year)로 추가"
      ]
    },
    {
      "cell_type": "code",
      "execution_count": null,
      "metadata": {
        "id": "Ix7tlYW0KnUu",
        "outputId": "f44be94e-cb75-44eb-866c-d65261d4432f"
      },
      "outputs": [
        {
          "name": "stdout",
          "output_type": "stream",
          "text": [
            "         Date    date_dt  year\n",
            "0    1/5/2015 2015-01-05  2015\n",
            "1    1/4/2015 2015-01-04  2015\n",
            "2    1/3/2015 2015-01-03  2015\n",
            "3    1/2/2015 2015-01-02  2015\n",
            "4  12/31/2014 2014-12-31  2014\n"
          ]
        }
      ],
      "source": [
        "ebola['year'] = ebola['date_dt'].dt.year\n",
        "print(ebola[['Date','date_dt','year']].head())"
      ]
    },
    {
      "cell_type": "markdown",
      "metadata": {
        "id": "p6xIBz-ZKnUv"
      },
      "source": [
        "4. 3의 과정을 응용하여 월, 일 데이터를 추출하여 새로운 열(month, day)로 추가 "
      ]
    },
    {
      "cell_type": "code",
      "execution_count": null,
      "metadata": {
        "id": "rKZV2cm_KnUv",
        "outputId": "5a17b0ab-54a7-4355-d93b-32546173a828"
      },
      "outputs": [
        {
          "name": "stdout",
          "output_type": "stream",
          "text": [
            "         Date    date_dt  year  month  day\n",
            "0    1/5/2015 2015-01-05  2015      1    5\n",
            "1    1/4/2015 2015-01-04  2015      1    4\n",
            "2    1/3/2015 2015-01-03  2015      1    3\n",
            "3    1/2/2015 2015-01-02  2015      1    2\n",
            "4  12/31/2014 2014-12-31  2014     12   31\n"
          ]
        }
      ],
      "source": [
        "ebola['month'] , ebola['day']= (ebola['date_dt'].dt.month, ebola['date_dt'].dt.day)\n",
        "print(ebola[['Date','date_dt','year','month','day']].head())"
      ]
    },
    {
      "cell_type": "markdown",
      "metadata": {
        "id": "K4NTLoqgKnUw"
      },
      "source": [
        "5. ebola 데이터프레임에 새로 추가한 date_dt, year, month, day 열의 자료형을 출력, date_dt 열은 datetime 오브젝트이고 나머지는 정수형임"
      ]
    },
    {
      "cell_type": "code",
      "execution_count": null,
      "metadata": {
        "id": "40EJuJHKKnUw",
        "outputId": "1098daaa-2ec0-4f1f-f1a4-537bbacd309d"
      },
      "outputs": [
        {
          "name": "stdout",
          "output_type": "stream",
          "text": [
            "<class 'pandas.core.frame.DataFrame'>\n",
            "RangeIndex: 122 entries, 0 to 121\n",
            "Data columns (total 22 columns):\n",
            " #   Column               Non-Null Count  Dtype         \n",
            "---  ------               --------------  -----         \n",
            " 0   Date                 122 non-null    object        \n",
            " 1   Day                  122 non-null    int64         \n",
            " 2   Cases_Guinea         93 non-null     float64       \n",
            " 3   Cases_Liberia        83 non-null     float64       \n",
            " 4   Cases_SierraLeone    87 non-null     float64       \n",
            " 5   Cases_Nigeria        38 non-null     float64       \n",
            " 6   Cases_Senegal        25 non-null     float64       \n",
            " 7   Cases_UnitedStates   18 non-null     float64       \n",
            " 8   Cases_Spain          16 non-null     float64       \n",
            " 9   Cases_Mali           12 non-null     float64       \n",
            " 10  Deaths_Guinea        92 non-null     float64       \n",
            " 11  Deaths_Liberia       81 non-null     float64       \n",
            " 12  Deaths_SierraLeone   87 non-null     float64       \n",
            " 13  Deaths_Nigeria       38 non-null     float64       \n",
            " 14  Deaths_Senegal       22 non-null     float64       \n",
            " 15  Deaths_UnitedStates  18 non-null     float64       \n",
            " 16  Deaths_Spain         16 non-null     float64       \n",
            " 17  Deaths_Mali          12 non-null     float64       \n",
            " 18  date_dt              122 non-null    datetime64[ns]\n",
            " 19  year                 122 non-null    int64         \n",
            " 20  month                122 non-null    int64         \n",
            " 21  day                  122 non-null    int64         \n",
            "dtypes: datetime64[ns](1), float64(16), int64(4), object(1)\n",
            "memory usage: 21.1+ KB\n",
            "None\n"
          ]
        }
      ],
      "source": [
        "print(ebola.info())"
      ]
    },
    {
      "cell_type": "markdown",
      "metadata": {
        "id": "fTlwibaiKnUx"
      },
      "source": [
        "### 12-2 사례별 시계열 데이터 계산하기 ###\n",
        "\n",
        "**에볼라 최초 발병일 계산하기**\n",
        "\n",
        "1. ebola 데이터프레임의 마지막 행과 열을 5개씩만 살펴보면 ebola 데이터프레임은 데이터가 시간 역순으로 정렬되어 있음. 시간 순으로 데이터를 살펴보려면 마지막부터 살펴봐야 함"
      ]
    },
    {
      "cell_type": "code",
      "execution_count": null,
      "metadata": {
        "id": "u9RHSu0lKnUy",
        "outputId": "1070e5a9-624d-4984-9a8c-385d6669f799"
      },
      "outputs": [
        {
          "name": "stdout",
          "output_type": "stream",
          "text": [
            "          Date  Day  Cases_Guinea  Cases_Liberia  Cases_SierraLeone\n",
            "117  3/27/2014    5         103.0            8.0                6.0\n",
            "118  3/26/2014    4          86.0            NaN                NaN\n",
            "119  3/25/2014    3          86.0            NaN                NaN\n",
            "120  3/24/2014    2          86.0            NaN                NaN\n",
            "121  3/22/2014    0          49.0            NaN                NaN\n"
          ]
        }
      ],
      "source": [
        "print(ebola.iloc[-5:,:5])"
      ]
    },
    {
      "cell_type": "markdown",
      "metadata": {
        "id": "TfL3ZKFsKnU0"
      },
      "source": [
        "2. 121행에서 볼 수 있듯 에볼라가 발생하기 시작한 날은 2014년 3월 22일, min 메서드를 사용하여 에볼라의 최초 발병일을 찾음"
      ]
    },
    {
      "cell_type": "code",
      "execution_count": null,
      "metadata": {
        "id": "eTAuhWp0KnU0",
        "outputId": "7046cc8e-3fa3-4076-a4ec-9d27bead56f0"
      },
      "outputs": [
        {
          "name": "stdout",
          "output_type": "stream",
          "text": [
            "2014-03-22 00:00:00\n",
            "<class 'pandas._libs.tslibs.timestamps.Timestamp'>\n"
          ]
        }
      ],
      "source": [
        "print(ebola['date_dt'].min())\n",
        "print(type(ebola['date_dt'].min()))"
      ]
    },
    {
      "cell_type": "markdown",
      "metadata": {
        "id": "LxozNi4rKnU1"
      },
      "source": [
        "3. Date 열에서 에볼라의 최초 발병일을 빼면 에볼라의 진행 정도를 알 수 있음  "
      ]
    },
    {
      "cell_type": "code",
      "execution_count": null,
      "metadata": {
        "id": "Ye5B32UBKnU2",
        "outputId": "21d32f55-dadb-4b87-db11-8efd39fa0dd9"
      },
      "outputs": [
        {
          "name": "stdout",
          "output_type": "stream",
          "text": [
            "         Date  Day outbreak_d\n",
            "0    1/5/2015  289   289 days\n",
            "1    1/4/2015  288   288 days\n",
            "2    1/3/2015  287   287 days\n",
            "3    1/2/2015  286   286 days\n",
            "4  12/31/2014  284   284 days\n"
          ]
        }
      ],
      "source": [
        "ebola['outbreak_d'] = ebola['date_dt'] - ebola['date_dt'].min()\n",
        "print(ebola[['Date','Day','outbreak_d']].head())"
      ]
    },
    {
      "cell_type": "markdown",
      "metadata": {
        "id": "U4cAXYBhKnU3"
      },
      "source": [
        "**파산한 은행의 개수 계산하기**\n",
        "\n",
        "1. banks 데이터프레임의 앞부분을 살펴보면 Closing Date, Updated Date 열의 데이터 자료형이 시계열 데이터 라는 것을 알 수 있음"
      ]
    },
    {
      "cell_type": "code",
      "execution_count": null,
      "metadata": {
        "id": "o7sNbZA2KnU3",
        "outputId": "69e45e4b-5006-4e49-bace-b13374bc4b6a"
      },
      "outputs": [
        {
          "name": "stdout",
          "output_type": "stream",
          "text": [
            "                                           Bank Name         City  ST   CERT  \\\n",
            "0                Washington Federal Bank for Savings      Chicago  IL  30570   \n",
            "1    The Farmers and Merchants State Bank of Argonia      Argonia  KS  17719   \n",
            "2                                Fayette County Bank   Saint Elmo  IL   1802   \n",
            "3  Guaranty Bank, (d/b/a BestBank in Georgia & Mi...    Milwaukee  WI  30003   \n",
            "4                                     First NBC Bank  New Orleans  LA  58302   \n",
            "\n",
            "                 Acquiring Institution Closing Date Updated Date  \n",
            "0                   Royal Savings Bank    15-Dec-17    20-Dec-17  \n",
            "1                          Conway Bank    13-Oct-17    20-Oct-17  \n",
            "2            United Fidelity Bank, fsb    26-May-17    26-Jul-17  \n",
            "3  First-Citizens Bank & Trust Company     5-May-17    26-Jul-17  \n",
            "4                         Whitney Bank    28-Apr-17     5-Dec-17  \n"
          ]
        }
      ],
      "source": [
        "banks = pd.read_csv('c:/Temp/banklist.csv')\n",
        "print(banks.head())"
      ]
    },
    {
      "cell_type": "markdown",
      "metadata": {
        "id": "RffaXbciKnU4"
      },
      "source": [
        "2. Closing Date, Updated Date 열의 데이터 자료형은 문자열, read_csv 메서드의 parse_dates 속성을 이용하여 문자열로 저장된 두 열을 datetime 오브젝트로 변환하여 불러오기"
      ]
    },
    {
      "cell_type": "code",
      "execution_count": null,
      "metadata": {
        "id": "ewlEocdNKnU4",
        "outputId": "91116291-1b0a-4d8c-b335-6ccf28d8fa8b"
      },
      "outputs": [
        {
          "name": "stdout",
          "output_type": "stream",
          "text": [
            "                                             Bank Name         City  ST  \\\n",
            "0                  Washington Federal Bank for Savings      Chicago  IL   \n",
            "1      The Farmers and Merchants State Bank of Argonia      Argonia  KS   \n",
            "2                                  Fayette County Bank   Saint Elmo  IL   \n",
            "3    Guaranty Bank, (d/b/a BestBank in Georgia & Mi...    Milwaukee  WI   \n",
            "4                                       First NBC Bank  New Orleans  LA   \n",
            "..                                                 ...          ...  ..   \n",
            "550                                 Superior Bank, FSB     Hinsdale  IL   \n",
            "551                                Malta National Bank        Malta  OH   \n",
            "552                    First Alliance Bank & Trust Co.   Manchester  NH   \n",
            "553                  National State Bank of Metropolis   Metropolis  IL   \n",
            "554                                   Bank of Honolulu     Honolulu  HI   \n",
            "\n",
            "      CERT                Acquiring Institution Closing Date Updated Date  \n",
            "0    30570                   Royal Savings Bank    15-Dec-17    20-Dec-17  \n",
            "1    17719                          Conway Bank    13-Oct-17    20-Oct-17  \n",
            "2     1802            United Fidelity Bank, fsb    26-May-17    26-Jul-17  \n",
            "3    30003  First-Citizens Bank & Trust Company     5-May-17    26-Jul-17  \n",
            "4    58302                         Whitney Bank    28-Apr-17     5-Dec-17  \n",
            "..     ...                                  ...          ...          ...  \n",
            "550  32646                Superior Federal, FSB    27-Jul-01    19-Aug-14  \n",
            "551   6629                    North Valley Bank     3-May-01    18-Nov-02  \n",
            "552  34264  Southern New Hampshire Bank & Trust     2-Feb-01    18-Feb-03  \n",
            "553   3815              Banterra Bank of Marion    14-Dec-00    17-Mar-05  \n",
            "554  21029                   Bank of the Orient    13-Oct-00    17-Mar-05  \n",
            "\n",
            "[555 rows x 7 columns]\n"
          ]
        }
      ],
      "source": [
        "banks_no_dates = pd.read_csv('c:/Temp/banklist.csv')\n",
        "print(banks_no_dates)"
      ]
    },
    {
      "cell_type": "code",
      "execution_count": null,
      "metadata": {
        "id": "2xwGf4FGKnU4",
        "outputId": "2fabad02-fef0-4a2a-d9fc-8f6f4088e0e3"
      },
      "outputs": [
        {
          "name": "stdout",
          "output_type": "stream",
          "text": [
            "<class 'pandas.core.frame.DataFrame'>\n",
            "RangeIndex: 555 entries, 0 to 554\n",
            "Data columns (total 7 columns):\n",
            " #   Column                 Non-Null Count  Dtype         \n",
            "---  ------                 --------------  -----         \n",
            " 0   Bank Name              555 non-null    object        \n",
            " 1   City                   555 non-null    object        \n",
            " 2   ST                     555 non-null    object        \n",
            " 3   CERT                   555 non-null    int64         \n",
            " 4   Acquiring Institution  555 non-null    object        \n",
            " 5   Closing Date           555 non-null    datetime64[ns]\n",
            " 6   Updated Date           555 non-null    datetime64[ns]\n",
            "dtypes: datetime64[ns](2), int64(1), object(4)\n",
            "memory usage: 30.5+ KB\n",
            "None\n"
          ]
        }
      ],
      "source": [
        "banks = pd.read_csv('c:/Temp/banklist.csv', parse_dates=[5,6])\n",
        "print(banks.info())"
      ]
    },
    {
      "cell_type": "markdown",
      "metadata": {
        "id": "bPPNLYjtKnU5"
      },
      "source": [
        "3. dt 접근자와 quarter 속성을 이용하면 은행이 파산한 분기를 알 수 있음, dt 접근자와 year, quarter 속성을 이용하여 은행이 파산한 연도, 분기를 새로운 열로 추가"
      ]
    },
    {
      "cell_type": "code",
      "execution_count": null,
      "metadata": {
        "id": "cpckE3kjKnU5"
      },
      "outputs": [],
      "source": [
        "banks['closing_quarter'], banks['closing_year'] = (banks['Closing Date'].dt.quarter, \n",
        "                                                 banks['Closing Date'].dt.year)"
      ]
    },
    {
      "cell_type": "code",
      "execution_count": null,
      "metadata": {
        "id": "hBp7nKnlKnU6",
        "outputId": "ba44de37-dabf-4174-8bbd-bf3502c0bb2c"
      },
      "outputs": [
        {
          "name": "stdout",
          "output_type": "stream",
          "text": [
            "                                           Bank Name         City  ST   CERT  \\\n",
            "0                Washington Federal Bank for Savings      Chicago  IL  30570   \n",
            "1    The Farmers and Merchants State Bank of Argonia      Argonia  KS  17719   \n",
            "2                                Fayette County Bank   Saint Elmo  IL   1802   \n",
            "3  Guaranty Bank, (d/b/a BestBank in Georgia & Mi...    Milwaukee  WI  30003   \n",
            "4                                     First NBC Bank  New Orleans  LA  58302   \n",
            "\n",
            "                 Acquiring Institution Closing Date Updated Date  \\\n",
            "0                   Royal Savings Bank   2017-12-15   2017-12-20   \n",
            "1                          Conway Bank   2017-10-13   2017-10-20   \n",
            "2            United Fidelity Bank, fsb   2017-05-26   2017-07-26   \n",
            "3  First-Citizens Bank & Trust Company   2017-05-05   2017-07-26   \n",
            "4                         Whitney Bank   2017-04-28   2017-12-05   \n",
            "\n",
            "   closing_quarter  closing_year  \n",
            "0                4          2017  \n",
            "1                4          2017  \n",
            "2                2          2017  \n",
            "3                2          2017  \n",
            "4                2          2017  \n"
          ]
        }
      ],
      "source": [
        "print(banks.head())"
      ]
    },
    {
      "cell_type": "markdown",
      "metadata": {
        "id": "1HbStDzpKnU6"
      },
      "source": [
        "4. groupby 메서드를 사용하면 연도별로 파산한 은행의 개수 구할 수 있음"
      ]
    },
    {
      "cell_type": "code",
      "execution_count": null,
      "metadata": {
        "id": "pXLlZ6mBKnU6",
        "outputId": "074f7574-c707-4777-f8e7-e1ef84f0946e"
      },
      "outputs": [
        {
          "name": "stdout",
          "output_type": "stream",
          "text": [
            "closing_year\n",
            "2000      2\n",
            "2001      4\n",
            "2002     11\n",
            "2003      3\n",
            "2004      4\n",
            "2007      3\n",
            "2008     25\n",
            "2009    140\n",
            "2010    157\n",
            "2011     92\n",
            "2012     51\n",
            "2013     24\n",
            "2014     18\n",
            "2015      8\n",
            "2016      5\n",
            "2017      8\n",
            "dtype: int64\n"
          ]
        }
      ],
      "source": [
        "closing_year = banks.groupby(['closing_year']).size()\n",
        "print(closing_year)"
      ]
    },
    {
      "cell_type": "markdown",
      "metadata": {
        "id": "WgKKszPiKnU7"
      },
      "source": [
        "5. 각 연도별, 분기별로 파산한 은행의 개수, banks 데이터프레임을 연도별로 그룹화한 다음 다시 분기별로 그룹화하여 출력"
      ]
    },
    {
      "cell_type": "code",
      "execution_count": null,
      "metadata": {
        "id": "BNqz8DppKnU8",
        "outputId": "d647922e-eb41-412b-ec5b-4d220ea11724"
      },
      "outputs": [
        {
          "name": "stdout",
          "output_type": "stream",
          "text": [
            "closing_year  closing_quarter\n",
            "2000          4                   2\n",
            "2001          1                   1\n",
            "              2                   1\n",
            "              3                   2\n",
            "2002          1                   6\n",
            "              2                   2\n",
            "              3                   1\n",
            "              4                   2\n",
            "2003          1                   1\n",
            "              2                   1\n",
            "              4                   1\n",
            "2004          1                   3\n",
            "              2                   1\n",
            "2007          1                   1\n",
            "              3                   1\n",
            "              4                   1\n",
            "2008          1                   2\n",
            "              2                   2\n",
            "              3                   9\n",
            "              4                  12\n",
            "2009          1                  21\n",
            "              2                  24\n",
            "              3                  50\n",
            "              4                  45\n",
            "2010          1                  41\n",
            "              2                  45\n",
            "              3                  41\n",
            "              4                  30\n",
            "2011          1                  26\n",
            "              2                  22\n",
            "              3                  26\n",
            "              4                  18\n",
            "2012          1                  16\n",
            "              2                  15\n",
            "              3                  12\n",
            "              4                   8\n",
            "2013          1                   4\n",
            "              2                  12\n",
            "              3                   6\n",
            "              4                   2\n",
            "2014          1                   5\n",
            "              2                   7\n",
            "              3                   2\n",
            "              4                   4\n",
            "2015          1                   4\n",
            "              2                   1\n",
            "              3                   1\n",
            "              4                   2\n",
            "2016          1                   1\n",
            "              2                   2\n",
            "              3                   2\n",
            "2017          1                   3\n",
            "              2                   3\n",
            "              4                   2\n",
            "dtype: int64\n"
          ]
        }
      ],
      "source": [
        "closing_year_q = banks.groupby(['closing_year', 'closing_quarter']).size()\n",
        "print(closing_year_q)"
      ]
    },
    {
      "cell_type": "markdown",
      "metadata": {
        "id": "6zPHhyKXKnU8"
      },
      "source": [
        "6. 그래프 그리기"
      ]
    },
    {
      "cell_type": "code",
      "execution_count": null,
      "metadata": {
        "id": "HXoGivjYKnU8",
        "outputId": "e14ed747-505f-4b67-e3fe-5e94ae0dfa69"
      },
      "outputs": [
        {
          "data": {
            "image/png": "[encoded data removed]",
            "text/plain": [
              "<Figure size 432x288 with 1 Axes>"
            ]
          },
          "metadata": {
            "needs_background": "light"
          },
          "output_type": "display_data"
        },
        {
          "data": {
            "image/png": "[encoded data removed]",
            "text/plain": [
              "<Figure size 432x288 with 1 Axes>"
            ]
          },
          "metadata": {
            "needs_background": "light"
          },
          "output_type": "display_data"
        }
      ],
      "source": [
        "import matplotlib.pyplot as plt\n",
        "fig, ax = plt.subplots()\n",
        "ax = closing_year.plot()\n",
        "plt.show()\n",
        "\n",
        "fig, ax = plt.subplots()\n",
        "ax = closing_year_q.plot()\n",
        "plt.show()"
      ]
    },
    {
      "cell_type": "markdown",
      "metadata": {
        "id": "yy1PYSvQKnU9"
      },
      "source": [
        "### 시간 범위 수정하고 데이터 밀어내기 - shift 메서드 ###\n",
        "\n",
        "**에볼라의 확산 속도 비교하기**\n",
        "\n",
        "1. ebola 데이터프레임의 Date열을 인덱스로 지정한 다음 x축을 Date열로, y축을 사망자 수로 지정하여 그래프 그리기"
      ]
    },
    {
      "cell_type": "code",
      "execution_count": null,
      "metadata": {
        "id": "gAOTmwIlKnU9",
        "outputId": "1929c801-b764-4dc9-f166-60c24b602760"
      },
      "outputs": [
        {
          "data": {
            "image/png": "[encoded data removed]",
            "text/plain": [
              "<Figure size 432x288 with 1 Axes>"
            ]
          },
          "metadata": {
            "needs_background": "light"
          },
          "output_type": "display_data"
        }
      ],
      "source": [
        "import matplotlib.pyplot as plt\n",
        "\n",
        "ebola.index = ebola['Date']\n",
        "\n",
        "fig, ax = plt.subplots()\n",
        "ax = ebola.iloc[0:,1:].plot(ax=ax)\n",
        "ax.legend(fontsize=7, loc=2, borderaxespad=0.)\n",
        "plt.show()"
      ]
    },
    {
      "cell_type": "markdown",
      "metadata": {
        "id": "AmTlkvkLKnU-"
      },
      "source": [
        "2. 각 나라의 에볼라 발병일이 달라 그래프가 그려지기 시작한 지점이 다름, 각 나라의 발병일을 가장 처음 에볼라가 발병한 Guinea와 동일한 위치로 옮겨야 나라별 에볼라의 확산 속도를 제대로 비교할 수 있음"
      ]
    },
    {
      "cell_type": "code",
      "execution_count": null,
      "metadata": {
        "id": "m25EJECLKnU_",
        "outputId": "f9774ad6-7302-4edf-c23e-84e1201747eb"
      },
      "outputs": [
        {
          "name": "stdout",
          "output_type": "stream",
          "text": [
            "           Day  Cases_Guinea  Cases_Liberia\n",
            "Date                                       \n",
            "4/4/2014    13         143.0           18.0\n",
            "4/1/2014    10         127.0            8.0\n",
            "3/31/2014    9         122.0            8.0\n",
            "3/29/2014    7         112.0            7.0\n",
            "3/28/2014    6         112.0            3.0\n",
            "3/27/2014    5         103.0            8.0\n",
            "3/26/2014    4          86.0            NaN\n",
            "3/25/2014    3          86.0            NaN\n",
            "3/24/2014    2          86.0            NaN\n",
            "3/22/2014    0          49.0            NaN\n"
          ]
        }
      ],
      "source": [
        "ebola_sub = ebola[['Day','Cases_Guinea', 'Cases_Liberia']]\n",
        "print(ebola_sub.tail(10))"
      ]
    },
    {
      "cell_type": "markdown",
      "metadata": {
        "id": "c5-74FfXKnVA"
      },
      "source": [
        "3. 그래프를 그리기 위한 데이터 프레임 준비하기\n",
        "Date 열의 자료형을 datetime 오브젝트로 변환하여 ebola 데이터프레임을 다시 생성, 중간에 아예 날짜가 없는 데이터도 포함시켜야 확산 속도를 제대로 비교할 수 있음"
      ]
    },
    {
      "cell_type": "code",
      "execution_count": null,
      "metadata": {
        "id": "ZGSuHo1RKnVA",
        "outputId": "0a56ee70-7163-4d49-c3af-66d776b7deed"
      },
      "outputs": [
        {
          "name": "stdout",
          "output_type": "stream",
          "text": [
            "        Date  Day  Cases_Guinea  Cases_Liberia  Cases_SierraLeone\n",
            "0 2015-01-05  289        2776.0            NaN            10030.0\n",
            "1 2015-01-04  288        2775.0            NaN             9780.0\n",
            "2 2015-01-03  287        2769.0         8166.0             9722.0\n",
            "3 2015-01-02  286           NaN         8157.0                NaN\n",
            "4 2014-12-31  284        2730.0         8115.0             9633.0\n"
          ]
        }
      ],
      "source": [
        "ebola = pd.read_csv('c:/Temp/country_timeseries.csv', parse_dates=['Date'])\n",
        "\n",
        "print(ebola.head().iloc[:,:5])"
      ]
    },
    {
      "cell_type": "code",
      "execution_count": null,
      "metadata": {
        "id": "FLmqO9j9KnVB",
        "outputId": "dc289ca0-327e-4718-afc1-c9f170705601"
      },
      "outputs": [
        {
          "name": "stdout",
          "output_type": "stream",
          "text": [
            "          Date  Day  Cases_Guinea  Cases_Liberia  Cases_SierraLeone\n",
            "117 2014-03-27    5         103.0            8.0                6.0\n",
            "118 2014-03-26    4          86.0            NaN                NaN\n",
            "119 2014-03-25    3          86.0            NaN                NaN\n",
            "120 2014-03-24    2          86.0            NaN                NaN\n",
            "121 2014-03-22    0          49.0            NaN                NaN\n"
          ]
        }
      ],
      "source": [
        "print(ebola.tail().iloc[:,:5])"
      ]
    },
    {
      "cell_type": "markdown",
      "metadata": {
        "id": "iEcLcbIfKnVB"
      },
      "source": [
        "4. Date 열을 인덱스로 지정한 다음 ebola 데이터프레임의 Date열의 최댓값과 최솟값으로 시간 범위를 생성하여 new_idx에 저장, 날짜가 아예 없었던 데이터의 인덱스를 생성할 수 있음"
      ]
    },
    {
      "cell_type": "code",
      "execution_count": null,
      "metadata": {
        "id": "JpfZwGmAKnVB"
      },
      "outputs": [],
      "source": [
        "ebola.index = ebola['Date']\n",
        "new_idx = pd.date_range(ebola.index.min(), ebola.index.max())"
      ]
    },
    {
      "cell_type": "markdown",
      "metadata": {
        "id": "JlSJHaBxKnVC"
      },
      "source": [
        "5. new_idx를 살펴보면 ebola 데이터 집합에 있는 시간 순서와 반대로 생성되어있음. 시간 순서를 맞추기 위해 reversed 메서드를 사용하여 인텍스를 반대로 뒤집음"
      ]
    },
    {
      "cell_type": "code",
      "execution_count": null,
      "metadata": {
        "id": "TEZQqEbbKnVC",
        "outputId": "797444c2-8a10-4b0a-9450-07b4c6d5bf9a"
      },
      "outputs": [
        {
          "name": "stdout",
          "output_type": "stream",
          "text": [
            "DatetimeIndex(['2014-03-22', '2014-03-23', '2014-03-24', '2014-03-25',\n",
            "               '2014-03-26', '2014-03-27', '2014-03-28', '2014-03-29',\n",
            "               '2014-03-30', '2014-03-31',\n",
            "               ...\n",
            "               '2014-12-27', '2014-12-28', '2014-12-29', '2014-12-30',\n",
            "               '2014-12-31', '2015-01-01', '2015-01-02', '2015-01-03',\n",
            "               '2015-01-04', '2015-01-05'],\n",
            "              dtype='datetime64[ns]', length=290, freq='D')\n"
          ]
        }
      ],
      "source": [
        "print(new_idx)"
      ]
    },
    {
      "cell_type": "code",
      "execution_count": null,
      "metadata": {
        "id": "Us6Fi0PZKnVC"
      },
      "outputs": [],
      "source": [
        "new_idx = reversed(new_idx)"
      ]
    },
    {
      "cell_type": "markdown",
      "metadata": {
        "id": "SBGbNrI_KnVD"
      },
      "source": [
        "6. reindex 메서드를 사용하여 새로 생성한 인덱스를 새로운 인덱스로 지정. 그러면 2015년 01월 01일 데이터와 같은 ebola 데이터프레임에 아예 없었던 날짜가 추가됨. "
      ]
    },
    {
      "cell_type": "code",
      "execution_count": null,
      "metadata": {
        "id": "g_bm6ubUKnVD",
        "outputId": "e4cd65e9-e75b-4a8f-da5a-28eeb78c4f12"
      },
      "outputs": [
        {
          "name": "stdout",
          "output_type": "stream",
          "text": [
            "                 Date    Day  Cases_Guinea  Cases_Liberia  Cases_SierraLeone\n",
            "Date                                                                        \n",
            "2015-01-05 2015-01-05  289.0        2776.0            NaN            10030.0\n",
            "2015-01-04 2015-01-04  288.0        2775.0            NaN             9780.0\n",
            "2015-01-03 2015-01-03  287.0        2769.0         8166.0             9722.0\n",
            "2015-01-02 2015-01-02  286.0           NaN         8157.0                NaN\n",
            "2015-01-01        NaT    NaN           NaN            NaN                NaN\n"
          ]
        }
      ],
      "source": [
        "ebola = ebola.reindex(new_idx)\n",
        "print(ebola.head().iloc[:,:5])"
      ]
    },
    {
      "cell_type": "code",
      "execution_count": null,
      "metadata": {
        "id": "uKOohLNeKnVE",
        "outputId": "043c7ffb-b5bc-4281-c552-500cd4c747c2"
      },
      "outputs": [
        {
          "name": "stdout",
          "output_type": "stream",
          "text": [
            "                 Date  Day  Cases_Guinea  Cases_Liberia  Cases_SierraLeone\n",
            "Date                                                                      \n",
            "2014-03-26 2014-03-26  4.0          86.0            NaN                NaN\n",
            "2014-03-25 2014-03-25  3.0          86.0            NaN                NaN\n",
            "2014-03-24 2014-03-24  2.0          86.0            NaN                NaN\n",
            "2014-03-23        NaT  NaN           NaN            NaN                NaN\n",
            "2014-03-22 2014-03-22  0.0          49.0            NaN                NaN\n"
          ]
        }
      ],
      "source": [
        "print(ebola.tail().iloc[:,:5])"
      ]
    },
    {
      "cell_type": "markdown",
      "metadata": {
        "id": "c4Ca0ftPKnVE"
      },
      "source": [
        "7. 각 나라의 에볼라 발병일 옮기기\n",
        "last_valid_index, first_valid_index 메서드를 사용하여 각 나라의 에볼라 발병일을 구함, 각각의 메서드는 유효한 값이 있는 첫 번째와 마지막 인덱스를 반환"
      ]
    },
    {
      "cell_type": "code",
      "execution_count": null,
      "metadata": {
        "id": "8ay7tuhqKnVF",
        "outputId": "fa038947-520d-4cd0-dca9-d15796333c5c"
      },
      "outputs": [
        {
          "name": "stdout",
          "output_type": "stream",
          "text": [
            "Date                  2014-03-22\n",
            "Day                   2014-03-22\n",
            "Cases_Guinea          2014-03-22\n",
            "Cases_Liberia         2014-03-27\n",
            "Cases_SierraLeone     2014-03-27\n",
            "Cases_Nigeria         2014-07-23\n",
            "Cases_Senegal         2014-08-31\n",
            "Cases_UnitedStates    2014-10-01\n",
            "Cases_Spain           2014-10-08\n",
            "Cases_Mali            2014-10-22\n",
            "Deaths_Guinea         2014-03-22\n",
            "Deaths_Liberia        2014-03-27\n",
            "Deaths_SierraLeone    2014-03-27\n",
            "Deaths_Nigeria        2014-07-23\n",
            "Deaths_Senegal        2014-09-07\n",
            "Deaths_UnitedStates   2014-10-01\n",
            "Deaths_Spain          2014-10-08\n",
            "Deaths_Mali           2014-10-22\n",
            "dtype: datetime64[ns]\n"
          ]
        }
      ],
      "source": [
        "last_valid = ebola.apply(pd.Series.last_valid_index)\n",
        "print(last_valid)"
      ]
    },
    {
      "cell_type": "code",
      "execution_count": null,
      "metadata": {
        "id": "8kUcYKwlKnVF",
        "outputId": "9eb36f13-41e5-4563-9bb6-712054362828"
      },
      "outputs": [
        {
          "name": "stdout",
          "output_type": "stream",
          "text": [
            "Date                  2015-01-05\n",
            "Day                   2015-01-05\n",
            "Cases_Guinea          2015-01-05\n",
            "Cases_Liberia         2015-01-03\n",
            "Cases_SierraLeone     2015-01-05\n",
            "Cases_Nigeria         2014-12-07\n",
            "Cases_Senegal         2014-12-07\n",
            "Cases_UnitedStates    2014-12-07\n",
            "Cases_Spain           2014-12-07\n",
            "Cases_Mali            2014-12-07\n",
            "Deaths_Guinea         2015-01-05\n",
            "Deaths_Liberia        2015-01-03\n",
            "Deaths_SierraLeone    2015-01-05\n",
            "Deaths_Nigeria        2014-12-07\n",
            "Deaths_Senegal        2014-12-07\n",
            "Deaths_UnitedStates   2014-12-07\n",
            "Deaths_Spain          2014-12-07\n",
            "Deaths_Mali           2014-12-07\n",
            "dtype: datetime64[ns]\n"
          ]
        }
      ],
      "source": [
        "first_valid = ebola.apply(pd.Series.first_valid_index)\n",
        "print(first_valid)"
      ]
    },
    {
      "cell_type": "markdown",
      "metadata": {
        "id": "4kHFmiEqKnVF"
      },
      "source": [
        "8. 각 나라의 에볼라 발병일을 동일한 출발선으로 옮기려면 에볼라가 가장 처음 발병한 날에서 각 나라의 에볼라 발병일을 뺀 만큼만 옮기면 됨"
      ]
    },
    {
      "cell_type": "code",
      "execution_count": null,
      "metadata": {
        "id": "0K1P1ZQOKnVG",
        "outputId": "f74116e6-1907-44fe-cf74-1a82e7ba3e21"
      },
      "outputs": [
        {
          "name": "stdout",
          "output_type": "stream",
          "text": [
            "2014-03-22 00:00:00\n"
          ]
        }
      ],
      "source": [
        "earliest_date = ebola.index.min()\n",
        "print(earliest_date)"
      ]
    },
    {
      "cell_type": "code",
      "execution_count": null,
      "metadata": {
        "id": "Mi3bkBbkKnVG",
        "outputId": "05cef6bd-f8d0-480a-b1b1-4d37d3bb73ea"
      },
      "outputs": [
        {
          "name": "stdout",
          "output_type": "stream",
          "text": [
            "Date                    0 days\n",
            "Day                     0 days\n",
            "Cases_Guinea            0 days\n",
            "Cases_Liberia           5 days\n",
            "Cases_SierraLeone       5 days\n",
            "Cases_Nigeria         123 days\n",
            "Cases_Senegal         162 days\n",
            "Cases_UnitedStates    193 days\n",
            "Cases_Spain           200 days\n",
            "Cases_Mali            214 days\n",
            "Deaths_Guinea           0 days\n",
            "Deaths_Liberia          5 days\n",
            "Deaths_SierraLeone      5 days\n",
            "Deaths_Nigeria        123 days\n",
            "Deaths_Senegal        169 days\n",
            "Deaths_UnitedStates   193 days\n",
            "Deaths_Spain          200 days\n",
            "Deaths_Mali           214 days\n",
            "dtype: timedelta64[ns]\n"
          ]
        }
      ],
      "source": [
        "shift_values = last_valid - earliest_date\n",
        "print(shift_values)"
      ]
    },
    {
      "cell_type": "markdown",
      "metadata": {
        "id": "K---BuwNKnVH"
      },
      "source": [
        "9. shift 메서드를 사용하여 모든 열의 값을 shift_values 값만큼 옮김, shift 메서드는 인잣값만큼 데이터를 밀어내는 메서드"
      ]
    },
    {
      "cell_type": "code",
      "execution_count": null,
      "metadata": {
        "id": "6rsqx0qsKnVH"
      },
      "outputs": [],
      "source": [
        "ebola_dict={}\n",
        "for idx, col in enumerate(ebola):\n",
        "    d = shift_values[idx].days\n",
        "    shifted = ebola[col].shift(d)\n",
        "    ebola_dict[col] = shifted"
      ]
    },
    {
      "cell_type": "markdown",
      "metadata": {
        "id": "HZoOmyTgKnVI"
      },
      "source": [
        "10. ebola_dict에는 시간을 다시 설정한 데이터가 딕셔너리 형태로 저장됨, DataFrame 메서드를 사용하여 ebola_dict의 값을 데이터프레임으로 변환"
      ]
    },
    {
      "cell_type": "code",
      "execution_count": null,
      "metadata": {
        "id": "vd1lWzxeKnVI"
      },
      "outputs": [],
      "source": [
        "ebola_shift = pd.DataFrame(ebola_dict)"
      ]
    },
    {
      "cell_type": "markdown",
      "metadata": {
        "id": "WlpPaztBKnVJ"
      },
      "source": [
        "11. 에볼라의 최초 발병일을 기준으로 모든 열의 데이터가 옮겨짐"
      ]
    },
    {
      "cell_type": "code",
      "execution_count": null,
      "metadata": {
        "id": "WaG-2NnOKnVL",
        "outputId": "086eb5e8-c304-455b-ee41-d0149182eea9"
      },
      "outputs": [
        {
          "name": "stdout",
          "output_type": "stream",
          "text": [
            "                 Date  Day  Cases_Guinea  Cases_Liberia  Cases_SierraLeone  \\\n",
            "Date                                                                         \n",
            "2014-03-26 2014-03-26  4.0          86.0            8.0                2.0   \n",
            "2014-03-25 2014-03-25  3.0          86.0            NaN                NaN   \n",
            "2014-03-24 2014-03-24  2.0          86.0            7.0                NaN   \n",
            "2014-03-23        NaT  NaN           NaN            3.0                2.0   \n",
            "2014-03-22 2014-03-22  0.0          49.0            8.0                6.0   \n",
            "\n",
            "            Cases_Nigeria  Cases_Senegal  Cases_UnitedStates  Cases_Spain  \\\n",
            "Date                                                                        \n",
            "2014-03-26            1.0            NaN                 1.0          1.0   \n",
            "2014-03-25            NaN            NaN                 NaN          NaN   \n",
            "2014-03-24            NaN            NaN                 NaN          NaN   \n",
            "2014-03-23            NaN            NaN                 NaN          NaN   \n",
            "2014-03-22            0.0            1.0                 1.0          1.0   \n",
            "\n",
            "            Cases_Mali  Deaths_Guinea  Deaths_Liberia  Deaths_SierraLeone  \\\n",
            "Date                                                                        \n",
            "2014-03-26         NaN           62.0             4.0                 2.0   \n",
            "2014-03-25         NaN           60.0             NaN                 NaN   \n",
            "2014-03-24         NaN           59.0             2.0                 NaN   \n",
            "2014-03-23         NaN            NaN             3.0                 2.0   \n",
            "2014-03-22         1.0           29.0             6.0                 5.0   \n",
            "\n",
            "            Deaths_Nigeria  Deaths_Senegal  Deaths_UnitedStates  Deaths_Spain  \\\n",
            "Date                                                                            \n",
            "2014-03-26             1.0             NaN                  0.0           1.0   \n",
            "2014-03-25             NaN             NaN                  NaN           NaN   \n",
            "2014-03-24             NaN             NaN                  NaN           NaN   \n",
            "2014-03-23             NaN             NaN                  NaN           NaN   \n",
            "2014-03-22             0.0             0.0                  0.0           1.0   \n",
            "\n",
            "            Deaths_Mali  \n",
            "Date                     \n",
            "2014-03-26          NaN  \n",
            "2014-03-25          NaN  \n",
            "2014-03-24          NaN  \n",
            "2014-03-23          NaN  \n",
            "2014-03-22          1.0  \n"
          ]
        }
      ],
      "source": [
        "print(ebola_shift.tail())"
      ]
    },
    {
      "cell_type": "markdown",
      "metadata": {
        "id": "I0FVgjwfKnVM"
      },
      "source": [
        "12. 인덱스를 Day 열로 지정하고 그래프에 필요 없는 Date, Day 열은 삭제하면 그래프를 그리기 위한 데이터프레임이 완성"
      ]
    },
    {
      "cell_type": "code",
      "execution_count": null,
      "metadata": {
        "id": "BBQNsS41KnVO",
        "outputId": "32fb3903-647d-406b-a62d-b77897db1525"
      },
      "outputs": [
        {
          "name": "stdout",
          "output_type": "stream",
          "text": [
            "     Cases_Guinea  Cases_Liberia  Cases_SierraLeone  Cases_Nigeria  \\\n",
            "Day                                                                  \n",
            "4.0          86.0            8.0                2.0            1.0   \n",
            "3.0          86.0            NaN                NaN            NaN   \n",
            "2.0          86.0            7.0                NaN            NaN   \n",
            "NaN           NaN            3.0                2.0            NaN   \n",
            "0.0          49.0            8.0                6.0            0.0   \n",
            "\n",
            "     Cases_Senegal  Cases_UnitedStates  Cases_Spain  Cases_Mali  \\\n",
            "Day                                                               \n",
            "4.0            NaN                 1.0          1.0         NaN   \n",
            "3.0            NaN                 NaN          NaN         NaN   \n",
            "2.0            NaN                 NaN          NaN         NaN   \n",
            "NaN            NaN                 NaN          NaN         NaN   \n",
            "0.0            1.0                 1.0          1.0         1.0   \n",
            "\n",
            "     Deaths_Guinea  Deaths_Liberia  Deaths_SierraLeone  Deaths_Nigeria  \\\n",
            "Day                                                                      \n",
            "4.0           62.0             4.0                 2.0             1.0   \n",
            "3.0           60.0             NaN                 NaN             NaN   \n",
            "2.0           59.0             2.0                 NaN             NaN   \n",
            "NaN            NaN             3.0                 2.0             NaN   \n",
            "0.0           29.0             6.0                 5.0             0.0   \n",
            "\n",
            "     Deaths_Senegal  Deaths_UnitedStates  Deaths_Spain  Deaths_Mali  \n",
            "Day                                                                  \n",
            "4.0             NaN                  0.0           1.0          NaN  \n",
            "3.0             NaN                  NaN           NaN          NaN  \n",
            "2.0             NaN                  NaN           NaN          NaN  \n",
            "NaN             NaN                  NaN           NaN          NaN  \n",
            "0.0             0.0                  0.0           1.0          1.0  \n"
          ]
        }
      ],
      "source": [
        "ebola_shift.index = ebola_shift['Day']\n",
        "ebola_shift = ebola_shift.drop(['Date','Day'], axis=1)\n",
        "\n",
        "print(ebola_shift.tail())"
      ]
    },
    {
      "cell_type": "markdown",
      "metadata": {
        "id": "8pTa35nMKnVQ"
      },
      "source": [
        "13.  지금까지 만든 데이터프레임으로 다시 그린 그래프"
      ]
    },
    {
      "cell_type": "code",
      "execution_count": null,
      "metadata": {
        "id": "xpe_oUPoKnVR",
        "outputId": "fbf86d62-3a2a-49a9-9a61-469d25a6b464"
      },
      "outputs": [
        {
          "data": {
            "image/png": "[encoded data removed]",
            "text/plain": [
              "<Figure size 432x288 with 1 Axes>"
            ]
          },
          "metadata": {
            "needs_background": "light"
          },
          "output_type": "display_data"
        }
      ],
      "source": [
        "fig, ax = plt.subplots()\n",
        "ax = ebola_shift.iloc[:,:].plot(ax=ax)\n",
        "ax.legend(fontsize=7, loc=2, borderaxespad=0.)\n",
        "plt.show()"
      ]
    }
  ],
  "metadata": {
    "kernelspec": {
      "display_name": "Python 3",
      "language": "python",
      "name": "python3"
    },
    "language_info": {
      "codemirror_mode": {
        "name": "ipython",
        "version": 3
      },
      "file_extension": ".py",
      "mimetype": "text/x-python",
      "name": "python",
      "nbconvert_exporter": "python",
      "pygments_lexer": "ipython3",
      "version": "3.8.5"
    },
    "colab": {
      "name": "0415 과제.ipynb",
      "provenance": [],
      "include_colab_link": true
    }
  },
  "nbformat": 4,
  "nbformat_minor": 0
}